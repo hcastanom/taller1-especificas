{
  "nbformat": 4,
  "nbformat_minor": 0,
  "metadata": {
    "colab": {
      "name": "Taller1P1.ipynb",
      "provenance": [],
      "collapsed_sections": [
        "KKomRGdR_vts",
        "2Z5dKPwtBo9B",
        "FZxRdcQoCwES",
        "33rUccgsaQxR",
        "fcq0tDxqcpYa",
        "7lhEuXdFgXop",
        "8hcAOsIWfK14",
        "SHPlMmFdgikk",
        "jtNEsXQThL4P"
      ]
    },
    "kernelspec": {
      "name": "python3",
      "display_name": "Python 3"
    }
  },
  "cells": [
    {
      "cell_type": "markdown",
      "metadata": {
        "id": "mCG_ftvgJe8g",
        "colab_type": "text"
      },
      "source": [
        "<strong><h1>UNIVERSIDAD NACIONAL DE COLOMBIA\n",
        "\n",
        "<h2>FACULTAD DE INGENIERÍA<h2>\n",
        "\n",
        "<h2>DEPARTAMENTO DE INGENIERÍA DE SISTEMAS E INDUSTRIAL<h2>\n",
        "\n",
        "<h2>Taller de Herraminetas y Problemas en Ingeniería Industrial</h2>\n",
        "\n",
        "<strong><h2>Taller 1. Introducción al Análisis Exploratorio de Datos</h2></strong>\n",
        "\n",
        "<h3>Hernán Castaño Martínez</h3>\n",
        "\n",
        "<h3>Santiago Irreño Mejía</h3>\n"
      ]
    },
    {
      "cell_type": "markdown",
      "metadata": {
        "id": "Cc_9pI9YP3gX",
        "colab_type": "text"
      },
      "source": [
        "El contenido de este notebook de python corresponde al desarrollo del primer punto del Taller I, el cual enuncia: \n",
        "\n",
        "El archivo en formato *.csv (que será enviado en un correo ) contiene los resultados de medir tres características diferentes de tres diferentes tipos de frutas. 120 frutas de cada tipo fueron observadas. A partir de los datos proporcionados:"
      ]
    },
    {
      "cell_type": "code",
      "metadata": {
        "id": "XJE6CFnmNK7-",
        "colab_type": "code",
        "colab": {}
      },
      "source": [
        "import pandas as pd\n",
        "import numpy as np\n",
        "import matplotlib.pyplot as plt"
      ],
      "execution_count": null,
      "outputs": []
    },
    {
      "cell_type": "markdown",
      "metadata": {
        "id": "je-yl7VrThPY",
        "colab_type": "text"
      },
      "source": [
        "Para cargar el archivo al notebook de collaboratory, decidimos subirlo primero a GitHub y así obtener su URL. Este modo permite que más de una persona trabaje al mismo tiempo sobre el notebook. "
      ]
    },
    {
      "cell_type": "code",
      "metadata": {
        "id": "wPFQKcB_REFp",
        "colab_type": "code",
        "colab": {}
      },
      "source": [
        "url= 'https://raw.githubusercontent.com/SantiagoIM/THPII/master/datos.csv'"
      ],
      "execution_count": null,
      "outputs": []
    },
    {
      "cell_type": "markdown",
      "metadata": {
        "id": "RGWUaoyOXNLg",
        "colab_type": "text"
      },
      "source": [
        "Mediante la función *.read_csv()* de la librería pandas, se leen los elementos que contenga el archivo. Para comprobar que el archivo fue leído correctamente, se imprime su encabezado."
      ]
    },
    {
      "cell_type": "code",
      "metadata": {
        "id": "QhPifo3xRK9B",
        "colab_type": "code",
        "colab": {}
      },
      "source": [
        "datos= pd.read_csv(url)"
      ],
      "execution_count": null,
      "outputs": []
    },
    {
      "cell_type": "code",
      "metadata": {
        "id": "hAIiC27qRUMh",
        "colab_type": "code",
        "colab": {
          "base_uri": "https://localhost:8080/",
          "height": 204
        },
        "outputId": "891b3f3d-5c08-4df1-a88b-ad6d7d0faaaa"
      },
      "source": [
        "datos.head()"
      ],
      "execution_count": null,
      "outputs": [
        {
          "output_type": "execute_result",
          "data": {
            "text/html": [
              "<div>\n",
              "<style scoped>\n",
              "    .dataframe tbody tr th:only-of-type {\n",
              "        vertical-align: middle;\n",
              "    }\n",
              "\n",
              "    .dataframe tbody tr th {\n",
              "        vertical-align: top;\n",
              "    }\n",
              "\n",
              "    .dataframe thead th {\n",
              "        text-align: right;\n",
              "    }\n",
              "</style>\n",
              "<table border=\"1\" class=\"dataframe\">\n",
              "  <thead>\n",
              "    <tr style=\"text-align: right;\">\n",
              "      <th></th>\n",
              "      <th>tipo</th>\n",
              "      <th>caracteristica1</th>\n",
              "      <th>caracteristica2</th>\n",
              "      <th>caracteristica3</th>\n",
              "    </tr>\n",
              "  </thead>\n",
              "  <tbody>\n",
              "    <tr>\n",
              "      <th>0</th>\n",
              "      <td>1.0</td>\n",
              "      <td>14.40</td>\n",
              "      <td>21.82</td>\n",
              "      <td>18.15</td>\n",
              "    </tr>\n",
              "    <tr>\n",
              "      <th>1</th>\n",
              "      <td>1.0</td>\n",
              "      <td>14.43</td>\n",
              "      <td>21.71</td>\n",
              "      <td>18.67</td>\n",
              "    </tr>\n",
              "    <tr>\n",
              "      <th>2</th>\n",
              "      <td>1.0</td>\n",
              "      <td>14.58</td>\n",
              "      <td>22.04</td>\n",
              "      <td>17.85</td>\n",
              "    </tr>\n",
              "    <tr>\n",
              "      <th>3</th>\n",
              "      <td>1.0</td>\n",
              "      <td>14.73</td>\n",
              "      <td>22.26</td>\n",
              "      <td>17.21</td>\n",
              "    </tr>\n",
              "    <tr>\n",
              "      <th>4</th>\n",
              "      <td>1.0</td>\n",
              "      <td>14.46</td>\n",
              "      <td>22.02</td>\n",
              "      <td>16.81</td>\n",
              "    </tr>\n",
              "  </tbody>\n",
              "</table>\n",
              "</div>"
            ],
            "text/plain": [
              "   tipo  caracteristica1  caracteristica2  caracteristica3\n",
              "0   1.0            14.40            21.82            18.15\n",
              "1   1.0            14.43            21.71            18.67\n",
              "2   1.0            14.58            22.04            17.85\n",
              "3   1.0            14.73            22.26            17.21\n",
              "4   1.0            14.46            22.02            16.81"
            ]
          },
          "metadata": {
            "tags": []
          },
          "execution_count": 4
        }
      ]
    },
    {
      "cell_type": "markdown",
      "metadata": {
        "id": "OL7hDDp2XVXh",
        "colab_type": "text"
      },
      "source": [
        "Con el fin de no cometer errores futuros a la hora de acceder a los nombres de las columnas de la tabla, se llama a la función *colums*."
      ]
    },
    {
      "cell_type": "code",
      "metadata": {
        "id": "3lTe-0fPVBOO",
        "colab_type": "code",
        "colab": {
          "base_uri": "https://localhost:8080/",
          "height": 34
        },
        "outputId": "faf4fb7b-cbb8-4f13-d194-5744b5da8935"
      },
      "source": [
        "datos.columns"
      ],
      "execution_count": null,
      "outputs": [
        {
          "output_type": "execute_result",
          "data": {
            "text/plain": [
              "Index(['tipo', 'caracteristica1', 'caracteristica2', 'caracteristica3'], dtype='object')"
            ]
          },
          "metadata": {
            "tags": []
          },
          "execution_count": 5
        }
      ]
    },
    {
      "cell_type": "markdown",
      "metadata": {
        "id": "OPlnW-cnjLQ7",
        "colab_type": "text"
      },
      "source": [
        "# **Histogramas de Frecuencias**\n",
        "\n",
        "\n",
        ">  Realice un histograma de frecuencias para cada una de las características y para cada tipo de fruto (9 histogramas). Presentar cada una de las tablas de frecuencias acompañada del histograma correspondiente (usar entre 8 y 10 intervalos de frecuencia).\n",
        "\n"
      ]
    },
    {
      "cell_type": "markdown",
      "metadata": {
        "id": "KKomRGdR_vts",
        "colab_type": "text"
      },
      "source": [
        "# <h2>Característica 1- Tipo 1</h2>"
      ]
    },
    {
      "cell_type": "markdown",
      "metadata": {
        "id": "g7miS3loZVzs",
        "colab_type": "text"
      },
      "source": [
        "Se le asigna a la variable \"*da*\" todos los datos que correspondan al tipo de fruta 1. \n",
        "\n",
        "Seguidamente, los elementos de \"*da*\" son tratados para independizar la columna *caracteristica1*, y estos son asignados a la variable \"*tipo1_caracte1*\"."
      ]
    },
    {
      "cell_type": "code",
      "metadata": {
        "id": "wnrNmcUed8_f",
        "colab_type": "code",
        "colab": {
          "base_uri": "https://localhost:8080/",
          "height": 204
        },
        "outputId": "6c550616-4ac0-4a10-f311-210f0786257c"
      },
      "source": [
        "da=datos[datos['tipo']==1]\n",
        "tipo1_caracte1=da.iloc[0:360][['caracteristica1']] \n",
        "tipo1_caracte1.head()"
      ],
      "execution_count": null,
      "outputs": [
        {
          "output_type": "execute_result",
          "data": {
            "text/html": [
              "<div>\n",
              "<style scoped>\n",
              "    .dataframe tbody tr th:only-of-type {\n",
              "        vertical-align: middle;\n",
              "    }\n",
              "\n",
              "    .dataframe tbody tr th {\n",
              "        vertical-align: top;\n",
              "    }\n",
              "\n",
              "    .dataframe thead th {\n",
              "        text-align: right;\n",
              "    }\n",
              "</style>\n",
              "<table border=\"1\" class=\"dataframe\">\n",
              "  <thead>\n",
              "    <tr style=\"text-align: right;\">\n",
              "      <th></th>\n",
              "      <th>caracteristica1</th>\n",
              "    </tr>\n",
              "  </thead>\n",
              "  <tbody>\n",
              "    <tr>\n",
              "      <th>0</th>\n",
              "      <td>14.40</td>\n",
              "    </tr>\n",
              "    <tr>\n",
              "      <th>1</th>\n",
              "      <td>14.43</td>\n",
              "    </tr>\n",
              "    <tr>\n",
              "      <th>2</th>\n",
              "      <td>14.58</td>\n",
              "    </tr>\n",
              "    <tr>\n",
              "      <th>3</th>\n",
              "      <td>14.73</td>\n",
              "    </tr>\n",
              "    <tr>\n",
              "      <th>4</th>\n",
              "      <td>14.46</td>\n",
              "    </tr>\n",
              "  </tbody>\n",
              "</table>\n",
              "</div>"
            ],
            "text/plain": [
              "   caracteristica1\n",
              "0            14.40\n",
              "1            14.43\n",
              "2            14.58\n",
              "3            14.73\n",
              "4            14.46"
            ]
          },
          "metadata": {
            "tags": []
          },
          "execution_count": 6
        }
      ]
    },
    {
      "cell_type": "markdown",
      "metadata": {
        "id": "NyLztj35b6fy",
        "colab_type": "text"
      },
      "source": [
        "Se comprueba que todos los elementos que correspondan a fruta de tipo 1 y característica 1, hayan sido almacenados correctamente."
      ]
    },
    {
      "cell_type": "code",
      "metadata": {
        "id": "8_hZoBheBEwl",
        "colab_type": "code",
        "colab": {
          "base_uri": "https://localhost:8080/",
          "height": 34
        },
        "outputId": "101cb46c-e634-4bbc-9a19-43b555e4ae47"
      },
      "source": [
        "tipo1_caracte1.shape"
      ],
      "execution_count": null,
      "outputs": [
        {
          "output_type": "execute_result",
          "data": {
            "text/plain": [
              "(120, 1)"
            ]
          },
          "metadata": {
            "tags": []
          },
          "execution_count": 7
        }
      ]
    },
    {
      "cell_type": "markdown",
      "metadata": {
        "id": "BWgKmMquceQN",
        "colab_type": "text"
      },
      "source": [
        "Para la realización de un histograma en python, los datos de entrada deben ser en una dimensión(vectores). Teniendo en cuenta que los elementos de la variable <strong>*tipo1_caracte1*</strong> están en dos dimensiones, se implementa la función *ravel* de la librería numpy la cual transforma matrices a vectores. El vector resultante es asignado a <strong>*tipo1_caracteristica1*</strong>."
      ]
    },
    {
      "cell_type": "code",
      "metadata": {
        "id": "N7_jMvJjuQEQ",
        "colab_type": "code",
        "colab": {
          "base_uri": "https://localhost:8080/",
          "height": 34
        },
        "outputId": "2d25cb47-7594-49b6-ceaa-849b1c7ca485"
      },
      "source": [
        "tipo1_caracteristica1=np.ravel(tipo1_caracte1)\n",
        "tipo1_caracteristica1.shape"
      ],
      "execution_count": null,
      "outputs": [
        {
          "output_type": "execute_result",
          "data": {
            "text/plain": [
              "(120,)"
            ]
          },
          "metadata": {
            "tags": []
          },
          "execution_count": 8
        }
      ]
    },
    {
      "cell_type": "markdown",
      "metadata": {
        "id": "3k-8JO82fMef",
        "colab_type": "text"
      },
      "source": [
        "1. Rango: Se determina mediante la resta del elemento máximo y mínimo de <strong>*tipo1_caracteristica1*</strong>.\n",
        "2. Se define la cantidad de intervalos según el enunciado.\n",
        "3. El ancho de los intervalos: Al rango del vector <strong>*tipo1_caracteristica1*</strong> se le suma una precisión siguiente a la que estén los datos de la tabla original (los datos están en centésimas) y el resultado se divide entre 2.\n",
        "4. La variable <strong>*bins1*</strong> indica una serie de valores los cuales limitan los intervalos. Para ello se implementa la función *linspace* de numpy que recibe de entrada: \n",
        "*   El mínimo más la mitad de la precisión del punto anterior.\n",
        "*   El máximo más la mitad de la precisión.\n",
        "*   La cantidad de intervalos más uno.\n",
        "5. <strong>*Binsplace*</strong> utiliza la función *digitize* de numpy, la que retorna los índices de <strong>*bins1*</strong> a los que pertenece cada valor en la matriz de entrada.\n",
        "6. Finalmente, con un bucle *for* se establece la frecuencia en cada uno de los intervalos."
      ]
    },
    {
      "cell_type": "code",
      "metadata": {
        "id": "mbREnyQFNWLz",
        "colab_type": "code",
        "colab": {}
      },
      "source": [
        "rango=np.max(tipo1_caracteristica1)-np.min(tipo1_caracteristica1)\n",
        "nIntervalos= 8\n",
        "anchoIntervalo= (rango+0.001)/nIntervalos\n",
        "bins1= np.linspace(np.min(tipo1_caracteristica1)-0.0005, np.max(tipo1_caracteristica1)+0.0005, (nIntervalos+1))\n",
        "binplace= np.digitize(tipo1_caracteristica1, bins1)\n",
        "freq = [len(tipo1_caracteristica1[binplace == i]) for i in range (1, len(bins1))]"
      ],
      "execution_count": null,
      "outputs": []
    },
    {
      "cell_type": "markdown",
      "metadata": {
        "id": "HbViDd4IqjbP",
        "colab_type": "text"
      },
      "source": [
        "Para la realización de la tabla de frecuencia se crea un vector vacío. Dentro de un bucle *for* se establecen los límites inferiores y superiores con base a <strong>*bins1*</strong>, y se asignan etiquetas formateadas por dos decimales a los límites. Por último se crea un DataFrame relacionando los valores de los intervalos y la frecuencia."
      ]
    },
    {
      "cell_type": "code",
      "metadata": {
        "id": "Yy0dROdv4A_g",
        "colab_type": "code",
        "colab": {
          "base_uri": "https://localhost:8080/",
          "height": 297
        },
        "outputId": "e9fc5c26-db0f-4340-ddf3-1925ee2f475a"
      },
      "source": [
        "intervals_name= []\n",
        "for i in range(len(bins1)-1):\n",
        "  lim_inf= bins1[i]\n",
        "  lim_sup= bins1[i+1]\n",
        "  label= '['+\"{0:.2f}\".format(lim_inf)+\",\"+\"{0:.2f}\".format(lim_sup)+\")\"\n",
        "  intervals_name.append(label)\n",
        "freq_table=pd.DataFrame({'Intervalo':intervals_name, 'Frecuencia':freq}) \n",
        "freq_table"
      ],
      "execution_count": null,
      "outputs": [
        {
          "output_type": "execute_result",
          "data": {
            "text/html": [
              "<div>\n",
              "<style scoped>\n",
              "    .dataframe tbody tr th:only-of-type {\n",
              "        vertical-align: middle;\n",
              "    }\n",
              "\n",
              "    .dataframe tbody tr th {\n",
              "        vertical-align: top;\n",
              "    }\n",
              "\n",
              "    .dataframe thead th {\n",
              "        text-align: right;\n",
              "    }\n",
              "</style>\n",
              "<table border=\"1\" class=\"dataframe\">\n",
              "  <thead>\n",
              "    <tr style=\"text-align: right;\">\n",
              "      <th></th>\n",
              "      <th>Intervalo</th>\n",
              "      <th>Frecuencia</th>\n",
              "    </tr>\n",
              "  </thead>\n",
              "  <tbody>\n",
              "    <tr>\n",
              "      <th>0</th>\n",
              "      <td>[14.13,14.21)</td>\n",
              "      <td>4</td>\n",
              "    </tr>\n",
              "    <tr>\n",
              "      <th>1</th>\n",
              "      <td>[14.21,14.30)</td>\n",
              "      <td>4</td>\n",
              "    </tr>\n",
              "    <tr>\n",
              "      <th>2</th>\n",
              "      <td>[14.30,14.38)</td>\n",
              "      <td>17</td>\n",
              "    </tr>\n",
              "    <tr>\n",
              "      <th>3</th>\n",
              "      <td>[14.38,14.46)</td>\n",
              "      <td>28</td>\n",
              "    </tr>\n",
              "    <tr>\n",
              "      <th>4</th>\n",
              "      <td>[14.46,14.55)</td>\n",
              "      <td>25</td>\n",
              "    </tr>\n",
              "    <tr>\n",
              "      <th>5</th>\n",
              "      <td>[14.55,14.63)</td>\n",
              "      <td>24</td>\n",
              "    </tr>\n",
              "    <tr>\n",
              "      <th>6</th>\n",
              "      <td>[14.63,14.72)</td>\n",
              "      <td>10</td>\n",
              "    </tr>\n",
              "    <tr>\n",
              "      <th>7</th>\n",
              "      <td>[14.72,14.80)</td>\n",
              "      <td>8</td>\n",
              "    </tr>\n",
              "  </tbody>\n",
              "</table>\n",
              "</div>"
            ],
            "text/plain": [
              "       Intervalo  Frecuencia\n",
              "0  [14.13,14.21)           4\n",
              "1  [14.21,14.30)           4\n",
              "2  [14.30,14.38)          17\n",
              "3  [14.38,14.46)          28\n",
              "4  [14.46,14.55)          25\n",
              "5  [14.55,14.63)          24\n",
              "6  [14.63,14.72)          10\n",
              "7  [14.72,14.80)           8"
            ]
          },
          "metadata": {
            "tags": []
          },
          "execution_count": 10
        }
      ]
    },
    {
      "cell_type": "markdown",
      "metadata": {
        "id": "IHdDD8_5tnHL",
        "colab_type": "text"
      },
      "source": [
        "Para la construcción del histograma, requerimos de la libreria *matplotlib.pyplot* y la función *hist*, la cual pide como valores de entrada el vector a evaluar y los bins. Adicionalmente, podemos establecer una relación lineal (x , y) de los bordes superiores del histograma (freq2 , edges),  con la implementación de la función *histogram* de numpy.  "
      ]
    },
    {
      "cell_type": "code",
      "metadata": {
        "id": "V83tsGLJ9yBC",
        "colab_type": "code",
        "colab": {
          "base_uri": "https://localhost:8080/",
          "height": 265
        },
        "outputId": "ce053ee2-ae1a-44a0-f830-090b12c947a6"
      },
      "source": [
        "freq2, edges= np.histogram(tipo1_caracteristica1,bins1)\n",
        "left,right = edges[:-1],edges[1:]\n",
        "X= np.array((left+right)/2)\n",
        "Y= np.array(freq2)\n",
        "plt.hist(tipo1_caracteristica1,bins1)\n",
        "plt.plot(X,Y)\n",
        "plt.show()"
      ],
      "execution_count": null,
      "outputs": [
        {
          "output_type": "display_data",
          "data": {
            "image/png": "[encoded data removed]",
            "text/plain": [
              "<Figure size 432x288 with 1 Axes>"
            ]
          },
          "metadata": {
            "tags": [],
            "needs_background": "light"
          }
        }
      ]
    },
    {
      "cell_type": "markdown",
      "metadata": {
        "id": "v4MdOLWdIZpv",
        "colab_type": "text"
      },
      "source": [
        "El desarrollo de los siguientes histogramas de frecuencia es prácticamente el mismo, lo único que cambia son las variables de los vectores independientes de cada características por cada tipo de fruta."
      ]
    },
    {
      "cell_type": "markdown",
      "metadata": {
        "colab_type": "text",
        "id": "2Z5dKPwtBo9B"
      },
      "source": [
        "#<h2>Característica 1- Tipo 2</h2>"
      ]
    },
    {
      "cell_type": "code",
      "metadata": {
        "colab_type": "code",
        "id": "V8OsnEG0Bo9D",
        "colab": {
          "base_uri": "https://localhost:8080/",
          "height": 204
        },
        "outputId": "54529cfc-73a9-4cc7-9140-e23561c5e0c1"
      },
      "source": [
        "da=datos[datos['tipo']==2]\n",
        "tipo2_caracte1=da.iloc[0:360][['caracteristica1']] \n",
        "tipo2_caracte1.head()"
      ],
      "execution_count": null,
      "outputs": [
        {
          "output_type": "execute_result",
          "data": {
            "text/html": [
              "<div>\n",
              "<style scoped>\n",
              "    .dataframe tbody tr th:only-of-type {\n",
              "        vertical-align: middle;\n",
              "    }\n",
              "\n",
              "    .dataframe tbody tr th {\n",
              "        vertical-align: top;\n",
              "    }\n",
              "\n",
              "    .dataframe thead th {\n",
              "        text-align: right;\n",
              "    }\n",
              "</style>\n",
              "<table border=\"1\" class=\"dataframe\">\n",
              "  <thead>\n",
              "    <tr style=\"text-align: right;\">\n",
              "      <th></th>\n",
              "      <th>caracteristica1</th>\n",
              "    </tr>\n",
              "  </thead>\n",
              "  <tbody>\n",
              "    <tr>\n",
              "      <th>120</th>\n",
              "      <td>14.74</td>\n",
              "    </tr>\n",
              "    <tr>\n",
              "      <th>121</th>\n",
              "      <td>14.57</td>\n",
              "    </tr>\n",
              "    <tr>\n",
              "      <th>122</th>\n",
              "      <td>14.36</td>\n",
              "    </tr>\n",
              "    <tr>\n",
              "      <th>123</th>\n",
              "      <td>14.58</td>\n",
              "    </tr>\n",
              "    <tr>\n",
              "      <th>124</th>\n",
              "      <td>14.68</td>\n",
              "    </tr>\n",
              "  </tbody>\n",
              "</table>\n",
              "</div>"
            ],
            "text/plain": [
              "     caracteristica1\n",
              "120            14.74\n",
              "121            14.57\n",
              "122            14.36\n",
              "123            14.58\n",
              "124            14.68"
            ]
          },
          "metadata": {
            "tags": []
          },
          "execution_count": 12
        }
      ]
    },
    {
      "cell_type": "code",
      "metadata": {
        "colab_type": "code",
        "id": "lQJxAS1FBo9O",
        "colab": {
          "base_uri": "https://localhost:8080/",
          "height": 34
        },
        "outputId": "9e4d5a4b-2ffc-43c1-8acb-95bd9fdd05df"
      },
      "source": [
        "tipo2_caracte1.shape"
      ],
      "execution_count": null,
      "outputs": [
        {
          "output_type": "execute_result",
          "data": {
            "text/plain": [
              "(120, 1)"
            ]
          },
          "metadata": {
            "tags": []
          },
          "execution_count": 13
        }
      ]
    },
    {
      "cell_type": "code",
      "metadata": {
        "colab_type": "code",
        "id": "vOJYJNl8Bo9T",
        "colab": {
          "base_uri": "https://localhost:8080/",
          "height": 34
        },
        "outputId": "55583617-f8ff-42de-ffa9-0eec15052ab4"
      },
      "source": [
        "tipo2_caracteristica1=np.ravel(tipo2_caracte1)\n",
        "tipo2_caracteristica1.shape"
      ],
      "execution_count": null,
      "outputs": [
        {
          "output_type": "execute_result",
          "data": {
            "text/plain": [
              "(120,)"
            ]
          },
          "metadata": {
            "tags": []
          },
          "execution_count": 14
        }
      ]
    },
    {
      "cell_type": "code",
      "metadata": {
        "colab_type": "code",
        "id": "TN1n5WjjBo9j",
        "colab": {
          "base_uri": "https://localhost:8080/",
          "height": 34
        },
        "outputId": "39336f5a-00aa-4da8-f02e-22480898efcd"
      },
      "source": [
        "rango=np.max(tipo2_caracteristica1)-np.min(tipo2_caracteristica1)\n",
        "nIntervalos= 8\n",
        "anchoIntervalo= (rango+0.001)/nIntervalos\n",
        "bins1= np.linspace(np.min(tipo2_caracteristica1)-0.0005, np.max(tipo2_caracteristica1)+0.0005, (nIntervalos+1))\n",
        "binplace= np.digitize(tipo2_caracteristica1, bins1)\n",
        "freq = [len(tipo2_caracteristica1[binplace == i]) for i in range (1, len(bins1))]\n",
        "print(freq)"
      ],
      "execution_count": null,
      "outputs": [
        {
          "output_type": "stream",
          "text": [
            "[2, 6, 19, 13, 38, 23, 15, 4]\n"
          ],
          "name": "stdout"
        }
      ]
    },
    {
      "cell_type": "code",
      "metadata": {
        "colab_type": "code",
        "id": "4rca5_6_Bo9p",
        "colab": {
          "base_uri": "https://localhost:8080/",
          "height": 297
        },
        "outputId": "c4fdf00e-6331-4508-b72e-51e8c10629c1"
      },
      "source": [
        "intervals_name= []\n",
        "for i in range(len(bins1)-1):\n",
        "  lim_inf= bins1[i]\n",
        "  lim_sup= bins1[i+1]\n",
        "  label= '['+\"{0:.2f}\".format(lim_inf)+\",\"+\"{0:.2f}\".format(lim_sup)+\")\"\n",
        "  intervals_name.append(label)\n",
        "freq_table=pd.DataFrame({'Intervalo':intervals_name, 'Frecuencia':freq}) \n",
        "freq_table"
      ],
      "execution_count": null,
      "outputs": [
        {
          "output_type": "execute_result",
          "data": {
            "text/html": [
              "<div>\n",
              "<style scoped>\n",
              "    .dataframe tbody tr th:only-of-type {\n",
              "        vertical-align: middle;\n",
              "    }\n",
              "\n",
              "    .dataframe tbody tr th {\n",
              "        vertical-align: top;\n",
              "    }\n",
              "\n",
              "    .dataframe thead th {\n",
              "        text-align: right;\n",
              "    }\n",
              "</style>\n",
              "<table border=\"1\" class=\"dataframe\">\n",
              "  <thead>\n",
              "    <tr style=\"text-align: right;\">\n",
              "      <th></th>\n",
              "      <th>Intervalo</th>\n",
              "      <th>Frecuencia</th>\n",
              "    </tr>\n",
              "  </thead>\n",
              "  <tbody>\n",
              "    <tr>\n",
              "      <th>0</th>\n",
              "      <td>[14.04,14.14)</td>\n",
              "      <td>2</td>\n",
              "    </tr>\n",
              "    <tr>\n",
              "      <th>1</th>\n",
              "      <td>[14.14,14.24)</td>\n",
              "      <td>6</td>\n",
              "    </tr>\n",
              "    <tr>\n",
              "      <th>2</th>\n",
              "      <td>[14.24,14.34)</td>\n",
              "      <td>19</td>\n",
              "    </tr>\n",
              "    <tr>\n",
              "      <th>3</th>\n",
              "      <td>[14.34,14.45)</td>\n",
              "      <td>13</td>\n",
              "    </tr>\n",
              "    <tr>\n",
              "      <th>4</th>\n",
              "      <td>[14.45,14.55)</td>\n",
              "      <td>38</td>\n",
              "    </tr>\n",
              "    <tr>\n",
              "      <th>5</th>\n",
              "      <td>[14.55,14.65)</td>\n",
              "      <td>23</td>\n",
              "    </tr>\n",
              "    <tr>\n",
              "      <th>6</th>\n",
              "      <td>[14.65,14.75)</td>\n",
              "      <td>15</td>\n",
              "    </tr>\n",
              "    <tr>\n",
              "      <th>7</th>\n",
              "      <td>[14.75,14.85)</td>\n",
              "      <td>4</td>\n",
              "    </tr>\n",
              "  </tbody>\n",
              "</table>\n",
              "</div>"
            ],
            "text/plain": [
              "       Intervalo  Frecuencia\n",
              "0  [14.04,14.14)           2\n",
              "1  [14.14,14.24)           6\n",
              "2  [14.24,14.34)          19\n",
              "3  [14.34,14.45)          13\n",
              "4  [14.45,14.55)          38\n",
              "5  [14.55,14.65)          23\n",
              "6  [14.65,14.75)          15\n",
              "7  [14.75,14.85)           4"
            ]
          },
          "metadata": {
            "tags": []
          },
          "execution_count": 16
        }
      ]
    },
    {
      "cell_type": "code",
      "metadata": {
        "colab_type": "code",
        "id": "nLWPjP91Bo9x",
        "colab": {
          "base_uri": "https://localhost:8080/",
          "height": 265
        },
        "outputId": "7ee8c0a1-83cf-4e76-960b-fad72fc6b84f"
      },
      "source": [
        "freq2, edges= np.histogram(tipo2_caracteristica1,bins1)\n",
        "left,right = edges[:-1],edges[1:]\n",
        "X= np.array((left+right)/2)\n",
        "Y= np.array(freq2)\n",
        "plt.hist(tipo2_caracteristica1,bins1)\n",
        "plt.plot(X,Y)\n",
        "plt.show()"
      ],
      "execution_count": null,
      "outputs": [
        {
          "output_type": "display_data",
          "data": {
            "image/png": "[encoded data removed]",
            "text/plain": [
              "<Figure size 432x288 with 1 Axes>"
            ]
          },
          "metadata": {
            "tags": [],
            "needs_background": "light"
          }
        }
      ]
    },
    {
      "cell_type": "markdown",
      "metadata": {
        "colab_type": "text",
        "id": "FZxRdcQoCwES"
      },
      "source": [
        "# <h2>Característica 1- Tipo 3</h2>"
      ]
    },
    {
      "cell_type": "code",
      "metadata": {
        "colab_type": "code",
        "id": "adP2Q3-KCwEU",
        "colab": {
          "base_uri": "https://localhost:8080/",
          "height": 204
        },
        "outputId": "33ced316-8ec6-4c7b-ab92-1ea0f43d9f4c"
      },
      "source": [
        "da=datos[datos['tipo']==3]\n",
        "tipo3_caracte1=da.iloc[0:360][['caracteristica1']] \n",
        "tipo3_caracte1.tail()"
      ],
      "execution_count": null,
      "outputs": [
        {
          "output_type": "execute_result",
          "data": {
            "text/html": [
              "<div>\n",
              "<style scoped>\n",
              "    .dataframe tbody tr th:only-of-type {\n",
              "        vertical-align: middle;\n",
              "    }\n",
              "\n",
              "    .dataframe tbody tr th {\n",
              "        vertical-align: top;\n",
              "    }\n",
              "\n",
              "    .dataframe thead th {\n",
              "        text-align: right;\n",
              "    }\n",
              "</style>\n",
              "<table border=\"1\" class=\"dataframe\">\n",
              "  <thead>\n",
              "    <tr style=\"text-align: right;\">\n",
              "      <th></th>\n",
              "      <th>caracteristica1</th>\n",
              "    </tr>\n",
              "  </thead>\n",
              "  <tbody>\n",
              "    <tr>\n",
              "      <th>355</th>\n",
              "      <td>14.26</td>\n",
              "    </tr>\n",
              "    <tr>\n",
              "      <th>356</th>\n",
              "      <td>14.39</td>\n",
              "    </tr>\n",
              "    <tr>\n",
              "      <th>357</th>\n",
              "      <td>14.52</td>\n",
              "    </tr>\n",
              "    <tr>\n",
              "      <th>358</th>\n",
              "      <td>14.37</td>\n",
              "    </tr>\n",
              "    <tr>\n",
              "      <th>359</th>\n",
              "      <td>14.57</td>\n",
              "    </tr>\n",
              "  </tbody>\n",
              "</table>\n",
              "</div>"
            ],
            "text/plain": [
              "     caracteristica1\n",
              "355            14.26\n",
              "356            14.39\n",
              "357            14.52\n",
              "358            14.37\n",
              "359            14.57"
            ]
          },
          "metadata": {
            "tags": []
          },
          "execution_count": 18
        }
      ]
    },
    {
      "cell_type": "code",
      "metadata": {
        "colab_type": "code",
        "id": "ZJPrSuGMCwEe",
        "colab": {
          "base_uri": "https://localhost:8080/",
          "height": 34
        },
        "outputId": "6bf258ab-4a4d-42e9-e92c-e728c06d440d"
      },
      "source": [
        "tipo3_caracte1.shape"
      ],
      "execution_count": null,
      "outputs": [
        {
          "output_type": "execute_result",
          "data": {
            "text/plain": [
              "(120, 1)"
            ]
          },
          "metadata": {
            "tags": []
          },
          "execution_count": 19
        }
      ]
    },
    {
      "cell_type": "code",
      "metadata": {
        "colab_type": "code",
        "id": "Ojz3kISgCwEj",
        "colab": {
          "base_uri": "https://localhost:8080/",
          "height": 34
        },
        "outputId": "cf949979-f808-4a03-8dfe-7ff2400ed0b9"
      },
      "source": [
        "tipo3_caracteristica1=np.ravel(tipo3_caracte1)\n",
        "tipo3_caracteristica1.shape"
      ],
      "execution_count": null,
      "outputs": [
        {
          "output_type": "execute_result",
          "data": {
            "text/plain": [
              "(120,)"
            ]
          },
          "metadata": {
            "tags": []
          },
          "execution_count": 20
        }
      ]
    },
    {
      "cell_type": "code",
      "metadata": {
        "colab_type": "code",
        "id": "y3lydqgMCwE1",
        "colab": {
          "base_uri": "https://localhost:8080/",
          "height": 34
        },
        "outputId": "e367f3dd-ebed-4476-a61b-653af517ed9b"
      },
      "source": [
        "rango=np.max(tipo3_caracteristica1)-np.min(tipo3_caracteristica1)\n",
        "nIntervalos= 8\n",
        "anchoIntervalo= (rango+0.001)/nIntervalos\n",
        "bins1= np.linspace(np.min(tipo3_caracteristica1)-0.0005, np.max(tipo3_caracteristica1)+0.0005, (nIntervalos+1))\n",
        "binplace= np.digitize(tipo3_caracteristica1, bins1)\n",
        "freq = [len(tipo3_caracteristica1[binplace == i]) for i in range (1, len(bins1))]\n",
        "print(freq)"
      ],
      "execution_count": null,
      "outputs": [
        {
          "output_type": "stream",
          "text": [
            "[9, 10, 25, 37, 18, 17, 2, 2]\n"
          ],
          "name": "stdout"
        }
      ]
    },
    {
      "cell_type": "code",
      "metadata": {
        "colab_type": "code",
        "id": "TQgQB9LQCwFF",
        "colab": {
          "base_uri": "https://localhost:8080/",
          "height": 297
        },
        "outputId": "46179352-205f-4731-911e-82c1b78aba68"
      },
      "source": [
        "intervals_name= []\n",
        "for i in range(len(bins1)-1):\n",
        "  lim_inf= bins1[i]\n",
        "  lim_sup= bins1[i+1]\n",
        "  label= '['+\"{0:.2f}\".format(lim_inf)+\",\"+\"{0:.2f}\".format(lim_sup)+\")\"\n",
        "  intervals_name.append(label)\n",
        "freq_table=pd.DataFrame({'Intervalo':intervals_name, 'Frecuencia':freq}) \n",
        "freq_table "
      ],
      "execution_count": null,
      "outputs": [
        {
          "output_type": "execute_result",
          "data": {
            "text/html": [
              "<div>\n",
              "<style scoped>\n",
              "    .dataframe tbody tr th:only-of-type {\n",
              "        vertical-align: middle;\n",
              "    }\n",
              "\n",
              "    .dataframe tbody tr th {\n",
              "        vertical-align: top;\n",
              "    }\n",
              "\n",
              "    .dataframe thead th {\n",
              "        text-align: right;\n",
              "    }\n",
              "</style>\n",
              "<table border=\"1\" class=\"dataframe\">\n",
              "  <thead>\n",
              "    <tr style=\"text-align: right;\">\n",
              "      <th></th>\n",
              "      <th>Intervalo</th>\n",
              "      <th>Frecuencia</th>\n",
              "    </tr>\n",
              "  </thead>\n",
              "  <tbody>\n",
              "    <tr>\n",
              "      <th>0</th>\n",
              "      <td>[14.19,14.29)</td>\n",
              "      <td>9</td>\n",
              "    </tr>\n",
              "    <tr>\n",
              "      <th>1</th>\n",
              "      <td>[14.29,14.38)</td>\n",
              "      <td>10</td>\n",
              "    </tr>\n",
              "    <tr>\n",
              "      <th>2</th>\n",
              "      <td>[14.38,14.48)</td>\n",
              "      <td>25</td>\n",
              "    </tr>\n",
              "    <tr>\n",
              "      <th>3</th>\n",
              "      <td>[14.48,14.58)</td>\n",
              "      <td>37</td>\n",
              "    </tr>\n",
              "    <tr>\n",
              "      <th>4</th>\n",
              "      <td>[14.58,14.68)</td>\n",
              "      <td>18</td>\n",
              "    </tr>\n",
              "    <tr>\n",
              "      <th>5</th>\n",
              "      <td>[14.68,14.78)</td>\n",
              "      <td>17</td>\n",
              "    </tr>\n",
              "    <tr>\n",
              "      <th>6</th>\n",
              "      <td>[14.78,14.87)</td>\n",
              "      <td>2</td>\n",
              "    </tr>\n",
              "    <tr>\n",
              "      <th>7</th>\n",
              "      <td>[14.87,14.97)</td>\n",
              "      <td>2</td>\n",
              "    </tr>\n",
              "  </tbody>\n",
              "</table>\n",
              "</div>"
            ],
            "text/plain": [
              "       Intervalo  Frecuencia\n",
              "0  [14.19,14.29)           9\n",
              "1  [14.29,14.38)          10\n",
              "2  [14.38,14.48)          25\n",
              "3  [14.48,14.58)          37\n",
              "4  [14.58,14.68)          18\n",
              "5  [14.68,14.78)          17\n",
              "6  [14.78,14.87)           2\n",
              "7  [14.87,14.97)           2"
            ]
          },
          "metadata": {
            "tags": []
          },
          "execution_count": 22
        }
      ]
    },
    {
      "cell_type": "code",
      "metadata": {
        "colab_type": "code",
        "id": "TJD9-YQECwFK",
        "colab": {
          "base_uri": "https://localhost:8080/",
          "height": 265
        },
        "outputId": "be405130-455f-4955-b084-60d72daeb5e4"
      },
      "source": [
        "freq2, edges= np.histogram(tipo3_caracteristica1,bins1)\n",
        "left,right = edges[:-1],edges[1:]\n",
        "X= np.array((left+right)/2)\n",
        "Y= np.array(freq2)\n",
        "plt.hist(tipo3_caracteristica1,bins1)\n",
        "plt.plot(X,Y)\n",
        "plt.show()"
      ],
      "execution_count": null,
      "outputs": [
        {
          "output_type": "display_data",
          "data": {
            "image/png": "[encoded data removed]",
            "text/plain": [
              "<Figure size 432x288 with 1 Axes>"
            ]
          },
          "metadata": {
            "tags": [],
            "needs_background": "light"
          }
        }
      ]
    },
    {
      "cell_type": "markdown",
      "metadata": {
        "colab_type": "text",
        "id": "33rUccgsaQxR"
      },
      "source": [
        "# <h2>Característica 2- Tipo 1</h2>"
      ]
    },
    {
      "cell_type": "code",
      "metadata": {
        "colab_type": "code",
        "id": "mxRt8nDMaQxW",
        "colab": {
          "base_uri": "https://localhost:8080/",
          "height": 204
        },
        "outputId": "09ced13d-ac43-4dc4-cdf9-8f8b50cb6457"
      },
      "source": [
        "da=datos[datos['tipo']==1]\n",
        "tipo1_caracte2=da.iloc[0:360][['caracteristica2']] \n",
        "tipo1_caracte2.head()"
      ],
      "execution_count": null,
      "outputs": [
        {
          "output_type": "execute_result",
          "data": {
            "text/html": [
              "<div>\n",
              "<style scoped>\n",
              "    .dataframe tbody tr th:only-of-type {\n",
              "        vertical-align: middle;\n",
              "    }\n",
              "\n",
              "    .dataframe tbody tr th {\n",
              "        vertical-align: top;\n",
              "    }\n",
              "\n",
              "    .dataframe thead th {\n",
              "        text-align: right;\n",
              "    }\n",
              "</style>\n",
              "<table border=\"1\" class=\"dataframe\">\n",
              "  <thead>\n",
              "    <tr style=\"text-align: right;\">\n",
              "      <th></th>\n",
              "      <th>caracteristica2</th>\n",
              "    </tr>\n",
              "  </thead>\n",
              "  <tbody>\n",
              "    <tr>\n",
              "      <th>0</th>\n",
              "      <td>21.82</td>\n",
              "    </tr>\n",
              "    <tr>\n",
              "      <th>1</th>\n",
              "      <td>21.71</td>\n",
              "    </tr>\n",
              "    <tr>\n",
              "      <th>2</th>\n",
              "      <td>22.04</td>\n",
              "    </tr>\n",
              "    <tr>\n",
              "      <th>3</th>\n",
              "      <td>22.26</td>\n",
              "    </tr>\n",
              "    <tr>\n",
              "      <th>4</th>\n",
              "      <td>22.02</td>\n",
              "    </tr>\n",
              "  </tbody>\n",
              "</table>\n",
              "</div>"
            ],
            "text/plain": [
              "   caracteristica2\n",
              "0            21.82\n",
              "1            21.71\n",
              "2            22.04\n",
              "3            22.26\n",
              "4            22.02"
            ]
          },
          "metadata": {
            "tags": []
          },
          "execution_count": 24
        }
      ]
    },
    {
      "cell_type": "code",
      "metadata": {
        "colab_type": "code",
        "id": "TreFXQ5KaQxf",
        "colab": {
          "base_uri": "https://localhost:8080/",
          "height": 34
        },
        "outputId": "4048e33b-6d15-47df-fb2e-ab4049261a5c"
      },
      "source": [
        "tipo1_caracte2.shape"
      ],
      "execution_count": null,
      "outputs": [
        {
          "output_type": "execute_result",
          "data": {
            "text/plain": [
              "(120, 1)"
            ]
          },
          "metadata": {
            "tags": []
          },
          "execution_count": 25
        }
      ]
    },
    {
      "cell_type": "code",
      "metadata": {
        "colab_type": "code",
        "id": "El7_otoYaQxl",
        "colab": {
          "base_uri": "https://localhost:8080/",
          "height": 34
        },
        "outputId": "a1dcd540-3a0a-47ea-dc90-2fb08b6e78ac"
      },
      "source": [
        "tipo1_caracteristica2=np.ravel(tipo1_caracte2)\n",
        "tipo1_caracteristica2.shape"
      ],
      "execution_count": null,
      "outputs": [
        {
          "output_type": "execute_result",
          "data": {
            "text/plain": [
              "(120,)"
            ]
          },
          "metadata": {
            "tags": []
          },
          "execution_count": 26
        }
      ]
    },
    {
      "cell_type": "code",
      "metadata": {
        "colab_type": "code",
        "id": "BwaDmgb6aQxq",
        "colab": {
          "base_uri": "https://localhost:8080/",
          "height": 34
        },
        "outputId": "79ce3f33-ca32-49dd-d22f-20cbd06a191a"
      },
      "source": [
        "rango=np.max(tipo1_caracteristica2)-np.min(tipo1_caracteristica2)\n",
        "nIntervalos= 8\n",
        "anchoIntervalo= (rango+0.001)/nIntervalos\n",
        "bins1= np.linspace(np.min(tipo1_caracteristica2)-0.0005, np.max(tipo1_caracteristica2)+0.0005, (nIntervalos+1))\n",
        "binplace= np.digitize(tipo1_caracteristica2, bins1)\n",
        "freq = [len(tipo1_caracteristica2[binplace == i]) for i in range (1, len(bins1))]\n",
        "print(freq)"
      ],
      "execution_count": null,
      "outputs": [
        {
          "output_type": "stream",
          "text": [
            "[4, 14, 27, 35, 25, 12, 2, 1]\n"
          ],
          "name": "stdout"
        }
      ]
    },
    {
      "cell_type": "code",
      "metadata": {
        "colab_type": "code",
        "id": "DTAPyCLhaQxw",
        "colab": {
          "base_uri": "https://localhost:8080/",
          "height": 297
        },
        "outputId": "f7899db2-c546-4421-f4c3-23f2fada40fa"
      },
      "source": [
        "intervals_name= []\n",
        "for i in range(len(bins1)-1):\n",
        "  lim_inf= bins1[i]\n",
        "  lim_sup= bins1[i+1]\n",
        "  label= '['+\"{0:.2f}\".format(lim_inf)+\",\"+\"{0:.2f}\".format(lim_sup)+\")\"\n",
        "  intervals_name.append(label)\n",
        "freq_table=pd.DataFrame({'Intervalo':intervals_name, 'Frecuencia':freq}) \n",
        "freq_table "
      ],
      "execution_count": null,
      "outputs": [
        {
          "output_type": "execute_result",
          "data": {
            "text/html": [
              "<div>\n",
              "<style scoped>\n",
              "    .dataframe tbody tr th:only-of-type {\n",
              "        vertical-align: middle;\n",
              "    }\n",
              "\n",
              "    .dataframe tbody tr th {\n",
              "        vertical-align: top;\n",
              "    }\n",
              "\n",
              "    .dataframe thead th {\n",
              "        text-align: right;\n",
              "    }\n",
              "</style>\n",
              "<table border=\"1\" class=\"dataframe\">\n",
              "  <thead>\n",
              "    <tr style=\"text-align: right;\">\n",
              "      <th></th>\n",
              "      <th>Intervalo</th>\n",
              "      <th>Frecuencia</th>\n",
              "    </tr>\n",
              "  </thead>\n",
              "  <tbody>\n",
              "    <tr>\n",
              "      <th>0</th>\n",
              "      <td>[21.32,21.50)</td>\n",
              "      <td>4</td>\n",
              "    </tr>\n",
              "    <tr>\n",
              "      <th>1</th>\n",
              "      <td>[21.50,21.68)</td>\n",
              "      <td>14</td>\n",
              "    </tr>\n",
              "    <tr>\n",
              "      <th>2</th>\n",
              "      <td>[21.68,21.87)</td>\n",
              "      <td>27</td>\n",
              "    </tr>\n",
              "    <tr>\n",
              "      <th>3</th>\n",
              "      <td>[21.87,22.05)</td>\n",
              "      <td>35</td>\n",
              "    </tr>\n",
              "    <tr>\n",
              "      <th>4</th>\n",
              "      <td>[22.05,22.23)</td>\n",
              "      <td>25</td>\n",
              "    </tr>\n",
              "    <tr>\n",
              "      <th>5</th>\n",
              "      <td>[22.23,22.42)</td>\n",
              "      <td>12</td>\n",
              "    </tr>\n",
              "    <tr>\n",
              "      <th>6</th>\n",
              "      <td>[22.42,22.60)</td>\n",
              "      <td>2</td>\n",
              "    </tr>\n",
              "    <tr>\n",
              "      <th>7</th>\n",
              "      <td>[22.60,22.78)</td>\n",
              "      <td>1</td>\n",
              "    </tr>\n",
              "  </tbody>\n",
              "</table>\n",
              "</div>"
            ],
            "text/plain": [
              "       Intervalo  Frecuencia\n",
              "0  [21.32,21.50)           4\n",
              "1  [21.50,21.68)          14\n",
              "2  [21.68,21.87)          27\n",
              "3  [21.87,22.05)          35\n",
              "4  [22.05,22.23)          25\n",
              "5  [22.23,22.42)          12\n",
              "6  [22.42,22.60)           2\n",
              "7  [22.60,22.78)           1"
            ]
          },
          "metadata": {
            "tags": []
          },
          "execution_count": 28
        }
      ]
    },
    {
      "cell_type": "code",
      "metadata": {
        "colab_type": "code",
        "id": "02A5QvZAaQx1",
        "colab": {
          "base_uri": "https://localhost:8080/",
          "height": 265
        },
        "outputId": "881ea081-f3eb-41cf-eb0f-fb8462a1de65"
      },
      "source": [
        "freq2, edges= np.histogram(tipo1_caracteristica2,bins1)\n",
        "left,right = edges[:-1],edges[1:]\n",
        "X= np.array((left+right)/2)\n",
        "Y= np.array(freq2)\n",
        "plt.hist(tipo1_caracteristica2,bins1)\n",
        "plt.plot(X,Y)\n",
        "plt.show()"
      ],
      "execution_count": null,
      "outputs": [
        {
          "output_type": "display_data",
          "data": {
            "image/png": "[encoded data removed]",
            "text/plain": [
              "<Figure size 432x288 with 1 Axes>"
            ]
          },
          "metadata": {
            "tags": [],
            "needs_background": "light"
          }
        }
      ]
    },
    {
      "cell_type": "markdown",
      "metadata": {
        "colab_type": "text",
        "id": "fcq0tDxqcpYa"
      },
      "source": [
        "# <h2>Característica 2- Tipo 2</h2>"
      ]
    },
    {
      "cell_type": "code",
      "metadata": {
        "colab_type": "code",
        "id": "OAvk0A9RcpYd",
        "colab": {
          "base_uri": "https://localhost:8080/",
          "height": 204
        },
        "outputId": "18e2e8ed-3403-4ad6-b470-2434bc57aea3"
      },
      "source": [
        "da=datos[datos['tipo']==2]\n",
        "tipo2_caracte2=da.iloc[0:360][['caracteristica2']] \n",
        "tipo2_caracte2.head()"
      ],
      "execution_count": null,
      "outputs": [
        {
          "output_type": "execute_result",
          "data": {
            "text/html": [
              "<div>\n",
              "<style scoped>\n",
              "    .dataframe tbody tr th:only-of-type {\n",
              "        vertical-align: middle;\n",
              "    }\n",
              "\n",
              "    .dataframe tbody tr th {\n",
              "        vertical-align: top;\n",
              "    }\n",
              "\n",
              "    .dataframe thead th {\n",
              "        text-align: right;\n",
              "    }\n",
              "</style>\n",
              "<table border=\"1\" class=\"dataframe\">\n",
              "  <thead>\n",
              "    <tr style=\"text-align: right;\">\n",
              "      <th></th>\n",
              "      <th>caracteristica2</th>\n",
              "    </tr>\n",
              "  </thead>\n",
              "  <tbody>\n",
              "    <tr>\n",
              "      <th>120</th>\n",
              "      <td>18.20</td>\n",
              "    </tr>\n",
              "    <tr>\n",
              "      <th>121</th>\n",
              "      <td>18.48</td>\n",
              "    </tr>\n",
              "    <tr>\n",
              "      <th>122</th>\n",
              "      <td>16.78</td>\n",
              "    </tr>\n",
              "    <tr>\n",
              "      <th>123</th>\n",
              "      <td>16.54</td>\n",
              "    </tr>\n",
              "    <tr>\n",
              "      <th>124</th>\n",
              "      <td>17.58</td>\n",
              "    </tr>\n",
              "  </tbody>\n",
              "</table>\n",
              "</div>"
            ],
            "text/plain": [
              "     caracteristica2\n",
              "120            18.20\n",
              "121            18.48\n",
              "122            16.78\n",
              "123            16.54\n",
              "124            17.58"
            ]
          },
          "metadata": {
            "tags": []
          },
          "execution_count": 30
        }
      ]
    },
    {
      "cell_type": "code",
      "metadata": {
        "colab_type": "code",
        "id": "ROF6eYTQcpYm",
        "colab": {
          "base_uri": "https://localhost:8080/",
          "height": 34
        },
        "outputId": "a7ad16a0-96e3-4089-a66a-3e4f58ffda6e"
      },
      "source": [
        "tipo2_caracte2.shape"
      ],
      "execution_count": null,
      "outputs": [
        {
          "output_type": "execute_result",
          "data": {
            "text/plain": [
              "(120, 1)"
            ]
          },
          "metadata": {
            "tags": []
          },
          "execution_count": 31
        }
      ]
    },
    {
      "cell_type": "code",
      "metadata": {
        "colab_type": "code",
        "id": "qP2Lp_DAcpYs",
        "colab": {
          "base_uri": "https://localhost:8080/",
          "height": 34
        },
        "outputId": "f6d48c30-d964-4828-e5b6-8b0b8b292074"
      },
      "source": [
        "tipo2_caracteristica2=np.ravel(tipo2_caracte2)\n",
        "tipo2_caracteristica2.shape"
      ],
      "execution_count": null,
      "outputs": [
        {
          "output_type": "execute_result",
          "data": {
            "text/plain": [
              "(120,)"
            ]
          },
          "metadata": {
            "tags": []
          },
          "execution_count": 32
        }
      ]
    },
    {
      "cell_type": "code",
      "metadata": {
        "colab_type": "code",
        "id": "UE3SRxvZcpYy",
        "colab": {
          "base_uri": "https://localhost:8080/",
          "height": 34
        },
        "outputId": "f4fb68e6-9efe-4a07-921d-ad56d023bad8"
      },
      "source": [
        "rango=np.max(tipo2_caracteristica2)-np.min(tipo2_caracteristica2)\n",
        "nIntervalos= 8\n",
        "anchoIntervalo= (rango+0.001)/nIntervalos\n",
        "bins1= np.linspace(np.min(tipo2_caracteristica2)-0.0005, np.max(tipo2_caracteristica2)+0.0005, (nIntervalos+1))\n",
        "binplace= np.digitize(tipo2_caracteristica2, bins1)\n",
        "freq = [len(tipo2_caracteristica2[binplace == i]) for i in range (1, len(bins1))]\n",
        "print(freq)"
      ],
      "execution_count": null,
      "outputs": [
        {
          "output_type": "stream",
          "text": [
            "[7, 11, 12, 25, 27, 14, 18, 6]\n"
          ],
          "name": "stdout"
        }
      ]
    },
    {
      "cell_type": "code",
      "metadata": {
        "colab_type": "code",
        "id": "3qTeQ2_McpY3",
        "colab": {
          "base_uri": "https://localhost:8080/",
          "height": 297
        },
        "outputId": "4acef50e-c865-442e-ab68-8937c6477f06"
      },
      "source": [
        "intervals_name= []\n",
        "for i in range(len(bins1)-1):\n",
        "  lim_inf= bins1[i]\n",
        "  lim_sup= bins1[i+1]\n",
        "  label= '['+\"{0:.2f}\".format(lim_inf)+\",\"+\"{0:.2f}\".format(lim_sup)+\")\"\n",
        "  intervals_name.append(label)\n",
        "freq_table=pd.DataFrame({'Intervalo':intervals_name, 'Frecuencia':freq}) \n",
        "freq_table "
      ],
      "execution_count": null,
      "outputs": [
        {
          "output_type": "execute_result",
          "data": {
            "text/html": [
              "<div>\n",
              "<style scoped>\n",
              "    .dataframe tbody tr th:only-of-type {\n",
              "        vertical-align: middle;\n",
              "    }\n",
              "\n",
              "    .dataframe tbody tr th {\n",
              "        vertical-align: top;\n",
              "    }\n",
              "\n",
              "    .dataframe thead th {\n",
              "        text-align: right;\n",
              "    }\n",
              "</style>\n",
              "<table border=\"1\" class=\"dataframe\">\n",
              "  <thead>\n",
              "    <tr style=\"text-align: right;\">\n",
              "      <th></th>\n",
              "      <th>Intervalo</th>\n",
              "      <th>Frecuencia</th>\n",
              "    </tr>\n",
              "  </thead>\n",
              "  <tbody>\n",
              "    <tr>\n",
              "      <th>0</th>\n",
              "      <td>[15.52,16.19)</td>\n",
              "      <td>7</td>\n",
              "    </tr>\n",
              "    <tr>\n",
              "      <th>1</th>\n",
              "      <td>[16.19,16.85)</td>\n",
              "      <td>11</td>\n",
              "    </tr>\n",
              "    <tr>\n",
              "      <th>2</th>\n",
              "      <td>[16.85,17.52)</td>\n",
              "      <td>12</td>\n",
              "    </tr>\n",
              "    <tr>\n",
              "      <th>3</th>\n",
              "      <td>[17.52,18.19)</td>\n",
              "      <td>25</td>\n",
              "    </tr>\n",
              "    <tr>\n",
              "      <th>4</th>\n",
              "      <td>[18.19,18.86)</td>\n",
              "      <td>27</td>\n",
              "    </tr>\n",
              "    <tr>\n",
              "      <th>5</th>\n",
              "      <td>[18.86,19.53)</td>\n",
              "      <td>14</td>\n",
              "    </tr>\n",
              "    <tr>\n",
              "      <th>6</th>\n",
              "      <td>[19.53,20.19)</td>\n",
              "      <td>18</td>\n",
              "    </tr>\n",
              "    <tr>\n",
              "      <th>7</th>\n",
              "      <td>[20.19,20.86)</td>\n",
              "      <td>6</td>\n",
              "    </tr>\n",
              "  </tbody>\n",
              "</table>\n",
              "</div>"
            ],
            "text/plain": [
              "       Intervalo  Frecuencia\n",
              "0  [15.52,16.19)           7\n",
              "1  [16.19,16.85)          11\n",
              "2  [16.85,17.52)          12\n",
              "3  [17.52,18.19)          25\n",
              "4  [18.19,18.86)          27\n",
              "5  [18.86,19.53)          14\n",
              "6  [19.53,20.19)          18\n",
              "7  [20.19,20.86)           6"
            ]
          },
          "metadata": {
            "tags": []
          },
          "execution_count": 34
        }
      ]
    },
    {
      "cell_type": "code",
      "metadata": {
        "colab_type": "code",
        "id": "VV54oW-rcpY9",
        "colab": {
          "base_uri": "https://localhost:8080/",
          "height": 265
        },
        "outputId": "e60b7266-ea4f-4276-cbe5-f8bb7611e333"
      },
      "source": [
        "freq2, edges= np.histogram(tipo2_caracteristica2,bins1)\n",
        "left,right = edges[:-1],edges[1:]\n",
        "X= np.array((left+right)/2)\n",
        "Y= np.array(freq2)\n",
        "plt.hist(tipo2_caracteristica2,bins1)\n",
        "plt.plot(X,Y)\n",
        "plt.show()"
      ],
      "execution_count": null,
      "outputs": [
        {
          "output_type": "display_data",
          "data": {
            "image/png": "[encoded data removed]",
            "text/plain": [
              "<Figure size 432x288 with 1 Axes>"
            ]
          },
          "metadata": {
            "tags": [],
            "needs_background": "light"
          }
        }
      ]
    },
    {
      "cell_type": "markdown",
      "metadata": {
        "colab_type": "text",
        "id": "7lhEuXdFgXop"
      },
      "source": [
        "# <h2>Característica 2- Tipo 3</h2>"
      ]
    },
    {
      "cell_type": "code",
      "metadata": {
        "colab_type": "code",
        "id": "Ei7YRl_1gXor",
        "colab": {
          "base_uri": "https://localhost:8080/",
          "height": 204
        },
        "outputId": "5d1273c8-2593-4560-8fb9-ca6a413e0689"
      },
      "source": [
        "da=datos[datos['tipo']==3]\n",
        "tipo3_caracte2=da.iloc[0:360][['caracteristica2']] \n",
        "tipo3_caracte2.tail()"
      ],
      "execution_count": null,
      "outputs": [
        {
          "output_type": "execute_result",
          "data": {
            "text/html": [
              "<div>\n",
              "<style scoped>\n",
              "    .dataframe tbody tr th:only-of-type {\n",
              "        vertical-align: middle;\n",
              "    }\n",
              "\n",
              "    .dataframe tbody tr th {\n",
              "        vertical-align: top;\n",
              "    }\n",
              "\n",
              "    .dataframe thead th {\n",
              "        text-align: right;\n",
              "    }\n",
              "</style>\n",
              "<table border=\"1\" class=\"dataframe\">\n",
              "  <thead>\n",
              "    <tr style=\"text-align: right;\">\n",
              "      <th></th>\n",
              "      <th>caracteristica2</th>\n",
              "    </tr>\n",
              "  </thead>\n",
              "  <tbody>\n",
              "    <tr>\n",
              "      <th>355</th>\n",
              "      <td>9.10</td>\n",
              "    </tr>\n",
              "    <tr>\n",
              "      <th>356</th>\n",
              "      <td>7.14</td>\n",
              "    </tr>\n",
              "    <tr>\n",
              "      <th>357</th>\n",
              "      <td>9.34</td>\n",
              "    </tr>\n",
              "    <tr>\n",
              "      <th>358</th>\n",
              "      <td>8.94</td>\n",
              "    </tr>\n",
              "    <tr>\n",
              "      <th>359</th>\n",
              "      <td>8.75</td>\n",
              "    </tr>\n",
              "  </tbody>\n",
              "</table>\n",
              "</div>"
            ],
            "text/plain": [
              "     caracteristica2\n",
              "355             9.10\n",
              "356             7.14\n",
              "357             9.34\n",
              "358             8.94\n",
              "359             8.75"
            ]
          },
          "metadata": {
            "tags": []
          },
          "execution_count": 36
        }
      ]
    },
    {
      "cell_type": "code",
      "metadata": {
        "colab_type": "code",
        "id": "FZXz4hKegXow",
        "colab": {
          "base_uri": "https://localhost:8080/",
          "height": 34
        },
        "outputId": "698dbef2-5ada-47fb-c3b0-6b428c3dcb2b"
      },
      "source": [
        "tipo3_caracte2.shape"
      ],
      "execution_count": null,
      "outputs": [
        {
          "output_type": "execute_result",
          "data": {
            "text/plain": [
              "(120, 1)"
            ]
          },
          "metadata": {
            "tags": []
          },
          "execution_count": 37
        }
      ]
    },
    {
      "cell_type": "code",
      "metadata": {
        "colab_type": "code",
        "id": "8ohZYoHAgXo0",
        "colab": {
          "base_uri": "https://localhost:8080/",
          "height": 34
        },
        "outputId": "2c522ede-d4cd-4e0a-e7d0-a093c0029e03"
      },
      "source": [
        "tipo3_caracteristica2=np.ravel(tipo3_caracte2)\n",
        "tipo3_caracteristica2.shape"
      ],
      "execution_count": null,
      "outputs": [
        {
          "output_type": "execute_result",
          "data": {
            "text/plain": [
              "(120,)"
            ]
          },
          "metadata": {
            "tags": []
          },
          "execution_count": 38
        }
      ]
    },
    {
      "cell_type": "code",
      "metadata": {
        "colab_type": "code",
        "id": "--ZY8SIHgXo6",
        "colab": {
          "base_uri": "https://localhost:8080/",
          "height": 34
        },
        "outputId": "1945339d-20bd-446e-94f0-3aca6b1864fc"
      },
      "source": [
        "rango=np.max(tipo3_caracteristica2)-np.min(tipo3_caracteristica2)\n",
        "nIntervalos= 8\n",
        "anchoIntervalo= (rango+0.001)/nIntervalos\n",
        "bins1= np.linspace(np.min(tipo3_caracteristica2)-0.0005, np.max(tipo3_caracteristica2)+0.0005, (nIntervalos+1))\n",
        "binplace= np.digitize(tipo3_caracteristica2, bins1)\n",
        "freq = [len(tipo3_caracteristica2[binplace == i]) for i in range (1, len(bins1))]\n",
        "print(freq)"
      ],
      "execution_count": null,
      "outputs": [
        {
          "output_type": "stream",
          "text": [
            "[4, 14, 14, 17, 31, 14, 15, 11]\n"
          ],
          "name": "stdout"
        }
      ]
    },
    {
      "cell_type": "code",
      "metadata": {
        "colab_type": "code",
        "id": "YdESzRE8gXo_",
        "colab": {
          "base_uri": "https://localhost:8080/",
          "height": 297
        },
        "outputId": "0351ccf7-d10c-4b33-8cd9-2fe4a700bded"
      },
      "source": [
        "intervals_name= []\n",
        "for i in range(len(bins1)-1):\n",
        "  lim_inf= bins1[i]\n",
        "  lim_sup= bins1[i+1]\n",
        "  label= '['+\"{0:.2f}\".format(lim_inf)+\",\"+\"{0:.2f}\".format(lim_sup)+\")\"\n",
        "  intervals_name.append(label)\n",
        "freq_table=pd.DataFrame({'Intervalo':intervals_name, 'Frecuencia':freq}) \n",
        "freq_table "
      ],
      "execution_count": null,
      "outputs": [
        {
          "output_type": "execute_result",
          "data": {
            "text/html": [
              "<div>\n",
              "<style scoped>\n",
              "    .dataframe tbody tr th:only-of-type {\n",
              "        vertical-align: middle;\n",
              "    }\n",
              "\n",
              "    .dataframe tbody tr th {\n",
              "        vertical-align: top;\n",
              "    }\n",
              "\n",
              "    .dataframe thead th {\n",
              "        text-align: right;\n",
              "    }\n",
              "</style>\n",
              "<table border=\"1\" class=\"dataframe\">\n",
              "  <thead>\n",
              "    <tr style=\"text-align: right;\">\n",
              "      <th></th>\n",
              "      <th>Intervalo</th>\n",
              "      <th>Frecuencia</th>\n",
              "    </tr>\n",
              "  </thead>\n",
              "  <tbody>\n",
              "    <tr>\n",
              "      <th>0</th>\n",
              "      <td>[6.55,7.07)</td>\n",
              "      <td>4</td>\n",
              "    </tr>\n",
              "    <tr>\n",
              "      <th>1</th>\n",
              "      <td>[7.07,7.58)</td>\n",
              "      <td>14</td>\n",
              "    </tr>\n",
              "    <tr>\n",
              "      <th>2</th>\n",
              "      <td>[7.58,8.10)</td>\n",
              "      <td>14</td>\n",
              "    </tr>\n",
              "    <tr>\n",
              "      <th>3</th>\n",
              "      <td>[8.10,8.62)</td>\n",
              "      <td>17</td>\n",
              "    </tr>\n",
              "    <tr>\n",
              "      <th>4</th>\n",
              "      <td>[8.62,9.13)</td>\n",
              "      <td>31</td>\n",
              "    </tr>\n",
              "    <tr>\n",
              "      <th>5</th>\n",
              "      <td>[9.13,9.65)</td>\n",
              "      <td>14</td>\n",
              "    </tr>\n",
              "    <tr>\n",
              "      <th>6</th>\n",
              "      <td>[9.65,10.16)</td>\n",
              "      <td>15</td>\n",
              "    </tr>\n",
              "    <tr>\n",
              "      <th>7</th>\n",
              "      <td>[10.16,10.68)</td>\n",
              "      <td>11</td>\n",
              "    </tr>\n",
              "  </tbody>\n",
              "</table>\n",
              "</div>"
            ],
            "text/plain": [
              "       Intervalo  Frecuencia\n",
              "0    [6.55,7.07)           4\n",
              "1    [7.07,7.58)          14\n",
              "2    [7.58,8.10)          14\n",
              "3    [8.10,8.62)          17\n",
              "4    [8.62,9.13)          31\n",
              "5    [9.13,9.65)          14\n",
              "6   [9.65,10.16)          15\n",
              "7  [10.16,10.68)          11"
            ]
          },
          "metadata": {
            "tags": []
          },
          "execution_count": 40
        }
      ]
    },
    {
      "cell_type": "code",
      "metadata": {
        "colab_type": "code",
        "id": "L1qzT1YKgXpI",
        "colab": {
          "base_uri": "https://localhost:8080/",
          "height": 265
        },
        "outputId": "0cfa6da0-51eb-44fa-809a-1935621a46bb"
      },
      "source": [
        "freq2, edges= np.histogram(tipo3_caracteristica2,bins1)\n",
        "left,right = edges[:-1],edges[1:]\n",
        "X= np.array((left+right)/2)\n",
        "Y= np.array(freq2)\n",
        "plt.hist(tipo3_caracteristica2,bins1)\n",
        "plt.plot(X,Y)\n",
        "plt.show()"
      ],
      "execution_count": null,
      "outputs": [
        {
          "output_type": "display_data",
          "data": {
            "image/png": "[encoded data removed]",
            "text/plain": [
              "<Figure size 432x288 with 1 Axes>"
            ]
          },
          "metadata": {
            "tags": [],
            "needs_background": "light"
          }
        }
      ]
    },
    {
      "cell_type": "markdown",
      "metadata": {
        "colab_type": "text",
        "id": "8hcAOsIWfK14"
      },
      "source": [
        "# <h2>Característica 3- Tipo 1</h2>"
      ]
    },
    {
      "cell_type": "code",
      "metadata": {
        "colab_type": "code",
        "id": "4jUU9K-jfK17",
        "colab": {
          "base_uri": "https://localhost:8080/",
          "height": 204
        },
        "outputId": "55e6668b-6285-4ed2-8cc6-d3c680f360a7"
      },
      "source": [
        "da=datos[datos['tipo']==1]\n",
        "tipo1_caracte3=da.iloc[0:360][['caracteristica3']] \n",
        "tipo1_caracte3.head()"
      ],
      "execution_count": null,
      "outputs": [
        {
          "output_type": "execute_result",
          "data": {
            "text/html": [
              "<div>\n",
              "<style scoped>\n",
              "    .dataframe tbody tr th:only-of-type {\n",
              "        vertical-align: middle;\n",
              "    }\n",
              "\n",
              "    .dataframe tbody tr th {\n",
              "        vertical-align: top;\n",
              "    }\n",
              "\n",
              "    .dataframe thead th {\n",
              "        text-align: right;\n",
              "    }\n",
              "</style>\n",
              "<table border=\"1\" class=\"dataframe\">\n",
              "  <thead>\n",
              "    <tr style=\"text-align: right;\">\n",
              "      <th></th>\n",
              "      <th>caracteristica3</th>\n",
              "    </tr>\n",
              "  </thead>\n",
              "  <tbody>\n",
              "    <tr>\n",
              "      <th>0</th>\n",
              "      <td>18.15</td>\n",
              "    </tr>\n",
              "    <tr>\n",
              "      <th>1</th>\n",
              "      <td>18.67</td>\n",
              "    </tr>\n",
              "    <tr>\n",
              "      <th>2</th>\n",
              "      <td>17.85</td>\n",
              "    </tr>\n",
              "    <tr>\n",
              "      <th>3</th>\n",
              "      <td>17.21</td>\n",
              "    </tr>\n",
              "    <tr>\n",
              "      <th>4</th>\n",
              "      <td>16.81</td>\n",
              "    </tr>\n",
              "  </tbody>\n",
              "</table>\n",
              "</div>"
            ],
            "text/plain": [
              "   caracteristica3\n",
              "0            18.15\n",
              "1            18.67\n",
              "2            17.85\n",
              "3            17.21\n",
              "4            16.81"
            ]
          },
          "metadata": {
            "tags": []
          },
          "execution_count": 42
        }
      ]
    },
    {
      "cell_type": "code",
      "metadata": {
        "colab_type": "code",
        "id": "msQQqFXKfK2D",
        "colab": {
          "base_uri": "https://localhost:8080/",
          "height": 34
        },
        "outputId": "5d0e562a-7c66-4117-f93a-e5b7047a4434"
      },
      "source": [
        "tipo1_caracte3.shape"
      ],
      "execution_count": null,
      "outputs": [
        {
          "output_type": "execute_result",
          "data": {
            "text/plain": [
              "(120, 1)"
            ]
          },
          "metadata": {
            "tags": []
          },
          "execution_count": 43
        }
      ]
    },
    {
      "cell_type": "code",
      "metadata": {
        "colab_type": "code",
        "id": "91RsgyVVfK2M",
        "colab": {
          "base_uri": "https://localhost:8080/",
          "height": 34
        },
        "outputId": "fdce4503-74f1-427d-c7b5-e2177fcb9872"
      },
      "source": [
        "tipo1_caracteristica3=np.ravel(tipo1_caracte3)\n",
        "tipo1_caracteristica3.shape"
      ],
      "execution_count": null,
      "outputs": [
        {
          "output_type": "execute_result",
          "data": {
            "text/plain": [
              "(120,)"
            ]
          },
          "metadata": {
            "tags": []
          },
          "execution_count": 44
        }
      ]
    },
    {
      "cell_type": "code",
      "metadata": {
        "colab_type": "code",
        "id": "DTD2kNLUfK2T",
        "colab": {
          "base_uri": "https://localhost:8080/",
          "height": 34
        },
        "outputId": "b3f877b6-c2b5-4a7f-8fab-5de5f691740b"
      },
      "source": [
        "rango=np.max(tipo1_caracteristica3)-np.min(tipo1_caracteristica3)\n",
        "nIntervalos= 8\n",
        "anchoIntervalo= (rango+0.001)/nIntervalos\n",
        "bins1= np.linspace(np.min(tipo1_caracteristica3)-0.0005, np.max(tipo1_caracteristica3)+0.0005, (nIntervalos+1))\n",
        "binplace= np.digitize(tipo1_caracteristica3, bins1)\n",
        "freq = [len(tipo1_caracteristica3[binplace == i]) for i in range (1, len(bins1))]\n",
        "print(freq)"
      ],
      "execution_count": null,
      "outputs": [
        {
          "output_type": "stream",
          "text": [
            "[8, 13, 21, 19, 25, 17, 12, 5]\n"
          ],
          "name": "stdout"
        }
      ]
    },
    {
      "cell_type": "code",
      "metadata": {
        "colab_type": "code",
        "id": "B8RlEXETfK2Z",
        "colab": {
          "base_uri": "https://localhost:8080/",
          "height": 297
        },
        "outputId": "2bd9716e-f4f2-4560-8369-293112a1196d"
      },
      "source": [
        "intervals_name= []\n",
        "for i in range(len(bins1)-1):\n",
        "  lim_inf= bins1[i]\n",
        "  lim_sup= bins1[i+1]\n",
        "  label= '['+\"{0:.2f}\".format(lim_inf)+\",\"+\"{0:.2f}\".format(lim_sup)+\")\"\n",
        "  intervals_name.append(label)\n",
        "freq_table=pd.DataFrame({'Intervalo':intervals_name, 'Frecuencia':freq}) \n",
        "freq_table "
      ],
      "execution_count": null,
      "outputs": [
        {
          "output_type": "execute_result",
          "data": {
            "text/html": [
              "<div>\n",
              "<style scoped>\n",
              "    .dataframe tbody tr th:only-of-type {\n",
              "        vertical-align: middle;\n",
              "    }\n",
              "\n",
              "    .dataframe tbody tr th {\n",
              "        vertical-align: top;\n",
              "    }\n",
              "\n",
              "    .dataframe thead th {\n",
              "        text-align: right;\n",
              "    }\n",
              "</style>\n",
              "<table border=\"1\" class=\"dataframe\">\n",
              "  <thead>\n",
              "    <tr style=\"text-align: right;\">\n",
              "      <th></th>\n",
              "      <th>Intervalo</th>\n",
              "      <th>Frecuencia</th>\n",
              "    </tr>\n",
              "  </thead>\n",
              "  <tbody>\n",
              "    <tr>\n",
              "      <th>0</th>\n",
              "      <td>[15.07,15.65)</td>\n",
              "      <td>8</td>\n",
              "    </tr>\n",
              "    <tr>\n",
              "      <th>1</th>\n",
              "      <td>[15.65,16.23)</td>\n",
              "      <td>13</td>\n",
              "    </tr>\n",
              "    <tr>\n",
              "      <th>2</th>\n",
              "      <td>[16.23,16.81)</td>\n",
              "      <td>21</td>\n",
              "    </tr>\n",
              "    <tr>\n",
              "      <th>3</th>\n",
              "      <td>[16.81,17.38)</td>\n",
              "      <td>19</td>\n",
              "    </tr>\n",
              "    <tr>\n",
              "      <th>4</th>\n",
              "      <td>[17.38,17.96)</td>\n",
              "      <td>25</td>\n",
              "    </tr>\n",
              "    <tr>\n",
              "      <th>5</th>\n",
              "      <td>[17.96,18.54)</td>\n",
              "      <td>17</td>\n",
              "    </tr>\n",
              "    <tr>\n",
              "      <th>6</th>\n",
              "      <td>[18.54,19.12)</td>\n",
              "      <td>12</td>\n",
              "    </tr>\n",
              "    <tr>\n",
              "      <th>7</th>\n",
              "      <td>[19.12,19.70)</td>\n",
              "      <td>5</td>\n",
              "    </tr>\n",
              "  </tbody>\n",
              "</table>\n",
              "</div>"
            ],
            "text/plain": [
              "       Intervalo  Frecuencia\n",
              "0  [15.07,15.65)           8\n",
              "1  [15.65,16.23)          13\n",
              "2  [16.23,16.81)          21\n",
              "3  [16.81,17.38)          19\n",
              "4  [17.38,17.96)          25\n",
              "5  [17.96,18.54)          17\n",
              "6  [18.54,19.12)          12\n",
              "7  [19.12,19.70)           5"
            ]
          },
          "metadata": {
            "tags": []
          },
          "execution_count": 46
        }
      ]
    },
    {
      "cell_type": "code",
      "metadata": {
        "colab_type": "code",
        "id": "Q_PZ2MUjfK2e",
        "colab": {
          "base_uri": "https://localhost:8080/",
          "height": 265
        },
        "outputId": "d62b52a4-ed13-4dc4-fd8d-ef38114cc9b1"
      },
      "source": [
        "freq2, edges= np.histogram(tipo1_caracteristica3,bins1)\n",
        "left,right = edges[:-1],edges[1:]\n",
        "X= np.array((left+right)/2)\n",
        "Y= np.array(freq2)\n",
        "plt.hist(tipo1_caracteristica3,bins1)\n",
        "plt.plot(X,Y)\n",
        "plt.show()"
      ],
      "execution_count": null,
      "outputs": [
        {
          "output_type": "display_data",
          "data": {
            "image/png": "[encoded data removed]",
            "text/plain": [
              "<Figure size 432x288 with 1 Axes>"
            ]
          },
          "metadata": {
            "tags": [],
            "needs_background": "light"
          }
        }
      ]
    },
    {
      "cell_type": "markdown",
      "metadata": {
        "colab_type": "text",
        "id": "SHPlMmFdgikk"
      },
      "source": [
        "# <h2>Característica 3- Tipo 2</h2>"
      ]
    },
    {
      "cell_type": "code",
      "metadata": {
        "colab_type": "code",
        "id": "KJZcrhC3gikl",
        "colab": {
          "base_uri": "https://localhost:8080/",
          "height": 204
        },
        "outputId": "a9cedbd3-72c6-4e0b-d490-864b8f65a5df"
      },
      "source": [
        "da=datos[datos['tipo']==2]\n",
        "tipo2_caracte3=da.iloc[0:360][['caracteristica3']] \n",
        "tipo2_caracte3.head()"
      ],
      "execution_count": null,
      "outputs": [
        {
          "output_type": "execute_result",
          "data": {
            "text/html": [
              "<div>\n",
              "<style scoped>\n",
              "    .dataframe tbody tr th:only-of-type {\n",
              "        vertical-align: middle;\n",
              "    }\n",
              "\n",
              "    .dataframe tbody tr th {\n",
              "        vertical-align: top;\n",
              "    }\n",
              "\n",
              "    .dataframe thead th {\n",
              "        text-align: right;\n",
              "    }\n",
              "</style>\n",
              "<table border=\"1\" class=\"dataframe\">\n",
              "  <thead>\n",
              "    <tr style=\"text-align: right;\">\n",
              "      <th></th>\n",
              "      <th>caracteristica3</th>\n",
              "    </tr>\n",
              "  </thead>\n",
              "  <tbody>\n",
              "    <tr>\n",
              "      <th>120</th>\n",
              "      <td>21.38</td>\n",
              "    </tr>\n",
              "    <tr>\n",
              "      <th>121</th>\n",
              "      <td>17.61</td>\n",
              "    </tr>\n",
              "    <tr>\n",
              "      <th>122</th>\n",
              "      <td>19.32</td>\n",
              "    </tr>\n",
              "    <tr>\n",
              "      <th>123</th>\n",
              "      <td>18.95</td>\n",
              "    </tr>\n",
              "    <tr>\n",
              "      <th>124</th>\n",
              "      <td>19.14</td>\n",
              "    </tr>\n",
              "  </tbody>\n",
              "</table>\n",
              "</div>"
            ],
            "text/plain": [
              "     caracteristica3\n",
              "120            21.38\n",
              "121            17.61\n",
              "122            19.32\n",
              "123            18.95\n",
              "124            19.14"
            ]
          },
          "metadata": {
            "tags": []
          },
          "execution_count": 48
        }
      ]
    },
    {
      "cell_type": "code",
      "metadata": {
        "colab_type": "code",
        "id": "0gozHRJHgiks",
        "colab": {
          "base_uri": "https://localhost:8080/",
          "height": 34
        },
        "outputId": "1f612772-bcf8-4bce-c927-173f11e8bec3"
      },
      "source": [
        "tipo2_caracte3.shape"
      ],
      "execution_count": null,
      "outputs": [
        {
          "output_type": "execute_result",
          "data": {
            "text/plain": [
              "(120, 1)"
            ]
          },
          "metadata": {
            "tags": []
          },
          "execution_count": 49
        }
      ]
    },
    {
      "cell_type": "code",
      "metadata": {
        "colab_type": "code",
        "id": "1CvoWbBLgikx",
        "colab": {
          "base_uri": "https://localhost:8080/",
          "height": 34
        },
        "outputId": "5cf47ecb-e13e-40df-cb86-eda08792a022"
      },
      "source": [
        "tipo2_caracteristica3=np.ravel(tipo2_caracte3)\n",
        "tipo2_caracteristica3.shape"
      ],
      "execution_count": null,
      "outputs": [
        {
          "output_type": "execute_result",
          "data": {
            "text/plain": [
              "(120,)"
            ]
          },
          "metadata": {
            "tags": []
          },
          "execution_count": 50
        }
      ]
    },
    {
      "cell_type": "code",
      "metadata": {
        "colab_type": "code",
        "id": "kfVW-Tgegik3",
        "colab": {
          "base_uri": "https://localhost:8080/",
          "height": 34
        },
        "outputId": "55336ff4-c2d6-44cc-8a4f-50599e449b4b"
      },
      "source": [
        "rango=np.max(tipo2_caracteristica3)-np.min(tipo2_caracteristica3)\n",
        "nIntervalos= 8\n",
        "anchoIntervalo= (rango+0.001)/nIntervalos\n",
        "bins1= np.linspace(np.min(tipo2_caracteristica3)-0.0005, np.max(tipo2_caracteristica3)+0.0005, (nIntervalos+1))\n",
        "binplace= np.digitize(tipo2_caracteristica3, bins1)\n",
        "freq = [len(tipo2_caracteristica3[binplace == i]) for i in range (1, len(bins1))]\n",
        "print(freq)"
      ],
      "execution_count": null,
      "outputs": [
        {
          "output_type": "stream",
          "text": [
            "[8, 12, 10, 27, 26, 19, 7, 11]\n"
          ],
          "name": "stdout"
        }
      ]
    },
    {
      "cell_type": "code",
      "metadata": {
        "colab_type": "code",
        "id": "DaHf_f0Wgik8",
        "colab": {
          "base_uri": "https://localhost:8080/",
          "height": 297
        },
        "outputId": "650899b5-2e4e-4cce-9c4b-95712084ac44"
      },
      "source": [
        "intervals_name= []\n",
        "for i in range(len(bins1)-1):\n",
        "  lim_inf= bins1[i]\n",
        "  lim_sup= bins1[i+1]\n",
        "  label= '['+\"{0:.2f}\".format(lim_inf)+\",\"+\"{0:.2f}\".format(lim_sup)+\")\"\n",
        "  intervals_name.append(label)\n",
        "freq_table=pd.DataFrame({'Intervalo':intervals_name, 'Frecuencia':freq}) \n",
        "freq_table "
      ],
      "execution_count": null,
      "outputs": [
        {
          "output_type": "execute_result",
          "data": {
            "text/html": [
              "<div>\n",
              "<style scoped>\n",
              "    .dataframe tbody tr th:only-of-type {\n",
              "        vertical-align: middle;\n",
              "    }\n",
              "\n",
              "    .dataframe tbody tr th {\n",
              "        vertical-align: top;\n",
              "    }\n",
              "\n",
              "    .dataframe thead th {\n",
              "        text-align: right;\n",
              "    }\n",
              "</style>\n",
              "<table border=\"1\" class=\"dataframe\">\n",
              "  <thead>\n",
              "    <tr style=\"text-align: right;\">\n",
              "      <th></th>\n",
              "      <th>Intervalo</th>\n",
              "      <th>Frecuencia</th>\n",
              "    </tr>\n",
              "  </thead>\n",
              "  <tbody>\n",
              "    <tr>\n",
              "      <th>0</th>\n",
              "      <td>[15.98,16.73)</td>\n",
              "      <td>8</td>\n",
              "    </tr>\n",
              "    <tr>\n",
              "      <th>1</th>\n",
              "      <td>[16.73,17.48)</td>\n",
              "      <td>12</td>\n",
              "    </tr>\n",
              "    <tr>\n",
              "      <th>2</th>\n",
              "      <td>[17.48,18.23)</td>\n",
              "      <td>10</td>\n",
              "    </tr>\n",
              "    <tr>\n",
              "      <th>3</th>\n",
              "      <td>[18.23,18.97)</td>\n",
              "      <td>27</td>\n",
              "    </tr>\n",
              "    <tr>\n",
              "      <th>4</th>\n",
              "      <td>[18.97,19.72)</td>\n",
              "      <td>26</td>\n",
              "    </tr>\n",
              "    <tr>\n",
              "      <th>5</th>\n",
              "      <td>[19.72,20.47)</td>\n",
              "      <td>19</td>\n",
              "    </tr>\n",
              "    <tr>\n",
              "      <th>6</th>\n",
              "      <td>[20.47,21.22)</td>\n",
              "      <td>7</td>\n",
              "    </tr>\n",
              "    <tr>\n",
              "      <th>7</th>\n",
              "      <td>[21.22,21.97)</td>\n",
              "      <td>11</td>\n",
              "    </tr>\n",
              "  </tbody>\n",
              "</table>\n",
              "</div>"
            ],
            "text/plain": [
              "       Intervalo  Frecuencia\n",
              "0  [15.98,16.73)           8\n",
              "1  [16.73,17.48)          12\n",
              "2  [17.48,18.23)          10\n",
              "3  [18.23,18.97)          27\n",
              "4  [18.97,19.72)          26\n",
              "5  [19.72,20.47)          19\n",
              "6  [20.47,21.22)           7\n",
              "7  [21.22,21.97)          11"
            ]
          },
          "metadata": {
            "tags": []
          },
          "execution_count": 52
        }
      ]
    },
    {
      "cell_type": "code",
      "metadata": {
        "colab_type": "code",
        "id": "54KiJMIHgilA",
        "colab": {
          "base_uri": "https://localhost:8080/",
          "height": 265
        },
        "outputId": "6032dd7d-637b-4374-8db9-234acd093d70"
      },
      "source": [
        "freq2, edges= np.histogram(tipo2_caracteristica3,bins1)\n",
        "left,right = edges[:-1],edges[1:]\n",
        "X= np.array((left+right)/2)\n",
        "Y= np.array(freq2)\n",
        "plt.hist(tipo2_caracteristica3,bins1)\n",
        "plt.plot(X,Y)\n",
        "plt.show()"
      ],
      "execution_count": null,
      "outputs": [
        {
          "output_type": "display_data",
          "data": {
            "image/png": "[encoded data removed]",
            "text/plain": [
              "<Figure size 432x288 with 1 Axes>"
            ]
          },
          "metadata": {
            "tags": [],
            "needs_background": "light"
          }
        }
      ]
    },
    {
      "cell_type": "markdown",
      "metadata": {
        "colab_type": "text",
        "id": "jtNEsXQThL4P"
      },
      "source": [
        "# <h2>Característica 3- Tipo 3</h2>"
      ]
    },
    {
      "cell_type": "code",
      "metadata": {
        "colab_type": "code",
        "id": "jBjxASVEhL4S",
        "colab": {
          "base_uri": "https://localhost:8080/",
          "height": 204
        },
        "outputId": "6df88545-1cc5-4c64-a361-ee3cd2941ad1"
      },
      "source": [
        "da=datos[datos['tipo']==3]\n",
        "tipo3_caracte3=da.iloc[0:360][['caracteristica3']] \n",
        "tipo3_caracte3.tail()"
      ],
      "execution_count": null,
      "outputs": [
        {
          "output_type": "execute_result",
          "data": {
            "text/html": [
              "<div>\n",
              "<style scoped>\n",
              "    .dataframe tbody tr th:only-of-type {\n",
              "        vertical-align: middle;\n",
              "    }\n",
              "\n",
              "    .dataframe tbody tr th {\n",
              "        vertical-align: top;\n",
              "    }\n",
              "\n",
              "    .dataframe thead th {\n",
              "        text-align: right;\n",
              "    }\n",
              "</style>\n",
              "<table border=\"1\" class=\"dataframe\">\n",
              "  <thead>\n",
              "    <tr style=\"text-align: right;\">\n",
              "      <th></th>\n",
              "      <th>caracteristica3</th>\n",
              "    </tr>\n",
              "  </thead>\n",
              "  <tbody>\n",
              "    <tr>\n",
              "      <th>355</th>\n",
              "      <td>9.85</td>\n",
              "    </tr>\n",
              "    <tr>\n",
              "      <th>356</th>\n",
              "      <td>8.38</td>\n",
              "    </tr>\n",
              "    <tr>\n",
              "      <th>357</th>\n",
              "      <td>6.07</td>\n",
              "    </tr>\n",
              "    <tr>\n",
              "      <th>358</th>\n",
              "      <td>6.03</td>\n",
              "    </tr>\n",
              "    <tr>\n",
              "      <th>359</th>\n",
              "      <td>8.17</td>\n",
              "    </tr>\n",
              "  </tbody>\n",
              "</table>\n",
              "</div>"
            ],
            "text/plain": [
              "     caracteristica3\n",
              "355             9.85\n",
              "356             8.38\n",
              "357             6.07\n",
              "358             6.03\n",
              "359             8.17"
            ]
          },
          "metadata": {
            "tags": []
          },
          "execution_count": 54
        }
      ]
    },
    {
      "cell_type": "code",
      "metadata": {
        "colab_type": "code",
        "id": "7MbUR80DhL4a",
        "colab": {
          "base_uri": "https://localhost:8080/",
          "height": 34
        },
        "outputId": "c4b23883-6700-42b8-c51c-f335d6b7db04"
      },
      "source": [
        "tipo3_caracte3.shape"
      ],
      "execution_count": null,
      "outputs": [
        {
          "output_type": "execute_result",
          "data": {
            "text/plain": [
              "(120, 1)"
            ]
          },
          "metadata": {
            "tags": []
          },
          "execution_count": 55
        }
      ]
    },
    {
      "cell_type": "code",
      "metadata": {
        "colab_type": "code",
        "id": "WlOEPNIAhL4f",
        "colab": {
          "base_uri": "https://localhost:8080/",
          "height": 34
        },
        "outputId": "f2d634fa-fc77-495f-d6d5-7123a3f4eadd"
      },
      "source": [
        "tipo3_caracteristica3=np.ravel(tipo3_caracte3)\n",
        "tipo3_caracteristica3.shape"
      ],
      "execution_count": null,
      "outputs": [
        {
          "output_type": "execute_result",
          "data": {
            "text/plain": [
              "(120,)"
            ]
          },
          "metadata": {
            "tags": []
          },
          "execution_count": 56
        }
      ]
    },
    {
      "cell_type": "code",
      "metadata": {
        "colab_type": "code",
        "id": "VJxWpaxHhL4k",
        "colab": {
          "base_uri": "https://localhost:8080/",
          "height": 34
        },
        "outputId": "ad59360b-6ce9-4046-d042-d579f8924af1"
      },
      "source": [
        "rango=np.max(tipo3_caracteristica3)-np.min(tipo3_caracteristica3)\n",
        "nIntervalos= 8\n",
        "anchoIntervalo= (rango+0.001)/nIntervalos\n",
        "bins1= np.linspace(np.min(tipo3_caracteristica3)-0.0005, np.max(tipo3_caracteristica3)+0.0005, (nIntervalos+1))\n",
        "binplace= np.digitize(tipo3_caracteristica3, bins1)\n",
        "freq = [len(tipo3_caracteristica3[binplace == i]) for i in range (1, len(bins1))]\n",
        "print(freq)"
      ],
      "execution_count": null,
      "outputs": [
        {
          "output_type": "stream",
          "text": [
            "[1, 4, 11, 21, 25, 32, 20, 6]\n"
          ],
          "name": "stdout"
        }
      ]
    },
    {
      "cell_type": "code",
      "metadata": {
        "colab_type": "code",
        "id": "uKoZEk7ahL4t",
        "colab": {
          "base_uri": "https://localhost:8080/",
          "height": 297
        },
        "outputId": "c99bbd2d-655b-4e57-d3db-177ba582c4ec"
      },
      "source": [
        "intervals_name= []\n",
        "for i in range(len(bins1)-1):\n",
        "  lim_inf= bins1[i]\n",
        "  lim_sup= bins1[i+1]\n",
        "  label= '['+\"{0:.2f}\".format(lim_inf)+\",\"+\"{0:.2f}\".format(lim_sup)+\")\"\n",
        "  intervals_name.append(label)\n",
        "freq_table=pd.DataFrame({'Intervalo':intervals_name, 'Frecuencia':freq}) \n",
        "freq_table "
      ],
      "execution_count": null,
      "outputs": [
        {
          "output_type": "execute_result",
          "data": {
            "text/html": [
              "<div>\n",
              "<style scoped>\n",
              "    .dataframe tbody tr th:only-of-type {\n",
              "        vertical-align: middle;\n",
              "    }\n",
              "\n",
              "    .dataframe tbody tr th {\n",
              "        vertical-align: top;\n",
              "    }\n",
              "\n",
              "    .dataframe thead th {\n",
              "        text-align: right;\n",
              "    }\n",
              "</style>\n",
              "<table border=\"1\" class=\"dataframe\">\n",
              "  <thead>\n",
              "    <tr style=\"text-align: right;\">\n",
              "      <th></th>\n",
              "      <th>Intervalo</th>\n",
              "      <th>Frecuencia</th>\n",
              "    </tr>\n",
              "  </thead>\n",
              "  <tbody>\n",
              "    <tr>\n",
              "      <th>0</th>\n",
              "      <td>[4.96,5.81)</td>\n",
              "      <td>1</td>\n",
              "    </tr>\n",
              "    <tr>\n",
              "      <th>1</th>\n",
              "      <td>[5.81,6.67)</td>\n",
              "      <td>4</td>\n",
              "    </tr>\n",
              "    <tr>\n",
              "      <th>2</th>\n",
              "      <td>[6.67,7.52)</td>\n",
              "      <td>11</td>\n",
              "    </tr>\n",
              "    <tr>\n",
              "      <th>3</th>\n",
              "      <td>[7.52,8.38)</td>\n",
              "      <td>21</td>\n",
              "    </tr>\n",
              "    <tr>\n",
              "      <th>4</th>\n",
              "      <td>[8.38,9.23)</td>\n",
              "      <td>25</td>\n",
              "    </tr>\n",
              "    <tr>\n",
              "      <th>5</th>\n",
              "      <td>[9.23,10.08)</td>\n",
              "      <td>32</td>\n",
              "    </tr>\n",
              "    <tr>\n",
              "      <th>6</th>\n",
              "      <td>[10.08,10.94)</td>\n",
              "      <td>20</td>\n",
              "    </tr>\n",
              "    <tr>\n",
              "      <th>7</th>\n",
              "      <td>[10.94,11.79)</td>\n",
              "      <td>6</td>\n",
              "    </tr>\n",
              "  </tbody>\n",
              "</table>\n",
              "</div>"
            ],
            "text/plain": [
              "       Intervalo  Frecuencia\n",
              "0    [4.96,5.81)           1\n",
              "1    [5.81,6.67)           4\n",
              "2    [6.67,7.52)          11\n",
              "3    [7.52,8.38)          21\n",
              "4    [8.38,9.23)          25\n",
              "5   [9.23,10.08)          32\n",
              "6  [10.08,10.94)          20\n",
              "7  [10.94,11.79)           6"
            ]
          },
          "metadata": {
            "tags": []
          },
          "execution_count": 58
        }
      ]
    },
    {
      "cell_type": "code",
      "metadata": {
        "colab_type": "code",
        "id": "kXmb9ySNhL4y",
        "colab": {
          "base_uri": "https://localhost:8080/",
          "height": 265
        },
        "outputId": "e7f37d12-b49e-4b8f-abcc-55678e4a9052"
      },
      "source": [
        "freq2, edges= np.histogram(tipo3_caracteristica3,bins1)\n",
        "left,right = edges[:-1],edges[1:]\n",
        "X= np.array((left+right)/2)\n",
        "Y= np.array(freq2)\n",
        "plt.hist(tipo3_caracteristica3,bins1)\n",
        "plt.plot(X,Y)\n",
        "plt.show()"
      ],
      "execution_count": null,
      "outputs": [
        {
          "output_type": "display_data",
          "data": {
            "image/png": "[encoded data removed]",
            "text/plain": [
              "<Figure size 432x288 with 1 Axes>"
            ]
          },
          "metadata": {
            "tags": [],
            "needs_background": "light"
          }
        }
      ]
    },
    {
      "cell_type": "markdown",
      "metadata": {
        "id": "y9wMlJapnRb7",
        "colab_type": "text"
      },
      "source": [
        "# **Histogramas por características**\n",
        "\n",
        "\n",
        "> Realice un gráfico que muestre el comportamiento de cada característica usando histogramas para cada fruto.\n",
        "\n"
      ]
    },
    {
      "cell_type": "markdown",
      "metadata": {
        "id": "2mjddAcTnZHN",
        "colab_type": "text"
      },
      "source": [
        "#<h2>Característica 1</h2>"
      ]
    },
    {
      "cell_type": "markdown",
      "metadata": {
        "id": "YYJdCcTXKD8U",
        "colab_type": "text"
      },
      "source": [
        "A fin de un óptimo manejo de los datos, se verifica nuevamente que estos preserven el orden correcto del archivo fuente. \n"
      ]
    },
    {
      "cell_type": "code",
      "metadata": {
        "id": "lnfBoIPUnU8Q",
        "colab_type": "code",
        "colab": {
          "base_uri": "https://localhost:8080/",
          "height": 221
        },
        "outputId": "01b136c8-6346-4e39-c109-3f0f24c6b6b3"
      },
      "source": [
        "datos['caracteristica1']"
      ],
      "execution_count": null,
      "outputs": [
        {
          "output_type": "execute_result",
          "data": {
            "text/plain": [
              "0      14.40\n",
              "1      14.43\n",
              "2      14.58\n",
              "3      14.73\n",
              "4      14.46\n",
              "       ...  \n",
              "355    14.26\n",
              "356    14.39\n",
              "357    14.52\n",
              "358    14.37\n",
              "359    14.57\n",
              "Name: caracteristica1, Length: 360, dtype: float64"
            ]
          },
          "metadata": {
            "tags": []
          },
          "execution_count": 60
        }
      ]
    },
    {
      "cell_type": "markdown",
      "metadata": {
        "id": "9Ufr0AGxLAxM",
        "colab_type": "text"
      },
      "source": [
        "Para graficar los histogramas de este punto se implementa el mismo código que en el pasado, con la diferencia que en este caso no hay que delimitar los elementos de la tabla por su tipo de fruta. Simplemente para obtener los datos necesarios, se accede a la columna de características requerida para cada caso."
      ]
    },
    {
      "cell_type": "code",
      "metadata": {
        "id": "5m0qDTZboZFW",
        "colab_type": "code",
        "colab": {
          "base_uri": "https://localhost:8080/",
          "height": 34
        },
        "outputId": "cb8360a2-e45a-4100-85eb-42f3175bbc25"
      },
      "source": [
        "rango=np.max(datos['caracteristica1'])-np.min(datos['caracteristica1'])\n",
        "nIntervalos= 8\n",
        "anchoIntervalo= (rango+0.001)/nIntervalos\n",
        "bins1= np.linspace(np.min(datos['caracteristica1'])-0.0005, np.max(datos['caracteristica1'])+0.0005, (nIntervalos+1))\n",
        "binplace= np.digitize(datos['caracteristica1'], bins1)\n",
        "freq = [len(datos['caracteristica1'][binplace == i]) for i in range (1, len(bins1))]\n",
        "print(freq)"
      ],
      "execution_count": null,
      "outputs": [
        {
          "output_type": "stream",
          "text": [
            "[4, 21, 50, 96, 119, 51, 17, 2]\n"
          ],
          "name": "stdout"
        }
      ]
    },
    {
      "cell_type": "code",
      "metadata": {
        "id": "d24-fi3-pD1E",
        "colab_type": "code",
        "colab": {
          "base_uri": "https://localhost:8080/",
          "height": 316
        },
        "outputId": "98108495-7524-4ef4-c0e3-c7ee849d8768"
      },
      "source": [
        "freq2, edges= np.histogram(datos['caracteristica1'],bins1)\n",
        "left,right = edges[:-1],edges[1:]\n",
        "X= np.array((left+right)/2)\n",
        "Y= np.array(freq2)\n",
        "print(X)\n",
        "print(Y)\n",
        "plt.hist(datos['caracteristica1'],bins1)\n",
        "plt.plot(X,Y)\n",
        "plt.show()"
      ],
      "execution_count": null,
      "outputs": [
        {
          "output_type": "stream",
          "text": [
            "[14.0976875 14.2140625 14.3304375 14.4468125 14.5631875 14.6795625\n",
            " 14.7959375 14.9123125]\n",
            "[  4  21  50  96 119  51  17   2]\n"
          ],
          "name": "stdout"
        },
        {
          "output_type": "display_data",
          "data": {
            "image/png": "[encoded data removed]",
            "text/plain": [
              "<Figure size 432x288 with 1 Axes>"
            ]
          },
          "metadata": {
            "tags": [],
            "needs_background": "light"
          }
        }
      ]
    },
    {
      "cell_type": "markdown",
      "metadata": {
        "colab_type": "text",
        "id": "jtUTIDuzpne6"
      },
      "source": [
        "#<h2>Característica 2</h2>"
      ]
    },
    {
      "cell_type": "code",
      "metadata": {
        "colab_type": "code",
        "id": "ZOSWeOPvpne8",
        "colab": {
          "base_uri": "https://localhost:8080/",
          "height": 221
        },
        "outputId": "cccf6f6b-cda4-4bfc-fdec-122a66991a24"
      },
      "source": [
        "datos['caracteristica2']"
      ],
      "execution_count": null,
      "outputs": [
        {
          "output_type": "execute_result",
          "data": {
            "text/plain": [
              "0      21.82\n",
              "1      21.71\n",
              "2      22.04\n",
              "3      22.26\n",
              "4      22.02\n",
              "       ...  \n",
              "355     9.10\n",
              "356     7.14\n",
              "357     9.34\n",
              "358     8.94\n",
              "359     8.75\n",
              "Name: caracteristica2, Length: 360, dtype: float64"
            ]
          },
          "metadata": {
            "tags": []
          },
          "execution_count": 63
        }
      ]
    },
    {
      "cell_type": "code",
      "metadata": {
        "colab_type": "code",
        "id": "ZFIb8B66pnfC",
        "colab": {
          "base_uri": "https://localhost:8080/",
          "height": 34
        },
        "outputId": "0c45d005-7974-4c95-8d10-d82f5175bb3b"
      },
      "source": [
        "rango=np.max(datos['caracteristica2'])-np.min(datos['caracteristica2'])\n",
        "nIntervalos= 8\n",
        "anchoIntervalo= (rango+0.001)/nIntervalos\n",
        "bins1= np.linspace(np.min(datos['caracteristica2'])-0.0005, np.max(datos['caracteristica2'])+0.0005, (nIntervalos+1))\n",
        "binplace= np.digitize(datos['caracteristica2'], bins1)\n",
        "freq = [len(datos['caracteristica2'][binplace == i]) for i in range (1, len(bins1))]\n",
        "print(freq)"
      ],
      "execution_count": null,
      "outputs": [
        {
          "output_type": "stream",
          "text": [
            "[48, 70, 2, 0, 13, 66, 40, 121]\n"
          ],
          "name": "stdout"
        }
      ]
    },
    {
      "cell_type": "code",
      "metadata": {
        "colab_type": "code",
        "id": "kYC6ChPSpnfJ",
        "colab": {
          "base_uri": "https://localhost:8080/",
          "height": 316
        },
        "outputId": "f1ffbf8c-ee2f-4959-cb87-bd383e07ce32"
      },
      "source": [
        "freq2, edges= np.histogram(datos['caracteristica2'],bins1)\n",
        "left,right = edges[:-1],edges[1:]\n",
        "X= np.array((left+right)/2)\n",
        "Y= np.array(freq2)\n",
        "print(X)\n",
        "print(Y)\n",
        "plt.hist(datos['caracteristica2'],bins1)\n",
        "plt.plot(X,Y)\n",
        "plt.show()"
      ],
      "execution_count": null,
      "outputs": [
        {
          "output_type": "stream",
          "text": [
            "[ 7.5639375  9.5928125 11.6216875 13.6505625 15.6794375 17.7083125\n",
            " 19.7371875 21.7660625]\n",
            "[ 48  70   2   0  13  66  40 121]\n"
          ],
          "name": "stdout"
        },
        {
          "output_type": "display_data",
          "data": {
            "image/png": "[encoded data removed]",
            "text/plain": [
              "<Figure size 432x288 with 1 Axes>"
            ]
          },
          "metadata": {
            "tags": [],
            "needs_background": "light"
          }
        }
      ]
    },
    {
      "cell_type": "markdown",
      "metadata": {
        "colab_type": "text",
        "id": "9PyXTBV2p9T2"
      },
      "source": [
        "#<h2>Característica 3</h2>"
      ]
    },
    {
      "cell_type": "code",
      "metadata": {
        "colab_type": "code",
        "id": "autRLJsfp9T3",
        "colab": {
          "base_uri": "https://localhost:8080/",
          "height": 221
        },
        "outputId": "e24d9b70-2fcf-429a-9ccb-76165d2693dc"
      },
      "source": [
        "datos['caracteristica3']"
      ],
      "execution_count": null,
      "outputs": [
        {
          "output_type": "execute_result",
          "data": {
            "text/plain": [
              "0      18.15\n",
              "1      18.67\n",
              "2      17.85\n",
              "3      17.21\n",
              "4      16.81\n",
              "       ...  \n",
              "355     9.85\n",
              "356     8.38\n",
              "357     6.07\n",
              "358     6.03\n",
              "359     8.17\n",
              "Name: caracteristica3, Length: 360, dtype: float64"
            ]
          },
          "metadata": {
            "tags": []
          },
          "execution_count": 66
        }
      ]
    },
    {
      "cell_type": "code",
      "metadata": {
        "colab_type": "code",
        "id": "u2tF1W-7p9T8",
        "colab": {
          "base_uri": "https://localhost:8080/",
          "height": 34
        },
        "outputId": "d6454067-de01-42c3-bd5e-20e6c2e64fbe"
      },
      "source": [
        "rango=np.max(datos['caracteristica3'])-np.min(datos['caracteristica3'])\n",
        "nIntervalos= 8\n",
        "anchoIntervalo= (rango+0.001)/nIntervalos\n",
        "bins1= np.linspace(np.min(datos['caracteristica3'])-0.0005, np.max(datos['caracteristica3'])+0.0005, (nIntervalos+1))\n",
        "binplace= np.digitize(datos['caracteristica3'], bins1)\n",
        "freq = [len(datos['caracteristica3'][binplace == i]) for i in range (1, len(bins1))]\n",
        "print(freq)"
      ],
      "execution_count": null,
      "outputs": [
        {
          "output_type": "stream",
          "text": [
            "[8, 54, 57, 1, 6, 96, 103, 35]\n"
          ],
          "name": "stdout"
        }
      ]
    },
    {
      "cell_type": "code",
      "metadata": {
        "colab_type": "code",
        "id": "kp8oa21Kp9T_",
        "colab": {
          "base_uri": "https://localhost:8080/",
          "height": 316
        },
        "outputId": "40e0f9d5-f75a-4186-dfd2-e3969e318807"
      },
      "source": [
        "freq2, edges= np.histogram(datos['caracteristica3'],bins1)\n",
        "left,right = edges[:-1],edges[1:]\n",
        "X= np.array((left+right)/2)\n",
        "Y= np.array(freq2)\n",
        "print(X)\n",
        "print(Y)\n",
        "plt.hist(datos['caracteristica3'],bins1)\n",
        "plt.plot(X,Y)\n",
        "plt.show()"
      ],
      "execution_count": null,
      "outputs": [
        {
          "output_type": "stream",
          "text": [
            "[ 6.0226875  8.1490625 10.2754375 12.4018125 14.5281875 16.6545625\n",
            " 18.7809375 20.9073125]\n",
            "[  8  54  57   1   6  96 103  35]\n"
          ],
          "name": "stdout"
        },
        {
          "output_type": "display_data",
          "data": {
            "image/png": "[encoded data removed]",
            "text/plain": [
              "<Figure size 432x288 with 1 Axes>"
            ]
          },
          "metadata": {
            "tags": [],
            "needs_background": "light"
          }
        }
      ]
    },
    {
      "cell_type": "markdown",
      "metadata": {
        "id": "xkprlrn7rwAf",
        "colab_type": "text"
      },
      "source": [
        "# **Diagramas de cajas**\n",
        "\n",
        "\n",
        ">  Realice un gráfico que muestre el comportamiento de cada característica usando diagramas de cajas para cada fruto.\n",
        "\n"
      ]
    },
    {
      "cell_type": "markdown",
      "metadata": {
        "id": "E4QYzL7FNT48",
        "colab_type": "text"
      },
      "source": [
        "La función *boxplot* de la librería matplotlib, permite desarrollar diagramas de cajas de forma sencilla. Para este caso, únicamente solicita como valores de entrada la relación entre una misma característica, por los tres tipos de fruta."
      ]
    },
    {
      "cell_type": "code",
      "metadata": {
        "colab_type": "code",
        "id": "JmpiHokRp9UG",
        "colab": {
          "base_uri": "https://localhost:8080/",
          "height": 318
        },
        "outputId": "f8bdc001-3e88-423e-fb9b-319b5b2dc8a3"
      },
      "source": [
        "datos.boxplot(column='caracteristica1', by='tipo')"
      ],
      "execution_count": null,
      "outputs": [
        {
          "output_type": "execute_result",
          "data": {
            "text/plain": [
              "<matplotlib.axes._subplots.AxesSubplot at 0x7f8860374940>"
            ]
          },
          "metadata": {
            "tags": []
          },
          "execution_count": 69
        },
        {
          "output_type": "display_data",
          "data": {
            "image/png": "[encoded data removed]",
            "text/plain": [
              "<Figure size 432x288 with 1 Axes>"
            ]
          },
          "metadata": {
            "tags": [],
            "needs_background": "light"
          }
        }
      ]
    },
    {
      "cell_type": "code",
      "metadata": {
        "id": "m_q8vYPSsSt2",
        "colab_type": "code",
        "colab": {
          "base_uri": "https://localhost:8080/",
          "height": 318
        },
        "outputId": "522f6a3e-de68-4923-d56f-1e62b28ea666"
      },
      "source": [
        "datos.boxplot(column='caracteristica2', by='tipo')"
      ],
      "execution_count": null,
      "outputs": [
        {
          "output_type": "execute_result",
          "data": {
            "text/plain": [
              "<matplotlib.axes._subplots.AxesSubplot at 0x7f88604a8a58>"
            ]
          },
          "metadata": {
            "tags": []
          },
          "execution_count": 70
        },
        {
          "output_type": "display_data",
          "data": {
            "image/png": "[encoded data removed]",
            "text/plain": [
              "<Figure size 432x288 with 1 Axes>"
            ]
          },
          "metadata": {
            "tags": [],
            "needs_background": "light"
          }
        }
      ]
    },
    {
      "cell_type": "code",
      "metadata": {
        "id": "v-P0ek4PslJJ",
        "colab_type": "code",
        "colab": {
          "base_uri": "https://localhost:8080/",
          "height": 318
        },
        "outputId": "ac88759a-a79b-4ed7-b49a-562452032098"
      },
      "source": [
        "datos.boxplot(column='caracteristica3', by='tipo')"
      ],
      "execution_count": null,
      "outputs": [
        {
          "output_type": "execute_result",
          "data": {
            "text/plain": [
              "<matplotlib.axes._subplots.AxesSubplot at 0x7f8860695160>"
            ]
          },
          "metadata": {
            "tags": []
          },
          "execution_count": 71
        },
        {
          "output_type": "display_data",
          "data": {
            "image/png": "[encoded data removed]",
            "text/plain": [
              "<Figure size 432x288 with 1 Axes>"
            ]
          },
          "metadata": {
            "tags": [],
            "needs_background": "light"
          }
        }
      ]
    },
    {
      "cell_type": "markdown",
      "metadata": {
        "id": "Wzu0bNvxc99M",
        "colab_type": "text"
      },
      "source": [
        "En los diagramas de cajas, aplica:\n",
        "\n",
        "1. La línea verde es la mediana.\n",
        "2. la línea superior de la caja es el tercer cuartil.\n",
        "3. La línea inferior de la caja es el primer cuartil.\n",
        "4. La línea superior indica la distancia de 1.5 rangos intercuartílicos del tercer cuartil (máximo valor).\n",
        "5. La línea inferior indica la distancia de 1.5 rangos intercuartílicos del primer cuartil (mínimo valor).\n",
        "6. Los círculos en la parte inferior o superior, son datos atípicos (muy pequeños o muy grandes).\n",
        "7. Cuando la parte inferior de la caja comparada con la superior (tomando como referencia la mediana) es mas grande, indica que el sesgo es negativo, de lo contrario el sesgo es positivo. "
      ]
    },
    {
      "cell_type": "markdown",
      "metadata": {
        "id": "9C-AR7s2UWKd",
        "colab_type": "text"
      },
      "source": [
        "# **La fruta más probable**\n",
        "\n",
        "\n",
        "> Describa el procedimiento que alguien debería seguir a partir del conocimiento del valor de las características de una fruta para determinar el tipo de fruta más probable. Argumente su respuesta utilizando las medidas de tendencia central y dispersión que considere apropiadas para las diferentes características, apoyándose también en los gráficos previamente desarrollados.\n",
        "\n"
      ]
    },
    {
      "cell_type": "markdown",
      "metadata": {
        "id": "dB9D6IxmX-T4",
        "colab_type": "text"
      },
      "source": [
        "Se implementa por cada tipo de fruta la función *.describe()*, la cual brinda los resultados de algunas de las medidas de tendencia central y dispersión más usadas."
      ]
    },
    {
      "cell_type": "code",
      "metadata": {
        "id": "xETvUYRGXTL5",
        "colab_type": "code",
        "colab": {
          "base_uri": "https://localhost:8080/",
          "height": 297
        },
        "outputId": "dd8eb9eb-3e83-4f9d-c2db-436a5cc15527"
      },
      "source": [
        "datos[datos['tipo']==1].describe()"
      ],
      "execution_count": null,
      "outputs": [
        {
          "output_type": "execute_result",
          "data": {
            "text/html": [
              "<div>\n",
              "<style scoped>\n",
              "    .dataframe tbody tr th:only-of-type {\n",
              "        vertical-align: middle;\n",
              "    }\n",
              "\n",
              "    .dataframe tbody tr th {\n",
              "        vertical-align: top;\n",
              "    }\n",
              "\n",
              "    .dataframe thead th {\n",
              "        text-align: right;\n",
              "    }\n",
              "</style>\n",
              "<table border=\"1\" class=\"dataframe\">\n",
              "  <thead>\n",
              "    <tr style=\"text-align: right;\">\n",
              "      <th></th>\n",
              "      <th>tipo</th>\n",
              "      <th>caracteristica1</th>\n",
              "      <th>caracteristica2</th>\n",
              "      <th>caracteristica3</th>\n",
              "    </tr>\n",
              "  </thead>\n",
              "  <tbody>\n",
              "    <tr>\n",
              "      <th>count</th>\n",
              "      <td>120.0</td>\n",
              "      <td>120.000000</td>\n",
              "      <td>120.000000</td>\n",
              "      <td>120.000000</td>\n",
              "    </tr>\n",
              "    <tr>\n",
              "      <th>mean</th>\n",
              "      <td>1.0</td>\n",
              "      <td>14.494667</td>\n",
              "      <td>21.943083</td>\n",
              "      <td>17.316250</td>\n",
              "    </tr>\n",
              "    <tr>\n",
              "      <th>std</th>\n",
              "      <td>0.0</td>\n",
              "      <td>0.139591</td>\n",
              "      <td>0.253181</td>\n",
              "      <td>1.047858</td>\n",
              "    </tr>\n",
              "    <tr>\n",
              "      <th>min</th>\n",
              "      <td>1.0</td>\n",
              "      <td>14.130000</td>\n",
              "      <td>21.320000</td>\n",
              "      <td>15.070000</td>\n",
              "    </tr>\n",
              "    <tr>\n",
              "      <th>25%</th>\n",
              "      <td>1.0</td>\n",
              "      <td>14.397500</td>\n",
              "      <td>21.787500</td>\n",
              "      <td>16.537500</td>\n",
              "    </tr>\n",
              "    <tr>\n",
              "      <th>50%</th>\n",
              "      <td>1.0</td>\n",
              "      <td>14.490000</td>\n",
              "      <td>21.950000</td>\n",
              "      <td>17.330000</td>\n",
              "    </tr>\n",
              "    <tr>\n",
              "      <th>75%</th>\n",
              "      <td>1.0</td>\n",
              "      <td>14.592500</td>\n",
              "      <td>22.122500</td>\n",
              "      <td>18.142500</td>\n",
              "    </tr>\n",
              "    <tr>\n",
              "      <th>max</th>\n",
              "      <td>1.0</td>\n",
              "      <td>14.800000</td>\n",
              "      <td>22.780000</td>\n",
              "      <td>19.700000</td>\n",
              "    </tr>\n",
              "  </tbody>\n",
              "</table>\n",
              "</div>"
            ],
            "text/plain": [
              "        tipo  caracteristica1  caracteristica2  caracteristica3\n",
              "count  120.0       120.000000       120.000000       120.000000\n",
              "mean     1.0        14.494667        21.943083        17.316250\n",
              "std      0.0         0.139591         0.253181         1.047858\n",
              "min      1.0        14.130000        21.320000        15.070000\n",
              "25%      1.0        14.397500        21.787500        16.537500\n",
              "50%      1.0        14.490000        21.950000        17.330000\n",
              "75%      1.0        14.592500        22.122500        18.142500\n",
              "max      1.0        14.800000        22.780000        19.700000"
            ]
          },
          "metadata": {
            "tags": []
          },
          "execution_count": 72
        }
      ]
    },
    {
      "cell_type": "code",
      "metadata": {
        "id": "lQLfN-ZcXiUc",
        "colab_type": "code",
        "colab": {
          "base_uri": "https://localhost:8080/",
          "height": 297
        },
        "outputId": "57990670-6218-4f94-8428-d244c9880c9d"
      },
      "source": [
        "datos[datos['tipo']==2].describe()"
      ],
      "execution_count": null,
      "outputs": [
        {
          "output_type": "execute_result",
          "data": {
            "text/html": [
              "<div>\n",
              "<style scoped>\n",
              "    .dataframe tbody tr th:only-of-type {\n",
              "        vertical-align: middle;\n",
              "    }\n",
              "\n",
              "    .dataframe tbody tr th {\n",
              "        vertical-align: top;\n",
              "    }\n",
              "\n",
              "    .dataframe thead th {\n",
              "        text-align: right;\n",
              "    }\n",
              "</style>\n",
              "<table border=\"1\" class=\"dataframe\">\n",
              "  <thead>\n",
              "    <tr style=\"text-align: right;\">\n",
              "      <th></th>\n",
              "      <th>tipo</th>\n",
              "      <th>caracteristica1</th>\n",
              "      <th>caracteristica2</th>\n",
              "      <th>caracteristica3</th>\n",
              "    </tr>\n",
              "  </thead>\n",
              "  <tbody>\n",
              "    <tr>\n",
              "      <th>count</th>\n",
              "      <td>120.0</td>\n",
              "      <td>120.000000</td>\n",
              "      <td>120.000000</td>\n",
              "      <td>120.000000</td>\n",
              "    </tr>\n",
              "    <tr>\n",
              "      <th>mean</th>\n",
              "      <td>2.0</td>\n",
              "      <td>14.487583</td>\n",
              "      <td>18.280167</td>\n",
              "      <td>19.041583</td>\n",
              "    </tr>\n",
              "    <tr>\n",
              "      <th>std</th>\n",
              "      <td>0.0</td>\n",
              "      <td>0.158793</td>\n",
              "      <td>1.230549</td>\n",
              "      <td>1.425604</td>\n",
              "    </tr>\n",
              "    <tr>\n",
              "      <th>min</th>\n",
              "      <td>2.0</td>\n",
              "      <td>14.040000</td>\n",
              "      <td>15.520000</td>\n",
              "      <td>15.980000</td>\n",
              "    </tr>\n",
              "    <tr>\n",
              "      <th>25%</th>\n",
              "      <td>2.0</td>\n",
              "      <td>14.380000</td>\n",
              "      <td>17.547500</td>\n",
              "      <td>18.255000</td>\n",
              "    </tr>\n",
              "    <tr>\n",
              "      <th>50%</th>\n",
              "      <td>2.0</td>\n",
              "      <td>14.510000</td>\n",
              "      <td>18.300000</td>\n",
              "      <td>19.055000</td>\n",
              "    </tr>\n",
              "    <tr>\n",
              "      <th>75%</th>\n",
              "      <td>2.0</td>\n",
              "      <td>14.580000</td>\n",
              "      <td>19.210000</td>\n",
              "      <td>19.940000</td>\n",
              "    </tr>\n",
              "    <tr>\n",
              "      <th>max</th>\n",
              "      <td>2.0</td>\n",
              "      <td>14.850000</td>\n",
              "      <td>20.860000</td>\n",
              "      <td>21.970000</td>\n",
              "    </tr>\n",
              "  </tbody>\n",
              "</table>\n",
              "</div>"
            ],
            "text/plain": [
              "        tipo  caracteristica1  caracteristica2  caracteristica3\n",
              "count  120.0       120.000000       120.000000       120.000000\n",
              "mean     2.0        14.487583        18.280167        19.041583\n",
              "std      0.0         0.158793         1.230549         1.425604\n",
              "min      2.0        14.040000        15.520000        15.980000\n",
              "25%      2.0        14.380000        17.547500        18.255000\n",
              "50%      2.0        14.510000        18.300000        19.055000\n",
              "75%      2.0        14.580000        19.210000        19.940000\n",
              "max      2.0        14.850000        20.860000        21.970000"
            ]
          },
          "metadata": {
            "tags": []
          },
          "execution_count": 73
        }
      ]
    },
    {
      "cell_type": "code",
      "metadata": {
        "id": "4GyjSu54XoTP",
        "colab_type": "code",
        "colab": {
          "base_uri": "https://localhost:8080/",
          "height": 297
        },
        "outputId": "3fe6b265-61a0-4343-a669-7660c73baccf"
      },
      "source": [
        "datos[datos['tipo']==3].describe()"
      ],
      "execution_count": null,
      "outputs": [
        {
          "output_type": "execute_result",
          "data": {
            "text/html": [
              "<div>\n",
              "<style scoped>\n",
              "    .dataframe tbody tr th:only-of-type {\n",
              "        vertical-align: middle;\n",
              "    }\n",
              "\n",
              "    .dataframe tbody tr th {\n",
              "        vertical-align: top;\n",
              "    }\n",
              "\n",
              "    .dataframe thead th {\n",
              "        text-align: right;\n",
              "    }\n",
              "</style>\n",
              "<table border=\"1\" class=\"dataframe\">\n",
              "  <thead>\n",
              "    <tr style=\"text-align: right;\">\n",
              "      <th></th>\n",
              "      <th>tipo</th>\n",
              "      <th>caracteristica1</th>\n",
              "      <th>caracteristica2</th>\n",
              "      <th>caracteristica3</th>\n",
              "    </tr>\n",
              "  </thead>\n",
              "  <tbody>\n",
              "    <tr>\n",
              "      <th>count</th>\n",
              "      <td>120.0</td>\n",
              "      <td>120.00000</td>\n",
              "      <td>120.000000</td>\n",
              "      <td>120.000000</td>\n",
              "    </tr>\n",
              "    <tr>\n",
              "      <th>mean</th>\n",
              "      <td>3.0</td>\n",
              "      <td>14.52625</td>\n",
              "      <td>8.775083</td>\n",
              "      <td>9.025167</td>\n",
              "    </tr>\n",
              "    <tr>\n",
              "      <th>std</th>\n",
              "      <td>0.0</td>\n",
              "      <td>0.14611</td>\n",
              "      <td>0.980513</td>\n",
              "      <td>1.273935</td>\n",
              "    </tr>\n",
              "    <tr>\n",
              "      <th>min</th>\n",
              "      <td>3.0</td>\n",
              "      <td>14.19000</td>\n",
              "      <td>6.550000</td>\n",
              "      <td>4.960000</td>\n",
              "    </tr>\n",
              "    <tr>\n",
              "      <th>25%</th>\n",
              "      <td>3.0</td>\n",
              "      <td>14.43000</td>\n",
              "      <td>8.050000</td>\n",
              "      <td>8.197500</td>\n",
              "    </tr>\n",
              "    <tr>\n",
              "      <th>50%</th>\n",
              "      <td>3.0</td>\n",
              "      <td>14.53000</td>\n",
              "      <td>8.830000</td>\n",
              "      <td>9.055000</td>\n",
              "    </tr>\n",
              "    <tr>\n",
              "      <th>75%</th>\n",
              "      <td>3.0</td>\n",
              "      <td>14.62000</td>\n",
              "      <td>9.415000</td>\n",
              "      <td>9.995000</td>\n",
              "    </tr>\n",
              "    <tr>\n",
              "      <th>max</th>\n",
              "      <td>3.0</td>\n",
              "      <td>14.97000</td>\n",
              "      <td>10.680000</td>\n",
              "      <td>11.790000</td>\n",
              "    </tr>\n",
              "  </tbody>\n",
              "</table>\n",
              "</div>"
            ],
            "text/plain": [
              "        tipo  caracteristica1  caracteristica2  caracteristica3\n",
              "count  120.0        120.00000       120.000000       120.000000\n",
              "mean     3.0         14.52625         8.775083         9.025167\n",
              "std      0.0          0.14611         0.980513         1.273935\n",
              "min      3.0         14.19000         6.550000         4.960000\n",
              "25%      3.0         14.43000         8.050000         8.197500\n",
              "50%      3.0         14.53000         8.830000         9.055000\n",
              "75%      3.0         14.62000         9.415000         9.995000\n",
              "max      3.0         14.97000        10.680000        11.790000"
            ]
          },
          "metadata": {
            "tags": []
          },
          "execution_count": 74
        }
      ]
    },
    {
      "cell_type": "markdown",
      "metadata": {
        "id": "ZI3ruI3QfUsu",
        "colab_type": "text"
      },
      "source": [
        "Por medio de estos valores se llega a los promedios de la desviación estándar y media de cada tipo de fruta, y con ayuda de los histogramas es fácil identificar el comportamiento de una distribución normal. De esta manera se logra determinar el tipo de fruta más probable."
      ]
    }
  ]
}
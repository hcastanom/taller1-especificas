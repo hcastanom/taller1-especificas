{
  "nbformat": 4,
  "nbformat_minor": 0,
  "metadata": {
    "colab": {
      "name": "Punto2Taller1",
      "provenance": [],
      "collapsed_sections": [
        "GOhUHTMxJ5yM",
        "VZ6QDNUETRWe",
        "8edWM-8x0-pp",
        "hP9wTbi40nfU",
        "rLcQBzmo01IR",
        "lQ1yuSv35DIS",
        "XED8sqniACuG"
      ]
    },
    "kernelspec": {
      "name": "python3",
      "display_name": "Python 3"
    }
  },
  "cells": [
    {
      "cell_type": "markdown",
      "metadata": {
        "id": "qe5y1OBkGzMq",
        "colab_type": "text"
      },
      "source": [
        "<strong><h1>UNIVERSIDAD NACIONAL DE COLOMBIA\n",
        "\n",
        "<h2>FACULTAD DE INGENIERÍA<h2>\n",
        "\n",
        "<h2>DEPARTAMENTO DE INGENIERÍA DE SISTEMAS E INDUSTRIAL<h2>\n",
        "\n",
        "<h2>Taller de Herraminetas y Problemas en Ingeniería Industrial</h2>\n",
        "\n",
        "<strong><h2>Taller 1. Introducción al Análisis Exploratorio de Datos</h2></strong>\n",
        "\n",
        "<h3>Hernán Castaño Martínez</h3>\n",
        "\n",
        "<h3>Santiago Irreño Mejía</h3>"
      ]
    },
    {
      "cell_type": "code",
      "metadata": {
        "id": "UhCmwWIeoFF1",
        "colab_type": "code",
        "colab": {}
      },
      "source": [
        "import pandas as pd\n",
        "import numpy as np\n",
        "import matplotlib.pyplot as plt"
      ],
      "execution_count": 4,
      "outputs": []
    },
    {
      "cell_type": "code",
      "metadata": {
        "id": "AbKh2NphoOha",
        "colab_type": "code",
        "colab": {
          "base_uri": "https://localhost:8080/",
          "height": 34
        },
        "outputId": "cf0e6360-1622-4f4a-fff4-91e0c675ca9f"
      },
      "source": [
        "from google.colab import drive\n",
        "drive.mount('drive')"
      ],
      "execution_count": 6,
      "outputs": [
        {
          "output_type": "stream",
          "text": [
            "Drive already mounted at drive; to attempt to forcibly remount, call drive.mount(\"drive\", force_remount=True).\n"
          ],
          "name": "stdout"
        }
      ]
    },
    {
      "cell_type": "markdown",
      "metadata": {
        "id": "ZJK2vkK81jgS",
        "colab_type": "text"
      },
      "source": [
        "### El contenido de este notebook de python corresponde al desarrollo del segundo punto del Taller I"
      ]
    },
    {
      "cell_type": "markdown",
      "metadata": {
        "id": "LQHuHaM9XS_J",
        "colab_type": "text"
      },
      "source": [
        "### Descargue del sitio web los archivos correspondientes a los resultados de las pruebas 2019-2 para las competencias genéricas y específicas en formato csv para Excel. Lea los archivos y conviértalos en Data Frames de Pandas."
      ]
    },
    {
      "cell_type": "code",
      "metadata": {
        "id": "A6TGAGFVqXcw",
        "colab_type": "code",
        "colab": {
          "base_uri": "https://localhost:8080/",
          "height": 34
        },
        "outputId": "aa11ece4-c1d1-44dc-9a8b-280045361015"
      },
      "source": [
        "!ls"
      ],
      "execution_count": 7,
      "outputs": [
        {
          "output_type": "stream",
          "text": [
            "drive  sample_data\n"
          ],
          "name": "stdout"
        }
      ]
    },
    {
      "cell_type": "code",
      "metadata": {
        "id": "6BjcDX-7qgR0",
        "colab_type": "code",
        "colab": {}
      },
      "source": [
        "import os\n",
        "os.chdir(\"/content/drive/My Drive/google.colab\")"
      ],
      "execution_count": 10,
      "outputs": []
    },
    {
      "cell_type": "code",
      "metadata": {
        "id": "liozoCueqip1",
        "colab_type": "code",
        "colab": {
          "base_uri": "https://localhost:8080/",
          "height": 102
        },
        "outputId": "ce0d285b-530b-4245-903b-4aadbf2da28f"
      },
      "source": [
        "!ls"
      ],
      "execution_count": 11,
      "outputs": [
        {
          "output_type": "stream",
          "text": [
            "'ANÁLISIS EXPLORATORIO DE DATOS.ipynb'\t'SABER_PRO_ESPECIFICAS_2019-2 (2).xlsx'\n",
            "'ANÁLISIS FLOR IRIS.ipynb'\t\t SABER_PRO_GENERICAS_2019-2.xlsx\n",
            "'ANÁLISIS SIVICAP-POBLACION.ipynb'\t SIVICAP_2016V2.gsheet\n",
            " Poblacion2018V2.gsheet\t\t\t SIVICAP_2016V2.xlsx\n",
            " Poblacion2018V2.xlsx\n"
          ],
          "name": "stdout"
        }
      ]
    },
    {
      "cell_type": "markdown",
      "metadata": {
        "id": "T2k9V2U-HU2N",
        "colab_type": "text"
      },
      "source": [
        "Se leen los archivos del Drive y se les asigna un nombre."
      ]
    },
    {
      "cell_type": "code",
      "metadata": {
        "id": "9xeR-oZNqk5p",
        "colab_type": "code",
        "colab": {
          "base_uri": "https://localhost:8080/",
          "height": 34
        },
        "outputId": "31a5566d-2319-4dde-b632-01585ba8e906"
      },
      "source": [
        "datos_esp=pd.read_excel(\"SABER_PRO_ESPECIFICAS_2019-2 (2).xlsx\",index=True)\n",
        "datos_esp.shape"
      ],
      "execution_count": 12,
      "outputs": [
        {
          "output_type": "execute_result",
          "data": {
            "text/plain": [
              "(401815, 5)"
            ]
          },
          "metadata": {
            "tags": []
          },
          "execution_count": 12
        }
      ]
    },
    {
      "cell_type": "code",
      "metadata": {
        "id": "NaNMZdcOrmCd",
        "colab_type": "code",
        "colab": {
          "base_uri": "https://localhost:8080/",
          "height": 359
        },
        "outputId": "6adc2a67-b70f-41ff-aa1b-c1fe1198b5d0"
      },
      "source": [
        "datos_esp.head(10)"
      ],
      "execution_count": 13,
      "outputs": [
        {
          "output_type": "execute_result",
          "data": {
            "text/html": [
              "<div>\n",
              "<style scoped>\n",
              "    .dataframe tbody tr th:only-of-type {\n",
              "        vertical-align: middle;\n",
              "    }\n",
              "\n",
              "    .dataframe tbody tr th {\n",
              "        vertical-align: top;\n",
              "    }\n",
              "\n",
              "    .dataframe thead th {\n",
              "        text-align: right;\n",
              "    }\n",
              "</style>\n",
              "<table border=\"1\" class=\"dataframe\">\n",
              "  <thead>\n",
              "    <tr style=\"text-align: right;\">\n",
              "      <th></th>\n",
              "      <th>ESTU_CONSECUTIVO</th>\n",
              "      <th>RESULT_CODIGOPRUEBA</th>\n",
              "      <th>RESULT_NOMBREPRUEBA</th>\n",
              "      <th>RESULT_PUNTAJE</th>\n",
              "      <th>RESULT_DESEMPENO</th>\n",
              "    </tr>\n",
              "  </thead>\n",
              "  <tbody>\n",
              "    <tr>\n",
              "      <th>0</th>\n",
              "      <td>EK201950087285</td>\n",
              "      <td>1002</td>\n",
              "      <td>DISEÑO DE SISTEMAS MECÁNICOS</td>\n",
              "      <td>127</td>\n",
              "      <td>1</td>\n",
              "    </tr>\n",
              "    <tr>\n",
              "      <th>1</th>\n",
              "      <td>EK201950087285</td>\n",
              "      <td>5002</td>\n",
              "      <td>FORMULACIÓN DE PROYECTOS DE INGENIERÍA</td>\n",
              "      <td>178</td>\n",
              "      <td>3</td>\n",
              "    </tr>\n",
              "    <tr>\n",
              "      <th>2</th>\n",
              "      <td>EK201950087285</td>\n",
              "      <td>8003</td>\n",
              "      <td>PENSAMIENTO CIENTÍFICO - CIENCIAS FÍSICAS</td>\n",
              "      <td>174</td>\n",
              "      <td>3</td>\n",
              "    </tr>\n",
              "    <tr>\n",
              "      <th>3</th>\n",
              "      <td>EK201950087452</td>\n",
              "      <td>8002</td>\n",
              "      <td>GESTIÓN DE ORGANIZACIONES</td>\n",
              "      <td>112</td>\n",
              "      <td>1</td>\n",
              "    </tr>\n",
              "    <tr>\n",
              "      <th>4</th>\n",
              "      <td>EK201950087452</td>\n",
              "      <td>1003</td>\n",
              "      <td>GESTIÓN FINANCIERA</td>\n",
              "      <td>109</td>\n",
              "      <td>1</td>\n",
              "    </tr>\n",
              "    <tr>\n",
              "      <th>5</th>\n",
              "      <td>EK201950087609</td>\n",
              "      <td>1003</td>\n",
              "      <td>GESTIÓN FINANCIERA</td>\n",
              "      <td>147</td>\n",
              "      <td>2</td>\n",
              "    </tr>\n",
              "    <tr>\n",
              "      <th>6</th>\n",
              "      <td>EK201950088495</td>\n",
              "      <td>2611</td>\n",
              "      <td>DISEÑO DE SISTEMAS PRODUCTIVOS Y LOGÍSTICOS</td>\n",
              "      <td>136</td>\n",
              "      <td>2</td>\n",
              "    </tr>\n",
              "    <tr>\n",
              "      <th>7</th>\n",
              "      <td>EK201950088495</td>\n",
              "      <td>5002</td>\n",
              "      <td>FORMULACIÓN DE PROYECTOS DE INGENIERÍA</td>\n",
              "      <td>151</td>\n",
              "      <td>2</td>\n",
              "    </tr>\n",
              "    <tr>\n",
              "      <th>8</th>\n",
              "      <td>EK201950088495</td>\n",
              "      <td>9003</td>\n",
              "      <td>PENSAMIENTO CIENTÍFICO - MATEMÁTICAS Y ESTADÍS...</td>\n",
              "      <td>103</td>\n",
              "      <td>1</td>\n",
              "    </tr>\n",
              "    <tr>\n",
              "      <th>9</th>\n",
              "      <td>EK201950089455</td>\n",
              "      <td>4003</td>\n",
              "      <td>INVESTIGACIÓN EN CIENCIAS SOCIALES</td>\n",
              "      <td>118</td>\n",
              "      <td>1</td>\n",
              "    </tr>\n",
              "  </tbody>\n",
              "</table>\n",
              "</div>"
            ],
            "text/plain": [
              "  ESTU_CONSECUTIVO  RESULT_CODIGOPRUEBA  ... RESULT_PUNTAJE  RESULT_DESEMPENO\n",
              "0   EK201950087285                 1002  ...            127                 1\n",
              "1   EK201950087285                 5002  ...            178                 3\n",
              "2   EK201950087285                 8003  ...            174                 3\n",
              "3   EK201950087452                 8002  ...            112                 1\n",
              "4   EK201950087452                 1003  ...            109                 1\n",
              "5   EK201950087609                 1003  ...            147                 2\n",
              "6   EK201950088495                 2611  ...            136                 2\n",
              "7   EK201950088495                 5002  ...            151                 2\n",
              "8   EK201950088495                 9003  ...            103                 1\n",
              "9   EK201950089455                 4003  ...            118                 1\n",
              "\n",
              "[10 rows x 5 columns]"
            ]
          },
          "metadata": {
            "tags": []
          },
          "execution_count": 13
        }
      ]
    },
    {
      "cell_type": "code",
      "metadata": {
        "id": "40H19FGTrsiU",
        "colab_type": "code",
        "colab": {
          "base_uri": "https://localhost:8080/",
          "height": 34
        },
        "outputId": "ae4cb63f-19dc-43a8-f85e-5935c3d6bae2"
      },
      "source": [
        "type(datos_esp)"
      ],
      "execution_count": 14,
      "outputs": [
        {
          "output_type": "execute_result",
          "data": {
            "text/plain": [
              "pandas.core.frame.DataFrame"
            ]
          },
          "metadata": {
            "tags": []
          },
          "execution_count": 14
        }
      ]
    },
    {
      "cell_type": "code",
      "metadata": {
        "id": "qNaQmeUMrtEF",
        "colab_type": "code",
        "colab": {
          "base_uri": "https://localhost:8080/",
          "height": 34
        },
        "outputId": "8fa6a037-20f8-4f30-e49a-0f70cca120c7"
      },
      "source": [
        "datos_gen=pd.read_excel(\"SABER_PRO_GENERICAS_2019-2.xlsx\",index=True)\n",
        "datos_gen.shape"
      ],
      "execution_count": 15,
      "outputs": [
        {
          "output_type": "execute_result",
          "data": {
            "text/plain": [
              "(260756, 105)"
            ]
          },
          "metadata": {
            "tags": []
          },
          "execution_count": 15
        }
      ]
    },
    {
      "cell_type": "code",
      "metadata": {
        "id": "01FXQ5GWsA1H",
        "colab_type": "code",
        "colab": {
          "base_uri": "https://localhost:8080/",
          "height": 578
        },
        "outputId": "598b7cc5-a0df-472d-8121-b98364ade6e7"
      },
      "source": [
        "datos_gen.head(10)"
      ],
      "execution_count": 16,
      "outputs": [
        {
          "output_type": "execute_result",
          "data": {
            "text/html": [
              "<div>\n",
              "<style scoped>\n",
              "    .dataframe tbody tr th:only-of-type {\n",
              "        vertical-align: middle;\n",
              "    }\n",
              "\n",
              "    .dataframe tbody tr th {\n",
              "        vertical-align: top;\n",
              "    }\n",
              "\n",
              "    .dataframe thead th {\n",
              "        text-align: right;\n",
              "    }\n",
              "</style>\n",
              "<table border=\"1\" class=\"dataframe\">\n",
              "  <thead>\n",
              "    <tr style=\"text-align: right;\">\n",
              "      <th></th>\n",
              "      <th>ESTU_TIPODOCUMENTO</th>\n",
              "      <th>ESTU_NACIONALIDAD</th>\n",
              "      <th>ESTU_GENERO</th>\n",
              "      <th>ESTU_FECHANACIMIENTO</th>\n",
              "      <th>ESTU_EXTERIOR</th>\n",
              "      <th>PERIODO</th>\n",
              "      <th>ESTU_CONSECUTIVO</th>\n",
              "      <th>ESTU_ESTUDIANTE</th>\n",
              "      <th>ESTU_PAIS_RESIDE</th>\n",
              "      <th>ESTU_DISC_FISICA</th>\n",
              "      <th>ESTU_DISC_SISTEM</th>\n",
              "      <th>ESTU_DISC_AUDITCASTELL</th>\n",
              "      <th>ESTU_DISC_AUDITLSC</th>\n",
              "      <th>ESTU_DISC_VISUALCEGUE</th>\n",
              "      <th>ESTU_DISC_VISUALBAJA</th>\n",
              "      <th>ESTU_DISC_VOZHABLA</th>\n",
              "      <th>ESTU_DISC_INTELEC</th>\n",
              "      <th>ESTU_DISC_SORDOCEGUERA</th>\n",
              "      <th>ESTU_DISC_PSICOSOCIAL</th>\n",
              "      <th>ESTU_DISC_ASPERGER</th>\n",
              "      <th>ESTU_DEPTO_RESIDE</th>\n",
              "      <th>ESTU_COD_RESIDE_DEPTO</th>\n",
              "      <th>ESTU_MCPIO_RESIDE</th>\n",
              "      <th>ESTU_COD_RESIDE_MCPIO</th>\n",
              "      <th>ESTU_AREARESIDE</th>\n",
              "      <th>ESTU_COLE_TERMINO</th>\n",
              "      <th>ESTU_OTROCOLE_TERMINO</th>\n",
              "      <th>ESTU_CODDANE_COLE_TERMINO</th>\n",
              "      <th>ESTU_COD_COLE_MCPIO_TERMINO</th>\n",
              "      <th>ESTU_VALORMATRICULAUNIVERSIDAD</th>\n",
              "      <th>ESTU_PAGOMATRICULABECA</th>\n",
              "      <th>ESTU_PAGOMATRICULACREDITO</th>\n",
              "      <th>ESTU_PAGOMATRICULAPADRES</th>\n",
              "      <th>ESTU_PAGOMATRICULAPROPIO</th>\n",
              "      <th>ESTU_COMOCAPACITOEXAMENSB11</th>\n",
              "      <th>ESTU_CURSODOCENTESIES</th>\n",
              "      <th>ESTU_CURSOIESAPOYOEXTERNO</th>\n",
              "      <th>ESTU_CURSOIESEXTERNA</th>\n",
              "      <th>ESTU_SIMULACROTIPOICFES</th>\n",
              "      <th>ESTU_ACTIVIDADREFUERZOAREAS</th>\n",
              "      <th>...</th>\n",
              "      <th>ESTU_NIVEL_PRGM_ACADEMICO</th>\n",
              "      <th>ESTU_METODO_PRGM</th>\n",
              "      <th>ESTU_NUCLEO_PREGRADO</th>\n",
              "      <th>ESTU_INST_CODMUNICIPIO</th>\n",
              "      <th>ESTU_INST_MUNICIPIO</th>\n",
              "      <th>ESTU_INST_DEPARTAMENTO</th>\n",
              "      <th>INST_CARACTER_ACADEMICO</th>\n",
              "      <th>INST_ORIGEN</th>\n",
              "      <th>ESTU_PRIVADO_LIBERTAD</th>\n",
              "      <th>ESTU_COD_MCPIO_PRESENTACION</th>\n",
              "      <th>ESTU_MCPIO_PRESENTACION</th>\n",
              "      <th>ESTU_DEPTO_PRESENTACION</th>\n",
              "      <th>ESTU_COD_DEPTO_PRESENTACION</th>\n",
              "      <th>MOD_RAZONA_CUANTITAT_PUNT</th>\n",
              "      <th>MOD_RAZONA_CUANTITAT_DESEM</th>\n",
              "      <th>MOD_RAZONA_CUANTITATIVO_PNAL</th>\n",
              "      <th>MOD_RAZONA_CUANTITATIVO_PNBC</th>\n",
              "      <th>MOD_LECTURA_CRITICA_PUNT</th>\n",
              "      <th>MOD_LECTURA_CRITICA_DESEM</th>\n",
              "      <th>MOD_LECTURA_CRITICA_PNAL</th>\n",
              "      <th>MOD_LECTURA_CRITICA_PNBC</th>\n",
              "      <th>MOD_COMPETEN_CIUDADA_PUNT</th>\n",
              "      <th>MOD_COMPETEN_CIUDADA_DESEM</th>\n",
              "      <th>MOD_COMPETEN_CIUDADA_PNAL</th>\n",
              "      <th>MOD_COMPETEN_CIUDADA_PNBC</th>\n",
              "      <th>MOD_INGLES_PUNT</th>\n",
              "      <th>MOD_INGLES_DESEM</th>\n",
              "      <th>MOD_INGLES_PNAL</th>\n",
              "      <th>MOD_INGLES_PNBC</th>\n",
              "      <th>MOD_COMUNI_ESCRITA_PUNT</th>\n",
              "      <th>MOD_COMUNI_ESCRITA_DESEM</th>\n",
              "      <th>MOD_COMUNI_ESCRITA_PNAL</th>\n",
              "      <th>MOD_COMUNI_ESCRITA_PNBC</th>\n",
              "      <th>PUNT_GLOBAL</th>\n",
              "      <th>PERCENTIL_NBC</th>\n",
              "      <th>PERCENTIL_GLOBAL</th>\n",
              "      <th>ESTU_INSE_INDIVIDUAL</th>\n",
              "      <th>ESTU_NSE_INDIVIDUAL</th>\n",
              "      <th>ESTU_NSE_IES</th>\n",
              "      <th>ESTU_ESTADOINVESTIGACION</th>\n",
              "    </tr>\n",
              "  </thead>\n",
              "  <tbody>\n",
              "    <tr>\n",
              "      <th>0</th>\n",
              "      <td>CC</td>\n",
              "      <td>COLOMBIA</td>\n",
              "      <td>F</td>\n",
              "      <td>1996-08-06 00:00:00</td>\n",
              "      <td>NO</td>\n",
              "      <td>20195</td>\n",
              "      <td>EK201950332829</td>\n",
              "      <td>ESTUDIANTE</td>\n",
              "      <td>COLOMBIA</td>\n",
              "      <td>NaN</td>\n",
              "      <td>NaN</td>\n",
              "      <td>NaN</td>\n",
              "      <td>NaN</td>\n",
              "      <td>NaN</td>\n",
              "      <td>NaN</td>\n",
              "      <td>NaN</td>\n",
              "      <td>NaN</td>\n",
              "      <td>NaN</td>\n",
              "      <td>NaN</td>\n",
              "      <td>NaN</td>\n",
              "      <td>VALLE</td>\n",
              "      <td>76.0</td>\n",
              "      <td>CALI</td>\n",
              "      <td>76001.0</td>\n",
              "      <td>Cabecera Municipal</td>\n",
              "      <td>24611.0</td>\n",
              "      <td>NaN</td>\n",
              "      <td>1.760010e+11</td>\n",
              "      <td>76001.0</td>\n",
              "      <td>Entre 2.5 millones y menos de 4 millones</td>\n",
              "      <td>No</td>\n",
              "      <td>No</td>\n",
              "      <td>No</td>\n",
              "      <td>Si</td>\n",
              "      <td>Tomó un curso de preparación</td>\n",
              "      <td>Entre 20 y 30 horas</td>\n",
              "      <td>Entre 20 y 30 horas</td>\n",
              "      <td>Entre 20 y 30 horas</td>\n",
              "      <td>Si</td>\n",
              "      <td>Si</td>\n",
              "      <td>...</td>\n",
              "      <td>UNIVERSITARIO</td>\n",
              "      <td>PRESENCIAL</td>\n",
              "      <td>ADMINISTRACIÓN</td>\n",
              "      <td>76001</td>\n",
              "      <td>CALI</td>\n",
              "      <td>VALLE</td>\n",
              "      <td>INSTITUCIÓN UNIVERSITARIA</td>\n",
              "      <td>NO OFICIAL - CORPORACIÓN</td>\n",
              "      <td>N</td>\n",
              "      <td>76001</td>\n",
              "      <td>CALI</td>\n",
              "      <td>VALLE</td>\n",
              "      <td>76</td>\n",
              "      <td>105</td>\n",
              "      <td>1</td>\n",
              "      <td>11.0</td>\n",
              "      <td>12.0</td>\n",
              "      <td>111</td>\n",
              "      <td>1</td>\n",
              "      <td>12.0</td>\n",
              "      <td>17.0</td>\n",
              "      <td>100</td>\n",
              "      <td>1</td>\n",
              "      <td>12.0</td>\n",
              "      <td>14.0</td>\n",
              "      <td>111.0</td>\n",
              "      <td>NaN</td>\n",
              "      <td>9.0</td>\n",
              "      <td>10.0</td>\n",
              "      <td>106.0</td>\n",
              "      <td>1.0</td>\n",
              "      <td>6.0</td>\n",
              "      <td>6.0</td>\n",
              "      <td>107</td>\n",
              "      <td>4.0</td>\n",
              "      <td>4.0</td>\n",
              "      <td>4.492671e+14</td>\n",
              "      <td>1.0</td>\n",
              "      <td>3</td>\n",
              "      <td>PUBLICAR</td>\n",
              "    </tr>\n",
              "    <tr>\n",
              "      <th>1</th>\n",
              "      <td>CC</td>\n",
              "      <td>COLOMBIA</td>\n",
              "      <td>F</td>\n",
              "      <td>1999-01-02 00:00:00</td>\n",
              "      <td>NO</td>\n",
              "      <td>20195</td>\n",
              "      <td>EK201950328090</td>\n",
              "      <td>ESTUDIANTE</td>\n",
              "      <td>COLOMBIA</td>\n",
              "      <td>NaN</td>\n",
              "      <td>NaN</td>\n",
              "      <td>NaN</td>\n",
              "      <td>NaN</td>\n",
              "      <td>NaN</td>\n",
              "      <td>NaN</td>\n",
              "      <td>NaN</td>\n",
              "      <td>NaN</td>\n",
              "      <td>NaN</td>\n",
              "      <td>NaN</td>\n",
              "      <td>NaN</td>\n",
              "      <td>VALLE</td>\n",
              "      <td>76.0</td>\n",
              "      <td>CALI</td>\n",
              "      <td>76001.0</td>\n",
              "      <td>Cabecera Municipal</td>\n",
              "      <td>19823.0</td>\n",
              "      <td>NaN</td>\n",
              "      <td>1.760010e+11</td>\n",
              "      <td>76001.0</td>\n",
              "      <td>Entre 2.5 millones y menos de 4 millones</td>\n",
              "      <td>No</td>\n",
              "      <td>Si</td>\n",
              "      <td>No</td>\n",
              "      <td>Si</td>\n",
              "      <td>Repasó por cuenta propia</td>\n",
              "      <td>NaN</td>\n",
              "      <td>NaN</td>\n",
              "      <td>NaN</td>\n",
              "      <td>NaN</td>\n",
              "      <td>NaN</td>\n",
              "      <td>...</td>\n",
              "      <td>UNIVERSITARIO</td>\n",
              "      <td>PRESENCIAL</td>\n",
              "      <td>ADMINISTRACIÓN</td>\n",
              "      <td>76001</td>\n",
              "      <td>CALI</td>\n",
              "      <td>VALLE</td>\n",
              "      <td>INSTITUCIÓN UNIVERSITARIA</td>\n",
              "      <td>NO OFICIAL - CORPORACIÓN</td>\n",
              "      <td>N</td>\n",
              "      <td>76001</td>\n",
              "      <td>CALI</td>\n",
              "      <td>VALLE</td>\n",
              "      <td>76</td>\n",
              "      <td>130</td>\n",
              "      <td>2</td>\n",
              "      <td>33.0</td>\n",
              "      <td>38.0</td>\n",
              "      <td>137</td>\n",
              "      <td>2</td>\n",
              "      <td>37.0</td>\n",
              "      <td>48.0</td>\n",
              "      <td>171</td>\n",
              "      <td>3</td>\n",
              "      <td>80.0</td>\n",
              "      <td>88.0</td>\n",
              "      <td>140.0</td>\n",
              "      <td>A1</td>\n",
              "      <td>38.0</td>\n",
              "      <td>46.0</td>\n",
              "      <td>143.0</td>\n",
              "      <td>2.0</td>\n",
              "      <td>50.0</td>\n",
              "      <td>53.0</td>\n",
              "      <td>144</td>\n",
              "      <td>59.0</td>\n",
              "      <td>48.0</td>\n",
              "      <td>6.670235e+14</td>\n",
              "      <td>4.0</td>\n",
              "      <td>3</td>\n",
              "      <td>PUBLICAR</td>\n",
              "    </tr>\n",
              "    <tr>\n",
              "      <th>2</th>\n",
              "      <td>CC</td>\n",
              "      <td>COLOMBIA</td>\n",
              "      <td>F</td>\n",
              "      <td>12/13/1984 12:00:00 AM</td>\n",
              "      <td>NO</td>\n",
              "      <td>20195</td>\n",
              "      <td>EK201950332409</td>\n",
              "      <td>ESTUDIANTE</td>\n",
              "      <td>COLOMBIA</td>\n",
              "      <td>NaN</td>\n",
              "      <td>NaN</td>\n",
              "      <td>NaN</td>\n",
              "      <td>NaN</td>\n",
              "      <td>NaN</td>\n",
              "      <td>NaN</td>\n",
              "      <td>NaN</td>\n",
              "      <td>NaN</td>\n",
              "      <td>NaN</td>\n",
              "      <td>NaN</td>\n",
              "      <td>NaN</td>\n",
              "      <td>VALLE</td>\n",
              "      <td>76.0</td>\n",
              "      <td>CALI</td>\n",
              "      <td>76001.0</td>\n",
              "      <td>Cabecera Municipal</td>\n",
              "      <td>0.0</td>\n",
              "      <td>NaN</td>\n",
              "      <td>NaN</td>\n",
              "      <td>NaN</td>\n",
              "      <td>Entre 2.5 millones y menos de 4 millones</td>\n",
              "      <td>No</td>\n",
              "      <td>No</td>\n",
              "      <td>No</td>\n",
              "      <td>Si</td>\n",
              "      <td>Repasó por cuenta propia</td>\n",
              "      <td>NaN</td>\n",
              "      <td>NaN</td>\n",
              "      <td>NaN</td>\n",
              "      <td>NaN</td>\n",
              "      <td>NaN</td>\n",
              "      <td>...</td>\n",
              "      <td>UNIVERSITARIO</td>\n",
              "      <td>PRESENCIAL</td>\n",
              "      <td>ADMINISTRACIÓN</td>\n",
              "      <td>76001</td>\n",
              "      <td>CALI</td>\n",
              "      <td>VALLE</td>\n",
              "      <td>INSTITUCIÓN UNIVERSITARIA</td>\n",
              "      <td>NO OFICIAL - CORPORACIÓN</td>\n",
              "      <td>N</td>\n",
              "      <td>76001</td>\n",
              "      <td>CALI</td>\n",
              "      <td>VALLE</td>\n",
              "      <td>76</td>\n",
              "      <td>135</td>\n",
              "      <td>2</td>\n",
              "      <td>37.0</td>\n",
              "      <td>44.0</td>\n",
              "      <td>141</td>\n",
              "      <td>2</td>\n",
              "      <td>41.0</td>\n",
              "      <td>53.0</td>\n",
              "      <td>135</td>\n",
              "      <td>2</td>\n",
              "      <td>42.0</td>\n",
              "      <td>50.0</td>\n",
              "      <td>143.0</td>\n",
              "      <td>A1</td>\n",
              "      <td>42.0</td>\n",
              "      <td>50.0</td>\n",
              "      <td>175.0</td>\n",
              "      <td>3.0</td>\n",
              "      <td>84.0</td>\n",
              "      <td>87.0</td>\n",
              "      <td>146</td>\n",
              "      <td>62.0</td>\n",
              "      <td>51.0</td>\n",
              "      <td>5.758575e+14</td>\n",
              "      <td>3.0</td>\n",
              "      <td>3</td>\n",
              "      <td>PUBLICAR</td>\n",
              "    </tr>\n",
              "    <tr>\n",
              "      <th>3</th>\n",
              "      <td>CC</td>\n",
              "      <td>COLOMBIA</td>\n",
              "      <td>F</td>\n",
              "      <td>1990-09-08 00:00:00</td>\n",
              "      <td>NO</td>\n",
              "      <td>20195</td>\n",
              "      <td>EK201950332743</td>\n",
              "      <td>ESTUDIANTE</td>\n",
              "      <td>COLOMBIA</td>\n",
              "      <td>NaN</td>\n",
              "      <td>NaN</td>\n",
              "      <td>NaN</td>\n",
              "      <td>NaN</td>\n",
              "      <td>NaN</td>\n",
              "      <td>NaN</td>\n",
              "      <td>NaN</td>\n",
              "      <td>NaN</td>\n",
              "      <td>NaN</td>\n",
              "      <td>NaN</td>\n",
              "      <td>NaN</td>\n",
              "      <td>VALLE</td>\n",
              "      <td>76.0</td>\n",
              "      <td>CANDELARIA</td>\n",
              "      <td>76130.0</td>\n",
              "      <td>Area Rural</td>\n",
              "      <td>3642.0</td>\n",
              "      <td>NaN</td>\n",
              "      <td>2.761300e+11</td>\n",
              "      <td>76130.0</td>\n",
              "      <td>Entre 2.5 millones y menos de 4 millones</td>\n",
              "      <td>No</td>\n",
              "      <td>Si</td>\n",
              "      <td>Si</td>\n",
              "      <td>Si</td>\n",
              "      <td>Tomó un curso de preparación</td>\n",
              "      <td>Menos de 20 horas</td>\n",
              "      <td>Menos de 20 horas</td>\n",
              "      <td>Menos de 20 horas</td>\n",
              "      <td>Si</td>\n",
              "      <td>Si</td>\n",
              "      <td>...</td>\n",
              "      <td>UNIVERSITARIO</td>\n",
              "      <td>PRESENCIAL</td>\n",
              "      <td>ADMINISTRACIÓN</td>\n",
              "      <td>76001</td>\n",
              "      <td>CALI</td>\n",
              "      <td>VALLE</td>\n",
              "      <td>INSTITUCIÓN UNIVERSITARIA</td>\n",
              "      <td>NO OFICIAL - CORPORACIÓN</td>\n",
              "      <td>N</td>\n",
              "      <td>76001</td>\n",
              "      <td>CALI</td>\n",
              "      <td>VALLE</td>\n",
              "      <td>76</td>\n",
              "      <td>120</td>\n",
              "      <td>1</td>\n",
              "      <td>22.0</td>\n",
              "      <td>26.0</td>\n",
              "      <td>110</td>\n",
              "      <td>1</td>\n",
              "      <td>12.0</td>\n",
              "      <td>15.0</td>\n",
              "      <td>154</td>\n",
              "      <td>2</td>\n",
              "      <td>62.0</td>\n",
              "      <td>72.0</td>\n",
              "      <td>122.0</td>\n",
              "      <td>NaN</td>\n",
              "      <td>16.0</td>\n",
              "      <td>19.0</td>\n",
              "      <td>145.0</td>\n",
              "      <td>2.0</td>\n",
              "      <td>55.0</td>\n",
              "      <td>58.0</td>\n",
              "      <td>130</td>\n",
              "      <td>32.0</td>\n",
              "      <td>25.0</td>\n",
              "      <td>4.976720e+14</td>\n",
              "      <td>2.0</td>\n",
              "      <td>3</td>\n",
              "      <td>PUBLICAR</td>\n",
              "    </tr>\n",
              "    <tr>\n",
              "      <th>4</th>\n",
              "      <td>CC</td>\n",
              "      <td>COLOMBIA</td>\n",
              "      <td>F</td>\n",
              "      <td>1995-09-09 00:00:00</td>\n",
              "      <td>NO</td>\n",
              "      <td>20195</td>\n",
              "      <td>EK201950331903</td>\n",
              "      <td>ESTUDIANTE</td>\n",
              "      <td>COLOMBIA</td>\n",
              "      <td>NaN</td>\n",
              "      <td>NaN</td>\n",
              "      <td>NaN</td>\n",
              "      <td>NaN</td>\n",
              "      <td>NaN</td>\n",
              "      <td>NaN</td>\n",
              "      <td>NaN</td>\n",
              "      <td>NaN</td>\n",
              "      <td>NaN</td>\n",
              "      <td>NaN</td>\n",
              "      <td>NaN</td>\n",
              "      <td>VALLE</td>\n",
              "      <td>76.0</td>\n",
              "      <td>CALI</td>\n",
              "      <td>76001.0</td>\n",
              "      <td>Cabecera Municipal</td>\n",
              "      <td>6292.0</td>\n",
              "      <td>NaN</td>\n",
              "      <td>1.760010e+11</td>\n",
              "      <td>76001.0</td>\n",
              "      <td>Entre 2.5 millones y menos de 4 millones</td>\n",
              "      <td>No</td>\n",
              "      <td>No</td>\n",
              "      <td>Si</td>\n",
              "      <td>No</td>\n",
              "      <td>Repasó por cuenta propia</td>\n",
              "      <td>NaN</td>\n",
              "      <td>NaN</td>\n",
              "      <td>NaN</td>\n",
              "      <td>NaN</td>\n",
              "      <td>NaN</td>\n",
              "      <td>...</td>\n",
              "      <td>UNIVERSITARIO</td>\n",
              "      <td>PRESENCIAL</td>\n",
              "      <td>ADMINISTRACIÓN</td>\n",
              "      <td>76001</td>\n",
              "      <td>CALI</td>\n",
              "      <td>VALLE</td>\n",
              "      <td>INSTITUCIÓN UNIVERSITARIA</td>\n",
              "      <td>NO OFICIAL - CORPORACIÓN</td>\n",
              "      <td>N</td>\n",
              "      <td>76001</td>\n",
              "      <td>CALI</td>\n",
              "      <td>VALLE</td>\n",
              "      <td>76</td>\n",
              "      <td>142</td>\n",
              "      <td>2</td>\n",
              "      <td>46.0</td>\n",
              "      <td>53.0</td>\n",
              "      <td>153</td>\n",
              "      <td>2</td>\n",
              "      <td>56.0</td>\n",
              "      <td>68.0</td>\n",
              "      <td>147</td>\n",
              "      <td>2</td>\n",
              "      <td>55.0</td>\n",
              "      <td>64.0</td>\n",
              "      <td>162.0</td>\n",
              "      <td>A2</td>\n",
              "      <td>67.0</td>\n",
              "      <td>75.0</td>\n",
              "      <td>0.0</td>\n",
              "      <td>NaN</td>\n",
              "      <td>1.0</td>\n",
              "      <td>1.0</td>\n",
              "      <td>121</td>\n",
              "      <td>17.0</td>\n",
              "      <td>13.0</td>\n",
              "      <td>5.140568e+14</td>\n",
              "      <td>2.0</td>\n",
              "      <td>3</td>\n",
              "      <td>PUBLICAR</td>\n",
              "    </tr>\n",
              "    <tr>\n",
              "      <th>5</th>\n",
              "      <td>CC</td>\n",
              "      <td>COLOMBIA</td>\n",
              "      <td>F</td>\n",
              "      <td>11/28/1999 12:00:00 AM</td>\n",
              "      <td>NO</td>\n",
              "      <td>20195</td>\n",
              "      <td>EK201950321469</td>\n",
              "      <td>ESTUDIANTE</td>\n",
              "      <td>COLOMBIA</td>\n",
              "      <td>NaN</td>\n",
              "      <td>NaN</td>\n",
              "      <td>NaN</td>\n",
              "      <td>NaN</td>\n",
              "      <td>NaN</td>\n",
              "      <td>NaN</td>\n",
              "      <td>NaN</td>\n",
              "      <td>NaN</td>\n",
              "      <td>NaN</td>\n",
              "      <td>NaN</td>\n",
              "      <td>NaN</td>\n",
              "      <td>VALLE</td>\n",
              "      <td>76.0</td>\n",
              "      <td>CALI</td>\n",
              "      <td>76001.0</td>\n",
              "      <td>Cabecera Municipal</td>\n",
              "      <td>0.0</td>\n",
              "      <td>NaN</td>\n",
              "      <td>NaN</td>\n",
              "      <td>NaN</td>\n",
              "      <td>Entre 2.5 millones y menos de 4 millones</td>\n",
              "      <td>No</td>\n",
              "      <td>Si</td>\n",
              "      <td>No</td>\n",
              "      <td>No</td>\n",
              "      <td>Repasó por cuenta propia</td>\n",
              "      <td>NaN</td>\n",
              "      <td>NaN</td>\n",
              "      <td>NaN</td>\n",
              "      <td>NaN</td>\n",
              "      <td>NaN</td>\n",
              "      <td>...</td>\n",
              "      <td>UNIVERSITARIO</td>\n",
              "      <td>PRESENCIAL</td>\n",
              "      <td>ADMINISTRACIÓN</td>\n",
              "      <td>76001</td>\n",
              "      <td>CALI</td>\n",
              "      <td>VALLE</td>\n",
              "      <td>INSTITUCIÓN UNIVERSITARIA</td>\n",
              "      <td>NO OFICIAL - CORPORACIÓN</td>\n",
              "      <td>N</td>\n",
              "      <td>76001</td>\n",
              "      <td>CALI</td>\n",
              "      <td>VALLE</td>\n",
              "      <td>76</td>\n",
              "      <td>147</td>\n",
              "      <td>2</td>\n",
              "      <td>51.0</td>\n",
              "      <td>60.0</td>\n",
              "      <td>129</td>\n",
              "      <td>2</td>\n",
              "      <td>29.0</td>\n",
              "      <td>38.0</td>\n",
              "      <td>139</td>\n",
              "      <td>2</td>\n",
              "      <td>46.0</td>\n",
              "      <td>54.0</td>\n",
              "      <td>134.0</td>\n",
              "      <td>A1</td>\n",
              "      <td>29.0</td>\n",
              "      <td>35.0</td>\n",
              "      <td>143.0</td>\n",
              "      <td>2.0</td>\n",
              "      <td>51.0</td>\n",
              "      <td>54.0</td>\n",
              "      <td>138</td>\n",
              "      <td>48.0</td>\n",
              "      <td>38.0</td>\n",
              "      <td>4.220532e+14</td>\n",
              "      <td>1.0</td>\n",
              "      <td>3</td>\n",
              "      <td>PUBLICAR</td>\n",
              "    </tr>\n",
              "    <tr>\n",
              "      <th>6</th>\n",
              "      <td>CC</td>\n",
              "      <td>COLOMBIA</td>\n",
              "      <td>F</td>\n",
              "      <td>11/27/1999 12:00:00 AM</td>\n",
              "      <td>NO</td>\n",
              "      <td>20195</td>\n",
              "      <td>EK201950319911</td>\n",
              "      <td>ESTUDIANTE</td>\n",
              "      <td>COLOMBIA</td>\n",
              "      <td>NaN</td>\n",
              "      <td>NaN</td>\n",
              "      <td>NaN</td>\n",
              "      <td>NaN</td>\n",
              "      <td>NaN</td>\n",
              "      <td>NaN</td>\n",
              "      <td>NaN</td>\n",
              "      <td>NaN</td>\n",
              "      <td>NaN</td>\n",
              "      <td>NaN</td>\n",
              "      <td>NaN</td>\n",
              "      <td>VALLE</td>\n",
              "      <td>76.0</td>\n",
              "      <td>CALI</td>\n",
              "      <td>76001.0</td>\n",
              "      <td>Cabecera Municipal</td>\n",
              "      <td>0.0</td>\n",
              "      <td>NaN</td>\n",
              "      <td>NaN</td>\n",
              "      <td>NaN</td>\n",
              "      <td>Entre 2.5 millones y menos de 4 millones</td>\n",
              "      <td>No</td>\n",
              "      <td>No</td>\n",
              "      <td>Si</td>\n",
              "      <td>Si</td>\n",
              "      <td>Repasó por cuenta propia</td>\n",
              "      <td>NaN</td>\n",
              "      <td>NaN</td>\n",
              "      <td>NaN</td>\n",
              "      <td>NaN</td>\n",
              "      <td>NaN</td>\n",
              "      <td>...</td>\n",
              "      <td>UNIVERSITARIO</td>\n",
              "      <td>PRESENCIAL</td>\n",
              "      <td>ADMINISTRACIÓN</td>\n",
              "      <td>76001</td>\n",
              "      <td>CALI</td>\n",
              "      <td>VALLE</td>\n",
              "      <td>INSTITUCIÓN UNIVERSITARIA</td>\n",
              "      <td>NO OFICIAL - CORPORACIÓN</td>\n",
              "      <td>N</td>\n",
              "      <td>76001</td>\n",
              "      <td>CALI</td>\n",
              "      <td>VALLE</td>\n",
              "      <td>76</td>\n",
              "      <td>128</td>\n",
              "      <td>2</td>\n",
              "      <td>30.0</td>\n",
              "      <td>35.0</td>\n",
              "      <td>139</td>\n",
              "      <td>2</td>\n",
              "      <td>39.0</td>\n",
              "      <td>50.0</td>\n",
              "      <td>131</td>\n",
              "      <td>2</td>\n",
              "      <td>38.0</td>\n",
              "      <td>45.0</td>\n",
              "      <td>97.0</td>\n",
              "      <td>NaN</td>\n",
              "      <td>4.0</td>\n",
              "      <td>4.0</td>\n",
              "      <td>137.0</td>\n",
              "      <td>2.0</td>\n",
              "      <td>32.0</td>\n",
              "      <td>34.0</td>\n",
              "      <td>126</td>\n",
              "      <td>26.0</td>\n",
              "      <td>20.0</td>\n",
              "      <td>4.846206e+14</td>\n",
              "      <td>2.0</td>\n",
              "      <td>3</td>\n",
              "      <td>PUBLICAR</td>\n",
              "    </tr>\n",
              "    <tr>\n",
              "      <th>7</th>\n",
              "      <td>CC</td>\n",
              "      <td>COLOMBIA</td>\n",
              "      <td>F</td>\n",
              "      <td>1972-04-01 00:00:00</td>\n",
              "      <td>NO</td>\n",
              "      <td>20195</td>\n",
              "      <td>EK201950187416</td>\n",
              "      <td>ESTUDIANTE</td>\n",
              "      <td>COLOMBIA</td>\n",
              "      <td>NaN</td>\n",
              "      <td>NaN</td>\n",
              "      <td>NaN</td>\n",
              "      <td>NaN</td>\n",
              "      <td>NaN</td>\n",
              "      <td>NaN</td>\n",
              "      <td>NaN</td>\n",
              "      <td>NaN</td>\n",
              "      <td>NaN</td>\n",
              "      <td>NaN</td>\n",
              "      <td>NaN</td>\n",
              "      <td>VALLE</td>\n",
              "      <td>76.0</td>\n",
              "      <td>CALI</td>\n",
              "      <td>76001.0</td>\n",
              "      <td>Cabecera Municipal</td>\n",
              "      <td>16375.0</td>\n",
              "      <td>NaN</td>\n",
              "      <td>3.760010e+11</td>\n",
              "      <td>76001.0</td>\n",
              "      <td>Entre 2.5 millones y menos de 4 millones</td>\n",
              "      <td>No</td>\n",
              "      <td>Si</td>\n",
              "      <td>No</td>\n",
              "      <td>No</td>\n",
              "      <td>Repasó por cuenta propia</td>\n",
              "      <td>NaN</td>\n",
              "      <td>NaN</td>\n",
              "      <td>NaN</td>\n",
              "      <td>NaN</td>\n",
              "      <td>NaN</td>\n",
              "      <td>...</td>\n",
              "      <td>UNIVERSITARIO</td>\n",
              "      <td>PRESENCIAL</td>\n",
              "      <td>ADMINISTRACIÓN</td>\n",
              "      <td>76001</td>\n",
              "      <td>CALI</td>\n",
              "      <td>VALLE</td>\n",
              "      <td>INSTITUCIÓN UNIVERSITARIA</td>\n",
              "      <td>NO OFICIAL - CORPORACIÓN</td>\n",
              "      <td>N</td>\n",
              "      <td>76001</td>\n",
              "      <td>CALI</td>\n",
              "      <td>VALLE</td>\n",
              "      <td>76</td>\n",
              "      <td>198</td>\n",
              "      <td>3</td>\n",
              "      <td>95.0</td>\n",
              "      <td>99.0</td>\n",
              "      <td>180</td>\n",
              "      <td>3</td>\n",
              "      <td>83.0</td>\n",
              "      <td>91.0</td>\n",
              "      <td>119</td>\n",
              "      <td>1</td>\n",
              "      <td>27.0</td>\n",
              "      <td>31.0</td>\n",
              "      <td>141.0</td>\n",
              "      <td>A1</td>\n",
              "      <td>40.0</td>\n",
              "      <td>48.0</td>\n",
              "      <td>129.0</td>\n",
              "      <td>2.0</td>\n",
              "      <td>19.0</td>\n",
              "      <td>20.0</td>\n",
              "      <td>153</td>\n",
              "      <td>75.0</td>\n",
              "      <td>63.0</td>\n",
              "      <td>5.338135e+14</td>\n",
              "      <td>2.0</td>\n",
              "      <td>3</td>\n",
              "      <td>PUBLICAR</td>\n",
              "    </tr>\n",
              "    <tr>\n",
              "      <th>8</th>\n",
              "      <td>CC</td>\n",
              "      <td>COLOMBIA</td>\n",
              "      <td>M</td>\n",
              "      <td>1992-07-05 00:00:00</td>\n",
              "      <td>NO</td>\n",
              "      <td>20195</td>\n",
              "      <td>EK201950350461</td>\n",
              "      <td>ESTUDIANTE</td>\n",
              "      <td>COLOMBIA</td>\n",
              "      <td>NaN</td>\n",
              "      <td>NaN</td>\n",
              "      <td>NaN</td>\n",
              "      <td>NaN</td>\n",
              "      <td>NaN</td>\n",
              "      <td>NaN</td>\n",
              "      <td>NaN</td>\n",
              "      <td>NaN</td>\n",
              "      <td>NaN</td>\n",
              "      <td>NaN</td>\n",
              "      <td>NaN</td>\n",
              "      <td>VALLE</td>\n",
              "      <td>76.0</td>\n",
              "      <td>CALI</td>\n",
              "      <td>76001.0</td>\n",
              "      <td>Cabecera Municipal</td>\n",
              "      <td>0.0</td>\n",
              "      <td>NaN</td>\n",
              "      <td>NaN</td>\n",
              "      <td>NaN</td>\n",
              "      <td>Entre 2.5 millones y menos de 4 millones</td>\n",
              "      <td>No</td>\n",
              "      <td>Si</td>\n",
              "      <td>No</td>\n",
              "      <td>Si</td>\n",
              "      <td>No realizó ninguna prueba de preparación</td>\n",
              "      <td>NaN</td>\n",
              "      <td>NaN</td>\n",
              "      <td>NaN</td>\n",
              "      <td>NaN</td>\n",
              "      <td>NaN</td>\n",
              "      <td>...</td>\n",
              "      <td>UNIVERSITARIO</td>\n",
              "      <td>PRESENCIAL</td>\n",
              "      <td>ADMINISTRACIÓN</td>\n",
              "      <td>76001</td>\n",
              "      <td>CALI</td>\n",
              "      <td>VALLE</td>\n",
              "      <td>INSTITUCIÓN UNIVERSITARIA</td>\n",
              "      <td>NO OFICIAL - CORPORACIÓN</td>\n",
              "      <td>N</td>\n",
              "      <td>76001</td>\n",
              "      <td>CALI</td>\n",
              "      <td>VALLE</td>\n",
              "      <td>76</td>\n",
              "      <td>157</td>\n",
              "      <td>3</td>\n",
              "      <td>64.0</td>\n",
              "      <td>73.0</td>\n",
              "      <td>151</td>\n",
              "      <td>2</td>\n",
              "      <td>54.0</td>\n",
              "      <td>66.0</td>\n",
              "      <td>131</td>\n",
              "      <td>2</td>\n",
              "      <td>39.0</td>\n",
              "      <td>45.0</td>\n",
              "      <td>124.0</td>\n",
              "      <td>A1</td>\n",
              "      <td>18.0</td>\n",
              "      <td>22.0</td>\n",
              "      <td>0.0</td>\n",
              "      <td>NaN</td>\n",
              "      <td>1.0</td>\n",
              "      <td>1.0</td>\n",
              "      <td>113</td>\n",
              "      <td>8.0</td>\n",
              "      <td>7.0</td>\n",
              "      <td>6.998355e+14</td>\n",
              "      <td>4.0</td>\n",
              "      <td>3</td>\n",
              "      <td>PUBLICAR</td>\n",
              "    </tr>\n",
              "    <tr>\n",
              "      <th>9</th>\n",
              "      <td>CC</td>\n",
              "      <td>COLOMBIA</td>\n",
              "      <td>F</td>\n",
              "      <td>1995-10-09 00:00:00</td>\n",
              "      <td>NO</td>\n",
              "      <td>20195</td>\n",
              "      <td>EK201950309297</td>\n",
              "      <td>ESTUDIANTE</td>\n",
              "      <td>COLOMBIA</td>\n",
              "      <td>NaN</td>\n",
              "      <td>NaN</td>\n",
              "      <td>NaN</td>\n",
              "      <td>NaN</td>\n",
              "      <td>NaN</td>\n",
              "      <td>NaN</td>\n",
              "      <td>NaN</td>\n",
              "      <td>NaN</td>\n",
              "      <td>NaN</td>\n",
              "      <td>NaN</td>\n",
              "      <td>NaN</td>\n",
              "      <td>VALLE</td>\n",
              "      <td>76.0</td>\n",
              "      <td>CALI</td>\n",
              "      <td>76001.0</td>\n",
              "      <td>Cabecera Municipal</td>\n",
              "      <td>NaN</td>\n",
              "      <td>INSTITUCIONEDUCATIVAGABRIELGARCIAMARQUEZ</td>\n",
              "      <td>NaN</td>\n",
              "      <td>NaN</td>\n",
              "      <td>Entre 2.5 millones y menos de 4 millones</td>\n",
              "      <td>No</td>\n",
              "      <td>Si</td>\n",
              "      <td>No</td>\n",
              "      <td>Si</td>\n",
              "      <td>No realizó ninguna prueba de preparación</td>\n",
              "      <td>NaN</td>\n",
              "      <td>NaN</td>\n",
              "      <td>NaN</td>\n",
              "      <td>NaN</td>\n",
              "      <td>NaN</td>\n",
              "      <td>...</td>\n",
              "      <td>UNIVERSITARIO</td>\n",
              "      <td>PRESENCIAL</td>\n",
              "      <td>ADMINISTRACIÓN</td>\n",
              "      <td>76001</td>\n",
              "      <td>CALI</td>\n",
              "      <td>VALLE</td>\n",
              "      <td>INSTITUCIÓN UNIVERSITARIA</td>\n",
              "      <td>NO OFICIAL - CORPORACIÓN</td>\n",
              "      <td>N</td>\n",
              "      <td>76001</td>\n",
              "      <td>CALI</td>\n",
              "      <td>VALLE</td>\n",
              "      <td>76</td>\n",
              "      <td>142</td>\n",
              "      <td>2</td>\n",
              "      <td>46.0</td>\n",
              "      <td>54.0</td>\n",
              "      <td>134</td>\n",
              "      <td>2</td>\n",
              "      <td>34.0</td>\n",
              "      <td>45.0</td>\n",
              "      <td>80</td>\n",
              "      <td>1</td>\n",
              "      <td>3.0</td>\n",
              "      <td>3.0</td>\n",
              "      <td>133.0</td>\n",
              "      <td>A1</td>\n",
              "      <td>28.0</td>\n",
              "      <td>35.0</td>\n",
              "      <td>102.0</td>\n",
              "      <td>1.0</td>\n",
              "      <td>4.0</td>\n",
              "      <td>4.0</td>\n",
              "      <td>118</td>\n",
              "      <td>14.0</td>\n",
              "      <td>11.0</td>\n",
              "      <td>5.057494e+14</td>\n",
              "      <td>2.0</td>\n",
              "      <td>3</td>\n",
              "      <td>PUBLICAR</td>\n",
              "    </tr>\n",
              "  </tbody>\n",
              "</table>\n",
              "<p>10 rows × 105 columns</p>\n",
              "</div>"
            ],
            "text/plain": [
              "  ESTU_TIPODOCUMENTO ESTU_NACIONALIDAD  ... ESTU_NSE_IES ESTU_ESTADOINVESTIGACION\n",
              "0                 CC          COLOMBIA  ...            3                 PUBLICAR\n",
              "1                 CC          COLOMBIA  ...            3                 PUBLICAR\n",
              "2                 CC          COLOMBIA  ...            3                 PUBLICAR\n",
              "3                 CC          COLOMBIA  ...            3                 PUBLICAR\n",
              "4                 CC          COLOMBIA  ...            3                 PUBLICAR\n",
              "5                 CC          COLOMBIA  ...            3                 PUBLICAR\n",
              "6                 CC          COLOMBIA  ...            3                 PUBLICAR\n",
              "7                 CC          COLOMBIA  ...            3                 PUBLICAR\n",
              "8                 CC          COLOMBIA  ...            3                 PUBLICAR\n",
              "9                 CC          COLOMBIA  ...            3                 PUBLICAR\n",
              "\n",
              "[10 rows x 105 columns]"
            ]
          },
          "metadata": {
            "tags": []
          },
          "execution_count": 16
        }
      ]
    },
    {
      "cell_type": "markdown",
      "metadata": {
        "id": "uVQyT4tBXhBM",
        "colab_type": "text"
      },
      "source": [
        "### **Construya a partir de los dos Data Frames anteriores un Data Frame que contenga los siguientes campos: identificador de estudiante, nombre de la universidad, municipio, resultados de cada prueba específica y genérica. Debe hacerlo para las dos universidades que le son indicadas a la pareja y para el programa de ingeniería industrial.**"
      ]
    },
    {
      "cell_type": "markdown",
      "metadata": {
        "id": "GOhUHTMxJ5yM",
        "colab_type": "text"
      },
      "source": [
        "## **UNIVERSIDAD PONTIFICIA BOLIVARIANA-BUCARAMANGA**\n",
        "\n"
      ]
    },
    {
      "cell_type": "markdown",
      "metadata": {
        "id": "cpJd9CboIURj",
        "colab_type": "text"
      },
      "source": [
        "Se crea una serie que lea el archivo de las competencias genéricas y busca en la columna de programa académico que cumpla la condición de ser Ingeniería Industrial, además de ser de estudiante de la universidad proporcionada, en este caso la Pontificia Bolivariana de Bucaramanga. Para así reducir la información a los datos que nos interesan."
      ]
    },
    {
      "cell_type": "code",
      "metadata": {
        "id": "UPWSGnAGD0xr",
        "colab_type": "code",
        "colab": {}
      },
      "source": [
        "serie2=datos_gen[(datos_gen.ESTU_PRGM_ACADEMICO=='INGENIERIA INDUSTRIAL')&\\\n",
        "      (datos_gen['INST_NOMBRE_INSTITUCION'].str.contains('UNIVERSIDAD PONTIFICIA BOLIVARIANA-BUCARAMANGA'))]\\\n",
        "      ['ESTU_CONSECUTIVO']"
      ],
      "execution_count": 17,
      "outputs": []
    },
    {
      "cell_type": "code",
      "metadata": {
        "id": "WhomrqJPFrYV",
        "colab_type": "code",
        "colab": {
          "base_uri": "https://localhost:8080/",
          "height": 34
        },
        "outputId": "be9a525b-ab1c-4491-a6f2-41ff63e21200"
      },
      "source": [
        "serie2.shape"
      ],
      "execution_count": 18,
      "outputs": [
        {
          "output_type": "execute_result",
          "data": {
            "text/plain": [
              "(154,)"
            ]
          },
          "metadata": {
            "tags": []
          },
          "execution_count": 18
        }
      ]
    },
    {
      "cell_type": "markdown",
      "metadata": {
        "id": "D2H7NFuoK9oU",
        "colab_type": "text"
      },
      "source": [
        "En este instante se crea un nuevo DataFrame que examina las competencias específicas que cumplan con las condiciones de la Serie que creamos anteriormente. Apartir del Consecutivo del Estudiante"
      ]
    },
    {
      "cell_type": "code",
      "metadata": {
        "id": "zpTPKFxTFvX8",
        "colab_type": "code",
        "colab": {
          "base_uri": "https://localhost:8080/",
          "height": 34
        },
        "outputId": "7e61f3f9-5fd5-46d1-f4a5-d11b1cb0a1fe"
      },
      "source": [
        "nuevoodf=datos_esp.loc[datos_esp['ESTU_CONSECUTIVO'].isin(serie2)]\n",
        "nuevoodf.shape"
      ],
      "execution_count": 19,
      "outputs": [
        {
          "output_type": "execute_result",
          "data": {
            "text/plain": [
              "(462, 5)"
            ]
          },
          "metadata": {
            "tags": []
          },
          "execution_count": 19
        }
      ]
    },
    {
      "cell_type": "code",
      "metadata": {
        "id": "UvDm55GLGg7D",
        "colab_type": "code",
        "colab": {
          "base_uri": "https://localhost:8080/",
          "height": 204
        },
        "outputId": "9cb9a5ac-1a4b-4b55-bfd7-8d0bce4030f1"
      },
      "source": [
        "nuevoodf.head()"
      ],
      "execution_count": 20,
      "outputs": [
        {
          "output_type": "execute_result",
          "data": {
            "text/html": [
              "<div>\n",
              "<style scoped>\n",
              "    .dataframe tbody tr th:only-of-type {\n",
              "        vertical-align: middle;\n",
              "    }\n",
              "\n",
              "    .dataframe tbody tr th {\n",
              "        vertical-align: top;\n",
              "    }\n",
              "\n",
              "    .dataframe thead th {\n",
              "        text-align: right;\n",
              "    }\n",
              "</style>\n",
              "<table border=\"1\" class=\"dataframe\">\n",
              "  <thead>\n",
              "    <tr style=\"text-align: right;\">\n",
              "      <th></th>\n",
              "      <th>ESTU_CONSECUTIVO</th>\n",
              "      <th>RESULT_CODIGOPRUEBA</th>\n",
              "      <th>RESULT_NOMBREPRUEBA</th>\n",
              "      <th>RESULT_PUNTAJE</th>\n",
              "      <th>RESULT_DESEMPENO</th>\n",
              "    </tr>\n",
              "  </thead>\n",
              "  <tbody>\n",
              "    <tr>\n",
              "      <th>22709</th>\n",
              "      <td>EK201950255917</td>\n",
              "      <td>2611</td>\n",
              "      <td>DISEÑO DE SISTEMAS PRODUCTIVOS Y LOGÍSTICOS</td>\n",
              "      <td>144</td>\n",
              "      <td>2</td>\n",
              "    </tr>\n",
              "    <tr>\n",
              "      <th>22710</th>\n",
              "      <td>EK201950255917</td>\n",
              "      <td>5002</td>\n",
              "      <td>FORMULACIÓN DE PROYECTOS DE INGENIERÍA</td>\n",
              "      <td>180</td>\n",
              "      <td>3</td>\n",
              "    </tr>\n",
              "    <tr>\n",
              "      <th>22711</th>\n",
              "      <td>EK201950255917</td>\n",
              "      <td>9003</td>\n",
              "      <td>PENSAMIENTO CIENTÍFICO - MATEMÁTICAS Y ESTADÍS...</td>\n",
              "      <td>171</td>\n",
              "      <td>3</td>\n",
              "    </tr>\n",
              "    <tr>\n",
              "      <th>23661</th>\n",
              "      <td>EK201950255606</td>\n",
              "      <td>2611</td>\n",
              "      <td>DISEÑO DE SISTEMAS PRODUCTIVOS Y LOGÍSTICOS</td>\n",
              "      <td>170</td>\n",
              "      <td>3</td>\n",
              "    </tr>\n",
              "    <tr>\n",
              "      <th>23662</th>\n",
              "      <td>EK201950255606</td>\n",
              "      <td>5002</td>\n",
              "      <td>FORMULACIÓN DE PROYECTOS DE INGENIERÍA</td>\n",
              "      <td>183</td>\n",
              "      <td>3</td>\n",
              "    </tr>\n",
              "  </tbody>\n",
              "</table>\n",
              "</div>"
            ],
            "text/plain": [
              "      ESTU_CONSECUTIVO  RESULT_CODIGOPRUEBA  ... RESULT_PUNTAJE  RESULT_DESEMPENO\n",
              "22709   EK201950255917                 2611  ...            144                 2\n",
              "22710   EK201950255917                 5002  ...            180                 3\n",
              "22711   EK201950255917                 9003  ...            171                 3\n",
              "23661   EK201950255606                 2611  ...            170                 3\n",
              "23662   EK201950255606                 5002  ...            183                 3\n",
              "\n",
              "[5 rows x 5 columns]"
            ]
          },
          "metadata": {
            "tags": []
          },
          "execution_count": 20
        }
      ]
    },
    {
      "cell_type": "markdown",
      "metadata": {
        "id": "pxc-WJrRLam_",
        "colab_type": "text"
      },
      "source": [
        "En esta línea pretendemos que cada estudiante que haya presentado 2 ó 3 pruebas específicas, ahora sea una sola fila en vez de 2 ó 3 respectivamente; para así tener una mejor visual de la información. Seleccionando un elemento pivot que esté presente para contrastar."
      ]
    },
    {
      "cell_type": "code",
      "metadata": {
        "id": "7nJgWnURGyF_",
        "colab_type": "code",
        "colab": {
          "base_uri": "https://localhost:8080/",
          "height": 34
        },
        "outputId": "85d2dabe-b0fe-4cf5-b12b-a59e77ee75c7"
      },
      "source": [
        "dframe=nuevoodf.pivot_table('RESULT_PUNTAJE', ['ESTU_CONSECUTIVO'], 'RESULT_NOMBREPRUEBA')\n",
        "dframe.shape"
      ],
      "execution_count": 21,
      "outputs": [
        {
          "output_type": "execute_result",
          "data": {
            "text/plain": [
              "(154, 3)"
            ]
          },
          "metadata": {
            "tags": []
          },
          "execution_count": 21
        }
      ]
    },
    {
      "cell_type": "code",
      "metadata": {
        "id": "V6afO6f1Kf9h",
        "colab_type": "code",
        "colab": {
          "base_uri": "https://localhost:8080/",
          "height": 235
        },
        "outputId": "d5ef78eb-a0b2-4690-f58f-f0235c5cfbf1"
      },
      "source": [
        "dframe.head()"
      ],
      "execution_count": 22,
      "outputs": [
        {
          "output_type": "execute_result",
          "data": {
            "text/html": [
              "<div>\n",
              "<style scoped>\n",
              "    .dataframe tbody tr th:only-of-type {\n",
              "        vertical-align: middle;\n",
              "    }\n",
              "\n",
              "    .dataframe tbody tr th {\n",
              "        vertical-align: top;\n",
              "    }\n",
              "\n",
              "    .dataframe thead th {\n",
              "        text-align: right;\n",
              "    }\n",
              "</style>\n",
              "<table border=\"1\" class=\"dataframe\">\n",
              "  <thead>\n",
              "    <tr style=\"text-align: right;\">\n",
              "      <th>RESULT_NOMBREPRUEBA</th>\n",
              "      <th>DISEÑO DE SISTEMAS PRODUCTIVOS Y LOGÍSTICOS</th>\n",
              "      <th>FORMULACIÓN DE PROYECTOS DE INGENIERÍA</th>\n",
              "      <th>PENSAMIENTO CIENTÍFICO - MATEMÁTICAS Y ESTADÍSTICA</th>\n",
              "    </tr>\n",
              "    <tr>\n",
              "      <th>ESTU_CONSECUTIVO</th>\n",
              "      <th></th>\n",
              "      <th></th>\n",
              "      <th></th>\n",
              "    </tr>\n",
              "  </thead>\n",
              "  <tbody>\n",
              "    <tr>\n",
              "      <th>EK201950255586</th>\n",
              "      <td>144</td>\n",
              "      <td>151</td>\n",
              "      <td>160</td>\n",
              "    </tr>\n",
              "    <tr>\n",
              "      <th>EK201950255589</th>\n",
              "      <td>114</td>\n",
              "      <td>132</td>\n",
              "      <td>95</td>\n",
              "    </tr>\n",
              "    <tr>\n",
              "      <th>EK201950255596</th>\n",
              "      <td>198</td>\n",
              "      <td>190</td>\n",
              "      <td>143</td>\n",
              "    </tr>\n",
              "    <tr>\n",
              "      <th>EK201950255600</th>\n",
              "      <td>192</td>\n",
              "      <td>200</td>\n",
              "      <td>188</td>\n",
              "    </tr>\n",
              "    <tr>\n",
              "      <th>EK201950255602</th>\n",
              "      <td>138</td>\n",
              "      <td>123</td>\n",
              "      <td>102</td>\n",
              "    </tr>\n",
              "  </tbody>\n",
              "</table>\n",
              "</div>"
            ],
            "text/plain": [
              "RESULT_NOMBREPRUEBA  DISEÑO DE SISTEMAS PRODUCTIVOS Y LOGÍSTICOS  ...  PENSAMIENTO CIENTÍFICO - MATEMÁTICAS Y ESTADÍSTICA\n",
              "ESTU_CONSECUTIVO                                                  ...                                                    \n",
              "EK201950255586                                               144  ...                                                160 \n",
              "EK201950255589                                               114  ...                                                 95 \n",
              "EK201950255596                                               198  ...                                                143 \n",
              "EK201950255600                                               192  ...                                                188 \n",
              "EK201950255602                                               138  ...                                                102 \n",
              "\n",
              "[5 rows x 3 columns]"
            ]
          },
          "metadata": {
            "tags": []
          },
          "execution_count": 22
        }
      ]
    },
    {
      "cell_type": "markdown",
      "metadata": {
        "id": "kFNySF1WLx4q",
        "colab_type": "text"
      },
      "source": [
        "Seleccionamos las columnas del archivo de competencias genéricas que nos interesan para después conectar este DataFrame con el anterior."
      ]
    },
    {
      "cell_type": "code",
      "metadata": {
        "id": "G9Lrw1sDLhbP",
        "colab_type": "code",
        "colab": {}
      },
      "source": [
        "dframe2=datos_gen[(datos_gen.ESTU_PRGM_ACADEMICO=='INGENIERIA INDUSTRIAL')\\\n",
        "                  &(datos_gen['INST_NOMBRE_INSTITUCION'].str.contains('UNIVERSIDAD PONTIFICIA BOLIVARIANA-BUCARAMANGA'))]\\\n",
        "                  [['ESTU_CONSECUTIVO','INST_NOMBRE_INSTITUCION','ESTU_PRGM_ACADEMICO','ESTU_MCPIO_RESIDE','MOD_RAZONA_CUANTITAT_PUNT','MOD_LECTURA_CRITICA_PUNT','MOD_COMPETEN_CIUDADA_PUNT','MOD_INGLES_PUNT','MOD_COMUNI_ESCRITA_PUNT','PUNT_GLOBAL']]"
      ],
      "execution_count": 23,
      "outputs": []
    },
    {
      "cell_type": "code",
      "metadata": {
        "id": "R-QmvGd1OLmR",
        "colab_type": "code",
        "colab": {
          "base_uri": "https://localhost:8080/",
          "height": 479
        },
        "outputId": "9ffa16c0-f722-4659-f4d7-a7ccb0e90607"
      },
      "source": [
        "dframe2.head()"
      ],
      "execution_count": 24,
      "outputs": [
        {
          "output_type": "execute_result",
          "data": {
            "text/html": [
              "<div>\n",
              "<style scoped>\n",
              "    .dataframe tbody tr th:only-of-type {\n",
              "        vertical-align: middle;\n",
              "    }\n",
              "\n",
              "    .dataframe tbody tr th {\n",
              "        vertical-align: top;\n",
              "    }\n",
              "\n",
              "    .dataframe thead th {\n",
              "        text-align: right;\n",
              "    }\n",
              "</style>\n",
              "<table border=\"1\" class=\"dataframe\">\n",
              "  <thead>\n",
              "    <tr style=\"text-align: right;\">\n",
              "      <th></th>\n",
              "      <th>ESTU_CONSECUTIVO</th>\n",
              "      <th>INST_NOMBRE_INSTITUCION</th>\n",
              "      <th>ESTU_PRGM_ACADEMICO</th>\n",
              "      <th>ESTU_MCPIO_RESIDE</th>\n",
              "      <th>MOD_RAZONA_CUANTITAT_PUNT</th>\n",
              "      <th>MOD_LECTURA_CRITICA_PUNT</th>\n",
              "      <th>MOD_COMPETEN_CIUDADA_PUNT</th>\n",
              "      <th>MOD_INGLES_PUNT</th>\n",
              "      <th>MOD_COMUNI_ESCRITA_PUNT</th>\n",
              "      <th>PUNT_GLOBAL</th>\n",
              "    </tr>\n",
              "  </thead>\n",
              "  <tbody>\n",
              "    <tr>\n",
              "      <th>109127</th>\n",
              "      <td>EK201950255982</td>\n",
              "      <td>UNIVERSIDAD PONTIFICIA BOLIVARIANA-BUCARAMANGA</td>\n",
              "      <td>INGENIERIA INDUSTRIAL</td>\n",
              "      <td>BUCARAMANGA</td>\n",
              "      <td>190</td>\n",
              "      <td>150</td>\n",
              "      <td>176</td>\n",
              "      <td>173.0</td>\n",
              "      <td>142.0</td>\n",
              "      <td>166</td>\n",
              "    </tr>\n",
              "    <tr>\n",
              "      <th>109128</th>\n",
              "      <td>EK201950255988</td>\n",
              "      <td>UNIVERSIDAD PONTIFICIA BOLIVARIANA-BUCARAMANGA</td>\n",
              "      <td>INGENIERIA INDUSTRIAL</td>\n",
              "      <td>FLORIDABLANCA</td>\n",
              "      <td>159</td>\n",
              "      <td>153</td>\n",
              "      <td>66</td>\n",
              "      <td>154.0</td>\n",
              "      <td>137.0</td>\n",
              "      <td>134</td>\n",
              "    </tr>\n",
              "    <tr>\n",
              "      <th>109129</th>\n",
              "      <td>EK201950255870</td>\n",
              "      <td>UNIVERSIDAD PONTIFICIA BOLIVARIANA-BUCARAMANGA</td>\n",
              "      <td>INGENIERIA INDUSTRIAL</td>\n",
              "      <td>FLORIDABLANCA</td>\n",
              "      <td>176</td>\n",
              "      <td>164</td>\n",
              "      <td>171</td>\n",
              "      <td>184.0</td>\n",
              "      <td>108.0</td>\n",
              "      <td>161</td>\n",
              "    </tr>\n",
              "    <tr>\n",
              "      <th>109130</th>\n",
              "      <td>EK201950255838</td>\n",
              "      <td>UNIVERSIDAD PONTIFICIA BOLIVARIANA-BUCARAMANGA</td>\n",
              "      <td>INGENIERIA INDUSTRIAL</td>\n",
              "      <td>FLORIDABLANCA</td>\n",
              "      <td>140</td>\n",
              "      <td>170</td>\n",
              "      <td>177</td>\n",
              "      <td>175.0</td>\n",
              "      <td>139.0</td>\n",
              "      <td>160</td>\n",
              "    </tr>\n",
              "    <tr>\n",
              "      <th>109131</th>\n",
              "      <td>EK201950255915</td>\n",
              "      <td>UNIVERSIDAD PONTIFICIA BOLIVARIANA-BUCARAMANGA</td>\n",
              "      <td>INGENIERIA INDUSTRIAL</td>\n",
              "      <td>FLORIDABLANCA</td>\n",
              "      <td>207</td>\n",
              "      <td>187</td>\n",
              "      <td>183</td>\n",
              "      <td>215.0</td>\n",
              "      <td>144.0</td>\n",
              "      <td>187</td>\n",
              "    </tr>\n",
              "  </tbody>\n",
              "</table>\n",
              "</div>"
            ],
            "text/plain": [
              "       ESTU_CONSECUTIVO  ... PUNT_GLOBAL\n",
              "109127   EK201950255982  ...         166\n",
              "109128   EK201950255988  ...         134\n",
              "109129   EK201950255870  ...         161\n",
              "109130   EK201950255838  ...         160\n",
              "109131   EK201950255915  ...         187\n",
              "\n",
              "[5 rows x 10 columns]"
            ]
          },
          "metadata": {
            "tags": []
          },
          "execution_count": 24
        }
      ]
    },
    {
      "cell_type": "markdown",
      "metadata": {
        "id": "vopkqA6YMGKH",
        "colab_type": "text"
      },
      "source": [
        "Por medio de la función pd.merge podemos leer ambos DataFrames y unirlos con un elemento que llamaremos de nuevo pivot, el cual es el estudiante consecutivo."
      ]
    },
    {
      "cell_type": "code",
      "metadata": {
        "id": "OK_BI7AtQGc-",
        "colab_type": "code",
        "colab": {
          "base_uri": "https://localhost:8080/",
          "height": 34
        },
        "outputId": "5bcfd20f-f2d2-4d08-f53b-322ea31aace3"
      },
      "source": [
        "dfinalBucaramanga=pd.merge(dframe, dframe2, on ='ESTU_CONSECUTIVO', how='outer')\n",
        "dfinalBucaramanga.shape"
      ],
      "execution_count": 25,
      "outputs": [
        {
          "output_type": "execute_result",
          "data": {
            "text/plain": [
              "(154, 13)"
            ]
          },
          "metadata": {
            "tags": []
          },
          "execution_count": 25
        }
      ]
    },
    {
      "cell_type": "markdown",
      "metadata": {
        "id": "oyjoMalPM9nO",
        "colab_type": "text"
      },
      "source": [
        "De esta manera ya tenemos todos los datos solicitados en una sola Tabla de datos filtrados en líneas de código anteriores."
      ]
    },
    {
      "cell_type": "code",
      "metadata": {
        "id": "SOSkr7wgQj9c",
        "colab_type": "code",
        "colab": {
          "base_uri": "https://localhost:8080/",
          "height": 564
        },
        "outputId": "ab9f7965-2e2c-4365-da28-8f054eb27e19"
      },
      "source": [
        "dfinalBucaramanga.head()"
      ],
      "execution_count": 26,
      "outputs": [
        {
          "output_type": "execute_result",
          "data": {
            "text/html": [
              "<div>\n",
              "<style scoped>\n",
              "    .dataframe tbody tr th:only-of-type {\n",
              "        vertical-align: middle;\n",
              "    }\n",
              "\n",
              "    .dataframe tbody tr th {\n",
              "        vertical-align: top;\n",
              "    }\n",
              "\n",
              "    .dataframe thead th {\n",
              "        text-align: right;\n",
              "    }\n",
              "</style>\n",
              "<table border=\"1\" class=\"dataframe\">\n",
              "  <thead>\n",
              "    <tr style=\"text-align: right;\">\n",
              "      <th></th>\n",
              "      <th>ESTU_CONSECUTIVO</th>\n",
              "      <th>DISEÑO DE SISTEMAS PRODUCTIVOS Y LOGÍSTICOS</th>\n",
              "      <th>FORMULACIÓN DE PROYECTOS DE INGENIERÍA</th>\n",
              "      <th>PENSAMIENTO CIENTÍFICO - MATEMÁTICAS Y ESTADÍSTICA</th>\n",
              "      <th>INST_NOMBRE_INSTITUCION</th>\n",
              "      <th>ESTU_PRGM_ACADEMICO</th>\n",
              "      <th>ESTU_MCPIO_RESIDE</th>\n",
              "      <th>MOD_RAZONA_CUANTITAT_PUNT</th>\n",
              "      <th>MOD_LECTURA_CRITICA_PUNT</th>\n",
              "      <th>MOD_COMPETEN_CIUDADA_PUNT</th>\n",
              "      <th>MOD_INGLES_PUNT</th>\n",
              "      <th>MOD_COMUNI_ESCRITA_PUNT</th>\n",
              "      <th>PUNT_GLOBAL</th>\n",
              "    </tr>\n",
              "  </thead>\n",
              "  <tbody>\n",
              "    <tr>\n",
              "      <th>0</th>\n",
              "      <td>EK201950255586</td>\n",
              "      <td>144</td>\n",
              "      <td>151</td>\n",
              "      <td>160</td>\n",
              "      <td>UNIVERSIDAD PONTIFICIA BOLIVARIANA-BUCARAMANGA</td>\n",
              "      <td>INGENIERIA INDUSTRIAL</td>\n",
              "      <td>BUCARAMANGA</td>\n",
              "      <td>174</td>\n",
              "      <td>148</td>\n",
              "      <td>170</td>\n",
              "      <td>159.0</td>\n",
              "      <td>184.0</td>\n",
              "      <td>167</td>\n",
              "    </tr>\n",
              "    <tr>\n",
              "      <th>1</th>\n",
              "      <td>EK201950255589</td>\n",
              "      <td>114</td>\n",
              "      <td>132</td>\n",
              "      <td>95</td>\n",
              "      <td>UNIVERSIDAD PONTIFICIA BOLIVARIANA-BUCARAMANGA</td>\n",
              "      <td>INGENIERIA INDUSTRIAL</td>\n",
              "      <td>BUCARAMANGA</td>\n",
              "      <td>155</td>\n",
              "      <td>144</td>\n",
              "      <td>147</td>\n",
              "      <td>169.0</td>\n",
              "      <td>115.0</td>\n",
              "      <td>146</td>\n",
              "    </tr>\n",
              "    <tr>\n",
              "      <th>2</th>\n",
              "      <td>EK201950255596</td>\n",
              "      <td>198</td>\n",
              "      <td>190</td>\n",
              "      <td>143</td>\n",
              "      <td>UNIVERSIDAD PONTIFICIA BOLIVARIANA-BUCARAMANGA</td>\n",
              "      <td>INGENIERIA INDUSTRIAL</td>\n",
              "      <td>FLORIDABLANCA</td>\n",
              "      <td>196</td>\n",
              "      <td>182</td>\n",
              "      <td>195</td>\n",
              "      <td>200.0</td>\n",
              "      <td>198.0</td>\n",
              "      <td>194</td>\n",
              "    </tr>\n",
              "    <tr>\n",
              "      <th>3</th>\n",
              "      <td>EK201950255600</td>\n",
              "      <td>192</td>\n",
              "      <td>200</td>\n",
              "      <td>188</td>\n",
              "      <td>UNIVERSIDAD PONTIFICIA BOLIVARIANA-BUCARAMANGA</td>\n",
              "      <td>INGENIERIA INDUSTRIAL</td>\n",
              "      <td>BUCARAMANGA</td>\n",
              "      <td>225</td>\n",
              "      <td>204</td>\n",
              "      <td>185</td>\n",
              "      <td>210.0</td>\n",
              "      <td>135.0</td>\n",
              "      <td>192</td>\n",
              "    </tr>\n",
              "    <tr>\n",
              "      <th>4</th>\n",
              "      <td>EK201950255602</td>\n",
              "      <td>138</td>\n",
              "      <td>123</td>\n",
              "      <td>102</td>\n",
              "      <td>UNIVERSIDAD PONTIFICIA BOLIVARIANA-BUCARAMANGA</td>\n",
              "      <td>INGENIERIA INDUSTRIAL</td>\n",
              "      <td>FLORIDABLANCA</td>\n",
              "      <td>119</td>\n",
              "      <td>144</td>\n",
              "      <td>130</td>\n",
              "      <td>152.0</td>\n",
              "      <td>90.0</td>\n",
              "      <td>127</td>\n",
              "    </tr>\n",
              "  </tbody>\n",
              "</table>\n",
              "</div>"
            ],
            "text/plain": [
              "  ESTU_CONSECUTIVO  ...  PUNT_GLOBAL\n",
              "0   EK201950255586  ...          167\n",
              "1   EK201950255589  ...          146\n",
              "2   EK201950255596  ...          194\n",
              "3   EK201950255600  ...          192\n",
              "4   EK201950255602  ...          127\n",
              "\n",
              "[5 rows x 13 columns]"
            ]
          },
          "metadata": {
            "tags": []
          },
          "execution_count": 26
        }
      ]
    },
    {
      "cell_type": "markdown",
      "metadata": {
        "id": "VZ6QDNUETRWe",
        "colab_type": "text"
      },
      "source": [
        "## **CORPORACION UNIVERSIDAD DE LA COSTA, CUC-BARRANQUILLA**\n"
      ]
    },
    {
      "cell_type": "code",
      "metadata": {
        "id": "83cUoFpqQm3l",
        "colab_type": "code",
        "colab": {}
      },
      "source": [
        "serie3=datos_gen[(datos_gen.ESTU_PRGM_ACADEMICO=='INGENIERIA INDUSTRIAL')&\\\n",
        "      (datos_gen['INST_NOMBRE_INSTITUCION'].str.contains('CORPORACION UNIVERSIDAD DE LA COSTA, CUC-BARRANQUILLA'))]\\\n",
        "      ['ESTU_CONSECUTIVO']"
      ],
      "execution_count": 27,
      "outputs": []
    },
    {
      "cell_type": "markdown",
      "metadata": {
        "id": "abE2GpFHNaYF",
        "colab_type": "text"
      },
      "source": [
        "Procedemos a hacer el mismo procedimiento para otra Universidad. No se junta toda la información en un solo DataFrame por facilidad al momento de manejar la información y por estética visual."
      ]
    },
    {
      "cell_type": "code",
      "metadata": {
        "id": "D8a_XmX-TnqL",
        "colab_type": "code",
        "colab": {
          "base_uri": "https://localhost:8080/",
          "height": 0
        },
        "outputId": "9e2515a5-f241-47c4-ba3f-6c499e775893"
      },
      "source": [
        "serie3.shape"
      ],
      "execution_count": 28,
      "outputs": [
        {
          "output_type": "execute_result",
          "data": {
            "text/plain": [
              "(204,)"
            ]
          },
          "metadata": {
            "tags": []
          },
          "execution_count": 28
        }
      ]
    },
    {
      "cell_type": "code",
      "metadata": {
        "id": "U2Hn8hM_TrQV",
        "colab_type": "code",
        "colab": {
          "base_uri": "https://localhost:8080/",
          "height": 0
        },
        "outputId": "ade24689-5257-401e-9acb-72b6489ee4a6"
      },
      "source": [
        "nuevooodf=datos_esp.loc[datos_esp['ESTU_CONSECUTIVO'].isin(serie3)]\n",
        "nuevooodf.shape"
      ],
      "execution_count": 29,
      "outputs": [
        {
          "output_type": "execute_result",
          "data": {
            "text/plain": [
              "(612, 5)"
            ]
          },
          "metadata": {
            "tags": []
          },
          "execution_count": 29
        }
      ]
    },
    {
      "cell_type": "code",
      "metadata": {
        "id": "wSVXVGLST0s_",
        "colab_type": "code",
        "colab": {
          "base_uri": "https://localhost:8080/",
          "height": 0
        },
        "outputId": "acab72ba-28b8-4fa3-ae1b-4a44939d6abe"
      },
      "source": [
        "nuevooodf.head()"
      ],
      "execution_count": 30,
      "outputs": [
        {
          "output_type": "execute_result",
          "data": {
            "text/html": [
              "<div>\n",
              "<style scoped>\n",
              "    .dataframe tbody tr th:only-of-type {\n",
              "        vertical-align: middle;\n",
              "    }\n",
              "\n",
              "    .dataframe tbody tr th {\n",
              "        vertical-align: top;\n",
              "    }\n",
              "\n",
              "    .dataframe thead th {\n",
              "        text-align: right;\n",
              "    }\n",
              "</style>\n",
              "<table border=\"1\" class=\"dataframe\">\n",
              "  <thead>\n",
              "    <tr style=\"text-align: right;\">\n",
              "      <th></th>\n",
              "      <th>ESTU_CONSECUTIVO</th>\n",
              "      <th>RESULT_CODIGOPRUEBA</th>\n",
              "      <th>RESULT_NOMBREPRUEBA</th>\n",
              "      <th>RESULT_PUNTAJE</th>\n",
              "      <th>RESULT_DESEMPENO</th>\n",
              "    </tr>\n",
              "  </thead>\n",
              "  <tbody>\n",
              "    <tr>\n",
              "      <th>237000</th>\n",
              "      <td>EK201950202084</td>\n",
              "      <td>2611</td>\n",
              "      <td>DISEÑO DE SISTEMAS PRODUCTIVOS Y LOGÍSTICOS</td>\n",
              "      <td>105</td>\n",
              "      <td>1</td>\n",
              "    </tr>\n",
              "    <tr>\n",
              "      <th>237001</th>\n",
              "      <td>EK201950202084</td>\n",
              "      <td>5002</td>\n",
              "      <td>FORMULACIÓN DE PROYECTOS DE INGENIERÍA</td>\n",
              "      <td>151</td>\n",
              "      <td>2</td>\n",
              "    </tr>\n",
              "    <tr>\n",
              "      <th>237002</th>\n",
              "      <td>EK201950202084</td>\n",
              "      <td>9003</td>\n",
              "      <td>PENSAMIENTO CIENTÍFICO - MATEMÁTICAS Y ESTADÍS...</td>\n",
              "      <td>129</td>\n",
              "      <td>2</td>\n",
              "    </tr>\n",
              "    <tr>\n",
              "      <th>237003</th>\n",
              "      <td>EK201950204278</td>\n",
              "      <td>2611</td>\n",
              "      <td>DISEÑO DE SISTEMAS PRODUCTIVOS Y LOGÍSTICOS</td>\n",
              "      <td>151</td>\n",
              "      <td>2</td>\n",
              "    </tr>\n",
              "    <tr>\n",
              "      <th>237004</th>\n",
              "      <td>EK201950204278</td>\n",
              "      <td>5002</td>\n",
              "      <td>FORMULACIÓN DE PROYECTOS DE INGENIERÍA</td>\n",
              "      <td>140</td>\n",
              "      <td>2</td>\n",
              "    </tr>\n",
              "  </tbody>\n",
              "</table>\n",
              "</div>"
            ],
            "text/plain": [
              "       ESTU_CONSECUTIVO  RESULT_CODIGOPRUEBA  ... RESULT_PUNTAJE  RESULT_DESEMPENO\n",
              "237000   EK201950202084                 2611  ...            105                 1\n",
              "237001   EK201950202084                 5002  ...            151                 2\n",
              "237002   EK201950202084                 9003  ...            129                 2\n",
              "237003   EK201950204278                 2611  ...            151                 2\n",
              "237004   EK201950204278                 5002  ...            140                 2\n",
              "\n",
              "[5 rows x 5 columns]"
            ]
          },
          "metadata": {
            "tags": []
          },
          "execution_count": 30
        }
      ]
    },
    {
      "cell_type": "code",
      "metadata": {
        "id": "2GAx8qm4T1uw",
        "colab_type": "code",
        "colab": {
          "base_uri": "https://localhost:8080/",
          "height": 0
        },
        "outputId": "f4e19b60-b6e3-43c1-9d8d-469b85b71cdb"
      },
      "source": [
        "dframecuc=nuevooodf.pivot_table('RESULT_PUNTAJE', ['ESTU_CONSECUTIVO'], 'RESULT_NOMBREPRUEBA')\n",
        "dframecuc.shape"
      ],
      "execution_count": 31,
      "outputs": [
        {
          "output_type": "execute_result",
          "data": {
            "text/plain": [
              "(204, 3)"
            ]
          },
          "metadata": {
            "tags": []
          },
          "execution_count": 31
        }
      ]
    },
    {
      "cell_type": "code",
      "metadata": {
        "id": "DSOEBzn3UBfP",
        "colab_type": "code",
        "colab": {
          "base_uri": "https://localhost:8080/",
          "height": 0
        },
        "outputId": "0f6ebd3c-a982-41ea-eadb-ee6842c019d7"
      },
      "source": [
        "dframecuc.head()"
      ],
      "execution_count": 32,
      "outputs": [
        {
          "output_type": "execute_result",
          "data": {
            "text/html": [
              "<div>\n",
              "<style scoped>\n",
              "    .dataframe tbody tr th:only-of-type {\n",
              "        vertical-align: middle;\n",
              "    }\n",
              "\n",
              "    .dataframe tbody tr th {\n",
              "        vertical-align: top;\n",
              "    }\n",
              "\n",
              "    .dataframe thead th {\n",
              "        text-align: right;\n",
              "    }\n",
              "</style>\n",
              "<table border=\"1\" class=\"dataframe\">\n",
              "  <thead>\n",
              "    <tr style=\"text-align: right;\">\n",
              "      <th>RESULT_NOMBREPRUEBA</th>\n",
              "      <th>DISEÑO DE SISTEMAS PRODUCTIVOS Y LOGÍSTICOS</th>\n",
              "      <th>FORMULACIÓN DE PROYECTOS DE INGENIERÍA</th>\n",
              "      <th>PENSAMIENTO CIENTÍFICO - MATEMÁTICAS Y ESTADÍSTICA</th>\n",
              "    </tr>\n",
              "    <tr>\n",
              "      <th>ESTU_CONSECUTIVO</th>\n",
              "      <th></th>\n",
              "      <th></th>\n",
              "      <th></th>\n",
              "    </tr>\n",
              "  </thead>\n",
              "  <tbody>\n",
              "    <tr>\n",
              "      <th>EK201950186482</th>\n",
              "      <td>126</td>\n",
              "      <td>159</td>\n",
              "      <td>127</td>\n",
              "    </tr>\n",
              "    <tr>\n",
              "      <th>EK201950186688</th>\n",
              "      <td>138</td>\n",
              "      <td>153</td>\n",
              "      <td>108</td>\n",
              "    </tr>\n",
              "    <tr>\n",
              "      <th>EK201950194235</th>\n",
              "      <td>164</td>\n",
              "      <td>148</td>\n",
              "      <td>122</td>\n",
              "    </tr>\n",
              "    <tr>\n",
              "      <th>EK201950194350</th>\n",
              "      <td>167</td>\n",
              "      <td>152</td>\n",
              "      <td>122</td>\n",
              "    </tr>\n",
              "    <tr>\n",
              "      <th>EK201950194546</th>\n",
              "      <td>151</td>\n",
              "      <td>149</td>\n",
              "      <td>149</td>\n",
              "    </tr>\n",
              "  </tbody>\n",
              "</table>\n",
              "</div>"
            ],
            "text/plain": [
              "RESULT_NOMBREPRUEBA  DISEÑO DE SISTEMAS PRODUCTIVOS Y LOGÍSTICOS  ...  PENSAMIENTO CIENTÍFICO - MATEMÁTICAS Y ESTADÍSTICA\n",
              "ESTU_CONSECUTIVO                                                  ...                                                    \n",
              "EK201950186482                                               126  ...                                                127 \n",
              "EK201950186688                                               138  ...                                                108 \n",
              "EK201950194235                                               164  ...                                                122 \n",
              "EK201950194350                                               167  ...                                                122 \n",
              "EK201950194546                                               151  ...                                                149 \n",
              "\n",
              "[5 rows x 3 columns]"
            ]
          },
          "metadata": {
            "tags": []
          },
          "execution_count": 32
        }
      ]
    },
    {
      "cell_type": "code",
      "metadata": {
        "id": "eVeBvObeUNGd",
        "colab_type": "code",
        "colab": {}
      },
      "source": [
        "dframe2cuc=datos_gen[(datos_gen.ESTU_PRGM_ACADEMICO=='INGENIERIA INDUSTRIAL')\\\n",
        "                  &(datos_gen['INST_NOMBRE_INSTITUCION'].str.contains('CORPORACION UNIVERSIDAD DE LA COSTA, CUC-BARRANQUILLA'))]\\\n",
        "                  [['ESTU_CONSECUTIVO','INST_NOMBRE_INSTITUCION','ESTU_PRGM_ACADEMICO','ESTU_MCPIO_RESIDE','MOD_RAZONA_CUANTITAT_PUNT','MOD_LECTURA_CRITICA_PUNT','MOD_COMPETEN_CIUDADA_PUNT','MOD_INGLES_PUNT','MOD_COMUNI_ESCRITA_PUNT','PUNT_GLOBAL']]"
      ],
      "execution_count": 33,
      "outputs": []
    },
    {
      "cell_type": "code",
      "metadata": {
        "id": "-I1wJIclUfNa",
        "colab_type": "code",
        "colab": {
          "base_uri": "https://localhost:8080/",
          "height": 0
        },
        "outputId": "e119c183-8906-4191-fc3f-59e54cf08715"
      },
      "source": [
        "dframe2cuc.head()"
      ],
      "execution_count": 34,
      "outputs": [
        {
          "output_type": "execute_result",
          "data": {
            "text/html": [
              "<div>\n",
              "<style scoped>\n",
              "    .dataframe tbody tr th:only-of-type {\n",
              "        vertical-align: middle;\n",
              "    }\n",
              "\n",
              "    .dataframe tbody tr th {\n",
              "        vertical-align: top;\n",
              "    }\n",
              "\n",
              "    .dataframe thead th {\n",
              "        text-align: right;\n",
              "    }\n",
              "</style>\n",
              "<table border=\"1\" class=\"dataframe\">\n",
              "  <thead>\n",
              "    <tr style=\"text-align: right;\">\n",
              "      <th></th>\n",
              "      <th>ESTU_CONSECUTIVO</th>\n",
              "      <th>INST_NOMBRE_INSTITUCION</th>\n",
              "      <th>ESTU_PRGM_ACADEMICO</th>\n",
              "      <th>ESTU_MCPIO_RESIDE</th>\n",
              "      <th>MOD_RAZONA_CUANTITAT_PUNT</th>\n",
              "      <th>MOD_LECTURA_CRITICA_PUNT</th>\n",
              "      <th>MOD_COMPETEN_CIUDADA_PUNT</th>\n",
              "      <th>MOD_INGLES_PUNT</th>\n",
              "      <th>MOD_COMUNI_ESCRITA_PUNT</th>\n",
              "      <th>PUNT_GLOBAL</th>\n",
              "    </tr>\n",
              "  </thead>\n",
              "  <tbody>\n",
              "    <tr>\n",
              "      <th>20465</th>\n",
              "      <td>EK201950350409</td>\n",
              "      <td>CORPORACION UNIVERSIDAD DE LA COSTA, CUC-BARRA...</td>\n",
              "      <td>INGENIERIA INDUSTRIAL</td>\n",
              "      <td>SOLEDAD</td>\n",
              "      <td>144</td>\n",
              "      <td>114</td>\n",
              "      <td>92</td>\n",
              "      <td>97.0</td>\n",
              "      <td>139.0</td>\n",
              "      <td>117</td>\n",
              "    </tr>\n",
              "    <tr>\n",
              "      <th>20466</th>\n",
              "      <td>EK201950212395</td>\n",
              "      <td>CORPORACION UNIVERSIDAD DE LA COSTA, CUC-BARRA...</td>\n",
              "      <td>INGENIERIA INDUSTRIAL</td>\n",
              "      <td>BARRANQUILLA</td>\n",
              "      <td>169</td>\n",
              "      <td>94</td>\n",
              "      <td>114</td>\n",
              "      <td>155.0</td>\n",
              "      <td>153.0</td>\n",
              "      <td>137</td>\n",
              "    </tr>\n",
              "    <tr>\n",
              "      <th>20467</th>\n",
              "      <td>EK201950197480</td>\n",
              "      <td>CORPORACION UNIVERSIDAD DE LA COSTA, CUC-BARRA...</td>\n",
              "      <td>INGENIERIA INDUSTRIAL</td>\n",
              "      <td>BARRANQUILLA</td>\n",
              "      <td>140</td>\n",
              "      <td>174</td>\n",
              "      <td>175</td>\n",
              "      <td>195.0</td>\n",
              "      <td>175.0</td>\n",
              "      <td>172</td>\n",
              "    </tr>\n",
              "    <tr>\n",
              "      <th>20468</th>\n",
              "      <td>EK201950204921</td>\n",
              "      <td>CORPORACION UNIVERSIDAD DE LA COSTA, CUC-BARRA...</td>\n",
              "      <td>INGENIERIA INDUSTRIAL</td>\n",
              "      <td>SOLEDAD</td>\n",
              "      <td>112</td>\n",
              "      <td>145</td>\n",
              "      <td>146</td>\n",
              "      <td>167.0</td>\n",
              "      <td>164.0</td>\n",
              "      <td>147</td>\n",
              "    </tr>\n",
              "    <tr>\n",
              "      <th>20469</th>\n",
              "      <td>EK201950195529</td>\n",
              "      <td>CORPORACION UNIVERSIDAD DE LA COSTA, CUC-BARRA...</td>\n",
              "      <td>INGENIERIA INDUSTRIAL</td>\n",
              "      <td>GALAPA</td>\n",
              "      <td>126</td>\n",
              "      <td>158</td>\n",
              "      <td>96</td>\n",
              "      <td>134.0</td>\n",
              "      <td>139.0</td>\n",
              "      <td>131</td>\n",
              "    </tr>\n",
              "  </tbody>\n",
              "</table>\n",
              "</div>"
            ],
            "text/plain": [
              "      ESTU_CONSECUTIVO  ... PUNT_GLOBAL\n",
              "20465   EK201950350409  ...         117\n",
              "20466   EK201950212395  ...         137\n",
              "20467   EK201950197480  ...         172\n",
              "20468   EK201950204921  ...         147\n",
              "20469   EK201950195529  ...         131\n",
              "\n",
              "[5 rows x 10 columns]"
            ]
          },
          "metadata": {
            "tags": []
          },
          "execution_count": 34
        }
      ]
    },
    {
      "cell_type": "code",
      "metadata": {
        "id": "TDK8jX8qUjXl",
        "colab_type": "code",
        "colab": {
          "base_uri": "https://localhost:8080/",
          "height": 0
        },
        "outputId": "c892b1df-8342-4dff-b5fe-dc36fba2b8d8"
      },
      "source": [
        "dfinalcuc=pd.merge(dframecuc, dframe2cuc, on ='ESTU_CONSECUTIVO', how='outer')\n",
        "dfinalcuc.shape"
      ],
      "execution_count": 35,
      "outputs": [
        {
          "output_type": "execute_result",
          "data": {
            "text/plain": [
              "(204, 13)"
            ]
          },
          "metadata": {
            "tags": []
          },
          "execution_count": 35
        }
      ]
    },
    {
      "cell_type": "markdown",
      "metadata": {
        "id": "hU0FDufxOYbc",
        "colab_type": "text"
      },
      "source": [
        "Finalmente tenemos la totalidad de los datos bien organizados y listos para ser manipulados, separados por su respectiva Universidad y programa curricular."
      ]
    },
    {
      "cell_type": "code",
      "metadata": {
        "id": "N2Sdp39nU_c1",
        "colab_type": "code",
        "colab": {
          "base_uri": "https://localhost:8080/",
          "height": 0
        },
        "outputId": "a10abc07-b28e-4b6a-d808-d5697bd77cda"
      },
      "source": [
        "dfinalcuc.head()"
      ],
      "execution_count": 36,
      "outputs": [
        {
          "output_type": "execute_result",
          "data": {
            "text/html": [
              "<div>\n",
              "<style scoped>\n",
              "    .dataframe tbody tr th:only-of-type {\n",
              "        vertical-align: middle;\n",
              "    }\n",
              "\n",
              "    .dataframe tbody tr th {\n",
              "        vertical-align: top;\n",
              "    }\n",
              "\n",
              "    .dataframe thead th {\n",
              "        text-align: right;\n",
              "    }\n",
              "</style>\n",
              "<table border=\"1\" class=\"dataframe\">\n",
              "  <thead>\n",
              "    <tr style=\"text-align: right;\">\n",
              "      <th></th>\n",
              "      <th>ESTU_CONSECUTIVO</th>\n",
              "      <th>DISEÑO DE SISTEMAS PRODUCTIVOS Y LOGÍSTICOS</th>\n",
              "      <th>FORMULACIÓN DE PROYECTOS DE INGENIERÍA</th>\n",
              "      <th>PENSAMIENTO CIENTÍFICO - MATEMÁTICAS Y ESTADÍSTICA</th>\n",
              "      <th>INST_NOMBRE_INSTITUCION</th>\n",
              "      <th>ESTU_PRGM_ACADEMICO</th>\n",
              "      <th>ESTU_MCPIO_RESIDE</th>\n",
              "      <th>MOD_RAZONA_CUANTITAT_PUNT</th>\n",
              "      <th>MOD_LECTURA_CRITICA_PUNT</th>\n",
              "      <th>MOD_COMPETEN_CIUDADA_PUNT</th>\n",
              "      <th>MOD_INGLES_PUNT</th>\n",
              "      <th>MOD_COMUNI_ESCRITA_PUNT</th>\n",
              "      <th>PUNT_GLOBAL</th>\n",
              "    </tr>\n",
              "  </thead>\n",
              "  <tbody>\n",
              "    <tr>\n",
              "      <th>0</th>\n",
              "      <td>EK201950186482</td>\n",
              "      <td>126</td>\n",
              "      <td>159</td>\n",
              "      <td>127</td>\n",
              "      <td>CORPORACION UNIVERSIDAD DE LA COSTA, CUC-BARRA...</td>\n",
              "      <td>INGENIERIA INDUSTRIAL</td>\n",
              "      <td>PALMAR DE VARELA</td>\n",
              "      <td>123</td>\n",
              "      <td>184</td>\n",
              "      <td>144</td>\n",
              "      <td>162.0</td>\n",
              "      <td>101.0</td>\n",
              "      <td>143</td>\n",
              "    </tr>\n",
              "    <tr>\n",
              "      <th>1</th>\n",
              "      <td>EK201950186688</td>\n",
              "      <td>138</td>\n",
              "      <td>153</td>\n",
              "      <td>108</td>\n",
              "      <td>CORPORACION UNIVERSIDAD DE LA COSTA, CUC-BARRA...</td>\n",
              "      <td>INGENIERIA INDUSTRIAL</td>\n",
              "      <td>SOLEDAD</td>\n",
              "      <td>153</td>\n",
              "      <td>158</td>\n",
              "      <td>202</td>\n",
              "      <td>178.0</td>\n",
              "      <td>127.0</td>\n",
              "      <td>164</td>\n",
              "    </tr>\n",
              "    <tr>\n",
              "      <th>2</th>\n",
              "      <td>EK201950194235</td>\n",
              "      <td>164</td>\n",
              "      <td>148</td>\n",
              "      <td>122</td>\n",
              "      <td>CORPORACION UNIVERSIDAD DE LA COSTA, CUC-BARRA...</td>\n",
              "      <td>INGENIERIA INDUSTRIAL</td>\n",
              "      <td>GALAPA</td>\n",
              "      <td>158</td>\n",
              "      <td>99</td>\n",
              "      <td>96</td>\n",
              "      <td>142.0</td>\n",
              "      <td>130.0</td>\n",
              "      <td>125</td>\n",
              "    </tr>\n",
              "    <tr>\n",
              "      <th>3</th>\n",
              "      <td>EK201950194350</td>\n",
              "      <td>167</td>\n",
              "      <td>152</td>\n",
              "      <td>122</td>\n",
              "      <td>CORPORACION UNIVERSIDAD DE LA COSTA, CUC-BARRA...</td>\n",
              "      <td>INGENIERIA INDUSTRIAL</td>\n",
              "      <td>BARRANQUILLA</td>\n",
              "      <td>185</td>\n",
              "      <td>173</td>\n",
              "      <td>151</td>\n",
              "      <td>141.0</td>\n",
              "      <td>180.0</td>\n",
              "      <td>166</td>\n",
              "    </tr>\n",
              "    <tr>\n",
              "      <th>4</th>\n",
              "      <td>EK201950194546</td>\n",
              "      <td>151</td>\n",
              "      <td>149</td>\n",
              "      <td>149</td>\n",
              "      <td>CORPORACION UNIVERSIDAD DE LA COSTA, CUC-BARRA...</td>\n",
              "      <td>INGENIERIA INDUSTRIAL</td>\n",
              "      <td>BARRANQUILLA</td>\n",
              "      <td>188</td>\n",
              "      <td>178</td>\n",
              "      <td>169</td>\n",
              "      <td>180.0</td>\n",
              "      <td>195.0</td>\n",
              "      <td>182</td>\n",
              "    </tr>\n",
              "  </tbody>\n",
              "</table>\n",
              "</div>"
            ],
            "text/plain": [
              "  ESTU_CONSECUTIVO  ...  PUNT_GLOBAL\n",
              "0   EK201950186482  ...          143\n",
              "1   EK201950186688  ...          164\n",
              "2   EK201950194235  ...          125\n",
              "3   EK201950194350  ...          166\n",
              "4   EK201950194546  ...          182\n",
              "\n",
              "[5 rows x 13 columns]"
            ]
          },
          "metadata": {
            "tags": []
          },
          "execution_count": 36
        }
      ]
    },
    {
      "cell_type": "markdown",
      "metadata": {
        "id": "jz8tT9UEY-YJ",
        "colab_type": "text"
      },
      "source": [
        "**A partir de la tabla anterior realice el histograma de frecuencias (presente también la tabla de frecuencias) y el diagrama de cajas para los estudiantes del programa de ingeniería industrial para cada una de las dos universidades y para cada una de las competencias (genéricas y especificas) ¿Qué conclusiones puede obtenerse de estos gráficos?**"
      ]
    },
    {
      "cell_type": "code",
      "metadata": {
        "id": "LeFJPHQNVEFa",
        "colab_type": "code",
        "colab": {
          "base_uri": "https://localhost:8080/",
          "height": 0
        },
        "outputId": "4a5a5aed-ddcb-4436-dbf4-5eed35fc1405"
      },
      "source": [
        "dfinalBucaramanga.columns"
      ],
      "execution_count": 37,
      "outputs": [
        {
          "output_type": "execute_result",
          "data": {
            "text/plain": [
              "Index(['ESTU_CONSECUTIVO', 'DISEÑO DE SISTEMAS PRODUCTIVOS Y LOGÍSTICOS',\n",
              "       'FORMULACIÓN DE PROYECTOS DE INGENIERÍA',\n",
              "       'PENSAMIENTO CIENTÍFICO - MATEMÁTICAS Y ESTADÍSTICA',\n",
              "       'INST_NOMBRE_INSTITUCION', 'ESTU_PRGM_ACADEMICO', 'ESTU_MCPIO_RESIDE',\n",
              "       'MOD_RAZONA_CUANTITAT_PUNT', 'MOD_LECTURA_CRITICA_PUNT',\n",
              "       'MOD_COMPETEN_CIUDADA_PUNT', 'MOD_INGLES_PUNT',\n",
              "       'MOD_COMUNI_ESCRITA_PUNT', 'PUNT_GLOBAL'],\n",
              "      dtype='object')"
            ]
          },
          "metadata": {
            "tags": []
          },
          "execution_count": 37
        }
      ]
    },
    {
      "cell_type": "markdown",
      "metadata": {
        "id": "1auyUicyzrxG",
        "colab_type": "text"
      },
      "source": [
        ""
      ]
    },
    {
      "cell_type": "markdown",
      "metadata": {
        "id": "RBsQ6ep7gZ_7",
        "colab_type": "text"
      },
      "source": [
        "## **HISTOGRAMA, TABLAS DE FRECUENCIA Y DIAGRAMA DE CAJAS**"
      ]
    },
    {
      "cell_type": "markdown",
      "metadata": {
        "id": "8edWM-8x0-pp",
        "colab_type": "text"
      },
      "source": [
        "## ESPECIFICAS PONTIFICIA BOLIVARIANA-BUCARAMANGA"
      ]
    },
    {
      "cell_type": "markdown",
      "metadata": {
        "id": "etV7pCvwhnGI",
        "colab_type": "text"
      },
      "source": [
        "UNIVERSIDAD PONTIFICIA BOLIVARIANA-BUCARAMANGA. PRUEBA ESPECÍFICA: DISEÑO DE SISTEMAS PRODUCTIVOS Y LOGÍSTICOS"
      ]
    },
    {
      "cell_type": "markdown",
      "metadata": {
        "id": "qRLMr4hJQco3",
        "colab_type": "text"
      },
      "source": [
        "*Se le asigna a la variable \"da\" todos los datos que correspondan a la prueba específica de Diseño de sistemas productivos y logísticos y que cumplan con la condición de ser mayores que 0 ó que no estén vacios.\n",
        "\n",
        "Seguidamente, los elementos de \"da\" son asignados a la variable \"bucesp1\", la que significa \"Bucaramanga específicas 1\".*"
      ]
    },
    {
      "cell_type": "code",
      "metadata": {
        "id": "2QgcdxDCZOsl",
        "colab_type": "code",
        "colab": {
          "base_uri": "https://localhost:8080/",
          "height": 204
        },
        "outputId": "da94b987-3eb8-4c9b-b278-2b49a8e74a43"
      },
      "source": [
        "da=dfinalBucaramanga[dfinalBucaramanga['DISEÑO DE SISTEMAS PRODUCTIVOS Y LOGÍSTICOS']>0]\n",
        "bucesp1=da.iloc[0:155][['DISEÑO DE SISTEMAS PRODUCTIVOS Y LOGÍSTICOS']] \n",
        "bucesp1.head()"
      ],
      "execution_count": 169,
      "outputs": [
        {
          "output_type": "execute_result",
          "data": {
            "text/html": [
              "<div>\n",
              "<style scoped>\n",
              "    .dataframe tbody tr th:only-of-type {\n",
              "        vertical-align: middle;\n",
              "    }\n",
              "\n",
              "    .dataframe tbody tr th {\n",
              "        vertical-align: top;\n",
              "    }\n",
              "\n",
              "    .dataframe thead th {\n",
              "        text-align: right;\n",
              "    }\n",
              "</style>\n",
              "<table border=\"1\" class=\"dataframe\">\n",
              "  <thead>\n",
              "    <tr style=\"text-align: right;\">\n",
              "      <th></th>\n",
              "      <th>DISEÑO DE SISTEMAS PRODUCTIVOS Y LOGÍSTICOS</th>\n",
              "    </tr>\n",
              "  </thead>\n",
              "  <tbody>\n",
              "    <tr>\n",
              "      <th>0</th>\n",
              "      <td>144</td>\n",
              "    </tr>\n",
              "    <tr>\n",
              "      <th>1</th>\n",
              "      <td>114</td>\n",
              "    </tr>\n",
              "    <tr>\n",
              "      <th>2</th>\n",
              "      <td>198</td>\n",
              "    </tr>\n",
              "    <tr>\n",
              "      <th>3</th>\n",
              "      <td>192</td>\n",
              "    </tr>\n",
              "    <tr>\n",
              "      <th>4</th>\n",
              "      <td>138</td>\n",
              "    </tr>\n",
              "  </tbody>\n",
              "</table>\n",
              "</div>"
            ],
            "text/plain": [
              "   DISEÑO DE SISTEMAS PRODUCTIVOS Y LOGÍSTICOS\n",
              "0                                          144\n",
              "1                                          114\n",
              "2                                          198\n",
              "3                                          192\n",
              "4                                          138"
            ]
          },
          "metadata": {
            "tags": []
          },
          "execution_count": 169
        }
      ]
    },
    {
      "cell_type": "markdown",
      "metadata": {
        "id": "Y0JMv7m7RH6q",
        "colab_type": "text"
      },
      "source": [
        "Se comprueba que los datos hayan sido almacenados correctamente y se les asigna a un vector por medio de la función *ravel* de numpy la cual convierte matrices a vectores. Por último se le asigna a la variable \"bucesp1vec\" (Bucaramanga específicas1 vector)"
      ]
    },
    {
      "cell_type": "code",
      "metadata": {
        "id": "M-1M2LjBcayS",
        "colab_type": "code",
        "colab": {
          "base_uri": "https://localhost:8080/",
          "height": 34
        },
        "outputId": "99e9eef2-48f3-40bc-c9ff-ea1af32e1e26"
      },
      "source": [
        "bucesp1vec=np.ravel(bucesp1)\n",
        "bucesp1vec.shape"
      ],
      "execution_count": 170,
      "outputs": [
        {
          "output_type": "execute_result",
          "data": {
            "text/plain": [
              "(154,)"
            ]
          },
          "metadata": {
            "tags": []
          },
          "execution_count": 170
        }
      ]
    },
    {
      "cell_type": "markdown",
      "metadata": {
        "id": "FPy2seK5R5R7",
        "colab_type": "text"
      },
      "source": [
        "\n",
        "Se determina el rango es cual es la resta del máximo y mínimo valor del vector.\n",
        "Los intervalos se definen por intuición, sabiendo que son los adecuados para poder realizar un buen histograma y diagrama de caja.\n",
        "Los intervalos estan limitados por los valores de los bins mediante la función linspace de numpy\n",
        "En la úlyima parte del código se establecen las frecuencias por medio de un ciclo.\n",
        "\n"
      ]
    },
    {
      "cell_type": "code",
      "metadata": {
        "id": "4fka50-_ear4",
        "colab_type": "code",
        "colab": {}
      },
      "source": [
        "rango=np.max(bucesp1vec)-np.min(bucesp1vec)\n",
        "nIntervalos= 8\n",
        "anchoIntervalo= (rango+0.001)/nIntervalos\n",
        "bins1= np.linspace(np.min(bucesp1vec)-0.0005, np.max(bucesp1vec)+0.0005, (nIntervalos+1))\n",
        "binplace= np.digitize(bucesp1vec, bins1)\n",
        "freq = [len(bucesp1vec[binplace == i]) for i in range (1, len(bins1))]"
      ],
      "execution_count": 171,
      "outputs": []
    },
    {
      "cell_type": "markdown",
      "metadata": {
        "id": "B6mgYXAhT2TU",
        "colab_type": "text"
      },
      "source": [
        "Para hacer la tabla de frecuencia se crea una serie de datos vacios para así por medio de un ciclo establecer los intervalos y frecuencia para asignarlos a un DataFrame.\n"
      ]
    },
    {
      "cell_type": "code",
      "metadata": {
        "id": "XMBWH3EWfaXE",
        "colab_type": "code",
        "colab": {
          "base_uri": "https://localhost:8080/",
          "height": 433
        },
        "outputId": "5d1ec0a2-7ae2-4d96-dc55-e999f97e3f80"
      },
      "source": [
        "intervals_name= []\n",
        "for i in range(len(bins1)-1):\n",
        "  lim_inf= bins1[i]\n",
        "  lim_sup= bins1[i+1]\n",
        "  label= '['+\"{0:.2f}\".format(lim_inf)+\",\"+\"{0:.2f}\".format(lim_sup)+\")\"\n",
        "  intervals_name.append(label)\n",
        "  print(label)\n",
        "freq_table=pd.DataFrame({'Intervalo':intervals_name, 'Frecuencia':freq}) \n",
        "freq_table"
      ],
      "execution_count": 172,
      "outputs": [
        {
          "output_type": "stream",
          "text": [
            "[71.00,87.50)\n",
            "[87.50,104.00)\n",
            "[104.00,120.50)\n",
            "[120.50,137.00)\n",
            "[137.00,153.50)\n",
            "[153.50,170.00)\n",
            "[170.00,186.50)\n",
            "[186.50,203.00)\n"
          ],
          "name": "stdout"
        },
        {
          "output_type": "execute_result",
          "data": {
            "text/html": [
              "<div>\n",
              "<style scoped>\n",
              "    .dataframe tbody tr th:only-of-type {\n",
              "        vertical-align: middle;\n",
              "    }\n",
              "\n",
              "    .dataframe tbody tr th {\n",
              "        vertical-align: top;\n",
              "    }\n",
              "\n",
              "    .dataframe thead th {\n",
              "        text-align: right;\n",
              "    }\n",
              "</style>\n",
              "<table border=\"1\" class=\"dataframe\">\n",
              "  <thead>\n",
              "    <tr style=\"text-align: right;\">\n",
              "      <th></th>\n",
              "      <th>Intervalo</th>\n",
              "      <th>Frecuencia</th>\n",
              "    </tr>\n",
              "  </thead>\n",
              "  <tbody>\n",
              "    <tr>\n",
              "      <th>0</th>\n",
              "      <td>[71.00,87.50)</td>\n",
              "      <td>4</td>\n",
              "    </tr>\n",
              "    <tr>\n",
              "      <th>1</th>\n",
              "      <td>[87.50,104.00)</td>\n",
              "      <td>6</td>\n",
              "    </tr>\n",
              "    <tr>\n",
              "      <th>2</th>\n",
              "      <td>[104.00,120.50)</td>\n",
              "      <td>16</td>\n",
              "    </tr>\n",
              "    <tr>\n",
              "      <th>3</th>\n",
              "      <td>[120.50,137.00)</td>\n",
              "      <td>23</td>\n",
              "    </tr>\n",
              "    <tr>\n",
              "      <th>4</th>\n",
              "      <td>[137.00,153.50)</td>\n",
              "      <td>39</td>\n",
              "    </tr>\n",
              "    <tr>\n",
              "      <th>5</th>\n",
              "      <td>[153.50,170.00)</td>\n",
              "      <td>40</td>\n",
              "    </tr>\n",
              "    <tr>\n",
              "      <th>6</th>\n",
              "      <td>[170.00,186.50)</td>\n",
              "      <td>13</td>\n",
              "    </tr>\n",
              "    <tr>\n",
              "      <th>7</th>\n",
              "      <td>[186.50,203.00)</td>\n",
              "      <td>13</td>\n",
              "    </tr>\n",
              "  </tbody>\n",
              "</table>\n",
              "</div>"
            ],
            "text/plain": [
              "         Intervalo  Frecuencia\n",
              "0    [71.00,87.50)           4\n",
              "1   [87.50,104.00)           6\n",
              "2  [104.00,120.50)          16\n",
              "3  [120.50,137.00)          23\n",
              "4  [137.00,153.50)          39\n",
              "5  [153.50,170.00)          40\n",
              "6  [170.00,186.50)          13\n",
              "7  [186.50,203.00)          13"
            ]
          },
          "metadata": {
            "tags": []
          },
          "execution_count": 172
        }
      ]
    },
    {
      "cell_type": "markdown",
      "metadata": {
        "id": "L2Pzrbh6UY3d",
        "colab_type": "text"
      },
      "source": [
        "En esta línea se usa la libreria *matplotlib.pyplot* para hacer el histograma que recibe una serie de datos del vector, así como los bins. Básicamente se grafica la tabla de frecuencias.\n",
        "Adicionalmente se le asignan coordenadas lineales al histograma que se posan en los bordes superiores de cada intervalo."
      ]
    },
    {
      "cell_type": "code",
      "metadata": {
        "id": "EShptOP5fiHI",
        "colab_type": "code",
        "colab": {
          "base_uri": "https://localhost:8080/",
          "height": 316
        },
        "outputId": "8e3ad1b4-17f1-4381-d5a3-66e40f3e9df0"
      },
      "source": [
        "freq2, edges= np.histogram(bucesp1vec,bins1)\n",
        "left,right = edges[:-1],edges[1:]\n",
        "X= np.array((left+right)/2)\n",
        "Y= np.array(freq2)\n",
        "print(X)\n",
        "print(Y)\n",
        "plt.hist(bucesp1vec,bins1)\n",
        "plt.plot(X,Y)\n",
        "plt.show()"
      ],
      "execution_count": 173,
      "outputs": [
        {
          "output_type": "stream",
          "text": [
            "[ 79.2495625  95.7496875 112.2498125 128.7499375 145.2500625 161.7501875\n",
            " 178.2503125 194.7504375]\n",
            "[ 4  6 16 23 39 40 13 13]\n"
          ],
          "name": "stdout"
        },
        {
          "output_type": "display_data",
          "data": {
            "image/png": "[encoded data removed]",
            "text/plain": [
              "<Figure size 432x288 with 1 Axes>"
            ]
          },
          "metadata": {
            "tags": [],
            "needs_background": "light"
          }
        }
      ]
    },
    {
      "cell_type": "markdown",
      "metadata": {
        "id": "GtTsSheCVK5k",
        "colab_type": "text"
      },
      "source": [
        "Se procede a construir el BoxPlot (Diagrama de cajas) en el cual se pueden apreciar variables como el sesgo, la mediana y algunos valores muy alejados del promedio."
      ]
    },
    {
      "cell_type": "code",
      "metadata": {
        "id": "3o2QI0x1f2E-",
        "colab_type": "code",
        "colab": {
          "base_uri": "https://localhost:8080/",
          "height": 282
        },
        "outputId": "dcdb5964-17c6-45c0-ea0c-633f382e2fac"
      },
      "source": [
        "dfinalBucaramanga.boxplot(column='DISEÑO DE SISTEMAS PRODUCTIVOS Y LOGÍSTICOS')"
      ],
      "execution_count": 174,
      "outputs": [
        {
          "output_type": "execute_result",
          "data": {
            "text/plain": [
              "<matplotlib.axes._subplots.AxesSubplot at 0x7f501fa20898>"
            ]
          },
          "metadata": {
            "tags": []
          },
          "execution_count": 174
        },
        {
          "output_type": "display_data",
          "data": {
            "image/png": "[encoded data removed]",
            "text/plain": [
              "<Figure size 432x288 with 1 Axes>"
            ]
          },
          "metadata": {
            "tags": [],
            "needs_background": "light"
          }
        }
      ]
    },
    {
      "cell_type": "markdown",
      "metadata": {
        "id": "64_HzpKaiJPk",
        "colab_type": "text"
      },
      "source": [
        "UNIVERSIDAD PONTIFICIA BOLIVARIANA-BUCARAMANGA. PRUEBA ESPECÍFICA: FORMULACIÓN DE PROYECTOS DE INGENIERÍA"
      ]
    },
    {
      "cell_type": "markdown",
      "metadata": {
        "id": "IsQ-7aBfWNMq",
        "colab_type": "text"
      },
      "source": [
        "Es el mismo procedimiento para las demás pruebas tanto específicas como genéricas, cambiando las variables obtendremos con facilidad los diagramas y frecuencias para proceder a analizarlos."
      ]
    },
    {
      "cell_type": "code",
      "metadata": {
        "id": "KViGNIfbmZH-",
        "colab_type": "code",
        "colab": {
          "base_uri": "https://localhost:8080/",
          "height": 204
        },
        "outputId": "cc48e585-cb6b-4cae-c745-1ba7838ddde8"
      },
      "source": [
        "da=dfinalBucaramanga[dfinalBucaramanga['FORMULACIÓN DE PROYECTOS DE INGENIERÍA']>0]\n",
        "bucesp2=da.iloc[0:155][['FORMULACIÓN DE PROYECTOS DE INGENIERÍA']] \n",
        "bucesp2.head()\n"
      ],
      "execution_count": 175,
      "outputs": [
        {
          "output_type": "execute_result",
          "data": {
            "text/html": [
              "<div>\n",
              "<style scoped>\n",
              "    .dataframe tbody tr th:only-of-type {\n",
              "        vertical-align: middle;\n",
              "    }\n",
              "\n",
              "    .dataframe tbody tr th {\n",
              "        vertical-align: top;\n",
              "    }\n",
              "\n",
              "    .dataframe thead th {\n",
              "        text-align: right;\n",
              "    }\n",
              "</style>\n",
              "<table border=\"1\" class=\"dataframe\">\n",
              "  <thead>\n",
              "    <tr style=\"text-align: right;\">\n",
              "      <th></th>\n",
              "      <th>FORMULACIÓN DE PROYECTOS DE INGENIERÍA</th>\n",
              "    </tr>\n",
              "  </thead>\n",
              "  <tbody>\n",
              "    <tr>\n",
              "      <th>0</th>\n",
              "      <td>151</td>\n",
              "    </tr>\n",
              "    <tr>\n",
              "      <th>1</th>\n",
              "      <td>132</td>\n",
              "    </tr>\n",
              "    <tr>\n",
              "      <th>2</th>\n",
              "      <td>190</td>\n",
              "    </tr>\n",
              "    <tr>\n",
              "      <th>3</th>\n",
              "      <td>200</td>\n",
              "    </tr>\n",
              "    <tr>\n",
              "      <th>4</th>\n",
              "      <td>123</td>\n",
              "    </tr>\n",
              "  </tbody>\n",
              "</table>\n",
              "</div>"
            ],
            "text/plain": [
              "   FORMULACIÓN DE PROYECTOS DE INGENIERÍA\n",
              "0                                     151\n",
              "1                                     132\n",
              "2                                     190\n",
              "3                                     200\n",
              "4                                     123"
            ]
          },
          "metadata": {
            "tags": []
          },
          "execution_count": 175
        }
      ]
    },
    {
      "cell_type": "code",
      "metadata": {
        "id": "8iJK3OYxmkUE",
        "colab_type": "code",
        "colab": {
          "base_uri": "https://localhost:8080/",
          "height": 34
        },
        "outputId": "741df3bf-5bb8-4ac2-801c-8fcb5c04ab8a"
      },
      "source": [
        "bucesp2vec=np.ravel(bucesp2)\n",
        "bucesp2vec.shape"
      ],
      "execution_count": 176,
      "outputs": [
        {
          "output_type": "execute_result",
          "data": {
            "text/plain": [
              "(154,)"
            ]
          },
          "metadata": {
            "tags": []
          },
          "execution_count": 176
        }
      ]
    },
    {
      "cell_type": "code",
      "metadata": {
        "id": "BkIXJntsmrMZ",
        "colab_type": "code",
        "colab": {}
      },
      "source": [
        "rango=np.max(bucesp2vec)-np.min(bucesp2vec)\n",
        "nIntervalos= 8\n",
        "anchoIntervalo= (rango+0.001)/nIntervalos\n",
        "bins1= np.linspace(np.min(bucesp2vec)-0.0005, np.max(bucesp2vec)+0.0005, (nIntervalos+1))\n",
        "binplace= np.digitize(bucesp2vec, bins1)\n",
        "freq = [len(bucesp2vec[binplace == i]) for i in range (1, len(bins1))]"
      ],
      "execution_count": 177,
      "outputs": []
    },
    {
      "cell_type": "code",
      "metadata": {
        "id": "ZxWTAItvm2as",
        "colab_type": "code",
        "colab": {
          "base_uri": "https://localhost:8080/",
          "height": 433
        },
        "outputId": "183705f7-c68f-412e-cfae-b32625b91fc9"
      },
      "source": [
        "intervals_name= []\n",
        "for i in range(len(bins1)-1):\n",
        "  lim_inf= bins1[i]\n",
        "  lim_sup= bins1[i+1]\n",
        "  label= '['+\"{0:.2f}\".format(lim_inf)+\",\"+\"{0:.2f}\".format(lim_sup)+\")\"\n",
        "  intervals_name.append(label)\n",
        "  print(label)\n",
        "freq_table=pd.DataFrame({'Intervalo':intervals_name, 'Frecuencia':freq}) \n",
        "freq_table"
      ],
      "execution_count": 178,
      "outputs": [
        {
          "output_type": "stream",
          "text": [
            "[84.00,99.87)\n",
            "[99.87,115.75)\n",
            "[115.75,131.62)\n",
            "[131.62,147.50)\n",
            "[147.50,163.38)\n",
            "[163.38,179.25)\n",
            "[179.25,195.13)\n",
            "[195.13,211.00)\n"
          ],
          "name": "stdout"
        },
        {
          "output_type": "execute_result",
          "data": {
            "text/html": [
              "<div>\n",
              "<style scoped>\n",
              "    .dataframe tbody tr th:only-of-type {\n",
              "        vertical-align: middle;\n",
              "    }\n",
              "\n",
              "    .dataframe tbody tr th {\n",
              "        vertical-align: top;\n",
              "    }\n",
              "\n",
              "    .dataframe thead th {\n",
              "        text-align: right;\n",
              "    }\n",
              "</style>\n",
              "<table border=\"1\" class=\"dataframe\">\n",
              "  <thead>\n",
              "    <tr style=\"text-align: right;\">\n",
              "      <th></th>\n",
              "      <th>Intervalo</th>\n",
              "      <th>Frecuencia</th>\n",
              "    </tr>\n",
              "  </thead>\n",
              "  <tbody>\n",
              "    <tr>\n",
              "      <th>0</th>\n",
              "      <td>[84.00,99.87)</td>\n",
              "      <td>2</td>\n",
              "    </tr>\n",
              "    <tr>\n",
              "      <th>1</th>\n",
              "      <td>[99.87,115.75)</td>\n",
              "      <td>10</td>\n",
              "    </tr>\n",
              "    <tr>\n",
              "      <th>2</th>\n",
              "      <td>[115.75,131.62)</td>\n",
              "      <td>17</td>\n",
              "    </tr>\n",
              "    <tr>\n",
              "      <th>3</th>\n",
              "      <td>[131.62,147.50)</td>\n",
              "      <td>31</td>\n",
              "    </tr>\n",
              "    <tr>\n",
              "      <th>4</th>\n",
              "      <td>[147.50,163.38)</td>\n",
              "      <td>34</td>\n",
              "    </tr>\n",
              "    <tr>\n",
              "      <th>5</th>\n",
              "      <td>[163.38,179.25)</td>\n",
              "      <td>32</td>\n",
              "    </tr>\n",
              "    <tr>\n",
              "      <th>6</th>\n",
              "      <td>[179.25,195.13)</td>\n",
              "      <td>22</td>\n",
              "    </tr>\n",
              "    <tr>\n",
              "      <th>7</th>\n",
              "      <td>[195.13,211.00)</td>\n",
              "      <td>6</td>\n",
              "    </tr>\n",
              "  </tbody>\n",
              "</table>\n",
              "</div>"
            ],
            "text/plain": [
              "         Intervalo  Frecuencia\n",
              "0    [84.00,99.87)           2\n",
              "1   [99.87,115.75)          10\n",
              "2  [115.75,131.62)          17\n",
              "3  [131.62,147.50)          31\n",
              "4  [147.50,163.38)          34\n",
              "5  [163.38,179.25)          32\n",
              "6  [179.25,195.13)          22\n",
              "7  [195.13,211.00)           6"
            ]
          },
          "metadata": {
            "tags": []
          },
          "execution_count": 178
        }
      ]
    },
    {
      "cell_type": "code",
      "metadata": {
        "id": "vCBwgOQ0m9oM",
        "colab_type": "code",
        "colab": {
          "base_uri": "https://localhost:8080/",
          "height": 316
        },
        "outputId": "cdbfb595-1eef-4a4c-dcf4-e5f2dcc13ff3"
      },
      "source": [
        "freq2, edges= np.histogram(bucesp2vec,bins1)\n",
        "left,right = edges[:-1],edges[1:]\n",
        "X= np.array((left+right)/2)\n",
        "Y= np.array(freq2)\n",
        "print(X)\n",
        "print(Y)\n",
        "plt.hist(bucesp2vec,bins1)\n",
        "plt.plot(X,Y)\n",
        "plt.show()"
      ],
      "execution_count": 179,
      "outputs": [
        {
          "output_type": "stream",
          "text": [
            "[ 91.9370625 107.8121875 123.6873125 139.5624375 155.4375625 171.3126875\n",
            " 187.1878125 203.0629375]\n",
            "[ 2 10 17 31 34 32 22  6]\n"
          ],
          "name": "stdout"
        },
        {
          "output_type": "display_data",
          "data": {
            "image/png": "[encoded data removed]",
            "text/plain": [
              "<Figure size 432x288 with 1 Axes>"
            ]
          },
          "metadata": {
            "tags": [],
            "needs_background": "light"
          }
        }
      ]
    },
    {
      "cell_type": "code",
      "metadata": {
        "id": "0jo52ybmnGFU",
        "colab_type": "code",
        "colab": {
          "base_uri": "https://localhost:8080/",
          "height": 282
        },
        "outputId": "4c1cc052-f77b-45f4-c94f-bcc27dc7ae8b"
      },
      "source": [
        "dfinalBucaramanga.boxplot(column='FORMULACIÓN DE PROYECTOS DE INGENIERÍA')"
      ],
      "execution_count": 180,
      "outputs": [
        {
          "output_type": "execute_result",
          "data": {
            "text/plain": [
              "<matplotlib.axes._subplots.AxesSubplot at 0x7f5025219ac8>"
            ]
          },
          "metadata": {
            "tags": []
          },
          "execution_count": 180
        },
        {
          "output_type": "display_data",
          "data": {
            "image/png": "[encoded data removed]",
            "text/plain": [
              "<Figure size 432x288 with 1 Axes>"
            ]
          },
          "metadata": {
            "tags": [],
            "needs_background": "light"
          }
        }
      ]
    },
    {
      "cell_type": "markdown",
      "metadata": {
        "id": "pQ-RjbkDoni1",
        "colab_type": "text"
      },
      "source": [
        "\n",
        "\n",
        "UNIVERSIDAD PONTIFICIA BOLIVARIANA-BUCARAMANGA. PRUEBA ESPECÍFICA: PENSAMIENTO CIENTÍFICO - MATEMÁTICAS Y ESTADÍSTICA"
      ]
    },
    {
      "cell_type": "code",
      "metadata": {
        "id": "GXh3B2r8nLtu",
        "colab_type": "code",
        "colab": {
          "base_uri": "https://localhost:8080/",
          "height": 204
        },
        "outputId": "0b11a104-fe13-4efb-f7d1-961183377dc8"
      },
      "source": [
        "da=dfinalBucaramanga[dfinalBucaramanga['PENSAMIENTO CIENTÍFICO - MATEMÁTICAS Y ESTADÍSTICA']>0]\n",
        "bucesp3=da.iloc[0:155][['PENSAMIENTO CIENTÍFICO - MATEMÁTICAS Y ESTADÍSTICA']] \n",
        "bucesp3.head()"
      ],
      "execution_count": 181,
      "outputs": [
        {
          "output_type": "execute_result",
          "data": {
            "text/html": [
              "<div>\n",
              "<style scoped>\n",
              "    .dataframe tbody tr th:only-of-type {\n",
              "        vertical-align: middle;\n",
              "    }\n",
              "\n",
              "    .dataframe tbody tr th {\n",
              "        vertical-align: top;\n",
              "    }\n",
              "\n",
              "    .dataframe thead th {\n",
              "        text-align: right;\n",
              "    }\n",
              "</style>\n",
              "<table border=\"1\" class=\"dataframe\">\n",
              "  <thead>\n",
              "    <tr style=\"text-align: right;\">\n",
              "      <th></th>\n",
              "      <th>PENSAMIENTO CIENTÍFICO - MATEMÁTICAS Y ESTADÍSTICA</th>\n",
              "    </tr>\n",
              "  </thead>\n",
              "  <tbody>\n",
              "    <tr>\n",
              "      <th>0</th>\n",
              "      <td>160</td>\n",
              "    </tr>\n",
              "    <tr>\n",
              "      <th>1</th>\n",
              "      <td>95</td>\n",
              "    </tr>\n",
              "    <tr>\n",
              "      <th>2</th>\n",
              "      <td>143</td>\n",
              "    </tr>\n",
              "    <tr>\n",
              "      <th>3</th>\n",
              "      <td>188</td>\n",
              "    </tr>\n",
              "    <tr>\n",
              "      <th>4</th>\n",
              "      <td>102</td>\n",
              "    </tr>\n",
              "  </tbody>\n",
              "</table>\n",
              "</div>"
            ],
            "text/plain": [
              "   PENSAMIENTO CIENTÍFICO - MATEMÁTICAS Y ESTADÍSTICA\n",
              "0                                                160 \n",
              "1                                                 95 \n",
              "2                                                143 \n",
              "3                                                188 \n",
              "4                                                102 "
            ]
          },
          "metadata": {
            "tags": []
          },
          "execution_count": 181
        }
      ]
    },
    {
      "cell_type": "code",
      "metadata": {
        "id": "CZq5TyKPo8-9",
        "colab_type": "code",
        "colab": {
          "base_uri": "https://localhost:8080/",
          "height": 34
        },
        "outputId": "42b9bce7-d2cd-4fd5-b5cf-ec341ed2487b"
      },
      "source": [
        "bucesp3vec=np.ravel(bucesp3)\n",
        "bucesp3vec.shape"
      ],
      "execution_count": 182,
      "outputs": [
        {
          "output_type": "execute_result",
          "data": {
            "text/plain": [
              "(154,)"
            ]
          },
          "metadata": {
            "tags": []
          },
          "execution_count": 182
        }
      ]
    },
    {
      "cell_type": "code",
      "metadata": {
        "id": "8Bpat5QhpG5d",
        "colab_type": "code",
        "colab": {}
      },
      "source": [
        "rango=np.max(bucesp3vec)-np.min(bucesp3vec)\n",
        "nIntervalos= 8\n",
        "anchoIntervalo= (rango+0.001)/nIntervalos\n",
        "bins1= np.linspace(np.min(bucesp3vec)-0.0005, np.max(bucesp3vec)+0.0005, (nIntervalos+1))\n",
        "binplace= np.digitize(bucesp3vec, bins1)\n",
        "freq = [len(bucesp3vec[binplace == i]) for i in range (1, len(bins1))]"
      ],
      "execution_count": 183,
      "outputs": []
    },
    {
      "cell_type": "code",
      "metadata": {
        "id": "N8gKGfxGpOxk",
        "colab_type": "code",
        "colab": {
          "base_uri": "https://localhost:8080/",
          "height": 433
        },
        "outputId": "18d42da8-20db-4824-b0aa-420946b04a86"
      },
      "source": [
        "intervals_name= []\n",
        "for i in range(len(bins1)-1):\n",
        "  lim_inf= bins1[i]\n",
        "  lim_sup= bins1[i+1]\n",
        "  label= '['+\"{0:.2f}\".format(lim_inf)+\",\"+\"{0:.2f}\".format(lim_sup)+\")\"\n",
        "  intervals_name.append(label)\n",
        "  print(label)\n",
        "freq_table=pd.DataFrame({'Intervalo':intervals_name, 'Frecuencia':freq}) \n",
        "freq_table"
      ],
      "execution_count": 184,
      "outputs": [
        {
          "output_type": "stream",
          "text": [
            "[89.00,105.37)\n",
            "[105.37,121.75)\n",
            "[121.75,138.12)\n",
            "[138.12,154.50)\n",
            "[154.50,170.88)\n",
            "[170.88,187.25)\n",
            "[187.25,203.63)\n",
            "[203.63,220.00)\n"
          ],
          "name": "stdout"
        },
        {
          "output_type": "execute_result",
          "data": {
            "text/html": [
              "<div>\n",
              "<style scoped>\n",
              "    .dataframe tbody tr th:only-of-type {\n",
              "        vertical-align: middle;\n",
              "    }\n",
              "\n",
              "    .dataframe tbody tr th {\n",
              "        vertical-align: top;\n",
              "    }\n",
              "\n",
              "    .dataframe thead th {\n",
              "        text-align: right;\n",
              "    }\n",
              "</style>\n",
              "<table border=\"1\" class=\"dataframe\">\n",
              "  <thead>\n",
              "    <tr style=\"text-align: right;\">\n",
              "      <th></th>\n",
              "      <th>Intervalo</th>\n",
              "      <th>Frecuencia</th>\n",
              "    </tr>\n",
              "  </thead>\n",
              "  <tbody>\n",
              "    <tr>\n",
              "      <th>0</th>\n",
              "      <td>[89.00,105.37)</td>\n",
              "      <td>6</td>\n",
              "    </tr>\n",
              "    <tr>\n",
              "      <th>1</th>\n",
              "      <td>[105.37,121.75)</td>\n",
              "      <td>36</td>\n",
              "    </tr>\n",
              "    <tr>\n",
              "      <th>2</th>\n",
              "      <td>[121.75,138.12)</td>\n",
              "      <td>47</td>\n",
              "    </tr>\n",
              "    <tr>\n",
              "      <th>3</th>\n",
              "      <td>[138.12,154.50)</td>\n",
              "      <td>33</td>\n",
              "    </tr>\n",
              "    <tr>\n",
              "      <th>4</th>\n",
              "      <td>[154.50,170.88)</td>\n",
              "      <td>19</td>\n",
              "    </tr>\n",
              "    <tr>\n",
              "      <th>5</th>\n",
              "      <td>[170.88,187.25)</td>\n",
              "      <td>10</td>\n",
              "    </tr>\n",
              "    <tr>\n",
              "      <th>6</th>\n",
              "      <td>[187.25,203.63)</td>\n",
              "      <td>1</td>\n",
              "    </tr>\n",
              "    <tr>\n",
              "      <th>7</th>\n",
              "      <td>[203.63,220.00)</td>\n",
              "      <td>2</td>\n",
              "    </tr>\n",
              "  </tbody>\n",
              "</table>\n",
              "</div>"
            ],
            "text/plain": [
              "         Intervalo  Frecuencia\n",
              "0   [89.00,105.37)           6\n",
              "1  [105.37,121.75)          36\n",
              "2  [121.75,138.12)          47\n",
              "3  [138.12,154.50)          33\n",
              "4  [154.50,170.88)          19\n",
              "5  [170.88,187.25)          10\n",
              "6  [187.25,203.63)           1\n",
              "7  [203.63,220.00)           2"
            ]
          },
          "metadata": {
            "tags": []
          },
          "execution_count": 184
        }
      ]
    },
    {
      "cell_type": "code",
      "metadata": {
        "id": "hdHoOQ2NpU5U",
        "colab_type": "code",
        "colab": {
          "base_uri": "https://localhost:8080/",
          "height": 316
        },
        "outputId": "4780ce90-b9cb-4774-8ee0-2ac957178a70"
      },
      "source": [
        "freq2, edges= np.histogram(bucesp3vec,bins1)\n",
        "left,right = edges[:-1],edges[1:]\n",
        "X= np.array((left+right)/2)\n",
        "Y= np.array(freq2)\n",
        "print(X)\n",
        "print(Y)\n",
        "plt.hist(bucesp3vec,bins1)\n",
        "plt.plot(X,Y)\n",
        "plt.show()"
      ],
      "execution_count": 185,
      "outputs": [
        {
          "output_type": "stream",
          "text": [
            "[ 97.1870625 113.5621875 129.9373125 146.3124375 162.6875625 179.0626875\n",
            " 195.4378125 211.8129375]\n",
            "[ 6 36 47 33 19 10  1  2]\n"
          ],
          "name": "stdout"
        },
        {
          "output_type": "display_data",
          "data": {
            "image/png": "[encoded data removed]",
            "text/plain": [
              "<Figure size 432x288 with 1 Axes>"
            ]
          },
          "metadata": {
            "tags": [],
            "needs_background": "light"
          }
        }
      ]
    },
    {
      "cell_type": "code",
      "metadata": {
        "id": "wn7hjpvupaOh",
        "colab_type": "code",
        "colab": {
          "base_uri": "https://localhost:8080/",
          "height": 282
        },
        "outputId": "1344faa1-b238-412d-921b-85c370e47544"
      },
      "source": [
        "dfinalBucaramanga.boxplot(column='PENSAMIENTO CIENTÍFICO - MATEMÁTICAS Y ESTADÍSTICA')"
      ],
      "execution_count": 186,
      "outputs": [
        {
          "output_type": "execute_result",
          "data": {
            "text/plain": [
              "<matplotlib.axes._subplots.AxesSubplot at 0x7f5028dd3668>"
            ]
          },
          "metadata": {
            "tags": []
          },
          "execution_count": 186
        },
        {
          "output_type": "display_data",
          "data": {
            "image/png": "[encoded data removed]",
            "text/plain": [
              "<Figure size 432x288 with 1 Axes>"
            ]
          },
          "metadata": {
            "tags": [],
            "needs_background": "light"
          }
        }
      ]
    },
    {
      "cell_type": "markdown",
      "metadata": {
        "id": "hP9wTbi40nfU",
        "colab_type": "text"
      },
      "source": [
        "## GENÉRICAS PONTIFICIA BOLIVARIANA-BUCARAMANGA"
      ]
    },
    {
      "cell_type": "markdown",
      "metadata": {
        "id": "FP_Q4VI1sL6m",
        "colab_type": "text"
      },
      "source": [
        "UNIVERSIDAD PONTIFICIA BOLIVARIANA-BUCARAMANGA. PRUEBA GENÉRICA: MODALIDAD RAZONAMIENTO CUANTITATIVO PUNTAJE."
      ]
    },
    {
      "cell_type": "code",
      "metadata": {
        "id": "74-I3__DsNX2",
        "colab_type": "code",
        "colab": {
          "base_uri": "https://localhost:8080/",
          "height": 204
        },
        "outputId": "35f812bd-72ef-409f-83d9-32276e8336e6"
      },
      "source": [
        "da=dfinalBucaramanga[dfinalBucaramanga['MOD_RAZONA_CUANTITAT_PUNT']>0]\n",
        "bucgenp1=da.iloc[0:155][['MOD_RAZONA_CUANTITAT_PUNT']] \n",
        "bucgenp1.head()"
      ],
      "execution_count": 56,
      "outputs": [
        {
          "output_type": "execute_result",
          "data": {
            "text/html": [
              "<div>\n",
              "<style scoped>\n",
              "    .dataframe tbody tr th:only-of-type {\n",
              "        vertical-align: middle;\n",
              "    }\n",
              "\n",
              "    .dataframe tbody tr th {\n",
              "        vertical-align: top;\n",
              "    }\n",
              "\n",
              "    .dataframe thead th {\n",
              "        text-align: right;\n",
              "    }\n",
              "</style>\n",
              "<table border=\"1\" class=\"dataframe\">\n",
              "  <thead>\n",
              "    <tr style=\"text-align: right;\">\n",
              "      <th></th>\n",
              "      <th>MOD_RAZONA_CUANTITAT_PUNT</th>\n",
              "    </tr>\n",
              "  </thead>\n",
              "  <tbody>\n",
              "    <tr>\n",
              "      <th>0</th>\n",
              "      <td>174</td>\n",
              "    </tr>\n",
              "    <tr>\n",
              "      <th>1</th>\n",
              "      <td>155</td>\n",
              "    </tr>\n",
              "    <tr>\n",
              "      <th>2</th>\n",
              "      <td>196</td>\n",
              "    </tr>\n",
              "    <tr>\n",
              "      <th>3</th>\n",
              "      <td>225</td>\n",
              "    </tr>\n",
              "    <tr>\n",
              "      <th>4</th>\n",
              "      <td>119</td>\n",
              "    </tr>\n",
              "  </tbody>\n",
              "</table>\n",
              "</div>"
            ],
            "text/plain": [
              "   MOD_RAZONA_CUANTITAT_PUNT\n",
              "0                        174\n",
              "1                        155\n",
              "2                        196\n",
              "3                        225\n",
              "4                        119"
            ]
          },
          "metadata": {
            "tags": []
          },
          "execution_count": 56
        }
      ]
    },
    {
      "cell_type": "code",
      "metadata": {
        "id": "AqByCmDosjwV",
        "colab_type": "code",
        "colab": {
          "base_uri": "https://localhost:8080/",
          "height": 34
        },
        "outputId": "9df0c218-0bb3-4a4d-e19a-6578d12b7a98"
      },
      "source": [
        "bucgenp1vec=np.ravel(bucgenp1)\n",
        "bucgenp1vec.shape"
      ],
      "execution_count": 57,
      "outputs": [
        {
          "output_type": "execute_result",
          "data": {
            "text/plain": [
              "(154,)"
            ]
          },
          "metadata": {
            "tags": []
          },
          "execution_count": 57
        }
      ]
    },
    {
      "cell_type": "code",
      "metadata": {
        "id": "3q4KGTizsy5O",
        "colab_type": "code",
        "colab": {}
      },
      "source": [
        "rango=np.max(bucgenp1vec)-np.min(bucgenp1vec)\n",
        "nIntervalos= 8\n",
        "anchoIntervalo= (rango+0.001)/nIntervalos\n",
        "bins1= np.linspace(np.min(bucgenp1vec)-0.0005, np.max(bucgenp1vec)+0.0005, (nIntervalos+1))\n",
        "binplace= np.digitize(bucgenp1vec, bins1)\n",
        "freq = [len(bucgenp1vec[binplace == i]) for i in range (1, len(bins1))]"
      ],
      "execution_count": 58,
      "outputs": []
    },
    {
      "cell_type": "code",
      "metadata": {
        "id": "opPtfdfCtAIZ",
        "colab_type": "code",
        "colab": {
          "base_uri": "https://localhost:8080/",
          "height": 433
        },
        "outputId": "f621d825-a0dd-4eac-f9d8-f75a15158129"
      },
      "source": [
        "intervals_name= []\n",
        "for i in range(len(bins1)-1):\n",
        "  lim_inf= bins1[i]\n",
        "  lim_sup= bins1[i+1]\n",
        "  label= '['+\"{0:.2f}\".format(lim_inf)+\",\"+\"{0:.2f}\".format(lim_sup)+\")\"\n",
        "  intervals_name.append(label)\n",
        "  print(label)\n",
        "freq_table=pd.DataFrame({'Intervalo':intervals_name, 'Frecuencia':freq}) \n",
        "freq_table"
      ],
      "execution_count": 59,
      "outputs": [
        {
          "output_type": "stream",
          "text": [
            "[100.00,116.25)\n",
            "[116.25,132.50)\n",
            "[132.50,148.75)\n",
            "[148.75,165.00)\n",
            "[165.00,181.25)\n",
            "[181.25,197.50)\n",
            "[197.50,213.75)\n",
            "[213.75,230.00)\n"
          ],
          "name": "stdout"
        },
        {
          "output_type": "execute_result",
          "data": {
            "text/html": [
              "<div>\n",
              "<style scoped>\n",
              "    .dataframe tbody tr th:only-of-type {\n",
              "        vertical-align: middle;\n",
              "    }\n",
              "\n",
              "    .dataframe tbody tr th {\n",
              "        vertical-align: top;\n",
              "    }\n",
              "\n",
              "    .dataframe thead th {\n",
              "        text-align: right;\n",
              "    }\n",
              "</style>\n",
              "<table border=\"1\" class=\"dataframe\">\n",
              "  <thead>\n",
              "    <tr style=\"text-align: right;\">\n",
              "      <th></th>\n",
              "      <th>Intervalo</th>\n",
              "      <th>Frecuencia</th>\n",
              "    </tr>\n",
              "  </thead>\n",
              "  <tbody>\n",
              "    <tr>\n",
              "      <th>0</th>\n",
              "      <td>[100.00,116.25)</td>\n",
              "      <td>3</td>\n",
              "    </tr>\n",
              "    <tr>\n",
              "      <th>1</th>\n",
              "      <td>[116.25,132.50)</td>\n",
              "      <td>7</td>\n",
              "    </tr>\n",
              "    <tr>\n",
              "      <th>2</th>\n",
              "      <td>[132.50,148.75)</td>\n",
              "      <td>14</td>\n",
              "    </tr>\n",
              "    <tr>\n",
              "      <th>3</th>\n",
              "      <td>[148.75,165.00)</td>\n",
              "      <td>32</td>\n",
              "    </tr>\n",
              "    <tr>\n",
              "      <th>4</th>\n",
              "      <td>[165.00,181.25)</td>\n",
              "      <td>36</td>\n",
              "    </tr>\n",
              "    <tr>\n",
              "      <th>5</th>\n",
              "      <td>[181.25,197.50)</td>\n",
              "      <td>34</td>\n",
              "    </tr>\n",
              "    <tr>\n",
              "      <th>6</th>\n",
              "      <td>[197.50,213.75)</td>\n",
              "      <td>21</td>\n",
              "    </tr>\n",
              "    <tr>\n",
              "      <th>7</th>\n",
              "      <td>[213.75,230.00)</td>\n",
              "      <td>7</td>\n",
              "    </tr>\n",
              "  </tbody>\n",
              "</table>\n",
              "</div>"
            ],
            "text/plain": [
              "         Intervalo  Frecuencia\n",
              "0  [100.00,116.25)           3\n",
              "1  [116.25,132.50)           7\n",
              "2  [132.50,148.75)          14\n",
              "3  [148.75,165.00)          32\n",
              "4  [165.00,181.25)          36\n",
              "5  [181.25,197.50)          34\n",
              "6  [197.50,213.75)          21\n",
              "7  [213.75,230.00)           7"
            ]
          },
          "metadata": {
            "tags": []
          },
          "execution_count": 59
        }
      ]
    },
    {
      "cell_type": "code",
      "metadata": {
        "id": "Oqj8VQritEK1",
        "colab_type": "code",
        "colab": {
          "base_uri": "https://localhost:8080/",
          "height": 316
        },
        "outputId": "38fd18bd-ed55-464f-a674-83ddf1b28906"
      },
      "source": [
        "freq2, edges= np.histogram(bucgenp1vec,bins1)\n",
        "left,right = edges[:-1],edges[1:]\n",
        "X= np.array((left+right)/2)\n",
        "Y= np.array(freq2)\n",
        "print(X)\n",
        "print(Y)\n",
        "plt.hist(bucgenp1vec,bins1)\n",
        "plt.plot(X,Y)\n",
        "plt.show()"
      ],
      "execution_count": 60,
      "outputs": [
        {
          "output_type": "stream",
          "text": [
            "[108.1245625 124.3746875 140.6248125 156.8749375 173.1250625 189.3751875\n",
            " 205.6253125 221.8754375]\n",
            "[ 3  7 14 32 36 34 21  7]\n"
          ],
          "name": "stdout"
        },
        {
          "output_type": "display_data",
          "data": {
            "image/png": "[encoded data removed]",
            "text/plain": [
              "<Figure size 432x288 with 1 Axes>"
            ]
          },
          "metadata": {
            "tags": [],
            "needs_background": "light"
          }
        }
      ]
    },
    {
      "cell_type": "code",
      "metadata": {
        "id": "GVfDCxOHtPl3",
        "colab_type": "code",
        "colab": {
          "base_uri": "https://localhost:8080/",
          "height": 283
        },
        "outputId": "a38bd6e1-5c0e-4b21-fd8d-218b25d2591b"
      },
      "source": [
        "dfinalBucaramanga.boxplot(column='MOD_RAZONA_CUANTITAT_PUNT')"
      ],
      "execution_count": 61,
      "outputs": [
        {
          "output_type": "execute_result",
          "data": {
            "text/plain": [
              "<matplotlib.axes._subplots.AxesSubplot at 0x7f5028d13668>"
            ]
          },
          "metadata": {
            "tags": []
          },
          "execution_count": 61
        },
        {
          "output_type": "display_data",
          "data": {
            "image/png": "[encoded data removed]",
            "text/plain": [
              "<Figure size 432x288 with 1 Axes>"
            ]
          },
          "metadata": {
            "tags": [],
            "needs_background": "light"
          }
        }
      ]
    },
    {
      "cell_type": "markdown",
      "metadata": {
        "id": "QnOxj0Ebt7pP",
        "colab_type": "text"
      },
      "source": [
        "UNIVERSIDAD PONTIFICIA BOLIVARIANA-BUCARAMANGA. PRUEBA GENÉRICA: MODALIDAD LECTURA CRITICA PUNTAJE."
      ]
    },
    {
      "cell_type": "code",
      "metadata": {
        "id": "1uAoCwpmtW_L",
        "colab_type": "code",
        "colab": {
          "base_uri": "https://localhost:8080/",
          "height": 204
        },
        "outputId": "3d82c6f6-61eb-4bc8-ac3a-4278f6301905"
      },
      "source": [
        "da=dfinalBucaramanga[dfinalBucaramanga['MOD_LECTURA_CRITICA_PUNT']>0]\n",
        "bucgenp2=da.iloc[0:155][['MOD_LECTURA_CRITICA_PUNT']] \n",
        "bucgenp2.head()"
      ],
      "execution_count": 62,
      "outputs": [
        {
          "output_type": "execute_result",
          "data": {
            "text/html": [
              "<div>\n",
              "<style scoped>\n",
              "    .dataframe tbody tr th:only-of-type {\n",
              "        vertical-align: middle;\n",
              "    }\n",
              "\n",
              "    .dataframe tbody tr th {\n",
              "        vertical-align: top;\n",
              "    }\n",
              "\n",
              "    .dataframe thead th {\n",
              "        text-align: right;\n",
              "    }\n",
              "</style>\n",
              "<table border=\"1\" class=\"dataframe\">\n",
              "  <thead>\n",
              "    <tr style=\"text-align: right;\">\n",
              "      <th></th>\n",
              "      <th>MOD_LECTURA_CRITICA_PUNT</th>\n",
              "    </tr>\n",
              "  </thead>\n",
              "  <tbody>\n",
              "    <tr>\n",
              "      <th>0</th>\n",
              "      <td>148</td>\n",
              "    </tr>\n",
              "    <tr>\n",
              "      <th>1</th>\n",
              "      <td>144</td>\n",
              "    </tr>\n",
              "    <tr>\n",
              "      <th>2</th>\n",
              "      <td>182</td>\n",
              "    </tr>\n",
              "    <tr>\n",
              "      <th>3</th>\n",
              "      <td>204</td>\n",
              "    </tr>\n",
              "    <tr>\n",
              "      <th>4</th>\n",
              "      <td>144</td>\n",
              "    </tr>\n",
              "  </tbody>\n",
              "</table>\n",
              "</div>"
            ],
            "text/plain": [
              "   MOD_LECTURA_CRITICA_PUNT\n",
              "0                       148\n",
              "1                       144\n",
              "2                       182\n",
              "3                       204\n",
              "4                       144"
            ]
          },
          "metadata": {
            "tags": []
          },
          "execution_count": 62
        }
      ]
    },
    {
      "cell_type": "code",
      "metadata": {
        "id": "YeLl7-iTuTUh",
        "colab_type": "code",
        "colab": {
          "base_uri": "https://localhost:8080/",
          "height": 34
        },
        "outputId": "f3f4ca7f-271e-41f4-885f-ab6a711e25a3"
      },
      "source": [
        "bucgenp2vec=np.ravel(bucgenp2)\n",
        "bucgenp2vec.shape"
      ],
      "execution_count": 63,
      "outputs": [
        {
          "output_type": "execute_result",
          "data": {
            "text/plain": [
              "(154,)"
            ]
          },
          "metadata": {
            "tags": []
          },
          "execution_count": 63
        }
      ]
    },
    {
      "cell_type": "code",
      "metadata": {
        "id": "xfbNIWoJuYuT",
        "colab_type": "code",
        "colab": {}
      },
      "source": [
        "rango=np.max(bucgenp2vec)-np.min(bucgenp2vec)\n",
        "nIntervalos= 8\n",
        "anchoIntervalo= (rango+0.001)/nIntervalos\n",
        "bins1= np.linspace(np.min(bucgenp2vec)-0.0005, np.max(bucgenp2vec)+0.0005, (nIntervalos+1))\n",
        "binplace= np.digitize(bucgenp2vec, bins1)\n",
        "freq = [len(bucgenp2vec[binplace == i]) for i in range (1, len(bins1))]"
      ],
      "execution_count": 64,
      "outputs": []
    },
    {
      "cell_type": "code",
      "metadata": {
        "id": "mGET-EbPuhW5",
        "colab_type": "code",
        "colab": {
          "base_uri": "https://localhost:8080/",
          "height": 433
        },
        "outputId": "ac991937-bf71-4ec2-ef62-d6fb75b0ea9f"
      },
      "source": [
        "intervals_name= []\n",
        "for i in range(len(bins1)-1):\n",
        "  lim_inf= bins1[i]\n",
        "  lim_sup= bins1[i+1]\n",
        "  label= '['+\"{0:.2f}\".format(lim_inf)+\",\"+\"{0:.2f}\".format(lim_sup)+\")\"\n",
        "  intervals_name.append(label)\n",
        "  print(label)\n",
        "freq_table=pd.DataFrame({'Intervalo':intervals_name, 'Frecuencia':freq}) \n",
        "freq_table"
      ],
      "execution_count": 65,
      "outputs": [
        {
          "output_type": "stream",
          "text": [
            "[90.00,106.37)\n",
            "[106.37,122.75)\n",
            "[122.75,139.12)\n",
            "[139.12,155.50)\n",
            "[155.50,171.88)\n",
            "[171.88,188.25)\n",
            "[188.25,204.63)\n",
            "[204.63,221.00)\n"
          ],
          "name": "stdout"
        },
        {
          "output_type": "execute_result",
          "data": {
            "text/html": [
              "<div>\n",
              "<style scoped>\n",
              "    .dataframe tbody tr th:only-of-type {\n",
              "        vertical-align: middle;\n",
              "    }\n",
              "\n",
              "    .dataframe tbody tr th {\n",
              "        vertical-align: top;\n",
              "    }\n",
              "\n",
              "    .dataframe thead th {\n",
              "        text-align: right;\n",
              "    }\n",
              "</style>\n",
              "<table border=\"1\" class=\"dataframe\">\n",
              "  <thead>\n",
              "    <tr style=\"text-align: right;\">\n",
              "      <th></th>\n",
              "      <th>Intervalo</th>\n",
              "      <th>Frecuencia</th>\n",
              "    </tr>\n",
              "  </thead>\n",
              "  <tbody>\n",
              "    <tr>\n",
              "      <th>0</th>\n",
              "      <td>[90.00,106.37)</td>\n",
              "      <td>5</td>\n",
              "    </tr>\n",
              "    <tr>\n",
              "      <th>1</th>\n",
              "      <td>[106.37,122.75)</td>\n",
              "      <td>10</td>\n",
              "    </tr>\n",
              "    <tr>\n",
              "      <th>2</th>\n",
              "      <td>[122.75,139.12)</td>\n",
              "      <td>21</td>\n",
              "    </tr>\n",
              "    <tr>\n",
              "      <th>3</th>\n",
              "      <td>[139.12,155.50)</td>\n",
              "      <td>30</td>\n",
              "    </tr>\n",
              "    <tr>\n",
              "      <th>4</th>\n",
              "      <td>[155.50,171.88)</td>\n",
              "      <td>29</td>\n",
              "    </tr>\n",
              "    <tr>\n",
              "      <th>5</th>\n",
              "      <td>[171.88,188.25)</td>\n",
              "      <td>30</td>\n",
              "    </tr>\n",
              "    <tr>\n",
              "      <th>6</th>\n",
              "      <td>[188.25,204.63)</td>\n",
              "      <td>20</td>\n",
              "    </tr>\n",
              "    <tr>\n",
              "      <th>7</th>\n",
              "      <td>[204.63,221.00)</td>\n",
              "      <td>9</td>\n",
              "    </tr>\n",
              "  </tbody>\n",
              "</table>\n",
              "</div>"
            ],
            "text/plain": [
              "         Intervalo  Frecuencia\n",
              "0   [90.00,106.37)           5\n",
              "1  [106.37,122.75)          10\n",
              "2  [122.75,139.12)          21\n",
              "3  [139.12,155.50)          30\n",
              "4  [155.50,171.88)          29\n",
              "5  [171.88,188.25)          30\n",
              "6  [188.25,204.63)          20\n",
              "7  [204.63,221.00)           9"
            ]
          },
          "metadata": {
            "tags": []
          },
          "execution_count": 65
        }
      ]
    },
    {
      "cell_type": "code",
      "metadata": {
        "id": "Zfba8ZmJukEB",
        "colab_type": "code",
        "colab": {
          "base_uri": "https://localhost:8080/",
          "height": 316
        },
        "outputId": "931d86d5-ae7a-44d5-c6f3-754f5c2be550"
      },
      "source": [
        "freq2, edges= np.histogram(bucgenp2vec,bins1)\n",
        "left,right = edges[:-1],edges[1:]\n",
        "X= np.array((left+right)/2)\n",
        "Y= np.array(freq2)\n",
        "print(X)\n",
        "print(Y)\n",
        "plt.hist(bucgenp2vec,bins1)\n",
        "plt.plot(X,Y)\n",
        "plt.show()"
      ],
      "execution_count": 66,
      "outputs": [
        {
          "output_type": "stream",
          "text": [
            "[ 98.1870625 114.5621875 130.9373125 147.3124375 163.6875625 180.0626875\n",
            " 196.4378125 212.8129375]\n",
            "[ 5 10 21 30 29 30 20  9]\n"
          ],
          "name": "stdout"
        },
        {
          "output_type": "display_data",
          "data": {
            "image/png": "[encoded data removed]",
            "text/plain": [
              "<Figure size 432x288 with 1 Axes>"
            ]
          },
          "metadata": {
            "tags": [],
            "needs_background": "light"
          }
        }
      ]
    },
    {
      "cell_type": "code",
      "metadata": {
        "id": "racmC-tbu3Dv",
        "colab_type": "code",
        "colab": {
          "base_uri": "https://localhost:8080/",
          "height": 283
        },
        "outputId": "9ca21503-ddec-4658-9315-babcf643d5c0"
      },
      "source": [
        "dfinalBucaramanga.boxplot(column='MOD_LECTURA_CRITICA_PUNT')"
      ],
      "execution_count": 67,
      "outputs": [
        {
          "output_type": "execute_result",
          "data": {
            "text/plain": [
              "<matplotlib.axes._subplots.AxesSubplot at 0x7f50277f5240>"
            ]
          },
          "metadata": {
            "tags": []
          },
          "execution_count": 67
        },
        {
          "output_type": "display_data",
          "data": {
            "image/png": "[encoded data removed]",
            "text/plain": [
              "<Figure size 432x288 with 1 Axes>"
            ]
          },
          "metadata": {
            "tags": [],
            "needs_background": "light"
          }
        }
      ]
    },
    {
      "cell_type": "markdown",
      "metadata": {
        "id": "w85UD9QivYFt",
        "colab_type": "text"
      },
      "source": [
        "UNIVERSIDAD PONTIFICIA BOLIVARIANA-BUCARAMANGA. PRUEBA GENÉRICA: MODALIDAD COMPETENCIAS CIUDADANAS PUNTAJE."
      ]
    },
    {
      "cell_type": "code",
      "metadata": {
        "id": "IahK7mhUu8cZ",
        "colab_type": "code",
        "colab": {
          "base_uri": "https://localhost:8080/",
          "height": 204
        },
        "outputId": "bb88b074-5fcc-4c26-f531-895b526cb961"
      },
      "source": [
        "da=dfinalBucaramanga[dfinalBucaramanga['MOD_COMPETEN_CIUDADA_PUNT']>0]\n",
        "bucgenp3=da.iloc[0:155][['MOD_COMPETEN_CIUDADA_PUNT']] \n",
        "bucgenp3.head()"
      ],
      "execution_count": 68,
      "outputs": [
        {
          "output_type": "execute_result",
          "data": {
            "text/html": [
              "<div>\n",
              "<style scoped>\n",
              "    .dataframe tbody tr th:only-of-type {\n",
              "        vertical-align: middle;\n",
              "    }\n",
              "\n",
              "    .dataframe tbody tr th {\n",
              "        vertical-align: top;\n",
              "    }\n",
              "\n",
              "    .dataframe thead th {\n",
              "        text-align: right;\n",
              "    }\n",
              "</style>\n",
              "<table border=\"1\" class=\"dataframe\">\n",
              "  <thead>\n",
              "    <tr style=\"text-align: right;\">\n",
              "      <th></th>\n",
              "      <th>MOD_COMPETEN_CIUDADA_PUNT</th>\n",
              "    </tr>\n",
              "  </thead>\n",
              "  <tbody>\n",
              "    <tr>\n",
              "      <th>0</th>\n",
              "      <td>170</td>\n",
              "    </tr>\n",
              "    <tr>\n",
              "      <th>1</th>\n",
              "      <td>147</td>\n",
              "    </tr>\n",
              "    <tr>\n",
              "      <th>2</th>\n",
              "      <td>195</td>\n",
              "    </tr>\n",
              "    <tr>\n",
              "      <th>3</th>\n",
              "      <td>185</td>\n",
              "    </tr>\n",
              "    <tr>\n",
              "      <th>4</th>\n",
              "      <td>130</td>\n",
              "    </tr>\n",
              "  </tbody>\n",
              "</table>\n",
              "</div>"
            ],
            "text/plain": [
              "   MOD_COMPETEN_CIUDADA_PUNT\n",
              "0                        170\n",
              "1                        147\n",
              "2                        195\n",
              "3                        185\n",
              "4                        130"
            ]
          },
          "metadata": {
            "tags": []
          },
          "execution_count": 68
        }
      ]
    },
    {
      "cell_type": "code",
      "metadata": {
        "id": "4KJEZvravwW7",
        "colab_type": "code",
        "colab": {
          "base_uri": "https://localhost:8080/",
          "height": 34
        },
        "outputId": "7ceea9d4-d26e-41b7-87e7-bd65b054ad37"
      },
      "source": [
        "bucgenp3vec=np.ravel(bucgenp3)\n",
        "bucgenp3vec.shape"
      ],
      "execution_count": 69,
      "outputs": [
        {
          "output_type": "execute_result",
          "data": {
            "text/plain": [
              "(154,)"
            ]
          },
          "metadata": {
            "tags": []
          },
          "execution_count": 69
        }
      ]
    },
    {
      "cell_type": "code",
      "metadata": {
        "id": "rj1Th2nFv1q-",
        "colab_type": "code",
        "colab": {}
      },
      "source": [
        "rango=np.max(bucgenp3vec)-np.min(bucgenp3vec)\n",
        "nIntervalos= 8\n",
        "anchoIntervalo= (rango+0.001)/nIntervalos\n",
        "bins1= np.linspace(np.min(bucgenp3vec)-0.0005, np.max(bucgenp3vec)+0.0005, (nIntervalos+1))\n",
        "binplace= np.digitize(bucgenp3vec, bins1)\n",
        "freq = [len(bucgenp3vec[binplace == i]) for i in range (1, len(bins1))]"
      ],
      "execution_count": 70,
      "outputs": []
    },
    {
      "cell_type": "code",
      "metadata": {
        "id": "_So4Ciw6wE4r",
        "colab_type": "code",
        "colab": {
          "base_uri": "https://localhost:8080/",
          "height": 433
        },
        "outputId": "1e5b1bb6-0a7d-4d95-d4d6-7b4c31269b70"
      },
      "source": [
        "intervals_name= []\n",
        "for i in range(len(bins1)-1):\n",
        "  lim_inf= bins1[i]\n",
        "  lim_sup= bins1[i+1]\n",
        "  label= '['+\"{0:.2f}\".format(lim_inf)+\",\"+\"{0:.2f}\".format(lim_sup)+\")\"\n",
        "  intervals_name.append(label)\n",
        "  print(label)\n",
        "freq_table=pd.DataFrame({'Intervalo':intervals_name, 'Frecuencia':freq}) \n",
        "freq_table"
      ],
      "execution_count": 71,
      "outputs": [
        {
          "output_type": "stream",
          "text": [
            "[66.00,84.87)\n",
            "[84.87,103.75)\n",
            "[103.75,122.62)\n",
            "[122.62,141.50)\n",
            "[141.50,160.38)\n",
            "[160.38,179.25)\n",
            "[179.25,198.13)\n",
            "[198.13,217.00)\n"
          ],
          "name": "stdout"
        },
        {
          "output_type": "execute_result",
          "data": {
            "text/html": [
              "<div>\n",
              "<style scoped>\n",
              "    .dataframe tbody tr th:only-of-type {\n",
              "        vertical-align: middle;\n",
              "    }\n",
              "\n",
              "    .dataframe tbody tr th {\n",
              "        vertical-align: top;\n",
              "    }\n",
              "\n",
              "    .dataframe thead th {\n",
              "        text-align: right;\n",
              "    }\n",
              "</style>\n",
              "<table border=\"1\" class=\"dataframe\">\n",
              "  <thead>\n",
              "    <tr style=\"text-align: right;\">\n",
              "      <th></th>\n",
              "      <th>Intervalo</th>\n",
              "      <th>Frecuencia</th>\n",
              "    </tr>\n",
              "  </thead>\n",
              "  <tbody>\n",
              "    <tr>\n",
              "      <th>0</th>\n",
              "      <td>[66.00,84.87)</td>\n",
              "      <td>4</td>\n",
              "    </tr>\n",
              "    <tr>\n",
              "      <th>1</th>\n",
              "      <td>[84.87,103.75)</td>\n",
              "      <td>9</td>\n",
              "    </tr>\n",
              "    <tr>\n",
              "      <th>2</th>\n",
              "      <td>[103.75,122.62)</td>\n",
              "      <td>14</td>\n",
              "    </tr>\n",
              "    <tr>\n",
              "      <th>3</th>\n",
              "      <td>[122.62,141.50)</td>\n",
              "      <td>22</td>\n",
              "    </tr>\n",
              "    <tr>\n",
              "      <th>4</th>\n",
              "      <td>[141.50,160.38)</td>\n",
              "      <td>45</td>\n",
              "    </tr>\n",
              "    <tr>\n",
              "      <th>5</th>\n",
              "      <td>[160.38,179.25)</td>\n",
              "      <td>30</td>\n",
              "    </tr>\n",
              "    <tr>\n",
              "      <th>6</th>\n",
              "      <td>[179.25,198.13)</td>\n",
              "      <td>20</td>\n",
              "    </tr>\n",
              "    <tr>\n",
              "      <th>7</th>\n",
              "      <td>[198.13,217.00)</td>\n",
              "      <td>10</td>\n",
              "    </tr>\n",
              "  </tbody>\n",
              "</table>\n",
              "</div>"
            ],
            "text/plain": [
              "         Intervalo  Frecuencia\n",
              "0    [66.00,84.87)           4\n",
              "1   [84.87,103.75)           9\n",
              "2  [103.75,122.62)          14\n",
              "3  [122.62,141.50)          22\n",
              "4  [141.50,160.38)          45\n",
              "5  [160.38,179.25)          30\n",
              "6  [179.25,198.13)          20\n",
              "7  [198.13,217.00)          10"
            ]
          },
          "metadata": {
            "tags": []
          },
          "execution_count": 71
        }
      ]
    },
    {
      "cell_type": "code",
      "metadata": {
        "id": "u-RQshZKwLI9",
        "colab_type": "code",
        "colab": {
          "base_uri": "https://localhost:8080/",
          "height": 316
        },
        "outputId": "c7c968d5-0cc9-4ea1-b8c2-3fd9c59f4f59"
      },
      "source": [
        "freq2, edges= np.histogram(bucgenp3vec,bins1)\n",
        "left,right = edges[:-1],edges[1:]\n",
        "X= np.array((left+right)/2)\n",
        "Y= np.array(freq2)\n",
        "print(X)\n",
        "print(Y)\n",
        "plt.hist(bucgenp3vec,bins1)\n",
        "plt.plot(X,Y)\n",
        "plt.show()"
      ],
      "execution_count": 72,
      "outputs": [
        {
          "output_type": "stream",
          "text": [
            "[ 75.4370625  94.3121875 113.1873125 132.0624375 150.9375625 169.8126875\n",
            " 188.6878125 207.5629375]\n",
            "[ 4  9 14 22 45 30 20 10]\n"
          ],
          "name": "stdout"
        },
        {
          "output_type": "display_data",
          "data": {
            "image/png": "[encoded data removed]",
            "text/plain": [
              "<Figure size 432x288 with 1 Axes>"
            ]
          },
          "metadata": {
            "tags": [],
            "needs_background": "light"
          }
        }
      ]
    },
    {
      "cell_type": "code",
      "metadata": {
        "id": "Mwg--wpMwPwK",
        "colab_type": "code",
        "colab": {
          "base_uri": "https://localhost:8080/",
          "height": 283
        },
        "outputId": "4738eb46-39b8-456d-87d7-4de08a3bf735"
      },
      "source": [
        "dfinalBucaramanga.boxplot(column='MOD_COMPETEN_CIUDADA_PUNT')"
      ],
      "execution_count": 73,
      "outputs": [
        {
          "output_type": "execute_result",
          "data": {
            "text/plain": [
              "<matplotlib.axes._subplots.AxesSubplot at 0x7f501f99d160>"
            ]
          },
          "metadata": {
            "tags": []
          },
          "execution_count": 73
        },
        {
          "output_type": "display_data",
          "data": {
            "image/png": "[encoded data removed]",
            "text/plain": [
              "<Figure size 432x288 with 1 Axes>"
            ]
          },
          "metadata": {
            "tags": [],
            "needs_background": "light"
          }
        }
      ]
    },
    {
      "cell_type": "markdown",
      "metadata": {
        "id": "tD31scmhwXN8",
        "colab_type": "text"
      },
      "source": [
        "UNIVERSIDAD PONTIFICIA BOLIVARIANA-BUCARAMANGA. PRUEBA GENÉRICA: MODALIDAD INGLES PUNTAJE."
      ]
    },
    {
      "cell_type": "code",
      "metadata": {
        "id": "9fYAJSaqwTxU",
        "colab_type": "code",
        "colab": {
          "base_uri": "https://localhost:8080/",
          "height": 204
        },
        "outputId": "6940e660-9099-49a2-8588-d350baa00774"
      },
      "source": [
        "da=dfinalBucaramanga[dfinalBucaramanga['MOD_INGLES_PUNT']>0]\n",
        "bucgenp4=da.iloc[0:155][['MOD_INGLES_PUNT']] \n",
        "bucgenp4.head()"
      ],
      "execution_count": 74,
      "outputs": [
        {
          "output_type": "execute_result",
          "data": {
            "text/html": [
              "<div>\n",
              "<style scoped>\n",
              "    .dataframe tbody tr th:only-of-type {\n",
              "        vertical-align: middle;\n",
              "    }\n",
              "\n",
              "    .dataframe tbody tr th {\n",
              "        vertical-align: top;\n",
              "    }\n",
              "\n",
              "    .dataframe thead th {\n",
              "        text-align: right;\n",
              "    }\n",
              "</style>\n",
              "<table border=\"1\" class=\"dataframe\">\n",
              "  <thead>\n",
              "    <tr style=\"text-align: right;\">\n",
              "      <th></th>\n",
              "      <th>MOD_INGLES_PUNT</th>\n",
              "    </tr>\n",
              "  </thead>\n",
              "  <tbody>\n",
              "    <tr>\n",
              "      <th>0</th>\n",
              "      <td>159.0</td>\n",
              "    </tr>\n",
              "    <tr>\n",
              "      <th>1</th>\n",
              "      <td>169.0</td>\n",
              "    </tr>\n",
              "    <tr>\n",
              "      <th>2</th>\n",
              "      <td>200.0</td>\n",
              "    </tr>\n",
              "    <tr>\n",
              "      <th>3</th>\n",
              "      <td>210.0</td>\n",
              "    </tr>\n",
              "    <tr>\n",
              "      <th>4</th>\n",
              "      <td>152.0</td>\n",
              "    </tr>\n",
              "  </tbody>\n",
              "</table>\n",
              "</div>"
            ],
            "text/plain": [
              "   MOD_INGLES_PUNT\n",
              "0            159.0\n",
              "1            169.0\n",
              "2            200.0\n",
              "3            210.0\n",
              "4            152.0"
            ]
          },
          "metadata": {
            "tags": []
          },
          "execution_count": 74
        }
      ]
    },
    {
      "cell_type": "code",
      "metadata": {
        "id": "1YZc0mG9wtlk",
        "colab_type": "code",
        "colab": {
          "base_uri": "https://localhost:8080/",
          "height": 34
        },
        "outputId": "0a10147f-e17d-467c-9349-667465fd98de"
      },
      "source": [
        "bucgenp4vec=np.ravel(bucgenp4)\n",
        "bucgenp4vec.shape"
      ],
      "execution_count": 75,
      "outputs": [
        {
          "output_type": "execute_result",
          "data": {
            "text/plain": [
              "(154,)"
            ]
          },
          "metadata": {
            "tags": []
          },
          "execution_count": 75
        }
      ]
    },
    {
      "cell_type": "code",
      "metadata": {
        "id": "Bgbf9Jauw28M",
        "colab_type": "code",
        "colab": {}
      },
      "source": [
        "rango=np.max(bucgenp4vec)-np.min(bucgenp4vec)\n",
        "nIntervalos= 8\n",
        "anchoIntervalo= (rango+0.001)/nIntervalos\n",
        "bins1= np.linspace(np.min(bucgenp4vec)-0.0005, np.max(bucgenp4vec)+0.0005, (nIntervalos+1))\n",
        "binplace= np.digitize(bucgenp4vec, bins1)\n",
        "freq = [len(bucgenp4vec[binplace == i]) for i in range (1, len(bins1))]"
      ],
      "execution_count": 76,
      "outputs": []
    },
    {
      "cell_type": "code",
      "metadata": {
        "id": "5fTVSf1Pw_iw",
        "colab_type": "code",
        "colab": {
          "base_uri": "https://localhost:8080/",
          "height": 433
        },
        "outputId": "14d27529-806e-45ec-dbb0-64ecb4d1443e"
      },
      "source": [
        "intervals_name= []\n",
        "for i in range(len(bins1)-1):\n",
        "  lim_inf= bins1[i]\n",
        "  lim_sup= bins1[i+1]\n",
        "  label= '['+\"{0:.2f}\".format(lim_inf)+\",\"+\"{0:.2f}\".format(lim_sup)+\")\"\n",
        "  intervals_name.append(label)\n",
        "  print(label)\n",
        "freq_table=pd.DataFrame({'Intervalo':intervals_name, 'Frecuencia':freq}) \n",
        "freq_table"
      ],
      "execution_count": 77,
      "outputs": [
        {
          "output_type": "stream",
          "text": [
            "[78.00,96.75)\n",
            "[96.75,115.50)\n",
            "[115.50,134.25)\n",
            "[134.25,153.00)\n",
            "[153.00,171.75)\n",
            "[171.75,190.50)\n",
            "[190.50,209.25)\n",
            "[209.25,228.00)\n"
          ],
          "name": "stdout"
        },
        {
          "output_type": "execute_result",
          "data": {
            "text/html": [
              "<div>\n",
              "<style scoped>\n",
              "    .dataframe tbody tr th:only-of-type {\n",
              "        vertical-align: middle;\n",
              "    }\n",
              "\n",
              "    .dataframe tbody tr th {\n",
              "        vertical-align: top;\n",
              "    }\n",
              "\n",
              "    .dataframe thead th {\n",
              "        text-align: right;\n",
              "    }\n",
              "</style>\n",
              "<table border=\"1\" class=\"dataframe\">\n",
              "  <thead>\n",
              "    <tr style=\"text-align: right;\">\n",
              "      <th></th>\n",
              "      <th>Intervalo</th>\n",
              "      <th>Frecuencia</th>\n",
              "    </tr>\n",
              "  </thead>\n",
              "  <tbody>\n",
              "    <tr>\n",
              "      <th>0</th>\n",
              "      <td>[78.00,96.75)</td>\n",
              "      <td>1</td>\n",
              "    </tr>\n",
              "    <tr>\n",
              "      <th>1</th>\n",
              "      <td>[96.75,115.50)</td>\n",
              "      <td>1</td>\n",
              "    </tr>\n",
              "    <tr>\n",
              "      <th>2</th>\n",
              "      <td>[115.50,134.25)</td>\n",
              "      <td>9</td>\n",
              "    </tr>\n",
              "    <tr>\n",
              "      <th>3</th>\n",
              "      <td>[134.25,153.00)</td>\n",
              "      <td>18</td>\n",
              "    </tr>\n",
              "    <tr>\n",
              "      <th>4</th>\n",
              "      <td>[153.00,171.75)</td>\n",
              "      <td>42</td>\n",
              "    </tr>\n",
              "    <tr>\n",
              "      <th>5</th>\n",
              "      <td>[171.75,190.50)</td>\n",
              "      <td>39</td>\n",
              "    </tr>\n",
              "    <tr>\n",
              "      <th>6</th>\n",
              "      <td>[190.50,209.25)</td>\n",
              "      <td>32</td>\n",
              "    </tr>\n",
              "    <tr>\n",
              "      <th>7</th>\n",
              "      <td>[209.25,228.00)</td>\n",
              "      <td>12</td>\n",
              "    </tr>\n",
              "  </tbody>\n",
              "</table>\n",
              "</div>"
            ],
            "text/plain": [
              "         Intervalo  Frecuencia\n",
              "0    [78.00,96.75)           1\n",
              "1   [96.75,115.50)           1\n",
              "2  [115.50,134.25)           9\n",
              "3  [134.25,153.00)          18\n",
              "4  [153.00,171.75)          42\n",
              "5  [171.75,190.50)          39\n",
              "6  [190.50,209.25)          32\n",
              "7  [209.25,228.00)          12"
            ]
          },
          "metadata": {
            "tags": []
          },
          "execution_count": 77
        }
      ]
    },
    {
      "cell_type": "code",
      "metadata": {
        "id": "2yE7LQCPxCZJ",
        "colab_type": "code",
        "colab": {
          "base_uri": "https://localhost:8080/",
          "height": 316
        },
        "outputId": "cf4898c8-c5c5-40e2-f8a2-0cb955e12f5e"
      },
      "source": [
        "freq2, edges= np.histogram(bucgenp4vec,bins1)\n",
        "left,right = edges[:-1],edges[1:]\n",
        "X= np.array((left+right)/2)\n",
        "Y= np.array(freq2)\n",
        "print(X)\n",
        "print(Y)\n",
        "plt.hist(bucgenp4vec,bins1)\n",
        "plt.plot(X,Y)\n",
        "plt.show()"
      ],
      "execution_count": 78,
      "outputs": [
        {
          "output_type": "stream",
          "text": [
            "[ 87.3745625 106.1246875 124.8748125 143.6249375 162.3750625 181.1251875\n",
            " 199.8753125 218.6254375]\n",
            "[ 1  1  9 18 42 39 32 12]\n"
          ],
          "name": "stdout"
        },
        {
          "output_type": "display_data",
          "data": {
            "image/png": "[encoded data removed]",
            "text/plain": [
              "<Figure size 432x288 with 1 Axes>"
            ]
          },
          "metadata": {
            "tags": [],
            "needs_background": "light"
          }
        }
      ]
    },
    {
      "cell_type": "code",
      "metadata": {
        "id": "QDYNOpHdxHAd",
        "colab_type": "code",
        "colab": {
          "base_uri": "https://localhost:8080/",
          "height": 283
        },
        "outputId": "19332392-ccc3-4624-c2cf-1026071256ea"
      },
      "source": [
        "dfinalBucaramanga.boxplot(column='MOD_INGLES_PUNT')"
      ],
      "execution_count": 79,
      "outputs": [
        {
          "output_type": "execute_result",
          "data": {
            "text/plain": [
              "<matplotlib.axes._subplots.AxesSubplot at 0x7f5023b782e8>"
            ]
          },
          "metadata": {
            "tags": []
          },
          "execution_count": 79
        },
        {
          "output_type": "display_data",
          "data": {
            "image/png": "[encoded data removed]",
            "text/plain": [
              "<Figure size 432x288 with 1 Axes>"
            ]
          },
          "metadata": {
            "tags": [],
            "needs_background": "light"
          }
        }
      ]
    },
    {
      "cell_type": "markdown",
      "metadata": {
        "id": "Ut2hOaYuxQB4",
        "colab_type": "text"
      },
      "source": [
        "UNIVERSIDAD PONTIFICIA BOLIVARIANA-BUCARAMANGA. PRUEBA GENÉRICA: MODALIDAD COMUNICACIÓN ESCRITA PUNTAJE."
      ]
    },
    {
      "cell_type": "code",
      "metadata": {
        "id": "Q5ZYeqYvxLW0",
        "colab_type": "code",
        "colab": {
          "base_uri": "https://localhost:8080/",
          "height": 204
        },
        "outputId": "d6f9170f-ad7d-4a61-c7b7-f979e266f8a2"
      },
      "source": [
        "da=dfinalBucaramanga[dfinalBucaramanga['MOD_COMUNI_ESCRITA_PUNT']>0]\n",
        "bucgenp5=da.iloc[0:155][['MOD_COMUNI_ESCRITA_PUNT']] \n",
        "bucgenp5.head()"
      ],
      "execution_count": 80,
      "outputs": [
        {
          "output_type": "execute_result",
          "data": {
            "text/html": [
              "<div>\n",
              "<style scoped>\n",
              "    .dataframe tbody tr th:only-of-type {\n",
              "        vertical-align: middle;\n",
              "    }\n",
              "\n",
              "    .dataframe tbody tr th {\n",
              "        vertical-align: top;\n",
              "    }\n",
              "\n",
              "    .dataframe thead th {\n",
              "        text-align: right;\n",
              "    }\n",
              "</style>\n",
              "<table border=\"1\" class=\"dataframe\">\n",
              "  <thead>\n",
              "    <tr style=\"text-align: right;\">\n",
              "      <th></th>\n",
              "      <th>MOD_COMUNI_ESCRITA_PUNT</th>\n",
              "    </tr>\n",
              "  </thead>\n",
              "  <tbody>\n",
              "    <tr>\n",
              "      <th>0</th>\n",
              "      <td>184.0</td>\n",
              "    </tr>\n",
              "    <tr>\n",
              "      <th>1</th>\n",
              "      <td>115.0</td>\n",
              "    </tr>\n",
              "    <tr>\n",
              "      <th>2</th>\n",
              "      <td>198.0</td>\n",
              "    </tr>\n",
              "    <tr>\n",
              "      <th>3</th>\n",
              "      <td>135.0</td>\n",
              "    </tr>\n",
              "    <tr>\n",
              "      <th>4</th>\n",
              "      <td>90.0</td>\n",
              "    </tr>\n",
              "  </tbody>\n",
              "</table>\n",
              "</div>"
            ],
            "text/plain": [
              "   MOD_COMUNI_ESCRITA_PUNT\n",
              "0                    184.0\n",
              "1                    115.0\n",
              "2                    198.0\n",
              "3                    135.0\n",
              "4                     90.0"
            ]
          },
          "metadata": {
            "tags": []
          },
          "execution_count": 80
        }
      ]
    },
    {
      "cell_type": "code",
      "metadata": {
        "id": "aj7Yc7K-xcO_",
        "colab_type": "code",
        "colab": {
          "base_uri": "https://localhost:8080/",
          "height": 34
        },
        "outputId": "e0a90a24-ce59-49ff-c490-2522d1fd7a65"
      },
      "source": [
        "bucgenp5vec=np.ravel(bucgenp5)\n",
        "bucgenp5vec.shape"
      ],
      "execution_count": 81,
      "outputs": [
        {
          "output_type": "execute_result",
          "data": {
            "text/plain": [
              "(151,)"
            ]
          },
          "metadata": {
            "tags": []
          },
          "execution_count": 81
        }
      ]
    },
    {
      "cell_type": "code",
      "metadata": {
        "id": "3XLOG0BWxiko",
        "colab_type": "code",
        "colab": {}
      },
      "source": [
        "rango=np.max(bucgenp5vec)-np.min(bucgenp5vec)\n",
        "nIntervalos= 8\n",
        "anchoIntervalo= (rango+0.001)/nIntervalos\n",
        "bins1= np.linspace(np.min(bucgenp5vec)-0.0005, np.max(bucgenp5vec)+0.0005, (nIntervalos+1))\n",
        "binplace= np.digitize(bucgenp5vec, bins1)\n",
        "freq = [len(bucgenp5vec[binplace == i]) for i in range (1, len(bins1))]"
      ],
      "execution_count": 82,
      "outputs": []
    },
    {
      "cell_type": "code",
      "metadata": {
        "id": "VQcw8Z5pxtW9",
        "colab_type": "code",
        "colab": {
          "base_uri": "https://localhost:8080/",
          "height": 433
        },
        "outputId": "a8314c15-98c1-497c-cdb4-35bd272eb242"
      },
      "source": [
        "intervals_name= []\n",
        "for i in range(len(bins1)-1):\n",
        "  lim_inf= bins1[i]\n",
        "  lim_sup= bins1[i+1]\n",
        "  label= '['+\"{0:.2f}\".format(lim_inf)+\",\"+\"{0:.2f}\".format(lim_sup)+\")\"\n",
        "  intervals_name.append(label)\n",
        "  print(label)\n",
        "freq_table=pd.DataFrame({'Intervalo':intervals_name, 'Frecuencia':freq}) \n",
        "freq_table\n"
      ],
      "execution_count": 83,
      "outputs": [
        {
          "output_type": "stream",
          "text": [
            "[90.00,107.12)\n",
            "[107.12,124.25)\n",
            "[124.25,141.37)\n",
            "[141.37,158.50)\n",
            "[158.50,175.63)\n",
            "[175.63,192.75)\n",
            "[192.75,209.88)\n",
            "[209.88,227.00)\n"
          ],
          "name": "stdout"
        },
        {
          "output_type": "execute_result",
          "data": {
            "text/html": [
              "<div>\n",
              "<style scoped>\n",
              "    .dataframe tbody tr th:only-of-type {\n",
              "        vertical-align: middle;\n",
              "    }\n",
              "\n",
              "    .dataframe tbody tr th {\n",
              "        vertical-align: top;\n",
              "    }\n",
              "\n",
              "    .dataframe thead th {\n",
              "        text-align: right;\n",
              "    }\n",
              "</style>\n",
              "<table border=\"1\" class=\"dataframe\">\n",
              "  <thead>\n",
              "    <tr style=\"text-align: right;\">\n",
              "      <th></th>\n",
              "      <th>Intervalo</th>\n",
              "      <th>Frecuencia</th>\n",
              "    </tr>\n",
              "  </thead>\n",
              "  <tbody>\n",
              "    <tr>\n",
              "      <th>0</th>\n",
              "      <td>[90.00,107.12)</td>\n",
              "      <td>6</td>\n",
              "    </tr>\n",
              "    <tr>\n",
              "      <th>1</th>\n",
              "      <td>[107.12,124.25)</td>\n",
              "      <td>11</td>\n",
              "    </tr>\n",
              "    <tr>\n",
              "      <th>2</th>\n",
              "      <td>[124.25,141.37)</td>\n",
              "      <td>43</td>\n",
              "    </tr>\n",
              "    <tr>\n",
              "      <th>3</th>\n",
              "      <td>[141.37,158.50)</td>\n",
              "      <td>26</td>\n",
              "    </tr>\n",
              "    <tr>\n",
              "      <th>4</th>\n",
              "      <td>[158.50,175.63)</td>\n",
              "      <td>30</td>\n",
              "    </tr>\n",
              "    <tr>\n",
              "      <th>5</th>\n",
              "      <td>[175.63,192.75)</td>\n",
              "      <td>20</td>\n",
              "    </tr>\n",
              "    <tr>\n",
              "      <th>6</th>\n",
              "      <td>[192.75,209.88)</td>\n",
              "      <td>13</td>\n",
              "    </tr>\n",
              "    <tr>\n",
              "      <th>7</th>\n",
              "      <td>[209.88,227.00)</td>\n",
              "      <td>2</td>\n",
              "    </tr>\n",
              "  </tbody>\n",
              "</table>\n",
              "</div>"
            ],
            "text/plain": [
              "         Intervalo  Frecuencia\n",
              "0   [90.00,107.12)           6\n",
              "1  [107.12,124.25)          11\n",
              "2  [124.25,141.37)          43\n",
              "3  [141.37,158.50)          26\n",
              "4  [158.50,175.63)          30\n",
              "5  [175.63,192.75)          20\n",
              "6  [192.75,209.88)          13\n",
              "7  [209.88,227.00)           2"
            ]
          },
          "metadata": {
            "tags": []
          },
          "execution_count": 83
        }
      ]
    },
    {
      "cell_type": "code",
      "metadata": {
        "id": "2LDREf7GxvKY",
        "colab_type": "code",
        "colab": {
          "base_uri": "https://localhost:8080/",
          "height": 316
        },
        "outputId": "21db89bb-2793-4062-9f3d-ea02039d3bbf"
      },
      "source": [
        "freq2, edges= np.histogram(bucgenp5vec,bins1)\n",
        "left,right = edges[:-1],edges[1:]\n",
        "X= np.array((left+right)/2)\n",
        "Y= np.array(freq2)\n",
        "print(X)\n",
        "print(Y)\n",
        "plt.hist(bucgenp5vec,bins1)\n",
        "plt.plot(X,Y)\n",
        "plt.show()"
      ],
      "execution_count": 84,
      "outputs": [
        {
          "output_type": "stream",
          "text": [
            "[ 98.5620625 115.6871875 132.8123125 149.9374375 167.0625625 184.1876875\n",
            " 201.3128125 218.4379375]\n",
            "[ 6 11 43 26 30 20 13  2]\n"
          ],
          "name": "stdout"
        },
        {
          "output_type": "display_data",
          "data": {
            "image/png": "[encoded data removed]",
            "text/plain": [
              "<Figure size 432x288 with 1 Axes>"
            ]
          },
          "metadata": {
            "tags": [],
            "needs_background": "light"
          }
        }
      ]
    },
    {
      "cell_type": "code",
      "metadata": {
        "id": "uWaKR_Qhxz5o",
        "colab_type": "code",
        "colab": {
          "base_uri": "https://localhost:8080/",
          "height": 283
        },
        "outputId": "98d54483-fb6f-424f-89c8-88ccae32c69a"
      },
      "source": [
        "dfinalBucaramanga.boxplot(column='MOD_COMUNI_ESCRITA_PUNT')"
      ],
      "execution_count": 85,
      "outputs": [
        {
          "output_type": "execute_result",
          "data": {
            "text/plain": [
              "<matplotlib.axes._subplots.AxesSubplot at 0x7f5025998d30>"
            ]
          },
          "metadata": {
            "tags": []
          },
          "execution_count": 85
        },
        {
          "output_type": "display_data",
          "data": {
            "image/png": "[encoded data removed]",
            "text/plain": [
              "<Figure size 432x288 with 1 Axes>"
            ]
          },
          "metadata": {
            "tags": [],
            "needs_background": "light"
          }
        }
      ]
    },
    {
      "cell_type": "markdown",
      "metadata": {
        "id": "0V8WBYUkx8uv",
        "colab_type": "text"
      },
      "source": [
        "UNIVERSIDAD PONTIFICIA BOLIVARIANA-BUCARAMANGA. PRUEBA GENÉRICA: PUNTAJE GLOBAL."
      ]
    },
    {
      "cell_type": "code",
      "metadata": {
        "id": "JoEiW7B8x4Jd",
        "colab_type": "code",
        "colab": {
          "base_uri": "https://localhost:8080/",
          "height": 204
        },
        "outputId": "1fc688c0-e48d-43b1-95be-73d49dd25a6e"
      },
      "source": [
        "da=dfinalBucaramanga[dfinalBucaramanga['PUNT_GLOBAL']>0]\n",
        "bucgenpg=da.iloc[0:155][['PUNT_GLOBAL']] \n",
        "bucgenpg.head()"
      ],
      "execution_count": 86,
      "outputs": [
        {
          "output_type": "execute_result",
          "data": {
            "text/html": [
              "<div>\n",
              "<style scoped>\n",
              "    .dataframe tbody tr th:only-of-type {\n",
              "        vertical-align: middle;\n",
              "    }\n",
              "\n",
              "    .dataframe tbody tr th {\n",
              "        vertical-align: top;\n",
              "    }\n",
              "\n",
              "    .dataframe thead th {\n",
              "        text-align: right;\n",
              "    }\n",
              "</style>\n",
              "<table border=\"1\" class=\"dataframe\">\n",
              "  <thead>\n",
              "    <tr style=\"text-align: right;\">\n",
              "      <th></th>\n",
              "      <th>PUNT_GLOBAL</th>\n",
              "    </tr>\n",
              "  </thead>\n",
              "  <tbody>\n",
              "    <tr>\n",
              "      <th>0</th>\n",
              "      <td>167</td>\n",
              "    </tr>\n",
              "    <tr>\n",
              "      <th>1</th>\n",
              "      <td>146</td>\n",
              "    </tr>\n",
              "    <tr>\n",
              "      <th>2</th>\n",
              "      <td>194</td>\n",
              "    </tr>\n",
              "    <tr>\n",
              "      <th>3</th>\n",
              "      <td>192</td>\n",
              "    </tr>\n",
              "    <tr>\n",
              "      <th>4</th>\n",
              "      <td>127</td>\n",
              "    </tr>\n",
              "  </tbody>\n",
              "</table>\n",
              "</div>"
            ],
            "text/plain": [
              "   PUNT_GLOBAL\n",
              "0          167\n",
              "1          146\n",
              "2          194\n",
              "3          192\n",
              "4          127"
            ]
          },
          "metadata": {
            "tags": []
          },
          "execution_count": 86
        }
      ]
    },
    {
      "cell_type": "code",
      "metadata": {
        "id": "Dzz4P5cjyId1",
        "colab_type": "code",
        "colab": {
          "base_uri": "https://localhost:8080/",
          "height": 34
        },
        "outputId": "f7c34071-17f9-41d9-e45d-8cba4e702447"
      },
      "source": [
        "bucgenpgvec=np.ravel(bucgenpg)\n",
        "bucgenpgvec.shape\n"
      ],
      "execution_count": 87,
      "outputs": [
        {
          "output_type": "execute_result",
          "data": {
            "text/plain": [
              "(154,)"
            ]
          },
          "metadata": {
            "tags": []
          },
          "execution_count": 87
        }
      ]
    },
    {
      "cell_type": "code",
      "metadata": {
        "id": "vfBNPF2iyM1i",
        "colab_type": "code",
        "colab": {}
      },
      "source": [
        "rango=np.max(bucgenpgvec)-np.min(bucgenpgvec)\n",
        "nIntervalos= 8\n",
        "anchoIntervalo= (rango+0.001)/nIntervalos\n",
        "bins1= np.linspace(np.min(bucgenpgvec)-0.0005, np.max(bucgenpgvec)+0.0005, (nIntervalos+1))\n",
        "binplace= np.digitize(bucgenpgvec, bins1)\n",
        "freq = [len(bucgenpgvec[binplace == i]) for i in range (1, len(bins1))]"
      ],
      "execution_count": 88,
      "outputs": []
    },
    {
      "cell_type": "code",
      "metadata": {
        "id": "0rNB5Qy1yVuR",
        "colab_type": "code",
        "colab": {
          "base_uri": "https://localhost:8080/",
          "height": 433
        },
        "outputId": "d5943c50-5c48-4aa3-a326-467b158da4b3"
      },
      "source": [
        "intervals_name= []\n",
        "for i in range(len(bins1)-1):\n",
        "  lim_inf= bins1[i]\n",
        "  lim_sup= bins1[i+1]\n",
        "  label= '['+\"{0:.2f}\".format(lim_inf)+\",\"+\"{0:.2f}\".format(lim_sup)+\")\"\n",
        "  intervals_name.append(label)\n",
        "  print(label)\n",
        "freq_table=pd.DataFrame({'Intervalo':intervals_name, 'Frecuencia':freq}) \n",
        "freq_table"
      ],
      "execution_count": 89,
      "outputs": [
        {
          "output_type": "stream",
          "text": [
            "[118.00,130.50)\n",
            "[130.50,143.00)\n",
            "[143.00,155.50)\n",
            "[155.50,168.00)\n",
            "[168.00,180.50)\n",
            "[180.50,193.00)\n",
            "[193.00,205.50)\n",
            "[205.50,218.00)\n"
          ],
          "name": "stdout"
        },
        {
          "output_type": "execute_result",
          "data": {
            "text/html": [
              "<div>\n",
              "<style scoped>\n",
              "    .dataframe tbody tr th:only-of-type {\n",
              "        vertical-align: middle;\n",
              "    }\n",
              "\n",
              "    .dataframe tbody tr th {\n",
              "        vertical-align: top;\n",
              "    }\n",
              "\n",
              "    .dataframe thead th {\n",
              "        text-align: right;\n",
              "    }\n",
              "</style>\n",
              "<table border=\"1\" class=\"dataframe\">\n",
              "  <thead>\n",
              "    <tr style=\"text-align: right;\">\n",
              "      <th></th>\n",
              "      <th>Intervalo</th>\n",
              "      <th>Frecuencia</th>\n",
              "    </tr>\n",
              "  </thead>\n",
              "  <tbody>\n",
              "    <tr>\n",
              "      <th>0</th>\n",
              "      <td>[118.00,130.50)</td>\n",
              "      <td>8</td>\n",
              "    </tr>\n",
              "    <tr>\n",
              "      <th>1</th>\n",
              "      <td>[130.50,143.00)</td>\n",
              "      <td>18</td>\n",
              "    </tr>\n",
              "    <tr>\n",
              "      <th>2</th>\n",
              "      <td>[143.00,155.50)</td>\n",
              "      <td>32</td>\n",
              "    </tr>\n",
              "    <tr>\n",
              "      <th>3</th>\n",
              "      <td>[155.50,168.00)</td>\n",
              "      <td>39</td>\n",
              "    </tr>\n",
              "    <tr>\n",
              "      <th>4</th>\n",
              "      <td>[168.00,180.50)</td>\n",
              "      <td>30</td>\n",
              "    </tr>\n",
              "    <tr>\n",
              "      <th>5</th>\n",
              "      <td>[180.50,193.00)</td>\n",
              "      <td>18</td>\n",
              "    </tr>\n",
              "    <tr>\n",
              "      <th>6</th>\n",
              "      <td>[193.00,205.50)</td>\n",
              "      <td>8</td>\n",
              "    </tr>\n",
              "    <tr>\n",
              "      <th>7</th>\n",
              "      <td>[205.50,218.00)</td>\n",
              "      <td>1</td>\n",
              "    </tr>\n",
              "  </tbody>\n",
              "</table>\n",
              "</div>"
            ],
            "text/plain": [
              "         Intervalo  Frecuencia\n",
              "0  [118.00,130.50)           8\n",
              "1  [130.50,143.00)          18\n",
              "2  [143.00,155.50)          32\n",
              "3  [155.50,168.00)          39\n",
              "4  [168.00,180.50)          30\n",
              "5  [180.50,193.00)          18\n",
              "6  [193.00,205.50)           8\n",
              "7  [205.50,218.00)           1"
            ]
          },
          "metadata": {
            "tags": []
          },
          "execution_count": 89
        }
      ]
    },
    {
      "cell_type": "code",
      "metadata": {
        "id": "w2Y8yj9FyYIx",
        "colab_type": "code",
        "colab": {
          "base_uri": "https://localhost:8080/",
          "height": 316
        },
        "outputId": "b1a5f511-eb33-4548-db68-a2416219f0ed"
      },
      "source": [
        "freq2, edges= np.histogram(bucgenpgvec,bins1)\n",
        "left,right = edges[:-1],edges[1:]\n",
        "X= np.array((left+right)/2)\n",
        "Y= np.array(freq2)\n",
        "print(X)\n",
        "print(Y)\n",
        "plt.hist(bucgenpgvec,bins1)\n",
        "plt.plot(X,Y)\n",
        "plt.show()"
      ],
      "execution_count": 90,
      "outputs": [
        {
          "output_type": "stream",
          "text": [
            "[124.2495625 136.7496875 149.2498125 161.7499375 174.2500625 186.7501875\n",
            " 199.2503125 211.7504375]\n",
            "[ 8 18 32 39 30 18  8  1]\n"
          ],
          "name": "stdout"
        },
        {
          "output_type": "display_data",
          "data": {
            "image/png": "[encoded data removed]",
            "text/plain": [
              "<Figure size 432x288 with 1 Axes>"
            ]
          },
          "metadata": {
            "tags": [],
            "needs_background": "light"
          }
        }
      ]
    },
    {
      "cell_type": "code",
      "metadata": {
        "id": "yjOVR8aQydPL",
        "colab_type": "code",
        "colab": {
          "base_uri": "https://localhost:8080/",
          "height": 283
        },
        "outputId": "3c0966ca-8652-498c-b741-5ca64c225f01"
      },
      "source": [
        "dfinalBucaramanga.boxplot(column='PUNT_GLOBAL')"
      ],
      "execution_count": 91,
      "outputs": [
        {
          "output_type": "execute_result",
          "data": {
            "text/plain": [
              "<matplotlib.axes._subplots.AxesSubplot at 0x7f50258812b0>"
            ]
          },
          "metadata": {
            "tags": []
          },
          "execution_count": 91
        },
        {
          "output_type": "display_data",
          "data": {
            "image/png": "[encoded data removed]",
            "text/plain": [
              "<Figure size 432x288 with 1 Axes>"
            ]
          },
          "metadata": {
            "tags": [],
            "needs_background": "light"
          }
        }
      ]
    },
    {
      "cell_type": "markdown",
      "metadata": {
        "id": "rLcQBzmo01IR",
        "colab_type": "text"
      },
      "source": [
        "## ESPECIFICAS UNIVERSIDAD DE LA COSTA"
      ]
    },
    {
      "cell_type": "markdown",
      "metadata": {
        "id": "ZxWCwdZ1z2i2",
        "colab_type": "text"
      },
      "source": [
        "CORPORACION UNIVERSIDAD DE LA COSTA, CUC-BARRANQUILLA. PRUEBA ESPECÍFICA: DISEÑO DE SISTEMAS PRODUCTIVOS Y LOGÍSTICOS"
      ]
    },
    {
      "cell_type": "code",
      "metadata": {
        "id": "MtN-ONThyh2o",
        "colab_type": "code",
        "colab": {
          "base_uri": "https://localhost:8080/",
          "height": 204
        },
        "outputId": "d4c8db1d-82c9-4d05-a000-9cc7d19f7e90"
      },
      "source": [
        "da=dfinalcuc[dfinalcuc['DISEÑO DE SISTEMAS PRODUCTIVOS Y LOGÍSTICOS']>0]\n",
        "cucesp1=da.iloc[0:155][['DISEÑO DE SISTEMAS PRODUCTIVOS Y LOGÍSTICOS']] \n",
        "cucesp1.head()"
      ],
      "execution_count": 92,
      "outputs": [
        {
          "output_type": "execute_result",
          "data": {
            "text/html": [
              "<div>\n",
              "<style scoped>\n",
              "    .dataframe tbody tr th:only-of-type {\n",
              "        vertical-align: middle;\n",
              "    }\n",
              "\n",
              "    .dataframe tbody tr th {\n",
              "        vertical-align: top;\n",
              "    }\n",
              "\n",
              "    .dataframe thead th {\n",
              "        text-align: right;\n",
              "    }\n",
              "</style>\n",
              "<table border=\"1\" class=\"dataframe\">\n",
              "  <thead>\n",
              "    <tr style=\"text-align: right;\">\n",
              "      <th></th>\n",
              "      <th>DISEÑO DE SISTEMAS PRODUCTIVOS Y LOGÍSTICOS</th>\n",
              "    </tr>\n",
              "  </thead>\n",
              "  <tbody>\n",
              "    <tr>\n",
              "      <th>0</th>\n",
              "      <td>126</td>\n",
              "    </tr>\n",
              "    <tr>\n",
              "      <th>1</th>\n",
              "      <td>138</td>\n",
              "    </tr>\n",
              "    <tr>\n",
              "      <th>2</th>\n",
              "      <td>164</td>\n",
              "    </tr>\n",
              "    <tr>\n",
              "      <th>3</th>\n",
              "      <td>167</td>\n",
              "    </tr>\n",
              "    <tr>\n",
              "      <th>4</th>\n",
              "      <td>151</td>\n",
              "    </tr>\n",
              "  </tbody>\n",
              "</table>\n",
              "</div>"
            ],
            "text/plain": [
              "   DISEÑO DE SISTEMAS PRODUCTIVOS Y LOGÍSTICOS\n",
              "0                                          126\n",
              "1                                          138\n",
              "2                                          164\n",
              "3                                          167\n",
              "4                                          151"
            ]
          },
          "metadata": {
            "tags": []
          },
          "execution_count": 92
        }
      ]
    },
    {
      "cell_type": "code",
      "metadata": {
        "id": "QEa_lzq31ORo",
        "colab_type": "code",
        "colab": {
          "base_uri": "https://localhost:8080/",
          "height": 34
        },
        "outputId": "8482dfdc-6524-494e-a94f-ecd29fde275d"
      },
      "source": [
        "cucesp1vec=np.ravel(cucesp1)\n",
        "cucesp1vec.shape"
      ],
      "execution_count": 93,
      "outputs": [
        {
          "output_type": "execute_result",
          "data": {
            "text/plain": [
              "(155,)"
            ]
          },
          "metadata": {
            "tags": []
          },
          "execution_count": 93
        }
      ]
    },
    {
      "cell_type": "code",
      "metadata": {
        "id": "lJQXKsUf1imv",
        "colab_type": "code",
        "colab": {}
      },
      "source": [
        "rango=np.max(cucesp1vec)-np.min(cucesp1vec)\n",
        "nIntervalos= 8\n",
        "anchoIntervalo= (rango+0.001)/nIntervalos\n",
        "bins1= np.linspace(np.min(cucesp1vec)-0.0005, np.max(cucesp1vec)+0.0005, (nIntervalos+1))\n",
        "binplace= np.digitize(cucesp1vec, bins1)\n",
        "freq = [len(cucesp1vec[binplace == i]) for i in range (1, len(bins1))]"
      ],
      "execution_count": 94,
      "outputs": []
    },
    {
      "cell_type": "code",
      "metadata": {
        "id": "LkOHgfLH2rGz",
        "colab_type": "code",
        "colab": {
          "base_uri": "https://localhost:8080/",
          "height": 433
        },
        "outputId": "97a11f96-fc7f-441d-c629-c6925fd80ed3"
      },
      "source": [
        "intervals_name= []\n",
        "for i in range(len(bins1)-1):\n",
        "  lim_inf= bins1[i]\n",
        "  lim_sup= bins1[i+1]\n",
        "  label= '['+\"{0:.2f}\".format(lim_inf)+\",\"+\"{0:.2f}\".format(lim_sup)+\")\"\n",
        "  intervals_name.append(label)\n",
        "  print(label)\n",
        "freq_table=pd.DataFrame({'Intervalo':intervals_name, 'Frecuencia':freq}) \n",
        "freq_table"
      ],
      "execution_count": 95,
      "outputs": [
        {
          "output_type": "stream",
          "text": [
            "[59.00,78.87)\n",
            "[78.87,98.75)\n",
            "[98.75,118.62)\n",
            "[118.62,138.50)\n",
            "[138.50,158.38)\n",
            "[158.38,178.25)\n",
            "[178.25,198.13)\n",
            "[198.13,218.00)\n"
          ],
          "name": "stdout"
        },
        {
          "output_type": "execute_result",
          "data": {
            "text/html": [
              "<div>\n",
              "<style scoped>\n",
              "    .dataframe tbody tr th:only-of-type {\n",
              "        vertical-align: middle;\n",
              "    }\n",
              "\n",
              "    .dataframe tbody tr th {\n",
              "        vertical-align: top;\n",
              "    }\n",
              "\n",
              "    .dataframe thead th {\n",
              "        text-align: right;\n",
              "    }\n",
              "</style>\n",
              "<table border=\"1\" class=\"dataframe\">\n",
              "  <thead>\n",
              "    <tr style=\"text-align: right;\">\n",
              "      <th></th>\n",
              "      <th>Intervalo</th>\n",
              "      <th>Frecuencia</th>\n",
              "    </tr>\n",
              "  </thead>\n",
              "  <tbody>\n",
              "    <tr>\n",
              "      <th>0</th>\n",
              "      <td>[59.00,78.87)</td>\n",
              "      <td>2</td>\n",
              "    </tr>\n",
              "    <tr>\n",
              "      <th>1</th>\n",
              "      <td>[78.87,98.75)</td>\n",
              "      <td>14</td>\n",
              "    </tr>\n",
              "    <tr>\n",
              "      <th>2</th>\n",
              "      <td>[98.75,118.62)</td>\n",
              "      <td>25</td>\n",
              "    </tr>\n",
              "    <tr>\n",
              "      <th>3</th>\n",
              "      <td>[118.62,138.50)</td>\n",
              "      <td>53</td>\n",
              "    </tr>\n",
              "    <tr>\n",
              "      <th>4</th>\n",
              "      <td>[138.50,158.38)</td>\n",
              "      <td>35</td>\n",
              "    </tr>\n",
              "    <tr>\n",
              "      <th>5</th>\n",
              "      <td>[158.38,178.25)</td>\n",
              "      <td>20</td>\n",
              "    </tr>\n",
              "    <tr>\n",
              "      <th>6</th>\n",
              "      <td>[178.25,198.13)</td>\n",
              "      <td>5</td>\n",
              "    </tr>\n",
              "    <tr>\n",
              "      <th>7</th>\n",
              "      <td>[198.13,218.00)</td>\n",
              "      <td>1</td>\n",
              "    </tr>\n",
              "  </tbody>\n",
              "</table>\n",
              "</div>"
            ],
            "text/plain": [
              "         Intervalo  Frecuencia\n",
              "0    [59.00,78.87)           2\n",
              "1    [78.87,98.75)          14\n",
              "2   [98.75,118.62)          25\n",
              "3  [118.62,138.50)          53\n",
              "4  [138.50,158.38)          35\n",
              "5  [158.38,178.25)          20\n",
              "6  [178.25,198.13)           5\n",
              "7  [198.13,218.00)           1"
            ]
          },
          "metadata": {
            "tags": []
          },
          "execution_count": 95
        }
      ]
    },
    {
      "cell_type": "code",
      "metadata": {
        "id": "PftOP4cG2tRQ",
        "colab_type": "code",
        "colab": {
          "base_uri": "https://localhost:8080/",
          "height": 316
        },
        "outputId": "48caf8b2-cd96-4ece-c58d-150be13dff7c"
      },
      "source": [
        "freq2, edges= np.histogram(cucesp1vec,bins1)\n",
        "left,right = edges[:-1],edges[1:]\n",
        "X= np.array((left+right)/2)\n",
        "Y= np.array(freq2)\n",
        "print(X)\n",
        "print(Y)\n",
        "plt.hist(cucesp1vec,bins1)\n",
        "plt.plot(X,Y)\n",
        "plt.show()"
      ],
      "execution_count": 96,
      "outputs": [
        {
          "output_type": "stream",
          "text": [
            "[ 68.9370625  88.8121875 108.6873125 128.5624375 148.4375625 168.3126875\n",
            " 188.1878125 208.0629375]\n",
            "[ 2 14 25 53 35 20  5  1]\n"
          ],
          "name": "stdout"
        },
        {
          "output_type": "display_data",
          "data": {
            "image/png": "[encoded data removed]",
            "text/plain": [
              "<Figure size 432x288 with 1 Axes>"
            ]
          },
          "metadata": {
            "tags": [],
            "needs_background": "light"
          }
        }
      ]
    },
    {
      "cell_type": "code",
      "metadata": {
        "id": "jYURj0VY2zZl",
        "colab_type": "code",
        "colab": {
          "base_uri": "https://localhost:8080/",
          "height": 282
        },
        "outputId": "d71b7e5c-6e86-4f93-8ce1-a4b3730f73f0"
      },
      "source": [
        "dfinalcuc.boxplot(column='DISEÑO DE SISTEMAS PRODUCTIVOS Y LOGÍSTICOS')"
      ],
      "execution_count": 97,
      "outputs": [
        {
          "output_type": "execute_result",
          "data": {
            "text/plain": [
              "<matplotlib.axes._subplots.AxesSubplot at 0x7f50257054a8>"
            ]
          },
          "metadata": {
            "tags": []
          },
          "execution_count": 97
        },
        {
          "output_type": "display_data",
          "data": {
            "image/png": "[encoded data removed]",
            "text/plain": [
              "<Figure size 432x288 with 1 Axes>"
            ]
          },
          "metadata": {
            "tags": [],
            "needs_background": "light"
          }
        }
      ]
    },
    {
      "cell_type": "markdown",
      "metadata": {
        "id": "2cileKOJ3Z1Y",
        "colab_type": "text"
      },
      "source": [
        "CORPORACION UNIVERSIDAD DE LA COSTA, CUC-BARRANQUILLA. PRUEBA ESPECÍFICA: FORMULACIÓN DE PROYECTOS DE INGENIERÍA."
      ]
    },
    {
      "cell_type": "code",
      "metadata": {
        "id": "lWtKyWqr3pCE",
        "colab_type": "code",
        "colab": {
          "base_uri": "https://localhost:8080/",
          "height": 204
        },
        "outputId": "40847218-6e08-415b-ef5f-5f6471a6309d"
      },
      "source": [
        "da=dfinalcuc[dfinalcuc['FORMULACIÓN DE PROYECTOS DE INGENIERÍA']>0]\n",
        "cucesp2=da.iloc[0:155][['FORMULACIÓN DE PROYECTOS DE INGENIERÍA']] \n",
        "cucesp2.head()"
      ],
      "execution_count": 98,
      "outputs": [
        {
          "output_type": "execute_result",
          "data": {
            "text/html": [
              "<div>\n",
              "<style scoped>\n",
              "    .dataframe tbody tr th:only-of-type {\n",
              "        vertical-align: middle;\n",
              "    }\n",
              "\n",
              "    .dataframe tbody tr th {\n",
              "        vertical-align: top;\n",
              "    }\n",
              "\n",
              "    .dataframe thead th {\n",
              "        text-align: right;\n",
              "    }\n",
              "</style>\n",
              "<table border=\"1\" class=\"dataframe\">\n",
              "  <thead>\n",
              "    <tr style=\"text-align: right;\">\n",
              "      <th></th>\n",
              "      <th>FORMULACIÓN DE PROYECTOS DE INGENIERÍA</th>\n",
              "    </tr>\n",
              "  </thead>\n",
              "  <tbody>\n",
              "    <tr>\n",
              "      <th>0</th>\n",
              "      <td>159</td>\n",
              "    </tr>\n",
              "    <tr>\n",
              "      <th>1</th>\n",
              "      <td>153</td>\n",
              "    </tr>\n",
              "    <tr>\n",
              "      <th>2</th>\n",
              "      <td>148</td>\n",
              "    </tr>\n",
              "    <tr>\n",
              "      <th>3</th>\n",
              "      <td>152</td>\n",
              "    </tr>\n",
              "    <tr>\n",
              "      <th>4</th>\n",
              "      <td>149</td>\n",
              "    </tr>\n",
              "  </tbody>\n",
              "</table>\n",
              "</div>"
            ],
            "text/plain": [
              "   FORMULACIÓN DE PROYECTOS DE INGENIERÍA\n",
              "0                                     159\n",
              "1                                     153\n",
              "2                                     148\n",
              "3                                     152\n",
              "4                                     149"
            ]
          },
          "metadata": {
            "tags": []
          },
          "execution_count": 98
        }
      ]
    },
    {
      "cell_type": "code",
      "metadata": {
        "id": "brOMQ5Fn3yZx",
        "colab_type": "code",
        "colab": {
          "base_uri": "https://localhost:8080/",
          "height": 34
        },
        "outputId": "c46f6d70-c0c7-45a4-dbdf-63e535f395fb"
      },
      "source": [
        "cucesp2vec=np.ravel(cucesp2)\n",
        "cucesp2vec.shape"
      ],
      "execution_count": 99,
      "outputs": [
        {
          "output_type": "execute_result",
          "data": {
            "text/plain": [
              "(155,)"
            ]
          },
          "metadata": {
            "tags": []
          },
          "execution_count": 99
        }
      ]
    },
    {
      "cell_type": "code",
      "metadata": {
        "id": "C_ZrKy1r38dK",
        "colab_type": "code",
        "colab": {}
      },
      "source": [
        "rango=np.max(cucesp2vec)-np.min(cucesp2vec)\n",
        "nIntervalos= 8\n",
        "anchoIntervalo= (rango+0.001)/nIntervalos\n",
        "bins1= np.linspace(np.min(cucesp2vec)-0.0005, np.max(cucesp2vec)+0.0005, (nIntervalos+1))\n",
        "binplace= np.digitize(cucesp2vec, bins1)\n",
        "freq = [len(cucesp2vec[binplace == i]) for i in range (1, len(bins1))]\n"
      ],
      "execution_count": 100,
      "outputs": []
    },
    {
      "cell_type": "code",
      "metadata": {
        "id": "wKItH6Rx4EI0",
        "colab_type": "code",
        "colab": {
          "base_uri": "https://localhost:8080/",
          "height": 433
        },
        "outputId": "39de5d49-9096-4736-de5f-bc7f0beddffd"
      },
      "source": [
        "intervals_name= []\n",
        "for i in range(len(bins1)-1):\n",
        "  lim_inf= bins1[i]\n",
        "  lim_sup= bins1[i+1]\n",
        "  label= '['+\"{0:.2f}\".format(lim_inf)+\",\"+\"{0:.2f}\".format(lim_sup)+\")\"\n",
        "  intervals_name.append(label)\n",
        "  print(label)\n",
        "freq_table=pd.DataFrame({'Intervalo':intervals_name, 'Frecuencia':freq}) \n",
        "freq_table"
      ],
      "execution_count": 101,
      "outputs": [
        {
          "output_type": "stream",
          "text": [
            "[59.00,76.50)\n",
            "[76.50,94.00)\n",
            "[94.00,111.50)\n",
            "[111.50,129.00)\n",
            "[129.00,146.50)\n",
            "[146.50,164.00)\n",
            "[164.00,181.50)\n",
            "[181.50,199.00)\n"
          ],
          "name": "stdout"
        },
        {
          "output_type": "execute_result",
          "data": {
            "text/html": [
              "<div>\n",
              "<style scoped>\n",
              "    .dataframe tbody tr th:only-of-type {\n",
              "        vertical-align: middle;\n",
              "    }\n",
              "\n",
              "    .dataframe tbody tr th {\n",
              "        vertical-align: top;\n",
              "    }\n",
              "\n",
              "    .dataframe thead th {\n",
              "        text-align: right;\n",
              "    }\n",
              "</style>\n",
              "<table border=\"1\" class=\"dataframe\">\n",
              "  <thead>\n",
              "    <tr style=\"text-align: right;\">\n",
              "      <th></th>\n",
              "      <th>Intervalo</th>\n",
              "      <th>Frecuencia</th>\n",
              "    </tr>\n",
              "  </thead>\n",
              "  <tbody>\n",
              "    <tr>\n",
              "      <th>0</th>\n",
              "      <td>[59.00,76.50)</td>\n",
              "      <td>5</td>\n",
              "    </tr>\n",
              "    <tr>\n",
              "      <th>1</th>\n",
              "      <td>[76.50,94.00)</td>\n",
              "      <td>9</td>\n",
              "    </tr>\n",
              "    <tr>\n",
              "      <th>2</th>\n",
              "      <td>[94.00,111.50)</td>\n",
              "      <td>20</td>\n",
              "    </tr>\n",
              "    <tr>\n",
              "      <th>3</th>\n",
              "      <td>[111.50,129.00)</td>\n",
              "      <td>25</td>\n",
              "    </tr>\n",
              "    <tr>\n",
              "      <th>4</th>\n",
              "      <td>[129.00,146.50)</td>\n",
              "      <td>37</td>\n",
              "    </tr>\n",
              "    <tr>\n",
              "      <th>5</th>\n",
              "      <td>[146.50,164.00)</td>\n",
              "      <td>34</td>\n",
              "    </tr>\n",
              "    <tr>\n",
              "      <th>6</th>\n",
              "      <td>[164.00,181.50)</td>\n",
              "      <td>18</td>\n",
              "    </tr>\n",
              "    <tr>\n",
              "      <th>7</th>\n",
              "      <td>[181.50,199.00)</td>\n",
              "      <td>7</td>\n",
              "    </tr>\n",
              "  </tbody>\n",
              "</table>\n",
              "</div>"
            ],
            "text/plain": [
              "         Intervalo  Frecuencia\n",
              "0    [59.00,76.50)           5\n",
              "1    [76.50,94.00)           9\n",
              "2   [94.00,111.50)          20\n",
              "3  [111.50,129.00)          25\n",
              "4  [129.00,146.50)          37\n",
              "5  [146.50,164.00)          34\n",
              "6  [164.00,181.50)          18\n",
              "7  [181.50,199.00)           7"
            ]
          },
          "metadata": {
            "tags": []
          },
          "execution_count": 101
        }
      ]
    },
    {
      "cell_type": "code",
      "metadata": {
        "id": "0TG9FSpZ4GQ7",
        "colab_type": "code",
        "colab": {
          "base_uri": "https://localhost:8080/",
          "height": 316
        },
        "outputId": "3f815366-4314-48f2-c13f-c161f4258cda"
      },
      "source": [
        "freq2, edges= np.histogram(cucesp2vec,bins1)\n",
        "left,right = edges[:-1],edges[1:]\n",
        "X= np.array((left+right)/2)\n",
        "Y= np.array(freq2)\n",
        "print(X)\n",
        "print(Y)\n",
        "plt.hist(cucesp2vec,bins1)\n",
        "plt.plot(X,Y)\n",
        "plt.show()"
      ],
      "execution_count": 102,
      "outputs": [
        {
          "output_type": "stream",
          "text": [
            "[ 67.7495625  85.2496875 102.7498125 120.2499375 137.7500625 155.2501875\n",
            " 172.7503125 190.2504375]\n",
            "[ 5  9 20 25 37 34 18  7]\n"
          ],
          "name": "stdout"
        },
        {
          "output_type": "display_data",
          "data": {
            "image/png": "[encoded data removed]",
            "text/plain": [
              "<Figure size 432x288 with 1 Axes>"
            ]
          },
          "metadata": {
            "tags": [],
            "needs_background": "light"
          }
        }
      ]
    },
    {
      "cell_type": "code",
      "metadata": {
        "id": "Gc2adRfq4LM3",
        "colab_type": "code",
        "colab": {
          "base_uri": "https://localhost:8080/",
          "height": 282
        },
        "outputId": "5fdf7158-1016-4ab1-f77d-f15e8ba3d5dd"
      },
      "source": [
        "dfinalcuc.boxplot(column='FORMULACIÓN DE PROYECTOS DE INGENIERÍA')"
      ],
      "execution_count": 103,
      "outputs": [
        {
          "output_type": "execute_result",
          "data": {
            "text/plain": [
              "<matplotlib.axes._subplots.AxesSubplot at 0x7f5025542208>"
            ]
          },
          "metadata": {
            "tags": []
          },
          "execution_count": 103
        },
        {
          "output_type": "display_data",
          "data": {
            "image/png": "[encoded data removed]",
            "text/plain": [
              "<Figure size 432x288 with 1 Axes>"
            ]
          },
          "metadata": {
            "tags": [],
            "needs_background": "light"
          }
        }
      ]
    },
    {
      "cell_type": "markdown",
      "metadata": {
        "id": "9FsGqJDc4aCJ",
        "colab_type": "text"
      },
      "source": [
        "CORPORACION UNIVERSIDAD DE LA COSTA, CUC-BARRANQUILLA. PRUEBA ESPECÍFICA: PENSAMIENTO CIENTÍFICO - MATEMÁTICAS Y ESTADÍSTICA."
      ]
    },
    {
      "cell_type": "code",
      "metadata": {
        "id": "Mj_un0Qs4RHH",
        "colab_type": "code",
        "colab": {
          "base_uri": "https://localhost:8080/",
          "height": 204
        },
        "outputId": "ba9c6c6b-194c-4731-c51a-85ae4a1f020c"
      },
      "source": [
        "da=dfinalcuc[dfinalcuc['PENSAMIENTO CIENTÍFICO - MATEMÁTICAS Y ESTADÍSTICA']>0]\n",
        "cucesp3=da.iloc[0:155][['PENSAMIENTO CIENTÍFICO - MATEMÁTICAS Y ESTADÍSTICA']] \n",
        "cucesp3.head()"
      ],
      "execution_count": 104,
      "outputs": [
        {
          "output_type": "execute_result",
          "data": {
            "text/html": [
              "<div>\n",
              "<style scoped>\n",
              "    .dataframe tbody tr th:only-of-type {\n",
              "        vertical-align: middle;\n",
              "    }\n",
              "\n",
              "    .dataframe tbody tr th {\n",
              "        vertical-align: top;\n",
              "    }\n",
              "\n",
              "    .dataframe thead th {\n",
              "        text-align: right;\n",
              "    }\n",
              "</style>\n",
              "<table border=\"1\" class=\"dataframe\">\n",
              "  <thead>\n",
              "    <tr style=\"text-align: right;\">\n",
              "      <th></th>\n",
              "      <th>PENSAMIENTO CIENTÍFICO - MATEMÁTICAS Y ESTADÍSTICA</th>\n",
              "    </tr>\n",
              "  </thead>\n",
              "  <tbody>\n",
              "    <tr>\n",
              "      <th>0</th>\n",
              "      <td>127</td>\n",
              "    </tr>\n",
              "    <tr>\n",
              "      <th>1</th>\n",
              "      <td>108</td>\n",
              "    </tr>\n",
              "    <tr>\n",
              "      <th>2</th>\n",
              "      <td>122</td>\n",
              "    </tr>\n",
              "    <tr>\n",
              "      <th>3</th>\n",
              "      <td>122</td>\n",
              "    </tr>\n",
              "    <tr>\n",
              "      <th>4</th>\n",
              "      <td>149</td>\n",
              "    </tr>\n",
              "  </tbody>\n",
              "</table>\n",
              "</div>"
            ],
            "text/plain": [
              "   PENSAMIENTO CIENTÍFICO - MATEMÁTICAS Y ESTADÍSTICA\n",
              "0                                                127 \n",
              "1                                                108 \n",
              "2                                                122 \n",
              "3                                                122 \n",
              "4                                                149 "
            ]
          },
          "metadata": {
            "tags": []
          },
          "execution_count": 104
        }
      ]
    },
    {
      "cell_type": "code",
      "metadata": {
        "id": "STmjnjzG4YjZ",
        "colab_type": "code",
        "colab": {
          "base_uri": "https://localhost:8080/",
          "height": 34
        },
        "outputId": "e48ae02b-bdb0-4e30-c8d1-e10c4ab9b995"
      },
      "source": [
        "cucesp3vec=np.ravel(cucesp3)\n",
        "cucesp3vec.shape"
      ],
      "execution_count": 105,
      "outputs": [
        {
          "output_type": "execute_result",
          "data": {
            "text/plain": [
              "(155,)"
            ]
          },
          "metadata": {
            "tags": []
          },
          "execution_count": 105
        }
      ]
    },
    {
      "cell_type": "code",
      "metadata": {
        "id": "KEbNlOdn4pM5",
        "colab_type": "code",
        "colab": {}
      },
      "source": [
        "rango=np.max(cucesp3vec)-np.min(cucesp3vec)\n",
        "nIntervalos= 8\n",
        "anchoIntervalo= (rango+0.001)/nIntervalos\n",
        "bins1= np.linspace(np.min(cucesp3vec)-0.0005, np.max(cucesp3vec)+0.0005, (nIntervalos+1))\n",
        "binplace= np.digitize(cucesp3vec, bins1)\n",
        "freq = [len(cucesp3vec[binplace == i]) for i in range (1, len(bins1))]"
      ],
      "execution_count": 106,
      "outputs": []
    },
    {
      "cell_type": "code",
      "metadata": {
        "id": "mkUmQy-J4wuV",
        "colab_type": "code",
        "colab": {
          "base_uri": "https://localhost:8080/",
          "height": 433
        },
        "outputId": "33ce95d2-666f-40ac-d278-232659abdf39"
      },
      "source": [
        "intervals_name= []\n",
        "for i in range(len(bins1)-1):\n",
        "  lim_inf= bins1[i]\n",
        "  lim_sup= bins1[i+1]\n",
        "  label= '['+\"{0:.2f}\".format(lim_inf)+\",\"+\"{0:.2f}\".format(lim_sup)+\")\"\n",
        "  intervals_name.append(label)\n",
        "  print(label)\n",
        "freq_table=pd.DataFrame({'Intervalo':intervals_name, 'Frecuencia':freq}) \n",
        "freq_table"
      ],
      "execution_count": 107,
      "outputs": [
        {
          "output_type": "stream",
          "text": [
            "[77.00,87.87)\n",
            "[87.87,98.75)\n",
            "[98.75,109.62)\n",
            "[109.62,120.50)\n",
            "[120.50,131.38)\n",
            "[131.38,142.25)\n",
            "[142.25,153.13)\n",
            "[153.13,164.00)\n"
          ],
          "name": "stdout"
        },
        {
          "output_type": "execute_result",
          "data": {
            "text/html": [
              "<div>\n",
              "<style scoped>\n",
              "    .dataframe tbody tr th:only-of-type {\n",
              "        vertical-align: middle;\n",
              "    }\n",
              "\n",
              "    .dataframe tbody tr th {\n",
              "        vertical-align: top;\n",
              "    }\n",
              "\n",
              "    .dataframe thead th {\n",
              "        text-align: right;\n",
              "    }\n",
              "</style>\n",
              "<table border=\"1\" class=\"dataframe\">\n",
              "  <thead>\n",
              "    <tr style=\"text-align: right;\">\n",
              "      <th></th>\n",
              "      <th>Intervalo</th>\n",
              "      <th>Frecuencia</th>\n",
              "    </tr>\n",
              "  </thead>\n",
              "  <tbody>\n",
              "    <tr>\n",
              "      <th>0</th>\n",
              "      <td>[77.00,87.87)</td>\n",
              "      <td>3</td>\n",
              "    </tr>\n",
              "    <tr>\n",
              "      <th>1</th>\n",
              "      <td>[87.87,98.75)</td>\n",
              "      <td>7</td>\n",
              "    </tr>\n",
              "    <tr>\n",
              "      <th>2</th>\n",
              "      <td>[98.75,109.62)</td>\n",
              "      <td>33</td>\n",
              "    </tr>\n",
              "    <tr>\n",
              "      <th>3</th>\n",
              "      <td>[109.62,120.50)</td>\n",
              "      <td>37</td>\n",
              "    </tr>\n",
              "    <tr>\n",
              "      <th>4</th>\n",
              "      <td>[120.50,131.38)</td>\n",
              "      <td>41</td>\n",
              "    </tr>\n",
              "    <tr>\n",
              "      <th>5</th>\n",
              "      <td>[131.38,142.25)</td>\n",
              "      <td>13</td>\n",
              "    </tr>\n",
              "    <tr>\n",
              "      <th>6</th>\n",
              "      <td>[142.25,153.13)</td>\n",
              "      <td>13</td>\n",
              "    </tr>\n",
              "    <tr>\n",
              "      <th>7</th>\n",
              "      <td>[153.13,164.00)</td>\n",
              "      <td>8</td>\n",
              "    </tr>\n",
              "  </tbody>\n",
              "</table>\n",
              "</div>"
            ],
            "text/plain": [
              "         Intervalo  Frecuencia\n",
              "0    [77.00,87.87)           3\n",
              "1    [87.87,98.75)           7\n",
              "2   [98.75,109.62)          33\n",
              "3  [109.62,120.50)          37\n",
              "4  [120.50,131.38)          41\n",
              "5  [131.38,142.25)          13\n",
              "6  [142.25,153.13)          13\n",
              "7  [153.13,164.00)           8"
            ]
          },
          "metadata": {
            "tags": []
          },
          "execution_count": 107
        }
      ]
    },
    {
      "cell_type": "code",
      "metadata": {
        "id": "EIcbR_md4zkI",
        "colab_type": "code",
        "colab": {
          "base_uri": "https://localhost:8080/",
          "height": 316
        },
        "outputId": "4f334333-6ee4-477d-9d03-cb3b4137d59b"
      },
      "source": [
        "freq2, edges= np.histogram(cucesp3vec,bins1)\n",
        "left,right = edges[:-1],edges[1:]\n",
        "X= np.array((left+right)/2)\n",
        "Y= np.array(freq2)\n",
        "print(X)\n",
        "print(Y)\n",
        "plt.hist(cucesp3vec,bins1)\n",
        "plt.plot(X,Y)\n",
        "plt.show()"
      ],
      "execution_count": 108,
      "outputs": [
        {
          "output_type": "stream",
          "text": [
            "[ 82.4370625  93.3121875 104.1873125 115.0624375 125.9375625 136.8126875\n",
            " 147.6878125 158.5629375]\n",
            "[ 3  7 33 37 41 13 13  8]\n"
          ],
          "name": "stdout"
        },
        {
          "output_type": "display_data",
          "data": {
            "image/png": "[encoded data removed]",
            "text/plain": [
              "<Figure size 432x288 with 1 Axes>"
            ]
          },
          "metadata": {
            "tags": [],
            "needs_background": "light"
          }
        }
      ]
    },
    {
      "cell_type": "code",
      "metadata": {
        "id": "Wu81Mskm44u_",
        "colab_type": "code",
        "colab": {}
      },
      "source": [
        ""
      ],
      "execution_count": 108,
      "outputs": []
    },
    {
      "cell_type": "markdown",
      "metadata": {
        "id": "lQ1yuSv35DIS",
        "colab_type": "text"
      },
      "source": [
        "## GENÉRICAS UNIVERSIDAD DE LA COSTA"
      ]
    },
    {
      "cell_type": "markdown",
      "metadata": {
        "id": "LoVHQEu55tT2",
        "colab_type": "text"
      },
      "source": [
        "CORPORACION UNIVERSIDAD DE LA COSTA, CUC-BARRANQUILLA. PRUEBA GENÉRICA: MODALIDAD RAZONAMIENTO CUANTITATIVO PUNTAJE."
      ]
    },
    {
      "cell_type": "code",
      "metadata": {
        "id": "zUrQkLP15GWi",
        "colab_type": "code",
        "colab": {
          "base_uri": "https://localhost:8080/",
          "height": 204
        },
        "outputId": "92b5a1f4-b08a-40c3-d741-5db3287617c8"
      },
      "source": [
        "da=dfinalcuc[dfinalcuc['MOD_RAZONA_CUANTITAT_PUNT']>0]\n",
        "cucgenp1=da.iloc[0:155][['MOD_RAZONA_CUANTITAT_PUNT']] \n",
        "cucgenp1.head()"
      ],
      "execution_count": 109,
      "outputs": [
        {
          "output_type": "execute_result",
          "data": {
            "text/html": [
              "<div>\n",
              "<style scoped>\n",
              "    .dataframe tbody tr th:only-of-type {\n",
              "        vertical-align: middle;\n",
              "    }\n",
              "\n",
              "    .dataframe tbody tr th {\n",
              "        vertical-align: top;\n",
              "    }\n",
              "\n",
              "    .dataframe thead th {\n",
              "        text-align: right;\n",
              "    }\n",
              "</style>\n",
              "<table border=\"1\" class=\"dataframe\">\n",
              "  <thead>\n",
              "    <tr style=\"text-align: right;\">\n",
              "      <th></th>\n",
              "      <th>MOD_RAZONA_CUANTITAT_PUNT</th>\n",
              "    </tr>\n",
              "  </thead>\n",
              "  <tbody>\n",
              "    <tr>\n",
              "      <th>0</th>\n",
              "      <td>123</td>\n",
              "    </tr>\n",
              "    <tr>\n",
              "      <th>1</th>\n",
              "      <td>153</td>\n",
              "    </tr>\n",
              "    <tr>\n",
              "      <th>2</th>\n",
              "      <td>158</td>\n",
              "    </tr>\n",
              "    <tr>\n",
              "      <th>3</th>\n",
              "      <td>185</td>\n",
              "    </tr>\n",
              "    <tr>\n",
              "      <th>4</th>\n",
              "      <td>188</td>\n",
              "    </tr>\n",
              "  </tbody>\n",
              "</table>\n",
              "</div>"
            ],
            "text/plain": [
              "   MOD_RAZONA_CUANTITAT_PUNT\n",
              "0                        123\n",
              "1                        153\n",
              "2                        158\n",
              "3                        185\n",
              "4                        188"
            ]
          },
          "metadata": {
            "tags": []
          },
          "execution_count": 109
        }
      ]
    },
    {
      "cell_type": "code",
      "metadata": {
        "id": "lRtzw-Gu6nu6",
        "colab_type": "code",
        "colab": {
          "base_uri": "https://localhost:8080/",
          "height": 34
        },
        "outputId": "92be8229-3285-430f-f203-35d0dc34637d"
      },
      "source": [
        "cucgenp1vec=np.ravel(cucgenp1)\n",
        "cucgenp1vec.shape"
      ],
      "execution_count": 110,
      "outputs": [
        {
          "output_type": "execute_result",
          "data": {
            "text/plain": [
              "(155,)"
            ]
          },
          "metadata": {
            "tags": []
          },
          "execution_count": 110
        }
      ]
    },
    {
      "cell_type": "code",
      "metadata": {
        "id": "hrZzCY-R6r0p",
        "colab_type": "code",
        "colab": {}
      },
      "source": [
        "rango=np.max(cucgenp1vec)-np.min(cucgenp1vec)\n",
        "nIntervalos= 8\n",
        "anchoIntervalo= (rango+0.001)/nIntervalos\n",
        "bins1= np.linspace(np.min(cucgenp1vec)-0.0005, np.max(cucgenp1vec)+0.0005, (nIntervalos+1))\n",
        "binplace= np.digitize(cucgenp1vec, bins1)\n",
        "freq = [len(cucgenp1vec[binplace == i]) for i in range (1, len(bins1))]"
      ],
      "execution_count": 111,
      "outputs": []
    },
    {
      "cell_type": "code",
      "metadata": {
        "id": "d6TUXNgn6wtp",
        "colab_type": "code",
        "colab": {
          "base_uri": "https://localhost:8080/",
          "height": 433
        },
        "outputId": "b9da006e-99df-45ad-c866-967b477e4a20"
      },
      "source": [
        "intervals_name= []\n",
        "for i in range(len(bins1)-1):\n",
        "  lim_inf= bins1[i]\n",
        "  lim_sup= bins1[i+1]\n",
        "  label= '['+\"{0:.2f}\".format(lim_inf)+\",\"+\"{0:.2f}\".format(lim_sup)+\")\"\n",
        "  intervals_name.append(label)\n",
        "  print(label)\n",
        "freq_table=pd.DataFrame({'Intervalo':intervals_name, 'Frecuencia':freq}) \n",
        "freq_table"
      ],
      "execution_count": 112,
      "outputs": [
        {
          "output_type": "stream",
          "text": [
            "[82.00,98.75)\n",
            "[98.75,115.50)\n",
            "[115.50,132.25)\n",
            "[132.25,149.00)\n",
            "[149.00,165.75)\n",
            "[165.75,182.50)\n",
            "[182.50,199.25)\n",
            "[199.25,216.00)\n"
          ],
          "name": "stdout"
        },
        {
          "output_type": "execute_result",
          "data": {
            "text/html": [
              "<div>\n",
              "<style scoped>\n",
              "    .dataframe tbody tr th:only-of-type {\n",
              "        vertical-align: middle;\n",
              "    }\n",
              "\n",
              "    .dataframe tbody tr th {\n",
              "        vertical-align: top;\n",
              "    }\n",
              "\n",
              "    .dataframe thead th {\n",
              "        text-align: right;\n",
              "    }\n",
              "</style>\n",
              "<table border=\"1\" class=\"dataframe\">\n",
              "  <thead>\n",
              "    <tr style=\"text-align: right;\">\n",
              "      <th></th>\n",
              "      <th>Intervalo</th>\n",
              "      <th>Frecuencia</th>\n",
              "    </tr>\n",
              "  </thead>\n",
              "  <tbody>\n",
              "    <tr>\n",
              "      <th>0</th>\n",
              "      <td>[82.00,98.75)</td>\n",
              "      <td>4</td>\n",
              "    </tr>\n",
              "    <tr>\n",
              "      <th>1</th>\n",
              "      <td>[98.75,115.50)</td>\n",
              "      <td>12</td>\n",
              "    </tr>\n",
              "    <tr>\n",
              "      <th>2</th>\n",
              "      <td>[115.50,132.25)</td>\n",
              "      <td>24</td>\n",
              "    </tr>\n",
              "    <tr>\n",
              "      <th>3</th>\n",
              "      <td>[132.25,149.00)</td>\n",
              "      <td>26</td>\n",
              "    </tr>\n",
              "    <tr>\n",
              "      <th>4</th>\n",
              "      <td>[149.00,165.75)</td>\n",
              "      <td>41</td>\n",
              "    </tr>\n",
              "    <tr>\n",
              "      <th>5</th>\n",
              "      <td>[165.75,182.50)</td>\n",
              "      <td>32</td>\n",
              "    </tr>\n",
              "    <tr>\n",
              "      <th>6</th>\n",
              "      <td>[182.50,199.25)</td>\n",
              "      <td>11</td>\n",
              "    </tr>\n",
              "    <tr>\n",
              "      <th>7</th>\n",
              "      <td>[199.25,216.00)</td>\n",
              "      <td>5</td>\n",
              "    </tr>\n",
              "  </tbody>\n",
              "</table>\n",
              "</div>"
            ],
            "text/plain": [
              "         Intervalo  Frecuencia\n",
              "0    [82.00,98.75)           4\n",
              "1   [98.75,115.50)          12\n",
              "2  [115.50,132.25)          24\n",
              "3  [132.25,149.00)          26\n",
              "4  [149.00,165.75)          41\n",
              "5  [165.75,182.50)          32\n",
              "6  [182.50,199.25)          11\n",
              "7  [199.25,216.00)           5"
            ]
          },
          "metadata": {
            "tags": []
          },
          "execution_count": 112
        }
      ]
    },
    {
      "cell_type": "code",
      "metadata": {
        "id": "bHnguHuh6ygQ",
        "colab_type": "code",
        "colab": {
          "base_uri": "https://localhost:8080/",
          "height": 316
        },
        "outputId": "ef4ccea4-a669-4b2f-df58-f5154daca25c"
      },
      "source": [
        "freq2, edges= np.histogram(cucgenp1vec,bins1)\n",
        "left,right = edges[:-1],edges[1:]\n",
        "X= np.array((left+right)/2)\n",
        "Y= np.array(freq2)\n",
        "print(X)\n",
        "print(Y)\n",
        "plt.hist(cucgenp1vec,bins1)\n",
        "plt.plot(X,Y)\n",
        "plt.show()"
      ],
      "execution_count": 113,
      "outputs": [
        {
          "output_type": "stream",
          "text": [
            "[ 90.3745625 107.1246875 123.8748125 140.6249375 157.3750625 174.1251875\n",
            " 190.8753125 207.6254375]\n",
            "[ 4 12 24 26 41 32 11  5]\n"
          ],
          "name": "stdout"
        },
        {
          "output_type": "display_data",
          "data": {
            "image/png": "[encoded data removed]",
            "text/plain": [
              "<Figure size 432x288 with 1 Axes>"
            ]
          },
          "metadata": {
            "tags": [],
            "needs_background": "light"
          }
        }
      ]
    },
    {
      "cell_type": "code",
      "metadata": {
        "id": "GyLs8ypD66Ed",
        "colab_type": "code",
        "colab": {
          "base_uri": "https://localhost:8080/",
          "height": 283
        },
        "outputId": "d100eafb-64df-48a3-82f6-0d48baef35bc"
      },
      "source": [
        "dfinalcuc.boxplot(column='MOD_RAZONA_CUANTITAT_PUNT')"
      ],
      "execution_count": 114,
      "outputs": [
        {
          "output_type": "execute_result",
          "data": {
            "text/plain": [
              "<matplotlib.axes._subplots.AxesSubplot at 0x7f5025340eb8>"
            ]
          },
          "metadata": {
            "tags": []
          },
          "execution_count": 114
        },
        {
          "output_type": "display_data",
          "data": {
            "image/png": "[encoded data removed]",
            "text/plain": [
              "<Figure size 432x288 with 1 Axes>"
            ]
          },
          "metadata": {
            "tags": [],
            "needs_background": "light"
          }
        }
      ]
    },
    {
      "cell_type": "markdown",
      "metadata": {
        "id": "Vj2bPwqU7DWD",
        "colab_type": "text"
      },
      "source": [
        "CORPORACION UNIVERSIDAD DE LA COSTA, CUC-BARRANQUILLA. PRUEBA GENÉRICA: MODALIDAD LECTURA CRÍTICA PUNTAJE."
      ]
    },
    {
      "cell_type": "code",
      "metadata": {
        "id": "u91yrpJQ6-0Z",
        "colab_type": "code",
        "colab": {
          "base_uri": "https://localhost:8080/",
          "height": 204
        },
        "outputId": "902f0b1b-2c50-41e7-df67-ad40cdacecd9"
      },
      "source": [
        "da=dfinalcuc[dfinalcuc['MOD_LECTURA_CRITICA_PUNT']>0]\n",
        "cucgenp2=da.iloc[0:155][['MOD_LECTURA_CRITICA_PUNT']] \n",
        "cucgenp2.head()"
      ],
      "execution_count": 115,
      "outputs": [
        {
          "output_type": "execute_result",
          "data": {
            "text/html": [
              "<div>\n",
              "<style scoped>\n",
              "    .dataframe tbody tr th:only-of-type {\n",
              "        vertical-align: middle;\n",
              "    }\n",
              "\n",
              "    .dataframe tbody tr th {\n",
              "        vertical-align: top;\n",
              "    }\n",
              "\n",
              "    .dataframe thead th {\n",
              "        text-align: right;\n",
              "    }\n",
              "</style>\n",
              "<table border=\"1\" class=\"dataframe\">\n",
              "  <thead>\n",
              "    <tr style=\"text-align: right;\">\n",
              "      <th></th>\n",
              "      <th>MOD_LECTURA_CRITICA_PUNT</th>\n",
              "    </tr>\n",
              "  </thead>\n",
              "  <tbody>\n",
              "    <tr>\n",
              "      <th>0</th>\n",
              "      <td>184</td>\n",
              "    </tr>\n",
              "    <tr>\n",
              "      <th>1</th>\n",
              "      <td>158</td>\n",
              "    </tr>\n",
              "    <tr>\n",
              "      <th>2</th>\n",
              "      <td>99</td>\n",
              "    </tr>\n",
              "    <tr>\n",
              "      <th>3</th>\n",
              "      <td>173</td>\n",
              "    </tr>\n",
              "    <tr>\n",
              "      <th>4</th>\n",
              "      <td>178</td>\n",
              "    </tr>\n",
              "  </tbody>\n",
              "</table>\n",
              "</div>"
            ],
            "text/plain": [
              "   MOD_LECTURA_CRITICA_PUNT\n",
              "0                       184\n",
              "1                       158\n",
              "2                        99\n",
              "3                       173\n",
              "4                       178"
            ]
          },
          "metadata": {
            "tags": []
          },
          "execution_count": 115
        }
      ]
    },
    {
      "cell_type": "code",
      "metadata": {
        "id": "8z_O7otE7kCD",
        "colab_type": "code",
        "colab": {
          "base_uri": "https://localhost:8080/",
          "height": 34
        },
        "outputId": "625b2bec-60db-4939-d213-fcf918d403cd"
      },
      "source": [
        "cucgenp2vec=np.ravel(cucgenp2)\n",
        "cucgenp2vec.shape"
      ],
      "execution_count": 116,
      "outputs": [
        {
          "output_type": "execute_result",
          "data": {
            "text/plain": [
              "(155,)"
            ]
          },
          "metadata": {
            "tags": []
          },
          "execution_count": 116
        }
      ]
    },
    {
      "cell_type": "code",
      "metadata": {
        "id": "rxq1r7vq7pFx",
        "colab_type": "code",
        "colab": {}
      },
      "source": [
        "rango=np.max(cucgenp2vec)-np.min(cucgenp2vec)\n",
        "nIntervalos= 8\n",
        "anchoIntervalo= (rango+0.001)/nIntervalos\n",
        "bins1= np.linspace(np.min(cucgenp2vec)-0.0005, np.max(cucgenp2vec)+0.0005, (nIntervalos+1))\n",
        "binplace= np.digitize(cucgenp2vec, bins1)\n",
        "freq = [len(cucgenp2vec[binplace == i]) for i in range (1, len(bins1))]"
      ],
      "execution_count": 117,
      "outputs": []
    },
    {
      "cell_type": "code",
      "metadata": {
        "id": "d8nFMDFX7xaU",
        "colab_type": "code",
        "colab": {
          "base_uri": "https://localhost:8080/",
          "height": 433
        },
        "outputId": "249deaab-3085-48ec-e571-a7533c9935b9"
      },
      "source": [
        "intervals_name= []\n",
        "for i in range(len(bins1)-1):\n",
        "  lim_inf= bins1[i]\n",
        "  lim_sup= bins1[i+1]\n",
        "  label= '['+\"{0:.2f}\".format(lim_inf)+\",\"+\"{0:.2f}\".format(lim_sup)+\")\"\n",
        "  intervals_name.append(label)\n",
        "  print(label)\n",
        "freq_table=pd.DataFrame({'Intervalo':intervals_name, 'Frecuencia':freq}) \n",
        "freq_table"
      ],
      "execution_count": 118,
      "outputs": [
        {
          "output_type": "stream",
          "text": [
            "[61.00,79.00)\n",
            "[79.00,97.00)\n",
            "[97.00,115.00)\n",
            "[115.00,133.00)\n",
            "[133.00,151.00)\n",
            "[151.00,169.00)\n",
            "[169.00,187.00)\n",
            "[187.00,205.00)\n"
          ],
          "name": "stdout"
        },
        {
          "output_type": "execute_result",
          "data": {
            "text/html": [
              "<div>\n",
              "<style scoped>\n",
              "    .dataframe tbody tr th:only-of-type {\n",
              "        vertical-align: middle;\n",
              "    }\n",
              "\n",
              "    .dataframe tbody tr th {\n",
              "        vertical-align: top;\n",
              "    }\n",
              "\n",
              "    .dataframe thead th {\n",
              "        text-align: right;\n",
              "    }\n",
              "</style>\n",
              "<table border=\"1\" class=\"dataframe\">\n",
              "  <thead>\n",
              "    <tr style=\"text-align: right;\">\n",
              "      <th></th>\n",
              "      <th>Intervalo</th>\n",
              "      <th>Frecuencia</th>\n",
              "    </tr>\n",
              "  </thead>\n",
              "  <tbody>\n",
              "    <tr>\n",
              "      <th>0</th>\n",
              "      <td>[61.00,79.00)</td>\n",
              "      <td>2</td>\n",
              "    </tr>\n",
              "    <tr>\n",
              "      <th>1</th>\n",
              "      <td>[79.00,97.00)</td>\n",
              "      <td>9</td>\n",
              "    </tr>\n",
              "    <tr>\n",
              "      <th>2</th>\n",
              "      <td>[97.00,115.00)</td>\n",
              "      <td>20</td>\n",
              "    </tr>\n",
              "    <tr>\n",
              "      <th>3</th>\n",
              "      <td>[115.00,133.00)</td>\n",
              "      <td>29</td>\n",
              "    </tr>\n",
              "    <tr>\n",
              "      <th>4</th>\n",
              "      <td>[133.00,151.00)</td>\n",
              "      <td>37</td>\n",
              "    </tr>\n",
              "    <tr>\n",
              "      <th>5</th>\n",
              "      <td>[151.00,169.00)</td>\n",
              "      <td>29</td>\n",
              "    </tr>\n",
              "    <tr>\n",
              "      <th>6</th>\n",
              "      <td>[169.00,187.00)</td>\n",
              "      <td>25</td>\n",
              "    </tr>\n",
              "    <tr>\n",
              "      <th>7</th>\n",
              "      <td>[187.00,205.00)</td>\n",
              "      <td>4</td>\n",
              "    </tr>\n",
              "  </tbody>\n",
              "</table>\n",
              "</div>"
            ],
            "text/plain": [
              "         Intervalo  Frecuencia\n",
              "0    [61.00,79.00)           2\n",
              "1    [79.00,97.00)           9\n",
              "2   [97.00,115.00)          20\n",
              "3  [115.00,133.00)          29\n",
              "4  [133.00,151.00)          37\n",
              "5  [151.00,169.00)          29\n",
              "6  [169.00,187.00)          25\n",
              "7  [187.00,205.00)           4"
            ]
          },
          "metadata": {
            "tags": []
          },
          "execution_count": 118
        }
      ]
    },
    {
      "cell_type": "code",
      "metadata": {
        "id": "hi_VHWhm7zpo",
        "colab_type": "code",
        "colab": {
          "base_uri": "https://localhost:8080/",
          "height": 316
        },
        "outputId": "d54329bf-0544-4989-bedc-4a91af2a9393"
      },
      "source": [
        "freq2, edges= np.histogram(cucgenp2vec,bins1)\n",
        "left,right = edges[:-1],edges[1:]\n",
        "X= np.array((left+right)/2)\n",
        "Y= np.array(freq2)\n",
        "print(X)\n",
        "print(Y)\n",
        "plt.hist(cucgenp2vec,bins1)\n",
        "plt.plot(X,Y)\n",
        "plt.show()"
      ],
      "execution_count": 119,
      "outputs": [
        {
          "output_type": "stream",
          "text": [
            "[ 69.9995625  87.9996875 105.9998125 123.9999375 142.0000625 160.0001875\n",
            " 178.0003125 196.0004375]\n",
            "[ 2  9 20 29 37 29 25  4]\n"
          ],
          "name": "stdout"
        },
        {
          "output_type": "display_data",
          "data": {
            "image/png": "[encoded data removed]",
            "text/plain": [
              "<Figure size 432x288 with 1 Axes>"
            ]
          },
          "metadata": {
            "tags": [],
            "needs_background": "light"
          }
        }
      ]
    },
    {
      "cell_type": "code",
      "metadata": {
        "id": "3_v97Pgn740d",
        "colab_type": "code",
        "colab": {
          "base_uri": "https://localhost:8080/",
          "height": 283
        },
        "outputId": "d4b373fd-2af8-446a-bc17-e709a56ea7f8"
      },
      "source": [
        "dfinalcuc.boxplot(column='MOD_LECTURA_CRITICA_PUNT')"
      ],
      "execution_count": 120,
      "outputs": [
        {
          "output_type": "execute_result",
          "data": {
            "text/plain": [
              "<matplotlib.axes._subplots.AxesSubplot at 0x7f50252a8ac8>"
            ]
          },
          "metadata": {
            "tags": []
          },
          "execution_count": 120
        },
        {
          "output_type": "display_data",
          "data": {
            "image/png": "[encoded data removed]",
            "text/plain": [
              "<Figure size 432x288 with 1 Axes>"
            ]
          },
          "metadata": {
            "tags": [],
            "needs_background": "light"
          }
        }
      ]
    },
    {
      "cell_type": "markdown",
      "metadata": {
        "id": "w9-cgt_g7-F0",
        "colab_type": "text"
      },
      "source": [
        "CORPORACION UNIVERSIDAD DE LA COSTA, CUC-BARRANQUILLA. PRUEBA GENÉRICA: MODALIDAD COMPETENCIAS CIUDADANAS PUNTAJE."
      ]
    },
    {
      "cell_type": "code",
      "metadata": {
        "id": "jibtQXkv79BO",
        "colab_type": "code",
        "colab": {
          "base_uri": "https://localhost:8080/",
          "height": 204
        },
        "outputId": "95d248e3-2550-4002-93d3-7b30529de669"
      },
      "source": [
        "da=dfinalcuc[dfinalcuc['MOD_COMPETEN_CIUDADA_PUNT']>0]\n",
        "cucgenp3=da.iloc[0:155][['MOD_COMPETEN_CIUDADA_PUNT']] \n",
        "cucgenp3.head()"
      ],
      "execution_count": 121,
      "outputs": [
        {
          "output_type": "execute_result",
          "data": {
            "text/html": [
              "<div>\n",
              "<style scoped>\n",
              "    .dataframe tbody tr th:only-of-type {\n",
              "        vertical-align: middle;\n",
              "    }\n",
              "\n",
              "    .dataframe tbody tr th {\n",
              "        vertical-align: top;\n",
              "    }\n",
              "\n",
              "    .dataframe thead th {\n",
              "        text-align: right;\n",
              "    }\n",
              "</style>\n",
              "<table border=\"1\" class=\"dataframe\">\n",
              "  <thead>\n",
              "    <tr style=\"text-align: right;\">\n",
              "      <th></th>\n",
              "      <th>MOD_COMPETEN_CIUDADA_PUNT</th>\n",
              "    </tr>\n",
              "  </thead>\n",
              "  <tbody>\n",
              "    <tr>\n",
              "      <th>0</th>\n",
              "      <td>144</td>\n",
              "    </tr>\n",
              "    <tr>\n",
              "      <th>1</th>\n",
              "      <td>202</td>\n",
              "    </tr>\n",
              "    <tr>\n",
              "      <th>2</th>\n",
              "      <td>96</td>\n",
              "    </tr>\n",
              "    <tr>\n",
              "      <th>3</th>\n",
              "      <td>151</td>\n",
              "    </tr>\n",
              "    <tr>\n",
              "      <th>4</th>\n",
              "      <td>169</td>\n",
              "    </tr>\n",
              "  </tbody>\n",
              "</table>\n",
              "</div>"
            ],
            "text/plain": [
              "   MOD_COMPETEN_CIUDADA_PUNT\n",
              "0                        144\n",
              "1                        202\n",
              "2                         96\n",
              "3                        151\n",
              "4                        169"
            ]
          },
          "metadata": {
            "tags": []
          },
          "execution_count": 121
        }
      ]
    },
    {
      "cell_type": "code",
      "metadata": {
        "id": "cdtwbZa78SG_",
        "colab_type": "code",
        "colab": {
          "base_uri": "https://localhost:8080/",
          "height": 34
        },
        "outputId": "7f7b2785-2714-48ff-efca-e77cd4d81e70"
      },
      "source": [
        "cucgenp3vec=np.ravel(cucgenp3)\n",
        "cucgenp3vec.shape"
      ],
      "execution_count": 122,
      "outputs": [
        {
          "output_type": "execute_result",
          "data": {
            "text/plain": [
              "(155,)"
            ]
          },
          "metadata": {
            "tags": []
          },
          "execution_count": 122
        }
      ]
    },
    {
      "cell_type": "code",
      "metadata": {
        "id": "ajOYKCAS8WxN",
        "colab_type": "code",
        "colab": {}
      },
      "source": [
        "rango=np.max(cucgenp3vec)-np.min(cucgenp3vec)\n",
        "nIntervalos= 8\n",
        "anchoIntervalo= (rango+0.001)/nIntervalos\n",
        "bins1= np.linspace(np.min(cucgenp3vec)-0.0005, np.max(cucgenp3vec)+0.0005, (nIntervalos+1))\n",
        "binplace= np.digitize(cucgenp3vec, bins1)\n",
        "freq = [len(cucgenp3vec[binplace == i]) for i in range (1, len(bins1))]"
      ],
      "execution_count": 123,
      "outputs": []
    },
    {
      "cell_type": "code",
      "metadata": {
        "id": "0WmqfJwH8h90",
        "colab_type": "code",
        "colab": {
          "base_uri": "https://localhost:8080/",
          "height": 433
        },
        "outputId": "9cd398fe-c679-4d0a-aed3-a5a4e9e6af27"
      },
      "source": [
        "intervals_name= []\n",
        "for i in range(len(bins1)-1):\n",
        "  lim_inf= bins1[i]\n",
        "  lim_sup= bins1[i+1]\n",
        "  label= '['+\"{0:.2f}\".format(lim_inf)+\",\"+\"{0:.2f}\".format(lim_sup)+\")\"\n",
        "  intervals_name.append(label)\n",
        "  print(label)\n",
        "freq_table=pd.DataFrame({'Intervalo':intervals_name, 'Frecuencia':freq}) \n",
        "freq_table"
      ],
      "execution_count": 124,
      "outputs": [
        {
          "output_type": "stream",
          "text": [
            "[67.00,84.37)\n",
            "[84.37,101.75)\n",
            "[101.75,119.12)\n",
            "[119.12,136.50)\n",
            "[136.50,153.88)\n",
            "[153.88,171.25)\n",
            "[171.25,188.63)\n",
            "[188.63,206.00)\n"
          ],
          "name": "stdout"
        },
        {
          "output_type": "execute_result",
          "data": {
            "text/html": [
              "<div>\n",
              "<style scoped>\n",
              "    .dataframe tbody tr th:only-of-type {\n",
              "        vertical-align: middle;\n",
              "    }\n",
              "\n",
              "    .dataframe tbody tr th {\n",
              "        vertical-align: top;\n",
              "    }\n",
              "\n",
              "    .dataframe thead th {\n",
              "        text-align: right;\n",
              "    }\n",
              "</style>\n",
              "<table border=\"1\" class=\"dataframe\">\n",
              "  <thead>\n",
              "    <tr style=\"text-align: right;\">\n",
              "      <th></th>\n",
              "      <th>Intervalo</th>\n",
              "      <th>Frecuencia</th>\n",
              "    </tr>\n",
              "  </thead>\n",
              "  <tbody>\n",
              "    <tr>\n",
              "      <th>0</th>\n",
              "      <td>[67.00,84.37)</td>\n",
              "      <td>10</td>\n",
              "    </tr>\n",
              "    <tr>\n",
              "      <th>1</th>\n",
              "      <td>[84.37,101.75)</td>\n",
              "      <td>22</td>\n",
              "    </tr>\n",
              "    <tr>\n",
              "      <th>2</th>\n",
              "      <td>[101.75,119.12)</td>\n",
              "      <td>26</td>\n",
              "    </tr>\n",
              "    <tr>\n",
              "      <th>3</th>\n",
              "      <td>[119.12,136.50)</td>\n",
              "      <td>31</td>\n",
              "    </tr>\n",
              "    <tr>\n",
              "      <th>4</th>\n",
              "      <td>[136.50,153.88)</td>\n",
              "      <td>27</td>\n",
              "    </tr>\n",
              "    <tr>\n",
              "      <th>5</th>\n",
              "      <td>[153.88,171.25)</td>\n",
              "      <td>21</td>\n",
              "    </tr>\n",
              "    <tr>\n",
              "      <th>6</th>\n",
              "      <td>[171.25,188.63)</td>\n",
              "      <td>15</td>\n",
              "    </tr>\n",
              "    <tr>\n",
              "      <th>7</th>\n",
              "      <td>[188.63,206.00)</td>\n",
              "      <td>3</td>\n",
              "    </tr>\n",
              "  </tbody>\n",
              "</table>\n",
              "</div>"
            ],
            "text/plain": [
              "         Intervalo  Frecuencia\n",
              "0    [67.00,84.37)          10\n",
              "1   [84.37,101.75)          22\n",
              "2  [101.75,119.12)          26\n",
              "3  [119.12,136.50)          31\n",
              "4  [136.50,153.88)          27\n",
              "5  [153.88,171.25)          21\n",
              "6  [171.25,188.63)          15\n",
              "7  [188.63,206.00)           3"
            ]
          },
          "metadata": {
            "tags": []
          },
          "execution_count": 124
        }
      ]
    },
    {
      "cell_type": "code",
      "metadata": {
        "id": "HwIdehMX8mjo",
        "colab_type": "code",
        "colab": {
          "base_uri": "https://localhost:8080/",
          "height": 316
        },
        "outputId": "64687933-147e-4bab-e9c6-42d299e812e7"
      },
      "source": [
        "freq2, edges= np.histogram(cucgenp3vec,bins1)\n",
        "left,right = edges[:-1],edges[1:]\n",
        "X= np.array((left+right)/2)\n",
        "Y= np.array(freq2)\n",
        "print(X)\n",
        "print(Y)\n",
        "plt.hist(cucgenp3vec,bins1)\n",
        "plt.plot(X,Y)\n",
        "plt.show()"
      ],
      "execution_count": 125,
      "outputs": [
        {
          "output_type": "stream",
          "text": [
            "[ 75.6870625  93.0621875 110.4373125 127.8124375 145.1875625 162.5626875\n",
            " 179.9378125 197.3129375]\n",
            "[10 22 26 31 27 21 15  3]\n"
          ],
          "name": "stdout"
        },
        {
          "output_type": "display_data",
          "data": {
            "image/png": "[encoded data removed]",
            "text/plain": [
              "<Figure size 432x288 with 1 Axes>"
            ]
          },
          "metadata": {
            "tags": [],
            "needs_background": "light"
          }
        }
      ]
    },
    {
      "cell_type": "code",
      "metadata": {
        "id": "HzGefY4Q8s2N",
        "colab_type": "code",
        "colab": {
          "base_uri": "https://localhost:8080/",
          "height": 283
        },
        "outputId": "82c2a6f9-3b3d-41bd-f5ba-b1e2ed41e969"
      },
      "source": [
        "dfinalcuc.boxplot(column='MOD_COMPETEN_CIUDADA_PUNT')"
      ],
      "execution_count": 126,
      "outputs": [
        {
          "output_type": "execute_result",
          "data": {
            "text/plain": [
              "<matplotlib.axes._subplots.AxesSubplot at 0x7f502514b240>"
            ]
          },
          "metadata": {
            "tags": []
          },
          "execution_count": 126
        },
        {
          "output_type": "display_data",
          "data": {
            "image/png": "[encoded data removed]",
            "text/plain": [
              "<Figure size 432x288 with 1 Axes>"
            ]
          },
          "metadata": {
            "tags": [],
            "needs_background": "light"
          }
        }
      ]
    },
    {
      "cell_type": "markdown",
      "metadata": {
        "id": "uI61Z3V38zOq",
        "colab_type": "text"
      },
      "source": [
        "CORPORACION UNIVERSIDAD DE LA COSTA, CUC-BARRANQUILLA. PRUEBA GENÉRICA: MODALIDAD INGLÉS PUNTAJE."
      ]
    },
    {
      "cell_type": "code",
      "metadata": {
        "id": "m8Ncd8gl8x06",
        "colab_type": "code",
        "colab": {
          "base_uri": "https://localhost:8080/",
          "height": 204
        },
        "outputId": "85df4abd-deac-4f26-e721-8c26b50d1a24"
      },
      "source": [
        "da=dfinalcuc[dfinalcuc['MOD_INGLES_PUNT']>0]\n",
        "cucgenp4=da.iloc[0:155][['MOD_INGLES_PUNT']] \n",
        "cucgenp4.head()"
      ],
      "execution_count": 127,
      "outputs": [
        {
          "output_type": "execute_result",
          "data": {
            "text/html": [
              "<div>\n",
              "<style scoped>\n",
              "    .dataframe tbody tr th:only-of-type {\n",
              "        vertical-align: middle;\n",
              "    }\n",
              "\n",
              "    .dataframe tbody tr th {\n",
              "        vertical-align: top;\n",
              "    }\n",
              "\n",
              "    .dataframe thead th {\n",
              "        text-align: right;\n",
              "    }\n",
              "</style>\n",
              "<table border=\"1\" class=\"dataframe\">\n",
              "  <thead>\n",
              "    <tr style=\"text-align: right;\">\n",
              "      <th></th>\n",
              "      <th>MOD_INGLES_PUNT</th>\n",
              "    </tr>\n",
              "  </thead>\n",
              "  <tbody>\n",
              "    <tr>\n",
              "      <th>0</th>\n",
              "      <td>162.0</td>\n",
              "    </tr>\n",
              "    <tr>\n",
              "      <th>1</th>\n",
              "      <td>178.0</td>\n",
              "    </tr>\n",
              "    <tr>\n",
              "      <th>2</th>\n",
              "      <td>142.0</td>\n",
              "    </tr>\n",
              "    <tr>\n",
              "      <th>3</th>\n",
              "      <td>141.0</td>\n",
              "    </tr>\n",
              "    <tr>\n",
              "      <th>4</th>\n",
              "      <td>180.0</td>\n",
              "    </tr>\n",
              "  </tbody>\n",
              "</table>\n",
              "</div>"
            ],
            "text/plain": [
              "   MOD_INGLES_PUNT\n",
              "0            162.0\n",
              "1            178.0\n",
              "2            142.0\n",
              "3            141.0\n",
              "4            180.0"
            ]
          },
          "metadata": {
            "tags": []
          },
          "execution_count": 127
        }
      ]
    },
    {
      "cell_type": "code",
      "metadata": {
        "id": "0_yySLif9Dl2",
        "colab_type": "code",
        "colab": {
          "base_uri": "https://localhost:8080/",
          "height": 34
        },
        "outputId": "2cc640bc-63d4-4074-90fa-6dbca18280cc"
      },
      "source": [
        "cucgenp4vec=np.ravel(cucgenp4)\n",
        "cucgenp4vec.shape"
      ],
      "execution_count": 128,
      "outputs": [
        {
          "output_type": "execute_result",
          "data": {
            "text/plain": [
              "(155,)"
            ]
          },
          "metadata": {
            "tags": []
          },
          "execution_count": 128
        }
      ]
    },
    {
      "cell_type": "code",
      "metadata": {
        "id": "EWYkE57t9Luu",
        "colab_type": "code",
        "colab": {}
      },
      "source": [
        "rango=np.max(cucgenp4vec)-np.min(cucgenp4vec)\n",
        "nIntervalos= 8\n",
        "anchoIntervalo= (rango+0.001)/nIntervalos\n",
        "bins1= np.linspace(np.min(cucgenp4vec)-0.0005, np.max(cucgenp4vec)+0.0005, (nIntervalos+1))\n",
        "binplace= np.digitize(cucgenp4vec, bins1)\n",
        "freq = [len(cucgenp4vec[binplace == i]) for i in range (1, len(bins1))]"
      ],
      "execution_count": 129,
      "outputs": []
    },
    {
      "cell_type": "code",
      "metadata": {
        "id": "NINseR2v9Vbh",
        "colab_type": "code",
        "colab": {
          "base_uri": "https://localhost:8080/",
          "height": 433
        },
        "outputId": "4527c718-3129-4726-dc7c-ce302dc50207"
      },
      "source": [
        "intervals_name= []\n",
        "for i in range(len(bins1)-1):\n",
        "  lim_inf= bins1[i]\n",
        "  lim_sup= bins1[i+1]\n",
        "  label= '['+\"{0:.2f}\".format(lim_inf)+\",\"+\"{0:.2f}\".format(lim_sup)+\")\"\n",
        "  intervals_name.append(label)\n",
        "  print(label)\n",
        "freq_table=pd.DataFrame({'Intervalo':intervals_name, 'Frecuencia':freq}) \n",
        "freq_table"
      ],
      "execution_count": 130,
      "outputs": [
        {
          "output_type": "stream",
          "text": [
            "[95.00,111.87)\n",
            "[111.87,128.75)\n",
            "[128.75,145.62)\n",
            "[145.62,162.50)\n",
            "[162.50,179.38)\n",
            "[179.38,196.25)\n",
            "[196.25,213.13)\n",
            "[213.13,230.00)\n"
          ],
          "name": "stdout"
        },
        {
          "output_type": "execute_result",
          "data": {
            "text/html": [
              "<div>\n",
              "<style scoped>\n",
              "    .dataframe tbody tr th:only-of-type {\n",
              "        vertical-align: middle;\n",
              "    }\n",
              "\n",
              "    .dataframe tbody tr th {\n",
              "        vertical-align: top;\n",
              "    }\n",
              "\n",
              "    .dataframe thead th {\n",
              "        text-align: right;\n",
              "    }\n",
              "</style>\n",
              "<table border=\"1\" class=\"dataframe\">\n",
              "  <thead>\n",
              "    <tr style=\"text-align: right;\">\n",
              "      <th></th>\n",
              "      <th>Intervalo</th>\n",
              "      <th>Frecuencia</th>\n",
              "    </tr>\n",
              "  </thead>\n",
              "  <tbody>\n",
              "    <tr>\n",
              "      <th>0</th>\n",
              "      <td>[95.00,111.87)</td>\n",
              "      <td>11</td>\n",
              "    </tr>\n",
              "    <tr>\n",
              "      <th>1</th>\n",
              "      <td>[111.87,128.75)</td>\n",
              "      <td>16</td>\n",
              "    </tr>\n",
              "    <tr>\n",
              "      <th>2</th>\n",
              "      <td>[128.75,145.62)</td>\n",
              "      <td>39</td>\n",
              "    </tr>\n",
              "    <tr>\n",
              "      <th>3</th>\n",
              "      <td>[145.62,162.50)</td>\n",
              "      <td>35</td>\n",
              "    </tr>\n",
              "    <tr>\n",
              "      <th>4</th>\n",
              "      <td>[162.50,179.38)</td>\n",
              "      <td>25</td>\n",
              "    </tr>\n",
              "    <tr>\n",
              "      <th>5</th>\n",
              "      <td>[179.38,196.25)</td>\n",
              "      <td>20</td>\n",
              "    </tr>\n",
              "    <tr>\n",
              "      <th>6</th>\n",
              "      <td>[196.25,213.13)</td>\n",
              "      <td>6</td>\n",
              "    </tr>\n",
              "    <tr>\n",
              "      <th>7</th>\n",
              "      <td>[213.13,230.00)</td>\n",
              "      <td>3</td>\n",
              "    </tr>\n",
              "  </tbody>\n",
              "</table>\n",
              "</div>"
            ],
            "text/plain": [
              "         Intervalo  Frecuencia\n",
              "0   [95.00,111.87)          11\n",
              "1  [111.87,128.75)          16\n",
              "2  [128.75,145.62)          39\n",
              "3  [145.62,162.50)          35\n",
              "4  [162.50,179.38)          25\n",
              "5  [179.38,196.25)          20\n",
              "6  [196.25,213.13)           6\n",
              "7  [213.13,230.00)           3"
            ]
          },
          "metadata": {
            "tags": []
          },
          "execution_count": 130
        }
      ]
    },
    {
      "cell_type": "code",
      "metadata": {
        "id": "_u--yX9Z9YGl",
        "colab_type": "code",
        "colab": {
          "base_uri": "https://localhost:8080/",
          "height": 316
        },
        "outputId": "605694a1-8b92-48b0-e505-a7e716837699"
      },
      "source": [
        "freq2, edges= np.histogram(cucgenp4vec,bins1)\n",
        "left,right = edges[:-1],edges[1:]\n",
        "X= np.array((left+right)/2)\n",
        "Y= np.array(freq2)\n",
        "print(X)\n",
        "print(Y)\n",
        "plt.hist(cucgenp4vec,bins1)\n",
        "plt.plot(X,Y)\n",
        "plt.show()"
      ],
      "execution_count": 131,
      "outputs": [
        {
          "output_type": "stream",
          "text": [
            "[103.4370625 120.3121875 137.1873125 154.0624375 170.9375625 187.8126875\n",
            " 204.6878125 221.5629375]\n",
            "[11 16 39 35 25 20  6  3]\n"
          ],
          "name": "stdout"
        },
        {
          "output_type": "display_data",
          "data": {
            "image/png": "[encoded data removed]",
            "text/plain": [
              "<Figure size 432x288 with 1 Axes>"
            ]
          },
          "metadata": {
            "tags": [],
            "needs_background": "light"
          }
        }
      ]
    },
    {
      "cell_type": "code",
      "metadata": {
        "id": "6UVUiy2-9b88",
        "colab_type": "code",
        "colab": {
          "base_uri": "https://localhost:8080/",
          "height": 283
        },
        "outputId": "1d0030bb-a3ef-4fbe-9c3c-982bf31ede09"
      },
      "source": [
        "dfinalcuc.boxplot(column='MOD_INGLES_PUNT')"
      ],
      "execution_count": 132,
      "outputs": [
        {
          "output_type": "execute_result",
          "data": {
            "text/plain": [
              "<matplotlib.axes._subplots.AxesSubplot at 0x7f5024f999b0>"
            ]
          },
          "metadata": {
            "tags": []
          },
          "execution_count": 132
        },
        {
          "output_type": "display_data",
          "data": {
            "image/png": "[encoded data removed]",
            "text/plain": [
              "<Figure size 432x288 with 1 Axes>"
            ]
          },
          "metadata": {
            "tags": [],
            "needs_background": "light"
          }
        }
      ]
    },
    {
      "cell_type": "markdown",
      "metadata": {
        "id": "6JhSSrNz9oIb",
        "colab_type": "text"
      },
      "source": [
        "CORPORACION UNIVERSIDAD DE LA COSTA, CUC-BARRANQUILLA. PRUEBA GENÉRICA: MODALIDAD COMUNICACIÓN ESCRITA PUNTAJE."
      ]
    },
    {
      "cell_type": "code",
      "metadata": {
        "id": "HJYeG5h29i3O",
        "colab_type": "code",
        "colab": {
          "base_uri": "https://localhost:8080/",
          "height": 204
        },
        "outputId": "5becb2a3-8fb9-48f4-c8df-d23703460078"
      },
      "source": [
        "da=dfinalcuc[dfinalcuc['MOD_COMUNI_ESCRITA_PUNT']>0]\n",
        "cucgenp5=da.iloc[0:155][['MOD_COMUNI_ESCRITA_PUNT']] \n",
        "cucgenp5.head()"
      ],
      "execution_count": 133,
      "outputs": [
        {
          "output_type": "execute_result",
          "data": {
            "text/html": [
              "<div>\n",
              "<style scoped>\n",
              "    .dataframe tbody tr th:only-of-type {\n",
              "        vertical-align: middle;\n",
              "    }\n",
              "\n",
              "    .dataframe tbody tr th {\n",
              "        vertical-align: top;\n",
              "    }\n",
              "\n",
              "    .dataframe thead th {\n",
              "        text-align: right;\n",
              "    }\n",
              "</style>\n",
              "<table border=\"1\" class=\"dataframe\">\n",
              "  <thead>\n",
              "    <tr style=\"text-align: right;\">\n",
              "      <th></th>\n",
              "      <th>MOD_COMUNI_ESCRITA_PUNT</th>\n",
              "    </tr>\n",
              "  </thead>\n",
              "  <tbody>\n",
              "    <tr>\n",
              "      <th>0</th>\n",
              "      <td>101.0</td>\n",
              "    </tr>\n",
              "    <tr>\n",
              "      <th>1</th>\n",
              "      <td>127.0</td>\n",
              "    </tr>\n",
              "    <tr>\n",
              "      <th>2</th>\n",
              "      <td>130.0</td>\n",
              "    </tr>\n",
              "    <tr>\n",
              "      <th>3</th>\n",
              "      <td>180.0</td>\n",
              "    </tr>\n",
              "    <tr>\n",
              "      <th>4</th>\n",
              "      <td>195.0</td>\n",
              "    </tr>\n",
              "  </tbody>\n",
              "</table>\n",
              "</div>"
            ],
            "text/plain": [
              "   MOD_COMUNI_ESCRITA_PUNT\n",
              "0                    101.0\n",
              "1                    127.0\n",
              "2                    130.0\n",
              "3                    180.0\n",
              "4                    195.0"
            ]
          },
          "metadata": {
            "tags": []
          },
          "execution_count": 133
        }
      ]
    },
    {
      "cell_type": "code",
      "metadata": {
        "id": "Hi7NJof899tD",
        "colab_type": "code",
        "colab": {
          "base_uri": "https://localhost:8080/",
          "height": 34
        },
        "outputId": "fe26408b-9101-4c7d-a47e-f9a0f6d00d6f"
      },
      "source": [
        "cucgenp5vec=np.ravel(cucgenp5)\n",
        "cucgenp5vec.shape"
      ],
      "execution_count": 134,
      "outputs": [
        {
          "output_type": "execute_result",
          "data": {
            "text/plain": [
              "(155,)"
            ]
          },
          "metadata": {
            "tags": []
          },
          "execution_count": 134
        }
      ]
    },
    {
      "cell_type": "code",
      "metadata": {
        "id": "bGFKN6M3-U4L",
        "colab_type": "code",
        "colab": {}
      },
      "source": [
        "rango=np.max(cucgenp5vec)-np.min(cucgenp5vec)\n",
        "nIntervalos= 8\n",
        "anchoIntervalo= (rango+0.001)/nIntervalos\n",
        "bins1= np.linspace(np.min(cucgenp5vec)-0.0005, np.max(cucgenp5vec)+0.0005, (nIntervalos+1))\n",
        "binplace= np.digitize(cucgenp5vec, bins1)\n",
        "freq = [len(cucgenp5vec[binplace == i]) for i in range (1, len(bins1))]"
      ],
      "execution_count": 135,
      "outputs": []
    },
    {
      "cell_type": "code",
      "metadata": {
        "id": "f94-YYux-cj9",
        "colab_type": "code",
        "colab": {
          "base_uri": "https://localhost:8080/",
          "height": 433
        },
        "outputId": "51cf9311-87bb-46b1-c202-db9d7d1fff12"
      },
      "source": [
        "intervals_name= []\n",
        "for i in range(len(bins1)-1):\n",
        "  lim_inf= bins1[i]\n",
        "  lim_sup= bins1[i+1]\n",
        "  label= '['+\"{0:.2f}\".format(lim_inf)+\",\"+\"{0:.2f}\".format(lim_sup)+\")\"\n",
        "  intervals_name.append(label)\n",
        "  print(label)\n",
        "freq_table=pd.DataFrame({'Intervalo':intervals_name, 'Frecuencia':freq}) \n",
        "freq_table"
      ],
      "execution_count": 136,
      "outputs": [
        {
          "output_type": "stream",
          "text": [
            "[101.00,117.25)\n",
            "[117.25,133.50)\n",
            "[133.50,149.75)\n",
            "[149.75,166.00)\n",
            "[166.00,182.25)\n",
            "[182.25,198.50)\n",
            "[198.50,214.75)\n",
            "[214.75,231.00)\n"
          ],
          "name": "stdout"
        },
        {
          "output_type": "execute_result",
          "data": {
            "text/html": [
              "<div>\n",
              "<style scoped>\n",
              "    .dataframe tbody tr th:only-of-type {\n",
              "        vertical-align: middle;\n",
              "    }\n",
              "\n",
              "    .dataframe tbody tr th {\n",
              "        vertical-align: top;\n",
              "    }\n",
              "\n",
              "    .dataframe thead th {\n",
              "        text-align: right;\n",
              "    }\n",
              "</style>\n",
              "<table border=\"1\" class=\"dataframe\">\n",
              "  <thead>\n",
              "    <tr style=\"text-align: right;\">\n",
              "      <th></th>\n",
              "      <th>Intervalo</th>\n",
              "      <th>Frecuencia</th>\n",
              "    </tr>\n",
              "  </thead>\n",
              "  <tbody>\n",
              "    <tr>\n",
              "      <th>0</th>\n",
              "      <td>[101.00,117.25)</td>\n",
              "      <td>19</td>\n",
              "    </tr>\n",
              "    <tr>\n",
              "      <th>1</th>\n",
              "      <td>[117.25,133.50)</td>\n",
              "      <td>20</td>\n",
              "    </tr>\n",
              "    <tr>\n",
              "      <th>2</th>\n",
              "      <td>[133.50,149.75)</td>\n",
              "      <td>58</td>\n",
              "    </tr>\n",
              "    <tr>\n",
              "      <th>3</th>\n",
              "      <td>[149.75,166.00)</td>\n",
              "      <td>23</td>\n",
              "    </tr>\n",
              "    <tr>\n",
              "      <th>4</th>\n",
              "      <td>[166.00,182.25)</td>\n",
              "      <td>25</td>\n",
              "    </tr>\n",
              "    <tr>\n",
              "      <th>5</th>\n",
              "      <td>[182.25,198.50)</td>\n",
              "      <td>7</td>\n",
              "    </tr>\n",
              "    <tr>\n",
              "      <th>6</th>\n",
              "      <td>[198.50,214.75)</td>\n",
              "      <td>2</td>\n",
              "    </tr>\n",
              "    <tr>\n",
              "      <th>7</th>\n",
              "      <td>[214.75,231.00)</td>\n",
              "      <td>1</td>\n",
              "    </tr>\n",
              "  </tbody>\n",
              "</table>\n",
              "</div>"
            ],
            "text/plain": [
              "         Intervalo  Frecuencia\n",
              "0  [101.00,117.25)          19\n",
              "1  [117.25,133.50)          20\n",
              "2  [133.50,149.75)          58\n",
              "3  [149.75,166.00)          23\n",
              "4  [166.00,182.25)          25\n",
              "5  [182.25,198.50)           7\n",
              "6  [198.50,214.75)           2\n",
              "7  [214.75,231.00)           1"
            ]
          },
          "metadata": {
            "tags": []
          },
          "execution_count": 136
        }
      ]
    },
    {
      "cell_type": "code",
      "metadata": {
        "id": "kyCg3um--epo",
        "colab_type": "code",
        "colab": {
          "base_uri": "https://localhost:8080/",
          "height": 317
        },
        "outputId": "ce669345-70a0-4c67-f452-1a03a22e9810"
      },
      "source": [
        "freq2, edges= np.histogram(cucgenp5vec,bins1)\n",
        "left,right = edges[:-1],edges[1:]\n",
        "X= np.array((left+right)/2)\n",
        "Y= np.array(freq2)\n",
        "print(X)\n",
        "print(Y)\n",
        "plt.hist(cucgenp5vec,bins1)\n",
        "plt.plot(X,Y)\n",
        "plt.show()"
      ],
      "execution_count": 137,
      "outputs": [
        {
          "output_type": "stream",
          "text": [
            "[109.1245625 125.3746875 141.6248125 157.8749375 174.1250625 190.3751875\n",
            " 206.6253125 222.8754375]\n",
            "[19 20 58 23 25  7  2  1]\n"
          ],
          "name": "stdout"
        },
        {
          "output_type": "display_data",
          "data": {
            "image/png": "[encoded data removed]",
            "text/plain": [
              "<Figure size 432x288 with 1 Axes>"
            ]
          },
          "metadata": {
            "tags": [],
            "needs_background": "light"
          }
        }
      ]
    },
    {
      "cell_type": "code",
      "metadata": {
        "id": "Mab9s17q-iiz",
        "colab_type": "code",
        "colab": {
          "base_uri": "https://localhost:8080/",
          "height": 283
        },
        "outputId": "d5ea5644-1b55-4cb6-d817-ba03c238a50a"
      },
      "source": [
        "dfinalcuc.boxplot(column='MOD_COMUNI_ESCRITA_PUNT')"
      ],
      "execution_count": 138,
      "outputs": [
        {
          "output_type": "execute_result",
          "data": {
            "text/plain": [
              "<matplotlib.axes._subplots.AxesSubplot at 0x7f5024e1e278>"
            ]
          },
          "metadata": {
            "tags": []
          },
          "execution_count": 138
        },
        {
          "output_type": "display_data",
          "data": {
            "image/png": "[encoded data removed]",
            "text/plain": [
              "<Figure size 432x288 with 1 Axes>"
            ]
          },
          "metadata": {
            "tags": [],
            "needs_background": "light"
          }
        }
      ]
    },
    {
      "cell_type": "markdown",
      "metadata": {
        "id": "36TsuW37-oaP",
        "colab_type": "text"
      },
      "source": [
        "CORPORACION UNIVERSIDAD DE LA COSTA, CUC-BARRANQUILLA. PRUEBA GENÉRICA: PUNTAJE GLOBAL.\n"
      ]
    },
    {
      "cell_type": "code",
      "metadata": {
        "id": "NjEY4fv7-nN4",
        "colab_type": "code",
        "colab": {
          "base_uri": "https://localhost:8080/",
          "height": 204
        },
        "outputId": "6a54bf78-b301-4c6c-e62d-8ab09372022d"
      },
      "source": [
        "da=dfinalcuc[dfinalcuc['PUNT_GLOBAL']>0]\n",
        "cucgenp=da.iloc[0:155][['PUNT_GLOBAL']] \n",
        "cucgenp.head()\n"
      ],
      "execution_count": 139,
      "outputs": [
        {
          "output_type": "execute_result",
          "data": {
            "text/html": [
              "<div>\n",
              "<style scoped>\n",
              "    .dataframe tbody tr th:only-of-type {\n",
              "        vertical-align: middle;\n",
              "    }\n",
              "\n",
              "    .dataframe tbody tr th {\n",
              "        vertical-align: top;\n",
              "    }\n",
              "\n",
              "    .dataframe thead th {\n",
              "        text-align: right;\n",
              "    }\n",
              "</style>\n",
              "<table border=\"1\" class=\"dataframe\">\n",
              "  <thead>\n",
              "    <tr style=\"text-align: right;\">\n",
              "      <th></th>\n",
              "      <th>PUNT_GLOBAL</th>\n",
              "    </tr>\n",
              "  </thead>\n",
              "  <tbody>\n",
              "    <tr>\n",
              "      <th>0</th>\n",
              "      <td>143</td>\n",
              "    </tr>\n",
              "    <tr>\n",
              "      <th>1</th>\n",
              "      <td>164</td>\n",
              "    </tr>\n",
              "    <tr>\n",
              "      <th>2</th>\n",
              "      <td>125</td>\n",
              "    </tr>\n",
              "    <tr>\n",
              "      <th>3</th>\n",
              "      <td>166</td>\n",
              "    </tr>\n",
              "    <tr>\n",
              "      <th>4</th>\n",
              "      <td>182</td>\n",
              "    </tr>\n",
              "  </tbody>\n",
              "</table>\n",
              "</div>"
            ],
            "text/plain": [
              "   PUNT_GLOBAL\n",
              "0          143\n",
              "1          164\n",
              "2          125\n",
              "3          166\n",
              "4          182"
            ]
          },
          "metadata": {
            "tags": []
          },
          "execution_count": 139
        }
      ]
    },
    {
      "cell_type": "code",
      "metadata": {
        "id": "AGeAGegg_IYe",
        "colab_type": "code",
        "colab": {
          "base_uri": "https://localhost:8080/",
          "height": 34
        },
        "outputId": "9fb9bb9d-b68b-4b08-b8d2-00511471763b"
      },
      "source": [
        "cucgenpvec=np.ravel(cucgenp)\n",
        "cucgenpvec.shape"
      ],
      "execution_count": 140,
      "outputs": [
        {
          "output_type": "execute_result",
          "data": {
            "text/plain": [
              "(155,)"
            ]
          },
          "metadata": {
            "tags": []
          },
          "execution_count": 140
        }
      ]
    },
    {
      "cell_type": "code",
      "metadata": {
        "id": "IBKXJnPj_Pr1",
        "colab_type": "code",
        "colab": {}
      },
      "source": [
        "rango=np.max(cucgenpvec)-np.min(cucgenpvec)\n",
        "nIntervalos= 8\n",
        "anchoIntervalo= (rango+0.001)/nIntervalos\n",
        "bins1= np.linspace(np.min(cucgenpvec)-0.0005, np.max(cucgenpvec)+0.0005, (nIntervalos+1))\n",
        "binplace= np.digitize(cucgenpvec, bins1)\n",
        "freq = [len(cucgenpvec[binplace == i]) for i in range (1, len(bins1))]"
      ],
      "execution_count": 141,
      "outputs": []
    },
    {
      "cell_type": "code",
      "metadata": {
        "id": "cpcOBvmu_XYu",
        "colab_type": "code",
        "colab": {
          "base_uri": "https://localhost:8080/",
          "height": 433
        },
        "outputId": "20853e3f-5739-495a-912a-4b688f339f99"
      },
      "source": [
        "intervals_name= []\n",
        "for i in range(len(bins1)-1):\n",
        "  lim_inf= bins1[i]\n",
        "  lim_sup= bins1[i+1]\n",
        "  label= '['+\"{0:.2f}\".format(lim_inf)+\",\"+\"{0:.2f}\".format(lim_sup)+\")\"\n",
        "  intervals_name.append(label)\n",
        "  print(label)\n",
        "freq_table=pd.DataFrame({'Intervalo':intervals_name, 'Frecuencia':freq}) \n",
        "freq_table"
      ],
      "execution_count": 142,
      "outputs": [
        {
          "output_type": "stream",
          "text": [
            "[87.00,99.62)\n",
            "[99.62,112.25)\n",
            "[112.25,124.87)\n",
            "[124.87,137.50)\n",
            "[137.50,150.13)\n",
            "[150.13,162.75)\n",
            "[162.75,175.38)\n",
            "[175.38,188.00)\n"
          ],
          "name": "stdout"
        },
        {
          "output_type": "execute_result",
          "data": {
            "text/html": [
              "<div>\n",
              "<style scoped>\n",
              "    .dataframe tbody tr th:only-of-type {\n",
              "        vertical-align: middle;\n",
              "    }\n",
              "\n",
              "    .dataframe tbody tr th {\n",
              "        vertical-align: top;\n",
              "    }\n",
              "\n",
              "    .dataframe thead th {\n",
              "        text-align: right;\n",
              "    }\n",
              "</style>\n",
              "<table border=\"1\" class=\"dataframe\">\n",
              "  <thead>\n",
              "    <tr style=\"text-align: right;\">\n",
              "      <th></th>\n",
              "      <th>Intervalo</th>\n",
              "      <th>Frecuencia</th>\n",
              "    </tr>\n",
              "  </thead>\n",
              "  <tbody>\n",
              "    <tr>\n",
              "      <th>0</th>\n",
              "      <td>[87.00,99.62)</td>\n",
              "      <td>1</td>\n",
              "    </tr>\n",
              "    <tr>\n",
              "      <th>1</th>\n",
              "      <td>[99.62,112.25)</td>\n",
              "      <td>3</td>\n",
              "    </tr>\n",
              "    <tr>\n",
              "      <th>2</th>\n",
              "      <td>[112.25,124.87)</td>\n",
              "      <td>18</td>\n",
              "    </tr>\n",
              "    <tr>\n",
              "      <th>3</th>\n",
              "      <td>[124.87,137.50)</td>\n",
              "      <td>43</td>\n",
              "    </tr>\n",
              "    <tr>\n",
              "      <th>4</th>\n",
              "      <td>[137.50,150.13)</td>\n",
              "      <td>40</td>\n",
              "    </tr>\n",
              "    <tr>\n",
              "      <th>5</th>\n",
              "      <td>[150.13,162.75)</td>\n",
              "      <td>22</td>\n",
              "    </tr>\n",
              "    <tr>\n",
              "      <th>6</th>\n",
              "      <td>[162.75,175.38)</td>\n",
              "      <td>16</td>\n",
              "    </tr>\n",
              "    <tr>\n",
              "      <th>7</th>\n",
              "      <td>[175.38,188.00)</td>\n",
              "      <td>12</td>\n",
              "    </tr>\n",
              "  </tbody>\n",
              "</table>\n",
              "</div>"
            ],
            "text/plain": [
              "         Intervalo  Frecuencia\n",
              "0    [87.00,99.62)           1\n",
              "1   [99.62,112.25)           3\n",
              "2  [112.25,124.87)          18\n",
              "3  [124.87,137.50)          43\n",
              "4  [137.50,150.13)          40\n",
              "5  [150.13,162.75)          22\n",
              "6  [162.75,175.38)          16\n",
              "7  [175.38,188.00)          12"
            ]
          },
          "metadata": {
            "tags": []
          },
          "execution_count": 142
        }
      ]
    },
    {
      "cell_type": "code",
      "metadata": {
        "id": "H7yn690F_ahr",
        "colab_type": "code",
        "colab": {
          "base_uri": "https://localhost:8080/",
          "height": 316
        },
        "outputId": "1e8ef569-327d-4b51-e7fd-bc2d064832c7"
      },
      "source": [
        "freq2, edges= np.histogram(cucgenpvec,bins1)\n",
        "left,right = edges[:-1],edges[1:]\n",
        "X= np.array((left+right)/2)\n",
        "Y= np.array(freq2)\n",
        "print(X)\n",
        "print(Y)\n",
        "plt.hist(cucgenpvec,bins1)\n",
        "plt.plot(X,Y)\n",
        "plt.show()"
      ],
      "execution_count": 143,
      "outputs": [
        {
          "output_type": "stream",
          "text": [
            "[ 93.3120625 105.9371875 118.5623125 131.1874375 143.8125625 156.4376875\n",
            " 169.0628125 181.6879375]\n",
            "[ 1  3 18 43 40 22 16 12]\n"
          ],
          "name": "stdout"
        },
        {
          "output_type": "display_data",
          "data": {
            "image/png": "[encoded data removed]",
            "text/plain": [
              "<Figure size 432x288 with 1 Axes>"
            ]
          },
          "metadata": {
            "tags": [],
            "needs_background": "light"
          }
        }
      ]
    },
    {
      "cell_type": "code",
      "metadata": {
        "id": "xc3_dYs-_gDl",
        "colab_type": "code",
        "colab": {
          "base_uri": "https://localhost:8080/",
          "height": 283
        },
        "outputId": "7f972ab8-1c55-4ca7-e38c-afe269c37d36"
      },
      "source": [
        "dfinalcuc.boxplot(column='PUNT_GLOBAL')"
      ],
      "execution_count": 144,
      "outputs": [
        {
          "output_type": "execute_result",
          "data": {
            "text/plain": [
              "<matplotlib.axes._subplots.AxesSubplot at 0x7f5024c8d748>"
            ]
          },
          "metadata": {
            "tags": []
          },
          "execution_count": 144
        },
        {
          "output_type": "display_data",
          "data": {
            "image/png": "[encoded data removed]",
            "text/plain": [
              "<Figure size 432x288 with 1 Axes>"
            ]
          },
          "metadata": {
            "tags": [],
            "needs_background": "light"
          }
        }
      ]
    },
    {
      "cell_type": "markdown",
      "metadata": {
        "id": "LCkB9j0GiMSw",
        "colab_type": "text"
      },
      "source": [
        "## ¿Qué conclusiones puede obtenerse de estos gráficos? "
      ]
    },
    {
      "cell_type": "markdown",
      "metadata": {
        "id": "Vwb07-zTjFLI",
        "colab_type": "text"
      },
      "source": [
        "Por medio de los histogramas y diagramas de cajas se pueden sacar las siguientes conclusiones:\n",
        "\n",
        "\n",
        "1.   Las medianas en la mayoría de las pruebas y competencias se mantuvieron con un cierto comportamiento de normalidad.\n",
        "2.   Los sesgos no se pueden apreciar con claridad, ya que la desviación estándar no fue significativa.\n",
        "3.   Existen valores en los que se salen de los cuartiles del diagrama de cajas, a estos valores se les denomina como datos atípicos, ya sea que estén por debajo del primer cuartil o por encima del tercero.\n",
        "4.   En algunos pruebas, como la de Matemáticas el comportamiento del histograma fue asimétrico hacia la izquierda para ámbas universidades, teniendo un desempeño regular en esa competencia específica.\n",
        "5.   Se puede decir que en los mejores resultados, el comportamiento fue como el de una curva exponencial.\n",
        "\n",
        "\n",
        "*En general estos gráficos brindan muy buena información para analizar, ya que con solo tener un momento para distinguirlos, se logra sacar conclusiones rápidas y eficaces*\n",
        "\n",
        "\n",
        "\n",
        "\n",
        "\n",
        "\n",
        "\n",
        "\n",
        "\n"
      ]
    },
    {
      "cell_type": "markdown",
      "metadata": {
        "id": "Dj1PrirFweIf",
        "colab_type": "text"
      },
      "source": [
        "A continuación se presentan todos los histogramas y BoxPlot agrupados por Universidad y pruebas:\n"
      ]
    },
    {
      "cell_type": "markdown",
      "metadata": {
        "id": "tzpEzfrowsPY",
        "colab_type": "text"
      },
      "source": [
        "Histogramas UNIVERSIDAD DE LA COSTA"
      ]
    },
    {
      "cell_type": "code",
      "metadata": {
        "id": "74Z9izscwL2q",
        "colab_type": "code",
        "colab": {
          "base_uri": "https://localhost:8080/",
          "height": 451
        },
        "outputId": "1bbeefd5-907e-42bc-e2be-1b0f40e77ab2"
      },
      "source": [
        "dfinalcuc.hist()"
      ],
      "execution_count": 187,
      "outputs": [
        {
          "output_type": "execute_result",
          "data": {
            "text/plain": [
              "array([[<matplotlib.axes._subplots.AxesSubplot object at 0x7f5020f94978>,\n",
              "        <matplotlib.axes._subplots.AxesSubplot object at 0x7f503063b518>,\n",
              "        <matplotlib.axes._subplots.AxesSubplot object at 0x7f50278067b8>],\n",
              "       [<matplotlib.axes._subplots.AxesSubplot object at 0x7f5039df6d68>,\n",
              "        <matplotlib.axes._subplots.AxesSubplot object at 0x7f503a2e7fd0>,\n",
              "        <matplotlib.axes._subplots.AxesSubplot object at 0x7f503401a278>],\n",
              "       [<matplotlib.axes._subplots.AxesSubplot object at 0x7f50333664e0>,\n",
              "        <matplotlib.axes._subplots.AxesSubplot object at 0x7f5039acc710>,\n",
              "        <matplotlib.axes._subplots.AxesSubplot object at 0x7f5039acc780>]],\n",
              "      dtype=object)"
            ]
          },
          "metadata": {
            "tags": []
          },
          "execution_count": 187
        },
        {
          "output_type": "display_data",
          "data": {
            "image/png": "[encoded data removed]",
            "text/plain": [
              "<Figure size 432x288 with 9 Axes>"
            ]
          },
          "metadata": {
            "tags": [],
            "needs_background": "light"
          }
        }
      ]
    },
    {
      "cell_type": "markdown",
      "metadata": {
        "id": "FtcHyoYow2Mw",
        "colab_type": "text"
      },
      "source": [
        "Histogramas PONTIFICIA BOLIVARIANA-BUCARAMANGA"
      ]
    },
    {
      "cell_type": "code",
      "metadata": {
        "id": "TS_oaFS1wMGo",
        "colab_type": "code",
        "colab": {
          "base_uri": "https://localhost:8080/",
          "height": 451
        },
        "outputId": "18569a92-61a3-401d-9929-ba89d9c835d6"
      },
      "source": [
        "dfinalBucaramanga.hist()"
      ],
      "execution_count": 188,
      "outputs": [
        {
          "output_type": "execute_result",
          "data": {
            "text/plain": [
              "array([[<matplotlib.axes._subplots.AxesSubplot object at 0x7f5020be8f28>,\n",
              "        <matplotlib.axes._subplots.AxesSubplot object at 0x7f5039c0a278>,\n",
              "        <matplotlib.axes._subplots.AxesSubplot object at 0x7f5033a98d30>],\n",
              "       [<matplotlib.axes._subplots.AxesSubplot object at 0x7f50345f4f98>,\n",
              "        <matplotlib.axes._subplots.AxesSubplot object at 0x7f5039869320>,\n",
              "        <matplotlib.axes._subplots.AxesSubplot object at 0x7f50340fb6a0>],\n",
              "       [<matplotlib.axes._subplots.AxesSubplot object at 0x7f5032a43a20>,\n",
              "        <matplotlib.axes._subplots.AxesSubplot object at 0x7f50325aed68>,\n",
              "        <matplotlib.axes._subplots.AxesSubplot object at 0x7f50325aedd8>]],\n",
              "      dtype=object)"
            ]
          },
          "metadata": {
            "tags": []
          },
          "execution_count": 188
        },
        {
          "output_type": "display_data",
          "data": {
            "image/png": "[encoded data removed]",
            "text/plain": [
              "<Figure size 432x288 with 9 Axes>"
            ]
          },
          "metadata": {
            "tags": [],
            "needs_background": "light"
          }
        }
      ]
    },
    {
      "cell_type": "markdown",
      "metadata": {
        "id": "npBt1qv_xI46",
        "colab_type": "text"
      },
      "source": [
        "Diagramas de cajas UNIVERSIDAD DE LA COSTA"
      ]
    },
    {
      "cell_type": "code",
      "metadata": {
        "id": "oEDlrOrrwMx9",
        "colab_type": "code",
        "colab": {
          "base_uri": "https://localhost:8080/",
          "height": 283
        },
        "outputId": "4b1ca5ad-00a0-496d-b01c-228cdaf94845"
      },
      "source": [
        "dfinalcuc.boxplot()"
      ],
      "execution_count": 189,
      "outputs": [
        {
          "output_type": "execute_result",
          "data": {
            "text/plain": [
              "<matplotlib.axes._subplots.AxesSubplot at 0x7f5025a10fd0>"
            ]
          },
          "metadata": {
            "tags": []
          },
          "execution_count": 189
        },
        {
          "output_type": "display_data",
          "data": {
            "image/png": "[encoded data removed]",
            "text/plain": [
              "<Figure size 432x288 with 1 Axes>"
            ]
          },
          "metadata": {
            "tags": [],
            "needs_background": "light"
          }
        }
      ]
    },
    {
      "cell_type": "markdown",
      "metadata": {
        "id": "UBH1mEJNxPDA",
        "colab_type": "text"
      },
      "source": [
        "Diagramas de cajas PONTIFICIA BOLIVARIANA-BUCARAMANGA"
      ]
    },
    {
      "cell_type": "code",
      "metadata": {
        "id": "CIpiAF1XwMmy",
        "colab_type": "code",
        "colab": {
          "base_uri": "https://localhost:8080/",
          "height": 283
        },
        "outputId": "21a39162-3757-42db-e1c6-3a17cd5ea292"
      },
      "source": [
        "dfinalBucaramanga.boxplot()"
      ],
      "execution_count": 190,
      "outputs": [
        {
          "output_type": "execute_result",
          "data": {
            "text/plain": [
              "<matplotlib.axes._subplots.AxesSubplot at 0x7f5036d54d68>"
            ]
          },
          "metadata": {
            "tags": []
          },
          "execution_count": 190
        },
        {
          "output_type": "display_data",
          "data": {
            "image/png": "[encoded data removed]",
            "text/plain": [
              "<Figure size 432x288 with 1 Axes>"
            ]
          },
          "metadata": {
            "tags": [],
            "needs_background": "light"
          }
        }
      ]
    },
    {
      "cell_type": "markdown",
      "metadata": {
        "id": "XED8sqniACuG",
        "colab_type": "text"
      },
      "source": [
        "## MEDIDAS DE DISPERSIÓN"
      ]
    },
    {
      "cell_type": "markdown",
      "metadata": {
        "id": "BhOQTPmA_-De",
        "colab_type": "text"
      },
      "source": [
        " Calcule la media, cuartiles y desviación estándar de para los estudiantes del programa de ingeniería industrial para cada una de las dos universidades y para cada una de las competencias  ¿Hay evidencias de un mejor o peor desempeño de los estudiantes del programa de ingeniería industrial en los resultados de las pruebas Saber Pro para alguna de las dos universidades?"
      ]
    },
    {
      "cell_type": "markdown",
      "metadata": {
        "id": "aMS3_bsWxgpa",
        "colab_type": "text"
      },
      "source": [
        "Con la función *describe()* de pandas se obtiene de manera rápida las medidas de dispersión comunes como:\n",
        "La media, los cuartiles, máximos y mínimos, desviación estándar, etc."
      ]
    },
    {
      "cell_type": "code",
      "metadata": {
        "id": "SHhDkuhAAAh2",
        "colab_type": "code",
        "colab": {
          "base_uri": "https://localhost:8080/",
          "height": 402
        },
        "outputId": "204f5e2c-6d29-4a56-915f-26c5ad89fc16"
      },
      "source": [
        "dfinalBucaramanga.describe()"
      ],
      "execution_count": 145,
      "outputs": [
        {
          "output_type": "execute_result",
          "data": {
            "text/html": [
              "<div>\n",
              "<style scoped>\n",
              "    .dataframe tbody tr th:only-of-type {\n",
              "        vertical-align: middle;\n",
              "    }\n",
              "\n",
              "    .dataframe tbody tr th {\n",
              "        vertical-align: top;\n",
              "    }\n",
              "\n",
              "    .dataframe thead th {\n",
              "        text-align: right;\n",
              "    }\n",
              "</style>\n",
              "<table border=\"1\" class=\"dataframe\">\n",
              "  <thead>\n",
              "    <tr style=\"text-align: right;\">\n",
              "      <th></th>\n",
              "      <th>DISEÑO DE SISTEMAS PRODUCTIVOS Y LOGÍSTICOS</th>\n",
              "      <th>FORMULACIÓN DE PROYECTOS DE INGENIERÍA</th>\n",
              "      <th>PENSAMIENTO CIENTÍFICO - MATEMÁTICAS Y ESTADÍSTICA</th>\n",
              "      <th>MOD_RAZONA_CUANTITAT_PUNT</th>\n",
              "      <th>MOD_LECTURA_CRITICA_PUNT</th>\n",
              "      <th>MOD_COMPETEN_CIUDADA_PUNT</th>\n",
              "      <th>MOD_INGLES_PUNT</th>\n",
              "      <th>MOD_COMUNI_ESCRITA_PUNT</th>\n",
              "      <th>PUNT_GLOBAL</th>\n",
              "    </tr>\n",
              "  </thead>\n",
              "  <tbody>\n",
              "    <tr>\n",
              "      <th>count</th>\n",
              "      <td>154.000000</td>\n",
              "      <td>154.000000</td>\n",
              "      <td>154.000000</td>\n",
              "      <td>154.000000</td>\n",
              "      <td>154.000000</td>\n",
              "      <td>154.000000</td>\n",
              "      <td>154.000000</td>\n",
              "      <td>154.000000</td>\n",
              "      <td>154.000000</td>\n",
              "    </tr>\n",
              "    <tr>\n",
              "      <th>mean</th>\n",
              "      <td>147.753247</td>\n",
              "      <td>154.694805</td>\n",
              "      <td>136.993506</td>\n",
              "      <td>173.629870</td>\n",
              "      <td>161.006494</td>\n",
              "      <td>151.577922</td>\n",
              "      <td>174.071429</td>\n",
              "      <td>150.857143</td>\n",
              "      <td>162.233766</td>\n",
              "    </tr>\n",
              "    <tr>\n",
              "      <th>std</th>\n",
              "      <td>27.034790</td>\n",
              "      <td>25.703520</td>\n",
              "      <td>22.333918</td>\n",
              "      <td>25.269515</td>\n",
              "      <td>28.018551</td>\n",
              "      <td>31.627278</td>\n",
              "      <td>25.717954</td>\n",
              "      <td>34.244494</td>\n",
              "      <td>19.323795</td>\n",
              "    </tr>\n",
              "    <tr>\n",
              "      <th>min</th>\n",
              "      <td>71.000000</td>\n",
              "      <td>84.000000</td>\n",
              "      <td>89.000000</td>\n",
              "      <td>100.000000</td>\n",
              "      <td>90.000000</td>\n",
              "      <td>66.000000</td>\n",
              "      <td>78.000000</td>\n",
              "      <td>0.000000</td>\n",
              "      <td>118.000000</td>\n",
              "    </tr>\n",
              "    <tr>\n",
              "      <th>25%</th>\n",
              "      <td>132.250000</td>\n",
              "      <td>136.250000</td>\n",
              "      <td>121.000000</td>\n",
              "      <td>158.250000</td>\n",
              "      <td>142.000000</td>\n",
              "      <td>134.250000</td>\n",
              "      <td>159.000000</td>\n",
              "      <td>135.000000</td>\n",
              "      <td>150.250000</td>\n",
              "    </tr>\n",
              "    <tr>\n",
              "      <th>50%</th>\n",
              "      <td>147.500000</td>\n",
              "      <td>155.500000</td>\n",
              "      <td>136.000000</td>\n",
              "      <td>174.000000</td>\n",
              "      <td>160.000000</td>\n",
              "      <td>154.000000</td>\n",
              "      <td>175.500000</td>\n",
              "      <td>145.500000</td>\n",
              "      <td>163.000000</td>\n",
              "    </tr>\n",
              "    <tr>\n",
              "      <th>75%</th>\n",
              "      <td>165.000000</td>\n",
              "      <td>176.000000</td>\n",
              "      <td>149.750000</td>\n",
              "      <td>191.750000</td>\n",
              "      <td>181.750000</td>\n",
              "      <td>171.750000</td>\n",
              "      <td>192.000000</td>\n",
              "      <td>173.000000</td>\n",
              "      <td>173.750000</td>\n",
              "    </tr>\n",
              "    <tr>\n",
              "      <th>max</th>\n",
              "      <td>203.000000</td>\n",
              "      <td>211.000000</td>\n",
              "      <td>220.000000</td>\n",
              "      <td>230.000000</td>\n",
              "      <td>221.000000</td>\n",
              "      <td>217.000000</td>\n",
              "      <td>228.000000</td>\n",
              "      <td>227.000000</td>\n",
              "      <td>218.000000</td>\n",
              "    </tr>\n",
              "  </tbody>\n",
              "</table>\n",
              "</div>"
            ],
            "text/plain": [
              "       DISEÑO DE SISTEMAS PRODUCTIVOS Y LOGÍSTICOS  ...  PUNT_GLOBAL\n",
              "count                                   154.000000  ...   154.000000\n",
              "mean                                    147.753247  ...   162.233766\n",
              "std                                      27.034790  ...    19.323795\n",
              "min                                      71.000000  ...   118.000000\n",
              "25%                                     132.250000  ...   150.250000\n",
              "50%                                     147.500000  ...   163.000000\n",
              "75%                                     165.000000  ...   173.750000\n",
              "max                                     203.000000  ...   218.000000\n",
              "\n",
              "[8 rows x 9 columns]"
            ]
          },
          "metadata": {
            "tags": []
          },
          "execution_count": 145
        }
      ]
    },
    {
      "cell_type": "code",
      "metadata": {
        "id": "_bs8EaAeBKbf",
        "colab_type": "code",
        "colab": {
          "base_uri": "https://localhost:8080/",
          "height": 402
        },
        "outputId": "2ca986a0-138e-40cf-ca3d-971aa9f78a07"
      },
      "source": [
        "dfinalcuc.describe()"
      ],
      "execution_count": 146,
      "outputs": [
        {
          "output_type": "execute_result",
          "data": {
            "text/html": [
              "<div>\n",
              "<style scoped>\n",
              "    .dataframe tbody tr th:only-of-type {\n",
              "        vertical-align: middle;\n",
              "    }\n",
              "\n",
              "    .dataframe tbody tr th {\n",
              "        vertical-align: top;\n",
              "    }\n",
              "\n",
              "    .dataframe thead th {\n",
              "        text-align: right;\n",
              "    }\n",
              "</style>\n",
              "<table border=\"1\" class=\"dataframe\">\n",
              "  <thead>\n",
              "    <tr style=\"text-align: right;\">\n",
              "      <th></th>\n",
              "      <th>DISEÑO DE SISTEMAS PRODUCTIVOS Y LOGÍSTICOS</th>\n",
              "      <th>FORMULACIÓN DE PROYECTOS DE INGENIERÍA</th>\n",
              "      <th>PENSAMIENTO CIENTÍFICO - MATEMÁTICAS Y ESTADÍSTICA</th>\n",
              "      <th>MOD_RAZONA_CUANTITAT_PUNT</th>\n",
              "      <th>MOD_LECTURA_CRITICA_PUNT</th>\n",
              "      <th>MOD_COMPETEN_CIUDADA_PUNT</th>\n",
              "      <th>MOD_INGLES_PUNT</th>\n",
              "      <th>MOD_COMUNI_ESCRITA_PUNT</th>\n",
              "      <th>PUNT_GLOBAL</th>\n",
              "    </tr>\n",
              "  </thead>\n",
              "  <tbody>\n",
              "    <tr>\n",
              "      <th>count</th>\n",
              "      <td>204.000000</td>\n",
              "      <td>204.000000</td>\n",
              "      <td>204.000000</td>\n",
              "      <td>204.000000</td>\n",
              "      <td>204.000000</td>\n",
              "      <td>204.000000</td>\n",
              "      <td>204.000000</td>\n",
              "      <td>204.000000</td>\n",
              "      <td>204.000000</td>\n",
              "    </tr>\n",
              "    <tr>\n",
              "      <th>mean</th>\n",
              "      <td>132.602941</td>\n",
              "      <td>136.617647</td>\n",
              "      <td>120.147059</td>\n",
              "      <td>151.205882</td>\n",
              "      <td>141.191176</td>\n",
              "      <td>129.382353</td>\n",
              "      <td>150.406863</td>\n",
              "      <td>141.186275</td>\n",
              "      <td>142.686275</td>\n",
              "    </tr>\n",
              "    <tr>\n",
              "      <th>std</th>\n",
              "      <td>24.644151</td>\n",
              "      <td>28.594858</td>\n",
              "      <td>16.756675</td>\n",
              "      <td>25.023866</td>\n",
              "      <td>27.459378</td>\n",
              "      <td>29.554173</td>\n",
              "      <td>26.475682</td>\n",
              "      <td>31.984211</td>\n",
              "      <td>17.935835</td>\n",
              "    </tr>\n",
              "    <tr>\n",
              "      <th>min</th>\n",
              "      <td>59.000000</td>\n",
              "      <td>59.000000</td>\n",
              "      <td>77.000000</td>\n",
              "      <td>82.000000</td>\n",
              "      <td>61.000000</td>\n",
              "      <td>67.000000</td>\n",
              "      <td>95.000000</td>\n",
              "      <td>0.000000</td>\n",
              "      <td>87.000000</td>\n",
              "    </tr>\n",
              "    <tr>\n",
              "      <th>25%</th>\n",
              "      <td>116.000000</td>\n",
              "      <td>116.000000</td>\n",
              "      <td>108.000000</td>\n",
              "      <td>134.000000</td>\n",
              "      <td>122.750000</td>\n",
              "      <td>105.000000</td>\n",
              "      <td>133.000000</td>\n",
              "      <td>131.750000</td>\n",
              "      <td>131.000000</td>\n",
              "    </tr>\n",
              "    <tr>\n",
              "      <th>50%</th>\n",
              "      <td>130.000000</td>\n",
              "      <td>140.000000</td>\n",
              "      <td>118.500000</td>\n",
              "      <td>154.000000</td>\n",
              "      <td>142.000000</td>\n",
              "      <td>129.000000</td>\n",
              "      <td>147.000000</td>\n",
              "      <td>141.000000</td>\n",
              "      <td>141.000000</td>\n",
              "    </tr>\n",
              "    <tr>\n",
              "      <th>75%</th>\n",
              "      <td>150.250000</td>\n",
              "      <td>159.000000</td>\n",
              "      <td>130.000000</td>\n",
              "      <td>167.000000</td>\n",
              "      <td>160.250000</td>\n",
              "      <td>152.000000</td>\n",
              "      <td>166.000000</td>\n",
              "      <td>159.000000</td>\n",
              "      <td>154.000000</td>\n",
              "    </tr>\n",
              "    <tr>\n",
              "      <th>max</th>\n",
              "      <td>218.000000</td>\n",
              "      <td>199.000000</td>\n",
              "      <td>164.000000</td>\n",
              "      <td>216.000000</td>\n",
              "      <td>205.000000</td>\n",
              "      <td>206.000000</td>\n",
              "      <td>230.000000</td>\n",
              "      <td>231.000000</td>\n",
              "      <td>188.000000</td>\n",
              "    </tr>\n",
              "  </tbody>\n",
              "</table>\n",
              "</div>"
            ],
            "text/plain": [
              "       DISEÑO DE SISTEMAS PRODUCTIVOS Y LOGÍSTICOS  ...  PUNT_GLOBAL\n",
              "count                                   204.000000  ...   204.000000\n",
              "mean                                    132.602941  ...   142.686275\n",
              "std                                      24.644151  ...    17.935835\n",
              "min                                      59.000000  ...    87.000000\n",
              "25%                                     116.000000  ...   131.000000\n",
              "50%                                     130.000000  ...   141.000000\n",
              "75%                                     150.250000  ...   154.000000\n",
              "max                                     218.000000  ...   188.000000\n",
              "\n",
              "[8 rows x 9 columns]"
            ]
          },
          "metadata": {
            "tags": []
          },
          "execution_count": 146
        }
      ]
    },
    {
      "cell_type": "markdown",
      "metadata": {
        "id": "g0xbef6vyUuS",
        "colab_type": "text"
      },
      "source": [
        "CONCLUSIONES:\n",
        "\n",
        "\n",
        "*   Analizando las medias, la UNIVERSIDAD PONTIFICIA BOLIVARIANA-BUCARAMANGA es superior en TODAS las pruebas en comparación con la CORPORACIÓN UNIVERSIDAD DE LA COSTA, CUC-BARRANQUILLA.\n",
        "*   La desviación estándar fue menor en la mayoría de las pruebas que se les realizó a los estudiantes de la  CUC, esto significa que las calificaciones son similares.\n",
        "*   El mejor desempeño de la Universidad de Bucaramanga es en la prueba genérica de Inglés, y su peor fue en Matemáticas y Estadística.\n",
        "*   El mejor desempeño de la CUC fue en la prueba específica de Razonamiento Cuantitativo, y su peor fue en Matemáticas y Estadística.\n",
        "\n",
        "En general, los estudiantes de la Universidad de Bucaramanga tuvieron un mejor desempeño que la CUC, ya que el mínimo y máximo puntaje superan por más de 25 puntos al mínimo y máximo de la CUC.\n",
        "\n",
        "De estas medidas, se saca información provechosa para hacer un análisis más profundo que con las gráficas, ya que aquí se especifican los valores exactos obtenidos de procedimientos y métodos matemáticos.\n",
        "\n"
      ]
    },
    {
      "cell_type": "code",
      "metadata": {
        "id": "sYhvmQga1crY",
        "colab_type": "code",
        "colab": {}
      },
      "source": [
        ""
      ],
      "execution_count": null,
      "outputs": []
    }
  ]
}
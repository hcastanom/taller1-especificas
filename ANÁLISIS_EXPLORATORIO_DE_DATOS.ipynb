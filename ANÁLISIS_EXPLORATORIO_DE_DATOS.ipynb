{
  "nbformat": 4,
  "nbformat_minor": 0,
  "metadata": {
    "colab": {
      "name": "ANÁLISIS EXPLORATORIO DE DATOS.ipynb",
      "provenance": [],
      "collapsed_sections": [],
      "authorship_tag": "ABX9TyMGkNtxLcVgjE6yiYz9hI9S",
      "include_colab_link": true
    },
    "kernelspec": {
      "name": "python3",
      "display_name": "Python 3"
    }
  },
  "cells": [
    {
      "cell_type": "markdown",
      "metadata": {
        "id": "view-in-github",
        "colab_type": "text"
      },
      "source": [
        "<a href=\"https://colab.research.google.com/github/hcastanom/taller1-especificas/blob/master/AN%C3%81LISIS_EXPLORATORIO_DE_DATOS.ipynb\" target=\"_parent\"><img src=\"https://colab.research.google.com/assets/colab-badge.svg\" alt=\"Open In Colab\"/></a>"
      ]
    },
    {
      "cell_type": "markdown",
      "metadata": {
        "id": "kO7FHGq8kA4M",
        "colab_type": "text"
      },
      "source": [
        "***PRIMERA CLASE Lectura 1. Análisis Exploratorio Datos***\n",
        "\n",
        "---\n",
        "\n",
        "\n",
        "\n",
        "---\n",
        "\n"
      ]
    },
    {
      "cell_type": "code",
      "metadata": {
        "id": "6j_Xuuex4Iu1",
        "colab_type": "code",
        "colab": {}
      },
      "source": [
        "import numpy as np"
      ],
      "execution_count": null,
      "outputs": []
    },
    {
      "cell_type": "code",
      "metadata": {
        "id": "5o2corH35PiS",
        "colab_type": "code",
        "colab": {}
      },
      "source": [
        "datos=np.array([70,72,45,57,83,67,67,70,53,60,58,68,70,80,57,70,83,\\\n",
        "                50,52,56,73,68,70,79,53,68,65,65,48,65,55,68,65,47,73])"
      ],
      "execution_count": null,
      "outputs": []
    },
    {
      "cell_type": "code",
      "metadata": {
        "id": "bwukySkG6h5e",
        "colab_type": "code",
        "colab": {
          "base_uri": "https://localhost:8080/",
          "height": 34
        },
        "outputId": "df84c7c9-d39e-4605-9a3f-6be54547f2a4"
      },
      "source": [
        "len(datos)"
      ],
      "execution_count": null,
      "outputs": [
        {
          "output_type": "execute_result",
          "data": {
            "text/plain": [
              "35"
            ]
          },
          "metadata": {
            "tags": []
          },
          "execution_count": 3
        }
      ]
    },
    {
      "cell_type": "markdown",
      "metadata": {
        "id": "J0APxACKQdvZ",
        "colab_type": "text"
      },
      "source": [
        "**Media Aritmética:**"
      ]
    },
    {
      "cell_type": "code",
      "metadata": {
        "id": "2390GVhZ6mHB",
        "colab_type": "code",
        "colab": {
          "base_uri": "https://localhost:8080/",
          "height": 34
        },
        "outputId": "b554b8f8-79e6-46ae-f092-f78495b4824f"
      },
      "source": [
        "print(\"{0:.4f} Kilogramos\".format(np.sum(datos)/len(datos)))"
      ],
      "execution_count": null,
      "outputs": [
        {
          "output_type": "stream",
          "text": [
            "64.2857 Kilogramos\n"
          ],
          "name": "stdout"
        }
      ]
    },
    {
      "cell_type": "code",
      "metadata": {
        "id": "Sjy2VY187bH_",
        "colab_type": "code",
        "colab": {
          "base_uri": "https://localhost:8080/",
          "height": 34
        },
        "outputId": "53584c84-c4fc-4f66-bfb5-5968088f4a09"
      },
      "source": [
        "print(\"{0:.4f} Kilogramos\".format(np.mean(datos)))"
      ],
      "execution_count": null,
      "outputs": [
        {
          "output_type": "stream",
          "text": [
            "64.2857 Kilogramos\n"
          ],
          "name": "stdout"
        }
      ]
    },
    {
      "cell_type": "code",
      "metadata": {
        "id": "RY2ZxTi98m05",
        "colab_type": "code",
        "colab": {
          "base_uri": "https://localhost:8080/",
          "height": 34
        },
        "outputId": "3b85d6fc-baaf-470e-be59-c9b91c7fa90b"
      },
      "source": [
        "print(np.min(datos),np.max(datos))"
      ],
      "execution_count": null,
      "outputs": [
        {
          "output_type": "stream",
          "text": [
            "45 83\n"
          ],
          "name": "stdout"
        }
      ]
    },
    {
      "cell_type": "code",
      "metadata": {
        "id": "9vpVKpiD9Vvp",
        "colab_type": "code",
        "colab": {
          "base_uri": "https://localhost:8080/",
          "height": 85
        },
        "outputId": "629dc867-31b8-4379-c037-23dd5e560c61"
      },
      "source": [
        "datos_ordenados=np.sort(datos)\n",
        "print(datos)\n",
        "print(datos_ordenados)"
      ],
      "execution_count": null,
      "outputs": [
        {
          "output_type": "stream",
          "text": [
            "[70 72 45 57 83 67 67 70 53 60 58 68 70 80 57 70 83 50 52 56 73 68 70 79\n",
            " 53 68 65 65 48 65 55 68 65 47 73]\n",
            "[45 47 48 50 52 53 53 55 56 57 57 58 60 65 65 65 65 67 67 68 68 68 68 70\n",
            " 70 70 70 70 72 73 73 79 80 83 83]\n"
          ],
          "name": "stdout"
        }
      ]
    },
    {
      "cell_type": "code",
      "metadata": {
        "id": "qss0_Mxc-HHs",
        "colab_type": "code",
        "colab": {
          "base_uri": "https://localhost:8080/",
          "height": 34
        },
        "outputId": "a03bd390-ab13-4d3a-c437-def581f7ea3d"
      },
      "source": [
        "np.sum(datos-np.mean(datos))"
      ],
      "execution_count": null,
      "outputs": [
        {
          "output_type": "execute_result",
          "data": {
            "text/plain": [
              "-2.1316282072803006e-13"
            ]
          },
          "metadata": {
            "tags": []
          },
          "execution_count": 8
        }
      ]
    },
    {
      "cell_type": "markdown",
      "metadata": {
        "id": "vkndj7kyQv6q",
        "colab_type": "text"
      },
      "source": [
        "**Mediana.**"
      ]
    },
    {
      "cell_type": "code",
      "metadata": {
        "id": "3j7cm4BX-h21",
        "colab_type": "code",
        "colab": {
          "base_uri": "https://localhost:8080/",
          "height": 34
        },
        "outputId": "0444cbe4-90b9-4a8c-d42d-ff0899432a69"
      },
      "source": [
        "datos_ordenados[17]"
      ],
      "execution_count": null,
      "outputs": [
        {
          "output_type": "execute_result",
          "data": {
            "text/plain": [
              "67"
            ]
          },
          "metadata": {
            "tags": []
          },
          "execution_count": 9
        }
      ]
    },
    {
      "cell_type": "code",
      "metadata": {
        "id": "jT0zLXZR_hzR",
        "colab_type": "code",
        "colab": {
          "base_uri": "https://localhost:8080/",
          "height": 34
        },
        "outputId": "84aa4e9f-8d99-47c2-b9c2-69a21c0eddb9"
      },
      "source": [
        "np.median(datos)"
      ],
      "execution_count": null,
      "outputs": [
        {
          "output_type": "execute_result",
          "data": {
            "text/plain": [
              "67.0"
            ]
          },
          "metadata": {
            "tags": []
          },
          "execution_count": 10
        }
      ]
    },
    {
      "cell_type": "code",
      "metadata": {
        "id": "kyycKfFu_r1C",
        "colab_type": "code",
        "colab": {
          "base_uri": "https://localhost:8080/",
          "height": 34
        },
        "outputId": "4afc873e-f50c-4c56-aece-8d30919f2eab"
      },
      "source": [
        "np.median(datos_ordenados)"
      ],
      "execution_count": null,
      "outputs": [
        {
          "output_type": "execute_result",
          "data": {
            "text/plain": [
              "67.0"
            ]
          },
          "metadata": {
            "tags": []
          },
          "execution_count": 11
        }
      ]
    },
    {
      "cell_type": "markdown",
      "metadata": {
        "id": "s6ZiGpmtQ-W0",
        "colab_type": "text"
      },
      "source": [
        "**Moda.**"
      ]
    },
    {
      "cell_type": "code",
      "metadata": {
        "id": "pvRKESE6_wkg",
        "colab_type": "code",
        "colab": {
          "base_uri": "https://localhost:8080/",
          "height": 391
        },
        "outputId": "42ea3f22-8a21-4e18-ec76-48f25015855e"
      },
      "source": [
        "y = np.bincount(datos)\n",
        "ii = np.nonzero(y)[0]\n",
        "y2=[y[i]for i in range(len(y)) if y[i]>0]\n",
        "print(ii)\n",
        "print(y2)\n",
        "list(zip(y2,ii))"
      ],
      "execution_count": null,
      "outputs": [
        {
          "output_type": "stream",
          "text": [
            "[45 47 48 50 52 53 55 56 57 58 60 65 67 68 70 72 73 79 80 83]\n",
            "[1, 1, 1, 1, 1, 2, 1, 1, 2, 1, 1, 4, 2, 4, 5, 1, 2, 1, 1, 2]\n"
          ],
          "name": "stdout"
        },
        {
          "output_type": "execute_result",
          "data": {
            "text/plain": [
              "[(1, 45),\n",
              " (1, 47),\n",
              " (1, 48),\n",
              " (1, 50),\n",
              " (1, 52),\n",
              " (2, 53),\n",
              " (1, 55),\n",
              " (1, 56),\n",
              " (2, 57),\n",
              " (1, 58),\n",
              " (1, 60),\n",
              " (4, 65),\n",
              " (2, 67),\n",
              " (4, 68),\n",
              " (5, 70),\n",
              " (1, 72),\n",
              " (2, 73),\n",
              " (1, 79),\n",
              " (1, 80),\n",
              " (2, 83)]"
            ]
          },
          "metadata": {
            "tags": []
          },
          "execution_count": 12
        }
      ]
    },
    {
      "cell_type": "code",
      "metadata": {
        "id": "GgIc0uUfBGCH",
        "colab_type": "code",
        "colab": {
          "base_uri": "https://localhost:8080/",
          "height": 34
        },
        "outputId": "5db5a15c-49a5-406a-862d-ae3e721f7c80"
      },
      "source": [
        "  np.sum(y2)"
      ],
      "execution_count": null,
      "outputs": [
        {
          "output_type": "execute_result",
          "data": {
            "text/plain": [
              "35"
            ]
          },
          "metadata": {
            "tags": []
          },
          "execution_count": 13
        }
      ]
    },
    {
      "cell_type": "markdown",
      "metadata": {
        "id": "4GN-lKYOREQR",
        "colab_type": "text"
      },
      "source": [
        "## Percentiles:"
      ]
    },
    {
      "cell_type": "code",
      "metadata": {
        "id": "_2R7vGU3EgEH",
        "colab_type": "code",
        "colab": {
          "base_uri": "https://localhost:8080/",
          "height": 34
        },
        "outputId": "738a5d36-f769-4516-ba4c-003b24fde7ee"
      },
      "source": [
        "np.percentile(datos,[10,25,80])\n"
      ],
      "execution_count": null,
      "outputs": [
        {
          "output_type": "execute_result",
          "data": {
            "text/plain": [
              "array([50.8, 56.5, 70.4])"
            ]
          },
          "metadata": {
            "tags": []
          },
          "execution_count": 14
        }
      ]
    },
    {
      "cell_type": "markdown",
      "metadata": {
        "id": "teLtT-rHRIwc",
        "colab_type": "text"
      },
      "source": [
        "### **Deciles.**"
      ]
    },
    {
      "cell_type": "code",
      "metadata": {
        "id": "e9YE4kmxdug7",
        "colab_type": "code",
        "colab": {
          "base_uri": "https://localhost:8080/",
          "height": 34
        },
        "outputId": "4023759a-4560-4568-d015-0ba78a032939"
      },
      "source": [
        "np.percentile(datos,(np.linspace(10,100,10)))"
      ],
      "execution_count": null,
      "outputs": [
        {
          "output_type": "execute_result",
          "data": {
            "text/plain": [
              "array([50.8, 54.6, 57.2, 65. , 67. , 68. , 70. , 70.4, 76.6, 83. ])"
            ]
          },
          "metadata": {
            "tags": []
          },
          "execution_count": 15
        }
      ]
    },
    {
      "cell_type": "markdown",
      "metadata": {
        "id": "FbYzrlylRXJz",
        "colab_type": "text"
      },
      "source": [
        "### Cuartiles."
      ]
    },
    {
      "cell_type": "code",
      "metadata": {
        "id": "yu6uSH3-fE2E",
        "colab_type": "code",
        "colab": {
          "base_uri": "https://localhost:8080/",
          "height": 34
        },
        "outputId": "e6fa4c6d-98d0-4482-8f5e-f79e34690aec"
      },
      "source": [
        "np.percentile(datos,(np.linspace(25,100,4)))"
      ],
      "execution_count": null,
      "outputs": [
        {
          "output_type": "execute_result",
          "data": {
            "text/plain": [
              "array([56.5, 67. , 70. , 83. ])"
            ]
          },
          "metadata": {
            "tags": []
          },
          "execution_count": 16
        }
      ]
    },
    {
      "cell_type": "code",
      "metadata": {
        "id": "-5dG04IG4TFS",
        "colab_type": "code",
        "colab": {
          "base_uri": "https://localhost:8080/",
          "height": 34
        },
        "outputId": "c8601d8e-c50b-425e-c917-bc077525bfc5"
      },
      "source": [
        "np.percentile(datos,(np.linspace(25,100,4)),interpolation='lower')"
      ],
      "execution_count": null,
      "outputs": [
        {
          "output_type": "execute_result",
          "data": {
            "text/plain": [
              "array([56, 67, 70, 83])"
            ]
          },
          "metadata": {
            "tags": []
          },
          "execution_count": 17
        }
      ]
    },
    {
      "cell_type": "code",
      "metadata": {
        "id": "yqD1-FtO4UsH",
        "colab_type": "code",
        "colab": {
          "base_uri": "https://localhost:8080/",
          "height": 34
        },
        "outputId": "7ccde521-b86a-4517-96ff-9eeebd4a8164"
      },
      "source": [
        "np.percentile(datos,(np.linspace(25,100,4)),interpolation='higher')"
      ],
      "execution_count": null,
      "outputs": [
        {
          "output_type": "execute_result",
          "data": {
            "text/plain": [
              "array([57, 67, 70, 83])"
            ]
          },
          "metadata": {
            "tags": []
          },
          "execution_count": 18
        }
      ]
    },
    {
      "cell_type": "code",
      "metadata": {
        "id": "ip8CIBmL4T2N",
        "colab_type": "code",
        "colab": {
          "base_uri": "https://localhost:8080/",
          "height": 34
        },
        "outputId": "76288536-fdb4-4b3f-c3f9-75ccd4f31b0b"
      },
      "source": [
        "np.percentile(datos,(np.linspace(25,100,4)),interpolation='midpoint')"
      ],
      "execution_count": null,
      "outputs": [
        {
          "output_type": "execute_result",
          "data": {
            "text/plain": [
              "array([56.5, 67. , 70. , 83. ])"
            ]
          },
          "metadata": {
            "tags": []
          },
          "execution_count": 19
        }
      ]
    },
    {
      "cell_type": "markdown",
      "metadata": {
        "id": "HXLOhV__ReMU",
        "colab_type": "text"
      },
      "source": [
        "**Centiles.**"
      ]
    },
    {
      "cell_type": "code",
      "metadata": {
        "id": "G3NwPjvq0mvd",
        "colab_type": "code",
        "colab": {
          "base_uri": "https://localhost:8080/",
          "height": 221
        },
        "outputId": "099e59b2-8ff9-4818-bab7-2e0c73389728"
      },
      "source": [
        "np.percentile(datos,(np.linspace(1,100,100)))"
      ],
      "execution_count": null,
      "outputs": [
        {
          "output_type": "execute_result",
          "data": {
            "text/plain": [
              "array([45.68, 46.36, 47.02, 47.36, 47.7 , 48.08, 48.76, 49.44, 50.12,\n",
              "       50.8 , 51.48, 52.08, 52.42, 52.76, 53.  , 53.  , 53.  , 53.24,\n",
              "       53.92, 54.6 , 55.14, 55.48, 55.82, 56.16, 56.5 , 56.84, 57.  ,\n",
              "       57.  , 57.  , 57.2 , 57.54, 57.88, 58.44, 59.12, 59.8 , 61.2 ,\n",
              "       62.9 , 64.6 , 65.  , 65.  , 65.  , 65.  , 65.  , 65.  , 65.  ,\n",
              "       65.  , 65.  , 65.64, 66.32, 67.  , 67.  , 67.  , 67.02, 67.36,\n",
              "       67.7 , 68.  , 68.  , 68.  , 68.  , 68.  , 68.  , 68.  , 68.  ,\n",
              "       68.  , 68.2 , 68.88, 69.56, 70.  , 70.  , 70.  , 70.  , 70.  ,\n",
              "       70.  , 70.  , 70.  , 70.  , 70.  , 70.  , 70.  , 70.4 , 71.08,\n",
              "       71.76, 72.22, 72.56, 72.9 , 73.  , 73.  , 73.  , 74.56, 76.6 ,\n",
              "       78.64, 79.28, 79.62, 79.96, 80.9 , 81.92, 82.94, 83.  , 83.  ,\n",
              "       83.  ])"
            ]
          },
          "metadata": {
            "tags": []
          },
          "execution_count": 20
        }
      ]
    },
    {
      "cell_type": "markdown",
      "metadata": {
        "id": "MCTmw9RXRlTH",
        "colab_type": "text"
      },
      "source": [
        "## Medidas de Dispersión:"
      ]
    },
    {
      "cell_type": "markdown",
      "metadata": {
        "id": "A7yjo6_4Rrb3",
        "colab_type": "text"
      },
      "source": [
        "### Rango."
      ]
    },
    {
      "cell_type": "code",
      "metadata": {
        "id": "0sYIa0IU0450",
        "colab_type": "code",
        "colab": {
          "base_uri": "https://localhost:8080/",
          "height": 34
        },
        "outputId": "664ab867-32c7-4934-a85d-100ad58baf07"
      },
      "source": [
        "rango=np.max(datos)-np.min(datos)\n",
        "print(rango)"
      ],
      "execution_count": null,
      "outputs": [
        {
          "output_type": "stream",
          "text": [
            "38\n"
          ],
          "name": "stdout"
        }
      ]
    },
    {
      "cell_type": "markdown",
      "metadata": {
        "id": "tv2WnEw1Ry7e",
        "colab_type": "text"
      },
      "source": [
        "### Variación."
      ]
    },
    {
      "cell_type": "code",
      "metadata": {
        "id": "4BoTkgFF7sRS",
        "colab_type": "code",
        "colab": {
          "base_uri": "https://localhost:8080/",
          "height": 34
        },
        "outputId": "6029c487-d616-4fd1-9305-cfb5c2e0c3a7"
      },
      "source": [
        "np.sum((datos-np.mean(datos))*(datos-np.mean(datos)))/len(datos)"
      ],
      "execution_count": null,
      "outputs": [
        {
          "output_type": "execute_result",
          "data": {
            "text/plain": [
              "99.28979591836735"
            ]
          },
          "metadata": {
            "tags": []
          },
          "execution_count": 22
        }
      ]
    },
    {
      "cell_type": "code",
      "metadata": {
        "id": "3ntR1Ih98BnP",
        "colab_type": "code",
        "colab": {
          "base_uri": "https://localhost:8080/",
          "height": 34
        },
        "outputId": "fdc1ecf1-965b-47cc-9e6b-bd925295ca1d"
      },
      "source": [
        "np.var(datos)"
      ],
      "execution_count": null,
      "outputs": [
        {
          "output_type": "execute_result",
          "data": {
            "text/plain": [
              "99.28979591836735"
            ]
          },
          "metadata": {
            "tags": []
          },
          "execution_count": 23
        }
      ]
    },
    {
      "cell_type": "markdown",
      "metadata": {
        "id": "bOpTjg47R7v4",
        "colab_type": "text"
      },
      "source": [
        "**Rango Intercuartílico.**"
      ]
    },
    {
      "cell_type": "code",
      "metadata": {
        "id": "XdWLSs9q-YHo",
        "colab_type": "code",
        "colab": {
          "base_uri": "https://localhost:8080/",
          "height": 34
        },
        "outputId": "ffb2a361-3cd5-46db-8ab1-06b4bbbc74a5"
      },
      "source": [
        "np.percentile(datos,[75])-np.percentile(datos,[25])"
      ],
      "execution_count": null,
      "outputs": [
        {
          "output_type": "execute_result",
          "data": {
            "text/plain": [
              "array([13.5])"
            ]
          },
          "metadata": {
            "tags": []
          },
          "execution_count": 24
        }
      ]
    },
    {
      "cell_type": "markdown",
      "metadata": {
        "id": "ta6N3HfPSC-e",
        "colab_type": "text"
      },
      "source": [
        "### Desviación Estándar."
      ]
    },
    {
      "cell_type": "code",
      "metadata": {
        "id": "-yXYUIBbO9fK",
        "colab_type": "code",
        "colab": {
          "base_uri": "https://localhost:8080/",
          "height": 34
        },
        "outputId": "a94f8218-6f3d-4403-c2a0-345600c0e1c6"
      },
      "source": [
        "np.sqrt(np.sum((datos-np.mean(datos))*(datos-np.mean(datos)))/len(datos))"
      ],
      "execution_count": null,
      "outputs": [
        {
          "output_type": "execute_result",
          "data": {
            "text/plain": [
              "9.964426522302594"
            ]
          },
          "metadata": {
            "tags": []
          },
          "execution_count": 25
        }
      ]
    },
    {
      "cell_type": "code",
      "metadata": {
        "id": "9vxs08ogP75i",
        "colab_type": "code",
        "colab": {
          "base_uri": "https://localhost:8080/",
          "height": 34
        },
        "outputId": "6cac865a-a1b9-4ca1-9df9-8fb0e46678e1"
      },
      "source": [
        "np.std(datos)"
      ],
      "execution_count": null,
      "outputs": [
        {
          "output_type": "execute_result",
          "data": {
            "text/plain": [
              "9.964426522302594"
            ]
          },
          "metadata": {
            "tags": []
          },
          "execution_count": 26
        }
      ]
    },
    {
      "cell_type": "markdown",
      "metadata": {
        "id": "sRO-zGX_UTCw",
        "colab_type": "text"
      },
      "source": [
        "**Sesgo.**"
      ]
    },
    {
      "cell_type": "code",
      "metadata": {
        "id": "MtfknI_aP-6y",
        "colab_type": "code",
        "colab": {
          "base_uri": "https://localhost:8080/",
          "height": 34
        },
        "outputId": "707a8c38-1624-49f9-9cb0-4c78cf8754e8"
      },
      "source": [
        "np.mean(datos)-np.median(datos)"
      ],
      "execution_count": null,
      "outputs": [
        {
          "output_type": "execute_result",
          "data": {
            "text/plain": [
              "-2.714285714285708"
            ]
          },
          "metadata": {
            "tags": []
          },
          "execution_count": 27
        }
      ]
    },
    {
      "cell_type": "code",
      "metadata": {
        "id": "w_3ihGMxUgNG",
        "colab_type": "code",
        "colab": {}
      },
      "source": [
        ""
      ],
      "execution_count": null,
      "outputs": []
    },
    {
      "cell_type": "markdown",
      "metadata": {
        "id": "g9ynq2H_ZQl0",
        "colab_type": "text"
      },
      "source": [
        "### **Tabla de Frecuencias:**"
      ]
    },
    {
      "cell_type": "code",
      "metadata": {
        "id": "R0OReFB5ZuaO",
        "colab_type": "code",
        "colab": {
          "base_uri": "https://localhost:8080/",
          "height": 85
        },
        "outputId": "adba8864-6987-4a80-c5c7-1e4a227c68bc"
      },
      "source": [
        "range_datos=np.max(datos)-np.min(datos)\n",
        "numberOfIntervals=6\n",
        "interval_width=(range_datos+0.1)/numberOfIntervals\n",
        "print(interval_width)\n",
        "bins1=np.linspace(np.min(datos)-0.05, np.max(datos)+0.05,\n",
        "num=(numberOfIntervals+1))\n",
        "print(bins1)\n",
        "binplace = np.digitize(datos, bins1)\n",
        "print(binplace)\n",
        "bin_counts = [len(datos[binplace == i]) for i in range(1, len(bins1))]\n",
        "print(bin_counts)"
      ],
      "execution_count": null,
      "outputs": [
        {
          "output_type": "stream",
          "text": [
            "6.3500000000000005\n",
            "[44.95 51.3  57.65 64.   70.35 76.7  83.05]\n",
            "[4 5 1 2 6 4 4 4 2 3 3 4 4 6 2 4 6 1 2 2 5 4 4 6 2 4 4 4 1 4 2 4 4 1 5]\n",
            "[4, 7, 2, 15, 3, 4]\n"
          ],
          "name": "stdout"
        }
      ]
    },
    {
      "cell_type": "code",
      "metadata": {
        "id": "tl1exeBde1KR",
        "colab_type": "code",
        "colab": {
          "base_uri": "https://localhost:8080/",
          "height": 68
        },
        "outputId": "ce64bc30-72e6-41f4-84e8-9a07b266ead2"
      },
      "source": [
        "datos"
      ],
      "execution_count": null,
      "outputs": [
        {
          "output_type": "execute_result",
          "data": {
            "text/plain": [
              "array([70, 72, 45, 57, 83, 67, 67, 70, 53, 60, 58, 68, 70, 80, 57, 70, 83,\n",
              "       50, 52, 56, 73, 68, 70, 79, 53, 68, 65, 65, 48, 65, 55, 68, 65, 47,\n",
              "       73])"
            ]
          },
          "metadata": {
            "tags": []
          },
          "execution_count": 29
        }
      ]
    },
    {
      "cell_type": "code",
      "metadata": {
        "id": "iWJAqSUAZ_Qk",
        "colab_type": "code",
        "colab": {
          "base_uri": "https://localhost:8080/",
          "height": 34
        },
        "outputId": "07281c79-2599-4b74-c577-59d79b42a720"
      },
      "source": [
        "datos[binplace == 1]"
      ],
      "execution_count": null,
      "outputs": [
        {
          "output_type": "execute_result",
          "data": {
            "text/plain": [
              "array([45, 50, 48, 47])"
            ]
          },
          "metadata": {
            "tags": []
          },
          "execution_count": 30
        }
      ]
    },
    {
      "cell_type": "code",
      "metadata": {
        "id": "2Ry9tPEFcqSO",
        "colab_type": "code",
        "colab": {
          "base_uri": "https://localhost:8080/",
          "height": 34
        },
        "outputId": "09760104-05c8-44e3-ee55-2dc8f00c1d1e"
      },
      "source": [
        "datos[binplace == 2]"
      ],
      "execution_count": null,
      "outputs": [
        {
          "output_type": "execute_result",
          "data": {
            "text/plain": [
              "array([57, 53, 57, 52, 56, 53, 55])"
            ]
          },
          "metadata": {
            "tags": []
          },
          "execution_count": 31
        }
      ]
    },
    {
      "cell_type": "code",
      "metadata": {
        "id": "ypAzfFd4eWuR",
        "colab_type": "code",
        "colab": {
          "base_uri": "https://localhost:8080/",
          "height": 34
        },
        "outputId": "b9bf25d8-3716-46af-b8b9-3bcaa947466c"
      },
      "source": [
        "datos[binplace == 3]"
      ],
      "execution_count": null,
      "outputs": [
        {
          "output_type": "execute_result",
          "data": {
            "text/plain": [
              "array([60, 58])"
            ]
          },
          "metadata": {
            "tags": []
          },
          "execution_count": 32
        }
      ]
    },
    {
      "cell_type": "code",
      "metadata": {
        "id": "G33meVnbeec5",
        "colab_type": "code",
        "colab": {
          "base_uri": "https://localhost:8080/",
          "height": 34
        },
        "outputId": "e5775136-56c6-471c-bb27-1b12b35b378a"
      },
      "source": [
        "datos[binplace == 4]"
      ],
      "execution_count": null,
      "outputs": [
        {
          "output_type": "execute_result",
          "data": {
            "text/plain": [
              "array([70, 67, 67, 70, 68, 70, 70, 68, 70, 68, 65, 65, 65, 68, 65])"
            ]
          },
          "metadata": {
            "tags": []
          },
          "execution_count": 33
        }
      ]
    },
    {
      "cell_type": "code",
      "metadata": {
        "id": "gcpvP9zAejJV",
        "colab_type": "code",
        "colab": {
          "base_uri": "https://localhost:8080/",
          "height": 34
        },
        "outputId": "75426d42-1ee6-4c50-b543-e3c8eaa519f9"
      },
      "source": [
        "datos[binplace == 5]"
      ],
      "execution_count": null,
      "outputs": [
        {
          "output_type": "execute_result",
          "data": {
            "text/plain": [
              "array([72, 73, 73])"
            ]
          },
          "metadata": {
            "tags": []
          },
          "execution_count": 34
        }
      ]
    },
    {
      "cell_type": "code",
      "metadata": {
        "id": "f3LoLCo8eq92",
        "colab_type": "code",
        "colab": {
          "base_uri": "https://localhost:8080/",
          "height": 34
        },
        "outputId": "7882ba0e-610d-496c-8b51-1911a468a856"
      },
      "source": [
        "datos[binplace == 6]"
      ],
      "execution_count": null,
      "outputs": [
        {
          "output_type": "execute_result",
          "data": {
            "text/plain": [
              "array([83, 80, 83, 79])"
            ]
          },
          "metadata": {
            "tags": []
          },
          "execution_count": 35
        }
      ]
    },
    {
      "cell_type": "code",
      "metadata": {
        "id": "PaugQ6bwevmH",
        "colab_type": "code",
        "colab": {}
      },
      "source": [
        "freq,intervalos=np.histogram(datos,bins1)"
      ],
      "execution_count": null,
      "outputs": []
    },
    {
      "cell_type": "code",
      "metadata": {
        "id": "PjVUOoVBfBvm",
        "colab_type": "code",
        "colab": {
          "base_uri": "https://localhost:8080/",
          "height": 34
        },
        "outputId": "e8a6e2ac-b0d5-413d-e55f-f4b199c19525"
      },
      "source": [
        "freq"
      ],
      "execution_count": null,
      "outputs": [
        {
          "output_type": "execute_result",
          "data": {
            "text/plain": [
              "array([ 4,  7,  2, 15,  3,  4])"
            ]
          },
          "metadata": {
            "tags": []
          },
          "execution_count": 37
        }
      ]
    },
    {
      "cell_type": "code",
      "metadata": {
        "id": "2xLqAwNUging",
        "colab_type": "code",
        "colab": {
          "base_uri": "https://localhost:8080/",
          "height": 34
        },
        "outputId": "f3ec0fe8-ac5c-45ac-fc6c-1122134a8948"
      },
      "source": [
        "intervalos"
      ],
      "execution_count": null,
      "outputs": [
        {
          "output_type": "execute_result",
          "data": {
            "text/plain": [
              "array([44.95, 51.3 , 57.65, 64.  , 70.35, 76.7 , 83.05])"
            ]
          },
          "metadata": {
            "tags": []
          },
          "execution_count": 38
        }
      ]
    },
    {
      "cell_type": "code",
      "metadata": {
        "id": "iLVHdOb_gkAh",
        "colab_type": "code",
        "colab": {}
      },
      "source": [
        "import pandas as pd"
      ],
      "execution_count": null,
      "outputs": []
    },
    {
      "cell_type": "code",
      "metadata": {
        "id": "5RIpKxvBiHgu",
        "colab_type": "code",
        "colab": {
          "base_uri": "https://localhost:8080/",
          "height": 337
        },
        "outputId": "1f2feb49-d844-4e9f-8970-3db78994f72d"
      },
      "source": [
        "intervals_name=[]\n",
        "for i in range(len(bins1)-1):\n",
        "    lim_inf=bins1[i]\n",
        "    lim_sup=bins1[i+1]\n",
        "    label='['+str(lim_inf)+\",\"+str(lim_sup)+\")\"\n",
        "    intervals_name.append(label)\n",
        "    print(label)\n",
        "freq_table=pd.DataFrame({'Intervalo':intervals_name,'Frecuencia':freq})\n",
        "freq_table"
      ],
      "execution_count": null,
      "outputs": [
        {
          "output_type": "stream",
          "text": [
            "[44.95,51.300000000000004)\n",
            "[51.300000000000004,57.65)\n",
            "[57.65,64.0)\n",
            "[64.0,70.35)\n",
            "[70.35,76.69999999999999)\n",
            "[76.69999999999999,83.05)\n"
          ],
          "name": "stdout"
        },
        {
          "output_type": "execute_result",
          "data": {
            "text/html": [
              "<div>\n",
              "<style scoped>\n",
              "    .dataframe tbody tr th:only-of-type {\n",
              "        vertical-align: middle;\n",
              "    }\n",
              "\n",
              "    .dataframe tbody tr th {\n",
              "        vertical-align: top;\n",
              "    }\n",
              "\n",
              "    .dataframe thead th {\n",
              "        text-align: right;\n",
              "    }\n",
              "</style>\n",
              "<table border=\"1\" class=\"dataframe\">\n",
              "  <thead>\n",
              "    <tr style=\"text-align: right;\">\n",
              "      <th></th>\n",
              "      <th>Intervalo</th>\n",
              "      <th>Frecuencia</th>\n",
              "    </tr>\n",
              "  </thead>\n",
              "  <tbody>\n",
              "    <tr>\n",
              "      <th>0</th>\n",
              "      <td>[44.95,51.300000000000004)</td>\n",
              "      <td>4</td>\n",
              "    </tr>\n",
              "    <tr>\n",
              "      <th>1</th>\n",
              "      <td>[51.300000000000004,57.65)</td>\n",
              "      <td>7</td>\n",
              "    </tr>\n",
              "    <tr>\n",
              "      <th>2</th>\n",
              "      <td>[57.65,64.0)</td>\n",
              "      <td>2</td>\n",
              "    </tr>\n",
              "    <tr>\n",
              "      <th>3</th>\n",
              "      <td>[64.0,70.35)</td>\n",
              "      <td>15</td>\n",
              "    </tr>\n",
              "    <tr>\n",
              "      <th>4</th>\n",
              "      <td>[70.35,76.69999999999999)</td>\n",
              "      <td>3</td>\n",
              "    </tr>\n",
              "    <tr>\n",
              "      <th>5</th>\n",
              "      <td>[76.69999999999999,83.05)</td>\n",
              "      <td>4</td>\n",
              "    </tr>\n",
              "  </tbody>\n",
              "</table>\n",
              "</div>"
            ],
            "text/plain": [
              "                    Intervalo  Frecuencia\n",
              "0  [44.95,51.300000000000004)           4\n",
              "1  [51.300000000000004,57.65)           7\n",
              "2                [57.65,64.0)           2\n",
              "3                [64.0,70.35)          15\n",
              "4   [70.35,76.69999999999999)           3\n",
              "5   [76.69999999999999,83.05)           4"
            ]
          },
          "metadata": {
            "tags": []
          },
          "execution_count": 40
        }
      ]
    },
    {
      "cell_type": "markdown",
      "metadata": {
        "id": "sqXkadQhl0ul",
        "colab_type": "text"
      },
      "source": [
        "### Después de construir la Tabla de Frecuencias, se hace el\n",
        "# **HISTOGRAMA:** "
      ]
    },
    {
      "cell_type": "code",
      "metadata": {
        "id": "NE6IaAJrj_uB",
        "colab_type": "code",
        "colab": {}
      },
      "source": [
        "import matplotlib.pyplot as plt"
      ],
      "execution_count": null,
      "outputs": []
    },
    {
      "cell_type": "code",
      "metadata": {
        "id": "tef9mTmTltG5",
        "colab_type": "code",
        "colab": {
          "base_uri": "https://localhost:8080/",
          "height": 316
        },
        "outputId": "ab3db796-d0c2-411c-ca90-1e681ac83f0a"
      },
      "source": [
        "plt.hist(datos,bins1)"
      ],
      "execution_count": null,
      "outputs": [
        {
          "output_type": "execute_result",
          "data": {
            "text/plain": [
              "(array([ 4.,  7.,  2., 15.,  3.,  4.]),\n",
              " array([44.95, 51.3 , 57.65, 64.  , 70.35, 76.7 , 83.05]),\n",
              " <a list of 6 Patch objects>)"
            ]
          },
          "metadata": {
            "tags": []
          },
          "execution_count": 42
        },
        {
          "output_type": "display_data",
          "data": {
            "image/png": "[encoded data removed]",
            "text/plain": [
              "<Figure size 432x288 with 1 Axes>"
            ]
          },
          "metadata": {
            "tags": [],
            "needs_background": "light"
          }
        }
      ]
    },
    {
      "cell_type": "markdown",
      "metadata": {
        "id": "mFKL80B-nxKX",
        "colab_type": "text"
      },
      "source": [
        "**Box Plot.**"
      ]
    },
    {
      "cell_type": "code",
      "metadata": {
        "id": "_hg9EZavnwmj",
        "colab_type": "code",
        "colab": {
          "base_uri": "https://localhost:8080/",
          "height": 401
        },
        "outputId": "ea36bed4-fc02-48d6-94e4-231a74da0501"
      },
      "source": [
        "plt.boxplot(datos)"
      ],
      "execution_count": null,
      "outputs": [
        {
          "output_type": "execute_result",
          "data": {
            "text/plain": [
              "{'boxes': [<matplotlib.lines.Line2D at 0x7f8097c88128>],\n",
              " 'caps': [<matplotlib.lines.Line2D at 0x7f80977e68d0>,\n",
              "  <matplotlib.lines.Line2D at 0x7f80977e6c50>],\n",
              " 'fliers': [<matplotlib.lines.Line2D at 0x7f809780c390>],\n",
              " 'means': [],\n",
              " 'medians': [<matplotlib.lines.Line2D at 0x7f80977e6fd0>],\n",
              " 'whiskers': [<matplotlib.lines.Line2D at 0x7f8097c88e48>,\n",
              "  <matplotlib.lines.Line2D at 0x7f8097ca09b0>]}"
            ]
          },
          "metadata": {
            "tags": []
          },
          "execution_count": 43
        },
        {
          "output_type": "display_data",
          "data": {
            "image/png": "[encoded data removed]",
            "text/plain": [
              "<Figure size 432x288 with 1 Axes>"
            ]
          },
          "metadata": {
            "tags": [],
            "needs_background": "light"
          }
        }
      ]
    },
    {
      "cell_type": "code",
      "metadata": {
        "id": "-9RO6NLPlyax",
        "colab_type": "code",
        "colab": {
          "base_uri": "https://localhost:8080/",
          "height": 299
        },
        "outputId": "aa794eea-37b0-476d-a403-7b001abd7c35"
      },
      "source": [
        "freq2, edges = np.histogram(datos,bins1)\n",
        "left,right = edges[:-1],edges[1:]\n",
        "#X = np.array([left,right]).T.flatten()\n",
        "X = np.array((left+right)/2)\n",
        "#Y = np.array([bins2,bins2]).T.flatten()\n",
        "Y = np.array(freq2)\n",
        "print(X)\n",
        "print(Y)\n",
        "plt.hist(datos,bins1)\n",
        "plt.plot(X,Y)\n",
        "plt.show()"
      ],
      "execution_count": null,
      "outputs": [
        {
          "output_type": "stream",
          "text": [
            "[48.125 54.475 60.825 67.175 73.525 79.875]\n",
            "[ 4  7  2 15  3  4]\n"
          ],
          "name": "stdout"
        },
        {
          "output_type": "display_data",
          "data": {
            "image/png": "[encoded data removed]",
            "text/plain": [
              "<Figure size 432x288 with 1 Axes>"
            ]
          },
          "metadata": {
            "tags": [],
            "needs_background": "light"
          }
        }
      ]
    },
    {
      "cell_type": "code",
      "metadata": {
        "id": "KhIYeKSobgR7",
        "colab_type": "code",
        "colab": {
          "base_uri": "https://localhost:8080/",
          "height": 34
        },
        "outputId": "a643bd33-fb11-4cd5-9722-9819e8f6ee24"
      },
      "source": [
        "datos4=np.array([25.66,25.70,25.70,25.68])\n",
        "len(datos4)"
      ],
      "execution_count": null,
      "outputs": [
        {
          "output_type": "execute_result",
          "data": {
            "text/plain": [
              "4"
            ]
          },
          "metadata": {
            "tags": []
          },
          "execution_count": 53
        }
      ]
    },
    {
      "cell_type": "code",
      "metadata": {
        "id": "j4AkR61E67KW",
        "colab_type": "code",
        "colab": {
          "base_uri": "https://localhost:8080/",
          "height": 34
        },
        "outputId": "28babaad-141f-400b-c2f0-d1908d7c65ce"
      },
      "source": [
        "np.std(datos4)"
      ],
      "execution_count": null,
      "outputs": [
        {
          "output_type": "execute_result",
          "data": {
            "text/plain": [
              "0.016583123951776645"
            ]
          },
          "metadata": {
            "tags": []
          },
          "execution_count": 54
        }
      ]
    },
    {
      "cell_type": "code",
      "metadata": {
        "id": "Nlv-Ycu-7FSx",
        "colab_type": "code",
        "colab": {}
      },
      "source": [
        ""
      ],
      "execution_count": null,
      "outputs": []
    }
  ]
}